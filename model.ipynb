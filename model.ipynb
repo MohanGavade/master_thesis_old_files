{
 "cells": [
  {
   "cell_type": "code",
   "execution_count": 1,
   "id": "3f92eda4-fdc4-4a3f-8817-dc989673c6d4",
   "metadata": {},
   "outputs": [],
   "source": [
    "import pickle\n",
    "from sklearn.preprocessing import StandardScaler\n",
    "import numpy as np\n",
    "import pandas as pd"
   ]
  },
  {
   "cell_type": "code",
   "execution_count": 3,
   "id": "af5cb356-cd6e-4f76-b9be-e3c9b228d7cc",
   "metadata": {},
   "outputs": [
    {
     "name": "stderr",
     "output_type": "stream",
     "text": [
      "C:\\Users\\Q674749\\AppData\\Local\\Temp\\ipykernel_20948\\2314749829.py:2: DeprecationWarning: numpy.core.numeric is deprecated and has been renamed to numpy._core.numeric. The numpy._core namespace contains private NumPy internals and its use is discouraged, as NumPy internals can change without warning in any release. In practice, most real-world usage of numpy.core is to access functionality in the public NumPy API. If that is the case, use the public NumPy API. If not, you are using NumPy internals. If you would still like to access an internal attribute, use numpy._core.numeric._frombuffer.\n",
      "  input_features = pickle.load(f)\n",
      "C:\\Users\\Q674749\\AppData\\Local\\Temp\\ipykernel_20948\\2314749829.py:5: DeprecationWarning: numpy.core.numeric is deprecated and has been renamed to numpy._core.numeric. The numpy._core namespace contains private NumPy internals and its use is discouraged, as NumPy internals can change without warning in any release. In practice, most real-world usage of numpy.core is to access functionality in the public NumPy API. If that is the case, use the public NumPy API. If not, you are using NumPy internals. If you would still like to access an internal attribute, use numpy._core.numeric._frombuffer.\n",
      "  labels = pickle.load(f)\n"
     ]
    }
   ],
   "source": [
    "with open('C:\\\\FRR40\\\\rat25-main\\\\temp\\\\frr40_detections_0.p', 'rb') as f:\n",
    "    input_features = pickle.load(f)\n",
    "\n",
    "with open('C:\\\\FRR40\\\\rat25-main\\\\temp\\\\frr40_objects_0.p', 'rb') as f:\n",
    "    labels = pickle.load(f)"
   ]
  },
  {
   "cell_type": "code",
   "execution_count": 3,
   "id": "07ecf6a5-e30b-463c-9efa-851713085cb2",
   "metadata": {},
   "outputs": [],
   "source": [
    "selected_features = ['rcs','distance','angleAzimuth','angleElevation','radialVelocity']"
   ]
  },
  {
   "cell_type": "code",
   "execution_count": 4,
   "id": "a4ae50fe",
   "metadata": {},
   "outputs": [
    {
     "name": "stdout",
     "output_type": "stream",
     "text": [
      "Input Features:\n",
      "Cycle 1: cRC\n",
      "Cycle 2: length\n",
      "Cycle 3: counter\n",
      "Cycle 4: dataID\n",
      "Cycle 5: radialVelocityDomainMin\n",
      "Cycle 6: numberOfDetections\n",
      "Cycle 7: azimuthCorrection\n",
      "Cycle 8: radialVelocityDomainMax\n",
      "Cycle 9: misalignmentProbability\n",
      "Cycle 10: elevationCorrection\n",
      "Cycle 11: header.privateExtendedQualifier\n",
      "Cycle 12: header.origin.x\n",
      "Cycle 13: header.origin.y\n",
      "Cycle 14: header.origin.z\n",
      "Cycle 15: header.origin.roll\n",
      "Cycle 16: header.origin.roll_std_dev\n",
      "Cycle 17: header.origin.pitch\n",
      "Cycle 18: header.origin.pitch_std_dev\n",
      "Cycle 19: header.origin.yaw\n",
      "Cycle 20: header.origin.yaw_std_dev\n",
      "Cycle 21: header.timestampDAQ.fractional_seconds\n",
      "Cycle 22: header.timestampDAQ.seconds\n",
      "Cycle 23: header.timestampDAQ.sync_status\n",
      "Cycle 24: header.timestampSP_start.fractional_seconds\n",
      "Cycle 25: header.timestampSP_start.seconds\n",
      "Cycle 26: header.timestampSP_start.sync_status\n",
      "Cycle 27: header.timestampSP_end.fractional_seconds\n",
      "Cycle 28: header.timestampSP_end.seconds\n",
      "Cycle 29: header.timestampSP_end.sync_status\n",
      "Cycle 30: header.integrityFrontRadar\n",
      "Cycle 31: qualifier\n",
      "Cycle 32: measurementID\n",
      "Cycle 33: sortindex\n",
      "Cycle 34: multiTargetProbability\n",
      "Cycle 35: radialVelocityStdDev\n",
      "Cycle 36: angleElevationStdDev\n",
      "Cycle 37: ambiguityFlag\n",
      "Cycle 38: radialVelocity\n",
      "Cycle 39: classification\n",
      "Cycle 40: angleAzimuthStdDev\n",
      "Cycle 41: rcs\n",
      "Cycle 42: distanceStdDev\n",
      "Cycle 43: existenceProbability\n",
      "Cycle 44: objectID\n",
      "Cycle 45: distance\n",
      "Cycle 46: angleAzimuth\n",
      "Cycle 47: angleElevation\n",
      "Cycle 48: snr\n",
      "Cycle 49: timestamp_daq\n",
      "Cycle 50: timestamp\n",
      "Cycle 51: timestamp_daq_mod_100\n",
      "Cycle 52: timestamp_sp_start\n",
      "Cycle 53: timestamp_sp_end\n",
      "Cycle 54: timestamp_plausible\n",
      "Cycle 55: cycletime_DAQ\n",
      "Cycle 56: DAQ_timestamp_repeated\n",
      "Cycle 57: timestampLogger\n",
      "Cycle 58: cycletime_Logger\n",
      "Cycle 59: timestampLoggerFirstMessage\n",
      "Cycle 60: pitch_deg\n",
      "Cycle 61: yaw_deg\n",
      "Cycle 62: BMW_vego_mps\n",
      "Cycle 63: x\n",
      "Cycle 64: y\n",
      "Cycle 65: z\n",
      "Cycle 66: vegoFactor4Stat\n",
      "Cycle 67: longitudinal_vel_stationary_cand\n",
      "Cycle 68: longitudinal_vel_stationary_cand_kmh\n",
      "Cycle 69: vegoFactor4Stat_lateral\n",
      "Cycle 70: lateral_vel_stationary_cand\n",
      "Cycle 71: lateral_vel_stationary_cand_kmh\n",
      "Cycle 72: diff_long_vego_mps\n",
      "Cycle 73: stationary_candidate\n",
      "Cycle 74: bmw_classification\n",
      "Cycle 75: bmw_det_quality\n",
      "Cycle 76: rcs_violation\n",
      "Cycle 77: max_range\n"
     ]
    }
   ],
   "source": [
    "print(\"Input Features:\")\n",
    "for i, cycle in enumerate(input_features):\n",
    "    print(f\"Cycle {i+1}: {cycle}\")"
   ]
  },
  {
   "cell_type": "markdown",
   "id": "f74ab1b9",
   "metadata": {},
   "source": [
    "def clean_features(cycle):\n",
    "    return cycle.copy()"
   ]
  },
  {
   "cell_type": "markdown",
   "id": "d6a2f6ff",
   "metadata": {},
   "source": [
    "import ast"
   ]
  },
  {
   "cell_type": "markdown",
   "id": "6ac1ce22",
   "metadata": {},
   "source": [
    "import ast\n",
    "import numpy as np\n",
    "from sklearn.preprocessing import StandardScaler\n",
    "\n",
    "def clean_features(input_feature):\n",
    "    if isinstance(input_feature, dict):\n",
    "        return input_feature\n",
    "    elif isinstance(input_feature, str):\n",
    "        try:\n",
    "            return ast.literal_eval(input_feature)\n",
    "        except (ValueError, SyntaxError):\n",
    "            return {\"feature_str\": input_feature}\n",
    "    else:\n",
    "        raise ValueError(f\"Unexpected data type in input_features: {type(input_feature)}\")\n",
    "\n",
    "def normalize_cycle(cycle):\n",
    "    \"\"\"\n",
    "    Normalize the features in the given cycle.\n",
    "    \n",
    "    Parameters:\n",
    "    cycle (dict): A dictionary containing the features for a single cycle.\n",
    "    \n",
    "    Returns:\n",
    "    dict: A dictionary with the normalized features.\n",
    "    \"\"\"\n",
    "    scaler = StandardScaler()\n",
    "    normalized_cycle = {}\n",
    "    for key, value in cycle.items():\n",
    "        if isinstance(value, (int, float)):\n",
    "            normalized_cycle[key] = scaler.fit_transform([value])[0]\n",
    "        else:\n",
    "            normalized_cycle[key] = value\n",
    "    return normalized_cycle\n",
    "\n",
    "cleaned_input_features = [clean_features(cycle) for cycle in input_features]\n",
    "cleaned_input_features = [cycle for cycle in cleaned_input_features if cycle]  # Remove any empty dictionaries\n",
    "\n",
    "normalized_input_features = [normalize_cycle(cycle) for cycle in cleaned_input_features]\n",
    "\n",
    "def clean_labels(cycle_labels):\n",
    "    if isinstance(cycle_labels, dict):\n",
    "        return cycle_labels\n",
    "    elif isinstance(cycle_labels, str):\n",
    "        try:\n",
    "            return ast.literal_eval(cycle_labels)\n",
    "        except (ValueError, SyntaxError):\n",
    "            return {\"label_str\": cycle_labels}\n",
    "    else:\n",
    "        raise ValueError(f\"Unexpected data type in labels: {type(cycle_labels)}\")\n",
    "\n",
    "prepared_labels = [clean_labels(cycle) for cycle in labels]\n",
    "\n",
    "def handle_missing_data(cycle):\n",
    "    return np.nan_to_num(cycle, nan=0.0)\n",
    "\n",
    "final_input_features = [handle_missing_data(cycle) for cycle in normalized_input_features]\n",
    "final_labels = [handle_missing_data(cycle) for cycle in prepared_labels]\n",
    "\n",
    "print(\"Cleaned and Normalized Input Features (first 2 cycles):\")\n",
    "for i in range(2):\n",
    "    print(f\"Cycle {i+1}: {final_input_features[i]}\")\n",
    "\n",
    "print(\"\\nPrepared Labels (first 2 cycles):\")\n",
    "for i in range(2):\n",
    "    print(f\"Cycle {i+1}: {final_labels[i]}\")"
   ]
  },
  {
   "cell_type": "code",
   "execution_count": 5,
   "id": "5a4d6d21",
   "metadata": {},
   "outputs": [
    {
     "name": "stdout",
     "output_type": "stream",
     "text": [
      "Input Features:\n",
      "Cycle 1: cRC\n",
      "Cycle 2: length\n",
      "Cycle 3: counter\n",
      "Cycle 4: dataID\n",
      "Cycle 5: header.privateExtendedQualifier\n",
      "Cycle 6: header.origin.x\n",
      "Cycle 7: header.origin.y\n",
      "Cycle 8: header.origin.z\n",
      "Cycle 9: header.origin.roll\n",
      "Cycle 10: header.origin.roll_std_dev\n",
      "Cycle 11: header.origin.pitch\n",
      "Cycle 12: header.origin.pitch_std_dev\n",
      "Cycle 13: header.origin.yaw\n",
      "Cycle 14: header.origin.yaw_std_dev\n",
      "Cycle 15: header.timestampDAQ.fractional_seconds\n",
      "Cycle 16: header.timestampDAQ.seconds\n",
      "Cycle 17: header.timestampDAQ.sync_status\n",
      "Cycle 18: header.timestampSP_start.fractional_seconds\n",
      "Cycle 19: header.timestampSP_start.seconds\n",
      "Cycle 20: header.timestampSP_start.sync_status\n",
      "Cycle 21: header.timestampSP_end.fractional_seconds\n",
      "Cycle 22: header.timestampSP_end.seconds\n",
      "Cycle 23: header.timestampSP_end.sync_status\n",
      "Cycle 24: header.integrityFrontRadar\n",
      "Cycle 25: number_of_objects\n",
      "Cycle 26: qualifier\n",
      "Cycle 27: BMWcodecAssesment\n",
      "Cycle 28: BMWcodecClass\n",
      "Cycle 29: BMWdrivingDirection\n",
      "Cycle 30: BMWFuncRelev\n",
      "Cycle 31: height_edge_mean\n",
      "Cycle 32: orientation_deg\n",
      "Cycle 33: z_original\n",
      "Cycle 34: vabs_kmh\n",
      "Cycle 35: existence_probability\n",
      "Cycle 36: existence_qualifier\n",
      "Cycle 37: mirror_probability\n",
      "Cycle 38: x\n",
      "Cycle 39: x_std_dev\n",
      "Cycle 40: y\n",
      "Cycle 41: y_std_dev\n",
      "Cycle 42: z\n",
      "Cycle 43: z_std_dev\n",
      "Cycle 44: cov\n",
      "Cycle 45: orientation\n",
      "Cycle 46: o_std_dev\n",
      "Cycle 47: reference_point\n",
      "Cycle 48: width_std_dev\n",
      "Cycle 49: width_edge_mean\n",
      "Cycle 50: width_visibility\n",
      "Cycle 51: length_std_dev\n",
      "Cycle 52: length_edge_mean\n",
      "Cycle 53: length_visibility\n",
      "Cycle 54: hazard\n",
      "Cycle 55: underdrivable\n",
      "Cycle 56: overdrivable\n",
      "Cycle 57: unknown\n",
      "Cycle 58: vru\n",
      "Cycle 59: rcs\n",
      "Cycle 60: age\n",
      "Cycle 61: status_measurement\n",
      "Cycle 62: status_movement\n",
      "Cycle 63: object_id\n",
      "Cycle 64: vx_abs\n",
      "Cycle 65: vx_abs_std_dev\n",
      "Cycle 66: vy_abs\n",
      "Cycle 67: vy_abs_std_dev\n",
      "Cycle 68: cov_abs_vxvy\n",
      "Cycle 69: vx_rel\n",
      "Cycle 70: vx_rel_std_dev\n",
      "Cycle 71: vy_rel\n",
      "Cycle 72: vy_rel_std_dev\n",
      "Cycle 73: cov_rel_vxvy\n",
      "Cycle 74: ax_rel\n",
      "Cycle 75: ax_rel_std_dev\n",
      "Cycle 76: ay_rel\n",
      "Cycle 77: ay_rel_std_dev\n",
      "Cycle 78: cov_rel_axay\n",
      "Cycle 79: yaw_rate\n",
      "Cycle 80: yaw_rate_std_dev\n",
      "Cycle 81: ax_abs\n",
      "Cycle 82: ax_abs_std_dev\n",
      "Cycle 83: ay_abs\n",
      "Cycle 84: ay_abs_std_dev\n",
      "Cycle 85: cov_abs_axay\n",
      "Cycle 86: vabs_mps\n",
      "Cycle 87: timestamp_daq\n",
      "Cycle 88: timestamp\n",
      "Cycle 89: timestamp_logger\n",
      "Cycle 90: cycletime_logger\n",
      "Cycle 91: timestampLoggerFirstMessage\n",
      "Cycle 92: pitch_deg\n",
      "Cycle 93: yaw_deg\n",
      "Cycle 94: cycletime_DAQ\n",
      "Cycle 95: DAQ_timestamp_repeated\n"
     ]
    }
   ],
   "source": [
    "print(\"Input Features:\")\n",
    "for i, cycle in enumerate(labels):\n",
    "    print(f\"Cycle {i+1}: {cycle}\")"
   ]
  },
  {
   "cell_type": "code",
   "execution_count": 5,
   "id": "4c22d871",
   "metadata": {},
   "outputs": [
    {
     "name": "stderr",
     "output_type": "stream",
     "text": [
      "C:\\Users\\Q674749\\AppData\\Local\\Temp\\ipykernel_19500\\1379823443.py:3: DeprecationWarning: numpy.core.numeric is deprecated and has been renamed to numpy._core.numeric. The numpy._core namespace contains private NumPy internals and its use is discouraged, as NumPy internals can change without warning in any release. In practice, most real-world usage of numpy.core is to access functionality in the public NumPy API. If that is the case, use the public NumPy API. If not, you are using NumPy internals. If you would still like to access an internal attribute, use numpy._core.numeric._frombuffer.\n",
      "  df = pickle.load(f)\n"
     ]
    }
   ],
   "source": [
    "import pickle\n",
    "with open('C:\\\\FRR40\\\\rat25\\\\temp\\\\frr40_detections_0.p', 'rb') as f:\n",
    "    df = pickle.load(f)\n",
    "\n",
    "cols_to_keep = ['rcs', 'distance', 'angleAzimuth', 'angleElevation', 'radialVelocity']\n",
    "df = df[cols_to_keep]\n",
    "\n",
    "with open('cleaned_file.pkl', 'wb') as f:\n",
    "    pickle.dump(df, f)"
   ]
  },
  {
   "cell_type": "code",
   "execution_count": 6,
   "id": "9055646d",
   "metadata": {},
   "outputs": [
    {
     "data": {
      "text/html": [
       "<div>\n",
       "<style scoped>\n",
       "    .dataframe tbody tr th:only-of-type {\n",
       "        vertical-align: middle;\n",
       "    }\n",
       "\n",
       "    .dataframe tbody tr th {\n",
       "        vertical-align: top;\n",
       "    }\n",
       "\n",
       "    .dataframe thead th {\n",
       "        text-align: right;\n",
       "    }\n",
       "</style>\n",
       "<table border=\"1\" class=\"dataframe\">\n",
       "  <thead>\n",
       "    <tr style=\"text-align: right;\">\n",
       "      <th></th>\n",
       "      <th>rcs</th>\n",
       "      <th>distance</th>\n",
       "      <th>angleAzimuth</th>\n",
       "      <th>angleElevation</th>\n",
       "      <th>radialVelocity</th>\n",
       "    </tr>\n",
       "  </thead>\n",
       "  <tbody>\n",
       "    <tr>\n",
       "      <th>0</th>\n",
       "      <td>[-31, -89, 0, 0, 1, 0, 0, 123, 0, 50, 0, 1, 30...</td>\n",
       "      <td>[3.1699998, 0.01, 0.0, 0.0, 51.199997, 0.19999...</td>\n",
       "      <td>[-0.89498776, 1.2700942, 0.0214152, 5.23599e-0...</td>\n",
       "      <td>[-0.15624194, 0.3210709, -0.34599423, -0.73989...</td>\n",
       "      <td>[0.055, 0.0, 115.2, 1.275, 64.025, 0.25, 32.0,...</td>\n",
       "    </tr>\n",
       "    <tr>\n",
       "      <th>1</th>\n",
       "      <td>[-27, -89, 0, 0, 5, 0, 0, 19, 2, 50, 0, 2, 8, ...</td>\n",
       "      <td>[3.3999999, 0.01, 0.0, 0.0, 51.199997, 0.19999...</td>\n",
       "      <td>[-0.86226285, 1.3506761, 0.02136284, 5.23599e-...</td>\n",
       "      <td>[-0.16629505, -1.5823686, -0.34437108, -0.7667...</td>\n",
       "      <td>[0.044999998, 0.0, -99.84, 2.1699998, 64.005, ...</td>\n",
       "    </tr>\n",
       "    <tr>\n",
       "      <th>2</th>\n",
       "      <td>[-31, -89, 0, 0, 5, 0, 0, 89, 2, 50, 0, 9, 7, ...</td>\n",
       "      <td>[3.11, 0.01, 0.0, 0.0, 51.199997, 0.19999999, ...</td>\n",
       "      <td>[0.8214221, 1.6723752, 0.0214152, 5.23599e-05,...</td>\n",
       "      <td>[-0.20807825, -1.6091244, -0.34568006, -0.7398...</td>\n",
       "      <td>[0.03, 0.0, 149.76, 1.485, 64.015, 0.25, 10.24...</td>\n",
       "    </tr>\n",
       "    <tr>\n",
       "      <th>3</th>\n",
       "      <td>[-26, -89, 0, 0, 3, 0, 0, -37, 3, 50, 0, 0, 33...</td>\n",
       "      <td>[3.6799998, 0.01, 0.0, 0.0, 51.199997, 0.19999...</td>\n",
       "      <td>[-0.7950851, -1.355179, 0.023771396, 5.23599e-...</td>\n",
       "      <td>[-0.17760478, 0.8170239, -0.6750762, -0.136345...</td>\n",
       "      <td>[0.08, 0.0, 52.48, 1.73, 64.005, 0.25, 7.68, -...</td>\n",
       "    </tr>\n",
       "    <tr>\n",
       "      <th>4</th>\n",
       "      <td>[-28, -89, 0, 0, 2, 0, 0, -20, 2, 50, 0, 28, 2...</td>\n",
       "      <td>[3.6399999, 0.01, 0.0, 0.0, 51.199997, 0.19999...</td>\n",
       "      <td>[-0.7963941, -1.3685831, 0.023719035, 5.23599e...</td>\n",
       "      <td>[-0.17519623, 1.0314901, -0.6737149, -0.432021...</td>\n",
       "      <td>[-0.03, 0.0, 24.32, 3.99, 64.005, 0.25, 24.32,...</td>\n",
       "    </tr>\n",
       "  </tbody>\n",
       "</table>\n",
       "</div>"
      ],
      "text/plain": [
       "                                                 rcs  \\\n",
       "0  [-31, -89, 0, 0, 1, 0, 0, 123, 0, 50, 0, 1, 30...   \n",
       "1  [-27, -89, 0, 0, 5, 0, 0, 19, 2, 50, 0, 2, 8, ...   \n",
       "2  [-31, -89, 0, 0, 5, 0, 0, 89, 2, 50, 0, 9, 7, ...   \n",
       "3  [-26, -89, 0, 0, 3, 0, 0, -37, 3, 50, 0, 0, 33...   \n",
       "4  [-28, -89, 0, 0, 2, 0, 0, -20, 2, 50, 0, 28, 2...   \n",
       "\n",
       "                                            distance  \\\n",
       "0  [3.1699998, 0.01, 0.0, 0.0, 51.199997, 0.19999...   \n",
       "1  [3.3999999, 0.01, 0.0, 0.0, 51.199997, 0.19999...   \n",
       "2  [3.11, 0.01, 0.0, 0.0, 51.199997, 0.19999999, ...   \n",
       "3  [3.6799998, 0.01, 0.0, 0.0, 51.199997, 0.19999...   \n",
       "4  [3.6399999, 0.01, 0.0, 0.0, 51.199997, 0.19999...   \n",
       "\n",
       "                                        angleAzimuth  \\\n",
       "0  [-0.89498776, 1.2700942, 0.0214152, 5.23599e-0...   \n",
       "1  [-0.86226285, 1.3506761, 0.02136284, 5.23599e-...   \n",
       "2  [0.8214221, 1.6723752, 0.0214152, 5.23599e-05,...   \n",
       "3  [-0.7950851, -1.355179, 0.023771396, 5.23599e-...   \n",
       "4  [-0.7963941, -1.3685831, 0.023719035, 5.23599e...   \n",
       "\n",
       "                                      angleElevation  \\\n",
       "0  [-0.15624194, 0.3210709, -0.34599423, -0.73989...   \n",
       "1  [-0.16629505, -1.5823686, -0.34437108, -0.7667...   \n",
       "2  [-0.20807825, -1.6091244, -0.34568006, -0.7398...   \n",
       "3  [-0.17760478, 0.8170239, -0.6750762, -0.136345...   \n",
       "4  [-0.17519623, 1.0314901, -0.6737149, -0.432021...   \n",
       "\n",
       "                                      radialVelocity  \n",
       "0  [0.055, 0.0, 115.2, 1.275, 64.025, 0.25, 32.0,...  \n",
       "1  [0.044999998, 0.0, -99.84, 2.1699998, 64.005, ...  \n",
       "2  [0.03, 0.0, 149.76, 1.485, 64.015, 0.25, 10.24...  \n",
       "3  [0.08, 0.0, 52.48, 1.73, 64.005, 0.25, 7.68, -...  \n",
       "4  [-0.03, 0.0, 24.32, 3.99, 64.005, 0.25, 24.32,...  "
      ]
     },
     "execution_count": 6,
     "metadata": {},
     "output_type": "execute_result"
    }
   ],
   "source": [
    "import pickle\n",
    "with open('cleaned_file.pkl', 'rb') as f:\n",
    "    cleaned_df = pickle.load(f)\n",
    "\n",
    "cleaned_df.head()"
   ]
  },
  {
   "cell_type": "code",
   "execution_count": 7,
   "id": "09986c11",
   "metadata": {},
   "outputs": [
    {
     "name": "stderr",
     "output_type": "stream",
     "text": [
      "C:\\Users\\Q674749\\AppData\\Local\\Temp\\ipykernel_19500\\743852908.py:3: DeprecationWarning: numpy.core.numeric is deprecated and has been renamed to numpy._core.numeric. The numpy._core namespace contains private NumPy internals and its use is discouraged, as NumPy internals can change without warning in any release. In practice, most real-world usage of numpy.core is to access functionality in the public NumPy API. If that is the case, use the public NumPy API. If not, you are using NumPy internals. If you would still like to access an internal attribute, use numpy._core.numeric._frombuffer.\n",
      "  df = pickle.load(f)\n"
     ]
    }
   ],
   "source": [
    "import pickle\n",
    "with open('C:\\\\FRR40\\\\rat25\\\\temp\\\\frr40_objects_0.p', 'rb') as f:\n",
    "    df = pickle.load(f)\n",
    "\n",
    "labels_to_keep = ['orientation_deg']\n",
    "df = df[labels_to_keep]\n",
    "\n",
    "with open('cleaned_obj.pkl', 'wb') as f:\n",
    "    pickle.dump(df, f)"
   ]
  },
  {
   "cell_type": "code",
   "execution_count": 8,
   "id": "9e248bc7",
   "metadata": {},
   "outputs": [
    {
     "name": "stdout",
     "output_type": "stream",
     "text": [
      "                                     orientation_deg\n",
      "0  [90.002716, -179.8626, 179.2199, 90.002716, 57...\n",
      "1  [90.002716, -179.83514, 90.002716, 58.361137, ...\n",
      "2  [179.98346, -179.83514, 179.60991, 90.002716, ...\n",
      "3  [177.91248, -179.79669, 179.98346, 90.002716, ...\n",
      "4  [177.82458, -179.74725, -179.98346, 90.002716,...\n"
     ]
    }
   ],
   "source": [
    "import pickle\n",
    "with open('cleaned_obj.pkl', 'rb') as f:\n",
    "    cleaned_obj = pickle.load(f)\n",
    "\n",
    "print(cleaned_obj.head())"
   ]
  },
  {
   "cell_type": "code",
   "execution_count": 9,
   "id": "8a3fb734",
   "metadata": {},
   "outputs": [],
   "source": [
    "import pickle\n",
    "import numpy as np\n",
    "\n",
    "with open('cleaned_file.pkl', 'rb') as f:\n",
    "    X = pickle.load(f)\n",
    "\n",
    "with open('cleaned_obj.pkl', 'rb') as f:\n",
    "    y = pickle.load(f)"
   ]
  },
  {
   "cell_type": "code",
   "execution_count": 10,
   "id": "5ffbb2e2",
   "metadata": {},
   "outputs": [
    {
     "name": "stdout",
     "output_type": "stream",
     "text": [
      "Radar Data Features:\n",
      "Cycle 1:\n",
      "  <class 'str'>\n",
      "  <class 'str'>\n",
      "  <class 'str'>\n",
      "\n",
      "Cycle 2:\n",
      "  <class 'str'>\n",
      "  <class 'str'>\n",
      "  <class 'str'>\n",
      "  <class 'str'>\n",
      "  <class 'str'>\n",
      "  <class 'str'>\n",
      "  <class 'str'>\n",
      "  <class 'str'>\n",
      "\n",
      "Cycle 3:\n",
      "  <class 'str'>\n",
      "  <class 'str'>\n",
      "  <class 'str'>\n",
      "  <class 'str'>\n",
      "  <class 'str'>\n",
      "  <class 'str'>\n",
      "  <class 'str'>\n",
      "  <class 'str'>\n",
      "  <class 'str'>\n",
      "  <class 'str'>\n",
      "  <class 'str'>\n",
      "  <class 'str'>\n",
      "\n",
      "Cycle 4:\n",
      "  <class 'str'>\n",
      "  <class 'str'>\n",
      "  <class 'str'>\n",
      "  <class 'str'>\n",
      "  <class 'str'>\n",
      "  <class 'str'>\n",
      "  <class 'str'>\n",
      "  <class 'str'>\n",
      "  <class 'str'>\n",
      "  <class 'str'>\n",
      "  <class 'str'>\n",
      "  <class 'str'>\n",
      "  <class 'str'>\n",
      "  <class 'str'>\n",
      "\n",
      "Cycle 5:\n",
      "  <class 'str'>\n",
      "  <class 'str'>\n",
      "  <class 'str'>\n",
      "  <class 'str'>\n",
      "  <class 'str'>\n",
      "  <class 'str'>\n",
      "  <class 'str'>\n",
      "  <class 'str'>\n",
      "  <class 'str'>\n",
      "  <class 'str'>\n",
      "  <class 'str'>\n",
      "  <class 'str'>\n",
      "  <class 'str'>\n",
      "  <class 'str'>\n",
      "\n",
      "Labels:\n",
      "Cycle 1:\n",
      "  <class 'str'>\n",
      "  <class 'str'>\n",
      "  <class 'str'>\n",
      "  <class 'str'>\n",
      "  <class 'str'>\n",
      "  <class 'str'>\n",
      "  <class 'str'>\n",
      "  <class 'str'>\n",
      "  <class 'str'>\n",
      "  <class 'str'>\n",
      "  <class 'str'>\n",
      "  <class 'str'>\n",
      "  <class 'str'>\n",
      "  <class 'str'>\n",
      "  <class 'str'>\n",
      "\n"
     ]
    }
   ],
   "source": [
    "print(\"Radar Data Features:\")\n",
    "for i, cycle in enumerate(X):\n",
    "    print(f\"Cycle {i+1}:\")\n",
    "    for feature in cycle:\n",
    "        print(f\"  {type(feature)}\")\n",
    "    print()\n",
    "\n",
    "# Check the data types of the labels\n",
    "print(\"Labels:\")\n",
    "for i, cycle_labels in enumerate(y):\n",
    "    print(f\"Cycle {i+1}:\")\n",
    "    for label in cycle_labels:\n",
    "        print(f\"  {type(label)}\")\n",
    "    print()"
   ]
  },
  {
   "cell_type": "code",
   "execution_count": 43,
   "id": "cb0ed909",
   "metadata": {},
   "outputs": [
    {
     "ename": "ValueError",
     "evalue": "malformed node or string on line 1: <ast.Name object at 0x0000017A95D4F5D0>",
     "output_type": "error",
     "traceback": [
      "\u001b[1;31m---------------------------------------------------------------------------\u001b[0m",
      "\u001b[1;31mValueError\u001b[0m                                Traceback (most recent call last)",
      "Cell \u001b[1;32mIn[43], line 12\u001b[0m\n\u001b[0;32m      9\u001b[0m     cycle_tensor \u001b[38;5;241m=\u001b[39m torch\u001b[38;5;241m.\u001b[39mtensor(cycle_data, dtype\u001b[38;5;241m=\u001b[39mtorch\u001b[38;5;241m.\u001b[39mfloat32)\n\u001b[0;32m     10\u001b[0m     \u001b[38;5;28;01mreturn\u001b[39;00m cycle_tensor\n\u001b[1;32m---> 12\u001b[0m radar_features \u001b[38;5;241m=\u001b[39m [\u001b[43mparse_cycle_data\u001b[49m\u001b[43m(\u001b[49m\u001b[43mcycle_str\u001b[49m\u001b[43m)\u001b[49m \u001b[38;5;28;01mfor\u001b[39;00m cycle_str \u001b[38;5;129;01min\u001b[39;00m X]\n\u001b[0;32m     13\u001b[0m \u001b[38;5;28mprint\u001b[39m(radar_features[\u001b[38;5;241m0\u001b[39m]\u001b[38;5;241m.\u001b[39mdtype)\n",
      "Cell \u001b[1;32mIn[43], line 8\u001b[0m, in \u001b[0;36mparse_cycle_data\u001b[1;34m(cycle_str)\u001b[0m\n\u001b[0;32m      4\u001b[0m \u001b[38;5;28;01mdef\u001b[39;00m \u001b[38;5;21mparse_cycle_data\u001b[39m(cycle_str):\n\u001b[0;32m      5\u001b[0m \u001b[38;5;250m    \u001b[39m\u001b[38;5;124;03m\"\"\"\u001b[39;00m\n\u001b[0;32m      6\u001b[0m \u001b[38;5;124;03m    Parse a string representing a cycle of detected objects and their features.\u001b[39;00m\n\u001b[0;32m      7\u001b[0m \u001b[38;5;124;03m    \"\"\"\u001b[39;00m\n\u001b[1;32m----> 8\u001b[0m     cycle_data \u001b[38;5;241m=\u001b[39m \u001b[43mast\u001b[49m\u001b[38;5;241;43m.\u001b[39;49m\u001b[43mliteral_eval\u001b[49m\u001b[43m(\u001b[49m\u001b[43mcycle_str\u001b[49m\u001b[43m)\u001b[49m\n\u001b[0;32m      9\u001b[0m     cycle_tensor \u001b[38;5;241m=\u001b[39m torch\u001b[38;5;241m.\u001b[39mtensor(cycle_data, dtype\u001b[38;5;241m=\u001b[39mtorch\u001b[38;5;241m.\u001b[39mfloat32)\n\u001b[0;32m     10\u001b[0m     \u001b[38;5;28;01mreturn\u001b[39;00m cycle_tensor\n",
      "File \u001b[1;32m~\\AppData\\Local\\Programs\\Python\\Python312\\Lib\\ast.py:112\u001b[0m, in \u001b[0;36mliteral_eval\u001b[1;34m(node_or_string)\u001b[0m\n\u001b[0;32m    110\u001b[0m                 \u001b[38;5;28;01mreturn\u001b[39;00m left \u001b[38;5;241m-\u001b[39m right\n\u001b[0;32m    111\u001b[0m     \u001b[38;5;28;01mreturn\u001b[39;00m _convert_signed_num(node)\n\u001b[1;32m--> 112\u001b[0m \u001b[38;5;28;01mreturn\u001b[39;00m \u001b[43m_convert\u001b[49m\u001b[43m(\u001b[49m\u001b[43mnode_or_string\u001b[49m\u001b[43m)\u001b[49m\n",
      "File \u001b[1;32m~\\AppData\\Local\\Programs\\Python\\Python312\\Lib\\ast.py:111\u001b[0m, in \u001b[0;36mliteral_eval.<locals>._convert\u001b[1;34m(node)\u001b[0m\n\u001b[0;32m    109\u001b[0m         \u001b[38;5;28;01melse\u001b[39;00m:\n\u001b[0;32m    110\u001b[0m             \u001b[38;5;28;01mreturn\u001b[39;00m left \u001b[38;5;241m-\u001b[39m right\n\u001b[1;32m--> 111\u001b[0m \u001b[38;5;28;01mreturn\u001b[39;00m \u001b[43m_convert_signed_num\u001b[49m\u001b[43m(\u001b[49m\u001b[43mnode\u001b[49m\u001b[43m)\u001b[49m\n",
      "File \u001b[1;32m~\\AppData\\Local\\Programs\\Python\\Python312\\Lib\\ast.py:85\u001b[0m, in \u001b[0;36mliteral_eval.<locals>._convert_signed_num\u001b[1;34m(node)\u001b[0m\n\u001b[0;32m     83\u001b[0m     \u001b[38;5;28;01melse\u001b[39;00m:\n\u001b[0;32m     84\u001b[0m         \u001b[38;5;28;01mreturn\u001b[39;00m \u001b[38;5;241m-\u001b[39m operand\n\u001b[1;32m---> 85\u001b[0m \u001b[38;5;28;01mreturn\u001b[39;00m \u001b[43m_convert_num\u001b[49m\u001b[43m(\u001b[49m\u001b[43mnode\u001b[49m\u001b[43m)\u001b[49m\n",
      "File \u001b[1;32m~\\AppData\\Local\\Programs\\Python\\Python312\\Lib\\ast.py:76\u001b[0m, in \u001b[0;36mliteral_eval.<locals>._convert_num\u001b[1;34m(node)\u001b[0m\n\u001b[0;32m     74\u001b[0m \u001b[38;5;28;01mdef\u001b[39;00m \u001b[38;5;21m_convert_num\u001b[39m(node):\n\u001b[0;32m     75\u001b[0m     \u001b[38;5;28;01mif\u001b[39;00m \u001b[38;5;129;01mnot\u001b[39;00m \u001b[38;5;28misinstance\u001b[39m(node, Constant) \u001b[38;5;129;01mor\u001b[39;00m \u001b[38;5;28mtype\u001b[39m(node\u001b[38;5;241m.\u001b[39mvalue) \u001b[38;5;129;01mnot\u001b[39;00m \u001b[38;5;129;01min\u001b[39;00m (\u001b[38;5;28mint\u001b[39m, \u001b[38;5;28mfloat\u001b[39m, \u001b[38;5;28mcomplex\u001b[39m):\n\u001b[1;32m---> 76\u001b[0m         \u001b[43m_raise_malformed_node\u001b[49m\u001b[43m(\u001b[49m\u001b[43mnode\u001b[49m\u001b[43m)\u001b[49m\n\u001b[0;32m     77\u001b[0m     \u001b[38;5;28;01mreturn\u001b[39;00m node\u001b[38;5;241m.\u001b[39mvalue\n",
      "File \u001b[1;32m~\\AppData\\Local\\Programs\\Python\\Python312\\Lib\\ast.py:73\u001b[0m, in \u001b[0;36mliteral_eval.<locals>._raise_malformed_node\u001b[1;34m(node)\u001b[0m\n\u001b[0;32m     71\u001b[0m \u001b[38;5;28;01mif\u001b[39;00m lno \u001b[38;5;241m:=\u001b[39m \u001b[38;5;28mgetattr\u001b[39m(node, \u001b[38;5;124m'\u001b[39m\u001b[38;5;124mlineno\u001b[39m\u001b[38;5;124m'\u001b[39m, \u001b[38;5;28;01mNone\u001b[39;00m):\n\u001b[0;32m     72\u001b[0m     msg \u001b[38;5;241m+\u001b[39m\u001b[38;5;241m=\u001b[39m \u001b[38;5;124mf\u001b[39m\u001b[38;5;124m'\u001b[39m\u001b[38;5;124m on line \u001b[39m\u001b[38;5;132;01m{\u001b[39;00mlno\u001b[38;5;132;01m}\u001b[39;00m\u001b[38;5;124m'\u001b[39m\n\u001b[1;32m---> 73\u001b[0m \u001b[38;5;28;01mraise\u001b[39;00m \u001b[38;5;167;01mValueError\u001b[39;00m(msg \u001b[38;5;241m+\u001b[39m \u001b[38;5;124mf\u001b[39m\u001b[38;5;124m'\u001b[39m\u001b[38;5;124m: \u001b[39m\u001b[38;5;132;01m{\u001b[39;00mnode\u001b[38;5;132;01m!r}\u001b[39;00m\u001b[38;5;124m'\u001b[39m)\n",
      "\u001b[1;31mValueError\u001b[0m: malformed node or string on line 1: <ast.Name object at 0x0000017A95D4F5D0>"
     ]
    }
   ],
   "source": [
    "import torch\n",
    "import ast\n",
    "\n",
    "def parse_cycle_data(cycle_str):\n",
    "    \"\"\"\n",
    "    Parse a string representing a cycle of detected objects and their features.\n",
    "    \"\"\"\n",
    "    cycle_data = ast.literal_eval(cycle_str)\n",
    "    cycle_tensor = torch.tensor(cycle_data, dtype=torch.float32)\n",
    "    return cycle_tensor\n",
    "\n",
    "radar_features = [parse_cycle_data(cycle_str) for cycle_str in X]\n",
    "print(radar_features[0].dtype)"
   ]
  },
  {
   "cell_type": "code",
   "execution_count": 10,
   "id": "fbe752e8",
   "metadata": {},
   "outputs": [
    {
     "ename": "TypeError",
     "evalue": "new(): invalid data type 'str'",
     "output_type": "error",
     "traceback": [
      "\u001b[1;31m---------------------------------------------------------------------------\u001b[0m",
      "\u001b[1;31mTypeError\u001b[0m                                 Traceback (most recent call last)",
      "Cell \u001b[1;32mIn[10], line 2\u001b[0m\n\u001b[0;32m      1\u001b[0m \u001b[38;5;28;01mimport\u001b[39;00m \u001b[38;5;21;01mtorch\u001b[39;00m\n\u001b[1;32m----> 2\u001b[0m radar_features \u001b[38;5;241m=\u001b[39m [\u001b[43mtorch\u001b[49m\u001b[38;5;241;43m.\u001b[39;49m\u001b[43mtensor\u001b[49m\u001b[43m(\u001b[49m\u001b[43mcycle\u001b[49m\u001b[43m,\u001b[49m\u001b[43m \u001b[49m\u001b[43mdtype\u001b[49m\u001b[38;5;241;43m=\u001b[39;49m\u001b[43mtorch\u001b[49m\u001b[38;5;241;43m.\u001b[39;49m\u001b[43mfloat32\u001b[49m\u001b[43m)\u001b[49m \u001b[38;5;28;01mfor\u001b[39;00m cycle \u001b[38;5;129;01min\u001b[39;00m X]\n\u001b[0;32m      3\u001b[0m \u001b[38;5;28mprint\u001b[39m(radar_features[\u001b[38;5;241m0\u001b[39m]\u001b[38;5;241m.\u001b[39mdtype)\n",
      "\u001b[1;31mTypeError\u001b[0m: new(): invalid data type 'str'"
     ]
    }
   ],
   "source": [
    "import torch\n",
    "radar_features = [torch.tensor(cycle, dtype=torch.float32) for cycle in X]\n",
    "print(radar_features[0].dtype)"
   ]
  },
  {
   "cell_type": "code",
   "execution_count": 11,
   "id": "1147d24b",
   "metadata": {},
   "outputs": [
    {
     "ename": "KeyError",
     "evalue": "0",
     "output_type": "error",
     "traceback": [
      "\u001b[1;31m---------------------------------------------------------------------------\u001b[0m",
      "\u001b[1;31mKeyError\u001b[0m                                  Traceback (most recent call last)",
      "File \u001b[1;32mc:\\Users\\Q674749\\Desktop\\thesis_work\\.venv\\Lib\\site-packages\\pandas\\core\\indexes\\base.py:3805\u001b[0m, in \u001b[0;36mIndex.get_loc\u001b[1;34m(self, key)\u001b[0m\n\u001b[0;32m   3804\u001b[0m \u001b[38;5;28;01mtry\u001b[39;00m:\n\u001b[1;32m-> 3805\u001b[0m     \u001b[38;5;28;01mreturn\u001b[39;00m \u001b[38;5;28;43mself\u001b[39;49m\u001b[38;5;241;43m.\u001b[39;49m\u001b[43m_engine\u001b[49m\u001b[38;5;241;43m.\u001b[39;49m\u001b[43mget_loc\u001b[49m\u001b[43m(\u001b[49m\u001b[43mcasted_key\u001b[49m\u001b[43m)\u001b[49m\n\u001b[0;32m   3806\u001b[0m \u001b[38;5;28;01mexcept\u001b[39;00m \u001b[38;5;167;01mKeyError\u001b[39;00m \u001b[38;5;28;01mas\u001b[39;00m err:\n",
      "File \u001b[1;32mindex.pyx:167\u001b[0m, in \u001b[0;36mpandas._libs.index.IndexEngine.get_loc\u001b[1;34m()\u001b[0m\n",
      "File \u001b[1;32mindex.pyx:196\u001b[0m, in \u001b[0;36mpandas._libs.index.IndexEngine.get_loc\u001b[1;34m()\u001b[0m\n",
      "File \u001b[1;32mpandas\\\\_libs\\\\hashtable_class_helper.pxi:7081\u001b[0m, in \u001b[0;36mpandas._libs.hashtable.PyObjectHashTable.get_item\u001b[1;34m()\u001b[0m\n",
      "File \u001b[1;32mpandas\\\\_libs\\\\hashtable_class_helper.pxi:7089\u001b[0m, in \u001b[0;36mpandas._libs.hashtable.PyObjectHashTable.get_item\u001b[1;34m()\u001b[0m\n",
      "\u001b[1;31mKeyError\u001b[0m: 0",
      "\nThe above exception was the direct cause of the following exception:\n",
      "\u001b[1;31mKeyError\u001b[0m                                  Traceback (most recent call last)",
      "Cell \u001b[1;32mIn[11], line 1\u001b[0m\n\u001b[1;32m----> 1\u001b[0m \u001b[38;5;28mprint\u001b[39m(\u001b[43my\u001b[49m\u001b[43m[\u001b[49m\u001b[38;5;241;43m0\u001b[39;49m\u001b[43m]\u001b[49m\u001b[38;5;241m.\u001b[39mdtype)\n",
      "File \u001b[1;32mc:\\Users\\Q674749\\Desktop\\thesis_work\\.venv\\Lib\\site-packages\\pandas\\core\\frame.py:4102\u001b[0m, in \u001b[0;36mDataFrame.__getitem__\u001b[1;34m(self, key)\u001b[0m\n\u001b[0;32m   4100\u001b[0m \u001b[38;5;28;01mif\u001b[39;00m \u001b[38;5;28mself\u001b[39m\u001b[38;5;241m.\u001b[39mcolumns\u001b[38;5;241m.\u001b[39mnlevels \u001b[38;5;241m>\u001b[39m \u001b[38;5;241m1\u001b[39m:\n\u001b[0;32m   4101\u001b[0m     \u001b[38;5;28;01mreturn\u001b[39;00m \u001b[38;5;28mself\u001b[39m\u001b[38;5;241m.\u001b[39m_getitem_multilevel(key)\n\u001b[1;32m-> 4102\u001b[0m indexer \u001b[38;5;241m=\u001b[39m \u001b[38;5;28;43mself\u001b[39;49m\u001b[38;5;241;43m.\u001b[39;49m\u001b[43mcolumns\u001b[49m\u001b[38;5;241;43m.\u001b[39;49m\u001b[43mget_loc\u001b[49m\u001b[43m(\u001b[49m\u001b[43mkey\u001b[49m\u001b[43m)\u001b[49m\n\u001b[0;32m   4103\u001b[0m \u001b[38;5;28;01mif\u001b[39;00m is_integer(indexer):\n\u001b[0;32m   4104\u001b[0m     indexer \u001b[38;5;241m=\u001b[39m [indexer]\n",
      "File \u001b[1;32mc:\\Users\\Q674749\\Desktop\\thesis_work\\.venv\\Lib\\site-packages\\pandas\\core\\indexes\\base.py:3812\u001b[0m, in \u001b[0;36mIndex.get_loc\u001b[1;34m(self, key)\u001b[0m\n\u001b[0;32m   3807\u001b[0m     \u001b[38;5;28;01mif\u001b[39;00m \u001b[38;5;28misinstance\u001b[39m(casted_key, \u001b[38;5;28mslice\u001b[39m) \u001b[38;5;129;01mor\u001b[39;00m (\n\u001b[0;32m   3808\u001b[0m         \u001b[38;5;28misinstance\u001b[39m(casted_key, abc\u001b[38;5;241m.\u001b[39mIterable)\n\u001b[0;32m   3809\u001b[0m         \u001b[38;5;129;01mand\u001b[39;00m \u001b[38;5;28many\u001b[39m(\u001b[38;5;28misinstance\u001b[39m(x, \u001b[38;5;28mslice\u001b[39m) \u001b[38;5;28;01mfor\u001b[39;00m x \u001b[38;5;129;01min\u001b[39;00m casted_key)\n\u001b[0;32m   3810\u001b[0m     ):\n\u001b[0;32m   3811\u001b[0m         \u001b[38;5;28;01mraise\u001b[39;00m InvalidIndexError(key)\n\u001b[1;32m-> 3812\u001b[0m     \u001b[38;5;28;01mraise\u001b[39;00m \u001b[38;5;167;01mKeyError\u001b[39;00m(key) \u001b[38;5;28;01mfrom\u001b[39;00m \u001b[38;5;21;01merr\u001b[39;00m\n\u001b[0;32m   3813\u001b[0m \u001b[38;5;28;01mexcept\u001b[39;00m \u001b[38;5;167;01mTypeError\u001b[39;00m:\n\u001b[0;32m   3814\u001b[0m     \u001b[38;5;66;03m# If we have a listlike key, _check_indexing_error will raise\u001b[39;00m\n\u001b[0;32m   3815\u001b[0m     \u001b[38;5;66;03m#  InvalidIndexError. Otherwise we fall through and re-raise\u001b[39;00m\n\u001b[0;32m   3816\u001b[0m     \u001b[38;5;66;03m#  the TypeError.\u001b[39;00m\n\u001b[0;32m   3817\u001b[0m     \u001b[38;5;28mself\u001b[39m\u001b[38;5;241m.\u001b[39m_check_indexing_error(key)\n",
      "\u001b[1;31mKeyError\u001b[0m: 0"
     ]
    }
   ],
   "source": [
    "print(y[0].dtype)"
   ]
  },
  {
   "cell_type": "code",
   "execution_count": 12,
   "id": "a642b1e5",
   "metadata": {},
   "outputs": [
    {
     "ename": "AttributeError",
     "evalue": "'str' object has no attribute 'astype'",
     "output_type": "error",
     "traceback": [
      "\u001b[1;31m---------------------------------------------------------------------------\u001b[0m",
      "\u001b[1;31mAttributeError\u001b[0m                            Traceback (most recent call last)",
      "Cell \u001b[1;32mIn[12], line 1\u001b[0m\n\u001b[1;32m----> 1\u001b[0m labels_tensor \u001b[38;5;241m=\u001b[39m [torch\u001b[38;5;241m.\u001b[39mtensor(\u001b[43mcycle_labels\u001b[49m\u001b[38;5;241;43m.\u001b[39;49m\u001b[43mastype\u001b[49m(np\u001b[38;5;241m.\u001b[39mfloat32), dtype\u001b[38;5;241m=\u001b[39mtorch\u001b[38;5;241m.\u001b[39mfloat32) \u001b[38;5;28;01mfor\u001b[39;00m cycle_labels \u001b[38;5;129;01min\u001b[39;00m y]\n\u001b[0;32m      3\u001b[0m \u001b[38;5;28mprint\u001b[39m(labels_tensor[\u001b[38;5;241m0\u001b[39m]\u001b[38;5;241m.\u001b[39mdtype)\n",
      "\u001b[1;31mAttributeError\u001b[0m: 'str' object has no attribute 'astype'"
     ]
    }
   ],
   "source": [
    "labels_tensor = [torch.tensor(cycle_labels.astype(np.float32), dtype=torch.float32) for cycle_labels in y]\n",
    "\n",
    "print(labels_tensor[0].dtype)\n"
   ]
  },
  {
   "cell_type": "code",
   "execution_count": 13,
   "id": "8b9e8547",
   "metadata": {},
   "outputs": [
    {
     "ename": "NameError",
     "evalue": "name 'radar_features' is not defined",
     "output_type": "error",
     "traceback": [
      "\u001b[1;31m---------------------------------------------------------------------------\u001b[0m",
      "\u001b[1;31mNameError\u001b[0m                                 Traceback (most recent call last)",
      "Cell \u001b[1;32mIn[13], line 1\u001b[0m\n\u001b[1;32m----> 1\u001b[0m max_len \u001b[38;5;241m=\u001b[39m \u001b[38;5;28mmax\u001b[39m([feature\u001b[38;5;241m.\u001b[39msize(\u001b[38;5;241m0\u001b[39m) \u001b[38;5;28;01mfor\u001b[39;00m feature \u001b[38;5;129;01min\u001b[39;00m \u001b[43mradar_features\u001b[49m])\n\u001b[0;32m      2\u001b[0m \u001b[38;5;28mprint\u001b[39m(\u001b[38;5;124mf\u001b[39m\u001b[38;5;124m'\u001b[39m\u001b[38;5;124mmax length of any cycle: \u001b[39m\u001b[38;5;132;01m{\u001b[39;00mmax_len\u001b[38;5;132;01m}\u001b[39;00m\u001b[38;5;124m'\u001b[39m)\n",
      "\u001b[1;31mNameError\u001b[0m: name 'radar_features' is not defined"
     ]
    }
   ],
   "source": [
    "max_len = max([feature.size(0) for feature in radar_features])\n",
    "print(f'max length of any cycle: {max_len}')"
   ]
  },
  {
   "cell_type": "code",
   "execution_count": 14,
   "id": "80f94d10",
   "metadata": {},
   "outputs": [
    {
     "ename": "NameError",
     "evalue": "name 'radar_features' is not defined",
     "output_type": "error",
     "traceback": [
      "\u001b[1;31m---------------------------------------------------------------------------\u001b[0m",
      "\u001b[1;31mNameError\u001b[0m                                 Traceback (most recent call last)",
      "Cell \u001b[1;32mIn[14], line 24\u001b[0m\n\u001b[0;32m     19\u001b[0m         padded\u001b[38;5;241m.\u001b[39mappend(padded_seq)\n\u001b[0;32m     21\u001b[0m     \u001b[38;5;28;01mreturn\u001b[39;00m padded\n\u001b[1;32m---> 24\u001b[0m x_padded \u001b[38;5;241m=\u001b[39m [pad_sequence(feature, max_len) \u001b[38;5;28;01mfor\u001b[39;00m feature \u001b[38;5;129;01min\u001b[39;00m \u001b[43mradar_features\u001b[49m]\n",
      "\u001b[1;31mNameError\u001b[0m: name 'radar_features' is not defined"
     ]
    }
   ],
   "source": [
    "import torch.nn.functional as F\n",
    "\n",
    "def pad_sequence(sequences, max_len):\n",
    "    padded = []\n",
    "    for seq in sequences:\n",
    "\n",
    "        print(f'shape before padding: {seq.shape}')\n",
    "\n",
    "        if seq.dim() == 1:\n",
    "            seq = seq.unsqueeze(-1)\n",
    "            \n",
    "        pad_size = max_len - seq.size(0)\n",
    "        if pad_size > 0:\n",
    "            padded_seq = F.pad(seq, (0, 0, 0, pad_size), value = 0)\n",
    "        else:\n",
    "            padded_seq = seq\n",
    "\n",
    "        print(f'shape after padding: {padded_seq}')\n",
    "        padded.append(padded_seq)\n",
    "    \n",
    "    return padded\n",
    "\n",
    "\n",
    "x_padded = [pad_sequence(feature, max_len) for feature in radar_features]"
   ]
  },
  {
   "cell_type": "code",
   "execution_count": 15,
   "id": "f469f596",
   "metadata": {},
   "outputs": [
    {
     "ename": "NameError",
     "evalue": "name 'radar_features' is not defined",
     "output_type": "error",
     "traceback": [
      "\u001b[1;31m---------------------------------------------------------------------------\u001b[0m",
      "\u001b[1;31mNameError\u001b[0m                                 Traceback (most recent call last)",
      "Cell \u001b[1;32mIn[15], line 11\u001b[0m\n\u001b[0;32m      7\u001b[0m         combined_cycles\u001b[38;5;241m.\u001b[39mappend(combined_cycles)\n\u001b[0;32m      9\u001b[0m     \u001b[38;5;28;01mreturn\u001b[39;00m(combined_cycles)\n\u001b[1;32m---> 11\u001b[0m x_combined \u001b[38;5;241m=\u001b[39m combine_features(\u001b[43mradar_features\u001b[49m)\n\u001b[0;32m     13\u001b[0m \u001b[38;5;28mprint\u001b[39m(\u001b[38;5;124mf\u001b[39m\u001b[38;5;124m'\u001b[39m\u001b[38;5;124mfirst combined cycle shape:\u001b[39m\u001b[38;5;132;01m{\u001b[39;00mx_combined[\u001b[38;5;241m0\u001b[39m]\u001b[38;5;241m.\u001b[39mshape\u001b[38;5;132;01m}\u001b[39;00m\u001b[38;5;124m'\u001b[39m)\n",
      "\u001b[1;31mNameError\u001b[0m: name 'radar_features' is not defined"
     ]
    }
   ],
   "source": [
    "import torch\n",
    "def combine_features(feature_columns):\n",
    "    combined_cycles = []\n",
    "\n",
    "    for cycle_data in zip(*feature_columns):\n",
    "        combined_cycles = torch.stack(cycle_data, dim=-1)\n",
    "        combined_cycles.append(combined_cycles)\n",
    "    \n",
    "    return(combined_cycles)\n",
    "\n",
    "x_combined = combine_features(radar_features)\n",
    "\n",
    "print(f'first combined cycle shape:{x_combined[0].shape}')\n"
   ]
  },
  {
   "cell_type": "code",
   "execution_count": 16,
   "id": "c7a9d933",
   "metadata": {},
   "outputs": [
    {
     "ename": "NameError",
     "evalue": "name 'radar_features' is not defined",
     "output_type": "error",
     "traceback": [
      "\u001b[1;31m---------------------------------------------------------------------------\u001b[0m",
      "\u001b[1;31mNameError\u001b[0m                                 Traceback (most recent call last)",
      "Cell \u001b[1;32mIn[16], line 1\u001b[0m\n\u001b[1;32m----> 1\u001b[0m \u001b[38;5;28;01mfor\u001b[39;00m i, feature \u001b[38;5;129;01min\u001b[39;00m \u001b[38;5;28menumerate\u001b[39m(\u001b[43mradar_features\u001b[49m):\n\u001b[0;32m      2\u001b[0m     \u001b[38;5;28mprint\u001b[39m(\u001b[38;5;124mf\u001b[39m\u001b[38;5;124m'\u001b[39m\u001b[38;5;124mfearture \u001b[39m\u001b[38;5;132;01m{\u001b[39;00mi\u001b[38;5;132;01m}\u001b[39;00m\u001b[38;5;124m type: \u001b[39m\u001b[38;5;132;01m{\u001b[39;00m\u001b[38;5;28mtype\u001b[39m(feature)\u001b[38;5;132;01m}\u001b[39;00m\u001b[38;5;124m'\u001b[39m)\n\u001b[0;32m      3\u001b[0m     \u001b[38;5;28mprint\u001b[39m(\u001b[38;5;124mf\u001b[39m\u001b[38;5;124m'\u001b[39m\u001b[38;5;124mfearture \u001b[39m\u001b[38;5;132;01m{\u001b[39;00mi\u001b[38;5;132;01m}\u001b[39;00m\u001b[38;5;124m sample: \u001b[39m\u001b[38;5;132;01m{\u001b[39;00mfeature[:\u001b[38;5;241m2\u001b[39m]\u001b[38;5;132;01m}\u001b[39;00m\u001b[38;5;124m'\u001b[39m)\n",
      "\u001b[1;31mNameError\u001b[0m: name 'radar_features' is not defined"
     ]
    }
   ],
   "source": [
    "for i, feature in enumerate(radar_features):\n",
    "    print(f'fearture {i} type: {type(feature)}')\n",
    "    print(f'fearture {i} sample: {feature[:2]}')"
   ]
  },
  {
   "cell_type": "code",
   "execution_count": 17,
   "id": "67313a83",
   "metadata": {},
   "outputs": [
    {
     "ename": "NameError",
     "evalue": "name 'radar_features' is not defined",
     "output_type": "error",
     "traceback": [
      "\u001b[1;31m---------------------------------------------------------------------------\u001b[0m",
      "\u001b[1;31mNameError\u001b[0m                                 Traceback (most recent call last)",
      "Cell \u001b[1;32mIn[17], line 1\u001b[0m\n\u001b[1;32m----> 1\u001b[0m \u001b[38;5;28;01mfor\u001b[39;00m i, feature \u001b[38;5;129;01min\u001b[39;00m \u001b[38;5;28menumerate\u001b[39m(\u001b[43mradar_features\u001b[49m):\n\u001b[0;32m      2\u001b[0m     \u001b[38;5;28mprint\u001b[39m(\u001b[38;5;124mf\u001b[39m\u001b[38;5;124m'\u001b[39m\u001b[38;5;124mfearture \u001b[39m\u001b[38;5;132;01m{\u001b[39;00mi\u001b[38;5;132;01m}\u001b[39;00m\u001b[38;5;124m: shape \u001b[39m\u001b[38;5;132;01m{\u001b[39;00mfeature\u001b[38;5;241m.\u001b[39mshape\u001b[38;5;132;01m}\u001b[39;00m\u001b[38;5;124m'\u001b[39m)\n",
      "\u001b[1;31mNameError\u001b[0m: name 'radar_features' is not defined"
     ]
    }
   ],
   "source": [
    "for i, feature in enumerate(radar_features):\n",
    "    print(f'fearture {i}: shape {feature.shape}')"
   ]
  },
  {
   "cell_type": "code",
   "execution_count": 18,
   "id": "5518968c",
   "metadata": {},
   "outputs": [
    {
     "ename": "NameError",
     "evalue": "name 'radar_features' is not defined",
     "output_type": "error",
     "traceback": [
      "\u001b[1;31m---------------------------------------------------------------------------\u001b[0m",
      "\u001b[1;31mNameError\u001b[0m                                 Traceback (most recent call last)",
      "Cell \u001b[1;32mIn[18], line 1\u001b[0m\n\u001b[1;32m----> 1\u001b[0m \u001b[38;5;28;01mfor\u001b[39;00m i, feature \u001b[38;5;129;01min\u001b[39;00m \u001b[38;5;28menumerate\u001b[39m(\u001b[43mradar_features\u001b[49m):\n\u001b[0;32m      2\u001b[0m     \u001b[38;5;28mprint\u001b[39m(\u001b[38;5;124mf\u001b[39m\u001b[38;5;124m'\u001b[39m\u001b[38;5;124mfeature \u001b[39m\u001b[38;5;132;01m{\u001b[39;00mi\u001b[38;5;132;01m}\u001b[39;00m\u001b[38;5;124m: type - \u001b[39m\u001b[38;5;132;01m{\u001b[39;00m\u001b[38;5;28mtype\u001b[39m(feature)\u001b[38;5;132;01m}\u001b[39;00m\u001b[38;5;124m, length - \u001b[39m\u001b[38;5;132;01m{\u001b[39;00m\u001b[38;5;28mlen\u001b[39m(feature)\u001b[38;5;250m \u001b[39m\u001b[38;5;28;01mif\u001b[39;00m\u001b[38;5;250m \u001b[39m\u001b[38;5;28misinstance\u001b[39m(feature,\u001b[38;5;250m \u001b[39m\u001b[38;5;28mlist\u001b[39m)\u001b[38;5;250m \u001b[39m\u001b[38;5;28;01melse\u001b[39;00m\u001b[38;5;250m \u001b[39m\u001b[38;5;124m'\u001b[39m\u001b[38;5;124mN/A\u001b[39m\u001b[38;5;124m'\u001b[39m\u001b[38;5;132;01m}\u001b[39;00m\u001b[38;5;124m'\u001b[39m)\n\u001b[0;32m      3\u001b[0m     \u001b[38;5;28;01mif\u001b[39;00m \u001b[38;5;28misinstance\u001b[39m(feature, \u001b[38;5;28mlist\u001b[39m):\n",
      "\u001b[1;31mNameError\u001b[0m: name 'radar_features' is not defined"
     ]
    }
   ],
   "source": [
    "for i, feature in enumerate(radar_features):\n",
    "    print(f'feature {i}: type - {type(feature)}, length - {len(feature) if isinstance(feature, list) else 'N/A'}')\n",
    "    if isinstance(feature, list):\n",
    "        print(f'sample cycle shape: {feature[0].shape}')"
   ]
  },
  {
   "cell_type": "code",
   "execution_count": null,
   "id": "edff79ad",
   "metadata": {},
   "outputs": [],
   "source": []
  }
 ],
 "metadata": {
  "kernelspec": {
   "display_name": ".venv",
   "language": "python",
   "name": "python3"
  },
  "language_info": {
   "codemirror_mode": {
    "name": "ipython",
    "version": 3
   },
   "file_extension": ".py",
   "mimetype": "text/x-python",
   "name": "python",
   "nbconvert_exporter": "python",
   "pygments_lexer": "ipython3",
   "version": "3.12.0"
  }
 },
 "nbformat": 4,
 "nbformat_minor": 5
}
