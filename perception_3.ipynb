{
 "cells": [
  {
   "cell_type": "code",
   "execution_count": 2,
   "metadata": {},
   "outputs": [
    {
     "name": "stdout",
     "output_type": "stream",
     "text": [
      "\n",
      "✅ Column Names in the Pickle File:\n",
      "['objectID', 'rcs', 'distance', 'radialVelocity', 'object_id', 'orientation', 'width_edge_mean', 'length_edge_mean', 'centroid_x', 'centroid_y', 'transformed_x', 'transformed_y', 'radialVelocityDomainMax', 'yaw_rate', 'ego_speed', 'is_valid_detection', 'angleAzimuth_sin', 'angleAzimuth_cos', 'angleElevation_sin', 'angleElevation_cos']\n"
     ]
    }
   ],
   "source": [
    "import pandas as pd\n",
    "\n",
    "# Path to your pickle file\n",
    "file_path = \"/home/q674749/workspace/thesis_work/rat25-15.4.1/perception/std_v_DataSet/combined_53.p\"\n",
    "\n",
    "# Load the pickle file\n",
    "df = pd.read_pickle(file_path)\n",
    "\n",
    "# Print only the column names\n",
    "print(\"\\n✅ Column Names in the Pickle File:\")\n",
    "print(df.columns.tolist())  # Converts to a list for better readability"
   ]
  },
  {
   "cell_type": "code",
   "execution_count": 1,
   "metadata": {},
   "outputs": [
    {
     "name": "stdout",
     "output_type": "stream",
     "text": [
      "\n",
      " [INFO] Collecting Data for Global Standardization...\n"
     ]
    },
    {
     "name": "stderr",
     "output_type": "stream",
     "text": [
      "Processing Files: 100%|██████████| 153/153 [02:25<00:00,  1.05it/s]\n"
     ]
    },
    {
     "name": "stdout",
     "output_type": "stream",
     "text": [
      "\n",
      " [INFO] Standardization Parameters Computed!\n",
      "\n",
      " [INFO] Standardizing and Transforming Data...\n"
     ]
    },
    {
     "name": "stderr",
     "output_type": "stream",
     "text": [
      "Standardizing Files:   1%|          | 1/153 [00:03<08:46,  3.46s/it]"
     ]
    },
    {
     "name": "stdout",
     "output_type": "stream",
     "text": [
      " [SAVED] Standardized File: /home/q674749/workspace/thesis_work/rat25-15.4.1/perception/std_v_DataSet/combined_194.p\n"
     ]
    },
    {
     "name": "stderr",
     "output_type": "stream",
     "text": [
      "Standardizing Files:   1%|▏         | 2/153 [00:06<08:45,  3.48s/it]"
     ]
    },
    {
     "name": "stdout",
     "output_type": "stream",
     "text": [
      " [SAVED] Standardized File: /home/q674749/workspace/thesis_work/rat25-15.4.1/perception/std_v_DataSet/combined_218.p\n"
     ]
    },
    {
     "name": "stderr",
     "output_type": "stream",
     "text": [
      "Standardizing Files:   2%|▏         | 3/153 [00:07<05:21,  2.14s/it]"
     ]
    },
    {
     "name": "stdout",
     "output_type": "stream",
     "text": [
      " [SAVED] Standardized File: /home/q674749/workspace/thesis_work/rat25-15.4.1/perception/std_v_DataSet/combined_62.p\n"
     ]
    },
    {
     "name": "stderr",
     "output_type": "stream",
     "text": [
      "Standardizing Files:   3%|▎         | 4/153 [00:13<08:55,  3.59s/it]"
     ]
    },
    {
     "name": "stdout",
     "output_type": "stream",
     "text": [
      " [SAVED] Standardized File: /home/q674749/workspace/thesis_work/rat25-15.4.1/perception/std_v_DataSet/combined_197.p\n"
     ]
    },
    {
     "name": "stderr",
     "output_type": "stream",
     "text": [
      "Standardizing Files:   3%|▎         | 5/153 [00:14<06:52,  2.79s/it]"
     ]
    },
    {
     "name": "stdout",
     "output_type": "stream",
     "text": [
      " [SAVED] Standardized File: /home/q674749/workspace/thesis_work/rat25-15.4.1/perception/std_v_DataSet/combined_157.p\n"
     ]
    },
    {
     "name": "stderr",
     "output_type": "stream",
     "text": [
      "Standardizing Files:   4%|▍         | 6/153 [00:17<07:07,  2.91s/it]"
     ]
    },
    {
     "name": "stdout",
     "output_type": "stream",
     "text": [
      " [SAVED] Standardized File: /home/q674749/workspace/thesis_work/rat25-15.4.1/perception/std_v_DataSet/combined_141.p\n"
     ]
    },
    {
     "name": "stderr",
     "output_type": "stream",
     "text": [
      "Standardizing Files:   5%|▍         | 7/153 [00:19<05:49,  2.40s/it]"
     ]
    },
    {
     "name": "stdout",
     "output_type": "stream",
     "text": [
      " [SAVED] Standardized File: /home/q674749/workspace/thesis_work/rat25-15.4.1/perception/std_v_DataSet/combined_148.p\n"
     ]
    },
    {
     "name": "stderr",
     "output_type": "stream",
     "text": [
      "Standardizing Files:   5%|▌         | 8/153 [00:19<04:20,  1.80s/it]"
     ]
    },
    {
     "name": "stdout",
     "output_type": "stream",
     "text": [
      " [SAVED] Standardized File: /home/q674749/workspace/thesis_work/rat25-15.4.1/perception/std_v_DataSet/combined_80.p\n"
     ]
    },
    {
     "name": "stderr",
     "output_type": "stream",
     "text": [
      "Standardizing Files:   6%|▌         | 9/153 [00:20<03:20,  1.39s/it]"
     ]
    },
    {
     "name": "stdout",
     "output_type": "stream",
     "text": [
      " [SAVED] Standardized File: /home/q674749/workspace/thesis_work/rat25-15.4.1/perception/std_v_DataSet/combined_55.p\n"
     ]
    },
    {
     "name": "stderr",
     "output_type": "stream",
     "text": [
      "Standardizing Files:   7%|▋         | 10/153 [00:23<04:45,  2.00s/it]"
     ]
    },
    {
     "name": "stdout",
     "output_type": "stream",
     "text": [
      " [SAVED] Standardized File: /home/q674749/workspace/thesis_work/rat25-15.4.1/perception/std_v_DataSet/combined_210.p\n"
     ]
    },
    {
     "name": "stderr",
     "output_type": "stream",
     "text": [
      "Standardizing Files:   7%|▋         | 11/153 [00:24<04:16,  1.81s/it]"
     ]
    },
    {
     "name": "stdout",
     "output_type": "stream",
     "text": [
      " [SAVED] Standardized File: /home/q674749/workspace/thesis_work/rat25-15.4.1/perception/std_v_DataSet/combined_165.p\n"
     ]
    },
    {
     "name": "stderr",
     "output_type": "stream",
     "text": [
      "Standardizing Files:   8%|▊         | 12/153 [00:30<06:50,  2.91s/it]"
     ]
    },
    {
     "name": "stdout",
     "output_type": "stream",
     "text": [
      " [SAVED] Standardized File: /home/q674749/workspace/thesis_work/rat25-15.4.1/perception/std_v_DataSet/combined_138.p\n"
     ]
    },
    {
     "name": "stderr",
     "output_type": "stream",
     "text": [
      "Standardizing Files:   8%|▊         | 13/153 [00:33<07:10,  3.08s/it]"
     ]
    },
    {
     "name": "stdout",
     "output_type": "stream",
     "text": [
      " [SAVED] Standardized File: /home/q674749/workspace/thesis_work/rat25-15.4.1/perception/std_v_DataSet/combined_227.p\n"
     ]
    },
    {
     "name": "stderr",
     "output_type": "stream",
     "text": [
      "Standardizing Files:   9%|▉         | 14/153 [00:37<07:13,  3.12s/it]"
     ]
    },
    {
     "name": "stdout",
     "output_type": "stream",
     "text": [
      " [SAVED] Standardized File: /home/q674749/workspace/thesis_work/rat25-15.4.1/perception/std_v_DataSet/combined_144.p\n"
     ]
    },
    {
     "name": "stderr",
     "output_type": "stream",
     "text": [
      "Standardizing Files:  10%|▉         | 15/153 [00:38<05:57,  2.59s/it]"
     ]
    },
    {
     "name": "stdout",
     "output_type": "stream",
     "text": [
      " [SAVED] Standardized File: /home/q674749/workspace/thesis_work/rat25-15.4.1/perception/std_v_DataSet/combined_170.p\n"
     ]
    },
    {
     "name": "stderr",
     "output_type": "stream",
     "text": [
      "Standardizing Files:  10%|█         | 16/153 [00:38<04:29,  1.97s/it]"
     ]
    },
    {
     "name": "stdout",
     "output_type": "stream",
     "text": [
      " [SAVED] Standardized File: /home/q674749/workspace/thesis_work/rat25-15.4.1/perception/std_v_DataSet/combined_69.p\n"
     ]
    },
    {
     "name": "stderr",
     "output_type": "stream",
     "text": [
      "Standardizing Files:  11%|█         | 17/153 [00:42<05:15,  2.32s/it]"
     ]
    },
    {
     "name": "stdout",
     "output_type": "stream",
     "text": [
      " [SAVED] Standardized File: /home/q674749/workspace/thesis_work/rat25-15.4.1/perception/std_v_DataSet/combined_134.p\n"
     ]
    },
    {
     "name": "stderr",
     "output_type": "stream",
     "text": [
      "Standardizing Files:  12%|█▏        | 18/153 [00:47<07:38,  3.39s/it]"
     ]
    },
    {
     "name": "stdout",
     "output_type": "stream",
     "text": [
      " [SAVED] Standardized File: /home/q674749/workspace/thesis_work/rat25-15.4.1/perception/std_v_DataSet/combined_229.p\n"
     ]
    },
    {
     "name": "stderr",
     "output_type": "stream",
     "text": [
      "Standardizing Files:  12%|█▏        | 19/153 [00:49<06:12,  2.78s/it]"
     ]
    },
    {
     "name": "stdout",
     "output_type": "stream",
     "text": [
      " [SAVED] Standardized File: /home/q674749/workspace/thesis_work/rat25-15.4.1/perception/std_v_DataSet/combined_172.p\n"
     ]
    },
    {
     "name": "stderr",
     "output_type": "stream",
     "text": [
      "Standardizing Files:  13%|█▎        | 20/153 [00:50<05:11,  2.35s/it]"
     ]
    },
    {
     "name": "stdout",
     "output_type": "stream",
     "text": [
      " [SAVED] Standardized File: /home/q674749/workspace/thesis_work/rat25-15.4.1/perception/std_v_DataSet/combined_161.p\n"
     ]
    },
    {
     "name": "stderr",
     "output_type": "stream",
     "text": [
      "Standardizing Files:  14%|█▎        | 21/153 [00:53<05:41,  2.59s/it]"
     ]
    },
    {
     "name": "stdout",
     "output_type": "stream",
     "text": [
      " [SAVED] Standardized File: /home/q674749/workspace/thesis_work/rat25-15.4.1/perception/std_v_DataSet/combined_118.p\n"
     ]
    },
    {
     "name": "stderr",
     "output_type": "stream",
     "text": [
      "Standardizing Files:  14%|█▍        | 22/153 [00:56<06:03,  2.77s/it]"
     ]
    },
    {
     "name": "stdout",
     "output_type": "stream",
     "text": [
      " [SAVED] Standardized File: /home/q674749/workspace/thesis_work/rat25-15.4.1/perception/std_v_DataSet/combined_119.p\n"
     ]
    },
    {
     "name": "stderr",
     "output_type": "stream",
     "text": [
      "Standardizing Files:  15%|█▌        | 23/153 [01:00<06:26,  2.97s/it]"
     ]
    },
    {
     "name": "stdout",
     "output_type": "stream",
     "text": [
      " [SAVED] Standardized File: /home/q674749/workspace/thesis_work/rat25-15.4.1/perception/std_v_DataSet/combined_226.p\n"
     ]
    },
    {
     "name": "stderr",
     "output_type": "stream",
     "text": [
      "Standardizing Files:  16%|█▌        | 24/153 [01:06<08:12,  3.82s/it]"
     ]
    },
    {
     "name": "stdout",
     "output_type": "stream",
     "text": [
      " [SAVED] Standardized File: /home/q674749/workspace/thesis_work/rat25-15.4.1/perception/std_v_DataSet/combined_121.p\n"
     ]
    },
    {
     "name": "stderr",
     "output_type": "stream",
     "text": [
      "Standardizing Files:  16%|█▋        | 25/153 [01:06<06:02,  2.83s/it]"
     ]
    },
    {
     "name": "stdout",
     "output_type": "stream",
     "text": [
      " [SAVED] Standardized File: /home/q674749/workspace/thesis_work/rat25-15.4.1/perception/std_v_DataSet/combined_81.p\n"
     ]
    },
    {
     "name": "stderr",
     "output_type": "stream",
     "text": [
      "Standardizing Files:  17%|█▋        | 26/153 [01:10<06:20,  3.00s/it]"
     ]
    },
    {
     "name": "stdout",
     "output_type": "stream",
     "text": [
      " [SAVED] Standardized File: /home/q674749/workspace/thesis_work/rat25-15.4.1/perception/std_v_DataSet/combined_223.p\n"
     ]
    },
    {
     "name": "stderr",
     "output_type": "stream",
     "text": [
      "Standardizing Files:  18%|█▊        | 27/153 [01:13<06:26,  3.07s/it]"
     ]
    },
    {
     "name": "stdout",
     "output_type": "stream",
     "text": [
      " [SAVED] Standardized File: /home/q674749/workspace/thesis_work/rat25-15.4.1/perception/std_v_DataSet/combined_120.p\n"
     ]
    },
    {
     "name": "stderr",
     "output_type": "stream",
     "text": [
      "Standardizing Files:  18%|█▊        | 28/153 [01:16<06:37,  3.18s/it]"
     ]
    },
    {
     "name": "stdout",
     "output_type": "stream",
     "text": [
      " [SAVED] Standardized File: /home/q674749/workspace/thesis_work/rat25-15.4.1/perception/std_v_DataSet/combined_212.p\n"
     ]
    },
    {
     "name": "stderr",
     "output_type": "stream",
     "text": [
      "Standardizing Files:  19%|█▉        | 29/153 [01:17<04:56,  2.39s/it]"
     ]
    },
    {
     "name": "stdout",
     "output_type": "stream",
     "text": [
      " [SAVED] Standardized File: /home/q674749/workspace/thesis_work/rat25-15.4.1/perception/std_v_DataSet/combined_76.p\n"
     ]
    },
    {
     "name": "stderr",
     "output_type": "stream",
     "text": [
      "Standardizing Files:  20%|█▉        | 30/153 [01:18<04:14,  2.07s/it]"
     ]
    },
    {
     "name": "stdout",
     "output_type": "stream",
     "text": [
      " [SAVED] Standardized File: /home/q674749/workspace/thesis_work/rat25-15.4.1/perception/std_v_DataSet/combined_183.p\n"
     ]
    },
    {
     "name": "stderr",
     "output_type": "stream",
     "text": [
      "Standardizing Files:  20%|██        | 31/153 [01:24<06:31,  3.21s/it]"
     ]
    },
    {
     "name": "stdout",
     "output_type": "stream",
     "text": [
      " [SAVED] Standardized File: /home/q674749/workspace/thesis_work/rat25-15.4.1/perception/std_v_DataSet/combined_207.p\n"
     ]
    },
    {
     "name": "stderr",
     "output_type": "stream",
     "text": [
      "Standardizing Files:  21%|██        | 32/153 [01:25<04:52,  2.41s/it]"
     ]
    },
    {
     "name": "stdout",
     "output_type": "stream",
     "text": [
      " [SAVED] Standardized File: /home/q674749/workspace/thesis_work/rat25-15.4.1/perception/std_v_DataSet/combined_64.p\n"
     ]
    },
    {
     "name": "stderr",
     "output_type": "stream",
     "text": [
      "Standardizing Files:  22%|██▏       | 33/153 [01:26<04:09,  2.08s/it]"
     ]
    },
    {
     "name": "stdout",
     "output_type": "stream",
     "text": [
      " [SAVED] Standardized File: /home/q674749/workspace/thesis_work/rat25-15.4.1/perception/std_v_DataSet/combined_166.p\n"
     ]
    },
    {
     "name": "stderr",
     "output_type": "stream",
     "text": [
      "Standardizing Files:  22%|██▏       | 34/153 [01:27<03:40,  1.86s/it]"
     ]
    },
    {
     "name": "stdout",
     "output_type": "stream",
     "text": [
      " [SAVED] Standardized File: /home/q674749/workspace/thesis_work/rat25-15.4.1/perception/std_v_DataSet/combined_176.p\n"
     ]
    },
    {
     "name": "stderr",
     "output_type": "stream",
     "text": [
      "Standardizing Files:  23%|██▎       | 35/153 [01:31<04:33,  2.32s/it]"
     ]
    },
    {
     "name": "stdout",
     "output_type": "stream",
     "text": [
      " [SAVED] Standardized File: /home/q674749/workspace/thesis_work/rat25-15.4.1/perception/std_v_DataSet/combined_208.p\n"
     ]
    },
    {
     "name": "stderr",
     "output_type": "stream",
     "text": [
      "Standardizing Files:  24%|██▎       | 36/153 [01:31<03:29,  1.79s/it]"
     ]
    },
    {
     "name": "stdout",
     "output_type": "stream",
     "text": [
      " [SAVED] Standardized File: /home/q674749/workspace/thesis_work/rat25-15.4.1/perception/std_v_DataSet/combined_56.p\n"
     ]
    },
    {
     "name": "stderr",
     "output_type": "stream",
     "text": [
      "Standardizing Files:  24%|██▍       | 37/153 [01:35<04:22,  2.26s/it]"
     ]
    },
    {
     "name": "stdout",
     "output_type": "stream",
     "text": [
      " [SAVED] Standardized File: /home/q674749/workspace/thesis_work/rat25-15.4.1/perception/std_v_DataSet/combined_195.p\n"
     ]
    },
    {
     "name": "stderr",
     "output_type": "stream",
     "text": [
      "Standardizing Files:  25%|██▍       | 38/153 [01:36<03:49,  1.99s/it]"
     ]
    },
    {
     "name": "stdout",
     "output_type": "stream",
     "text": [
      " [SAVED] Standardized File: /home/q674749/workspace/thesis_work/rat25-15.4.1/perception/std_v_DataSet/combined_156.p\n"
     ]
    },
    {
     "name": "stderr",
     "output_type": "stream",
     "text": [
      "Standardizing Files:  25%|██▌       | 39/153 [01:37<03:24,  1.79s/it]"
     ]
    },
    {
     "name": "stdout",
     "output_type": "stream",
     "text": [
      " [SAVED] Standardized File: /home/q674749/workspace/thesis_work/rat25-15.4.1/perception/std_v_DataSet/combined_153.p\n"
     ]
    },
    {
     "name": "stderr",
     "output_type": "stream",
     "text": [
      "Standardizing Files:  26%|██▌       | 40/153 [01:43<05:41,  3.02s/it]"
     ]
    },
    {
     "name": "stdout",
     "output_type": "stream",
     "text": [
      " [SAVED] Standardized File: /home/q674749/workspace/thesis_work/rat25-15.4.1/perception/std_v_DataSet/combined_184.p\n"
     ]
    },
    {
     "name": "stderr",
     "output_type": "stream",
     "text": [
      "Standardizing Files:  27%|██▋       | 41/153 [01:47<05:52,  3.15s/it]"
     ]
    },
    {
     "name": "stdout",
     "output_type": "stream",
     "text": [
      " [SAVED] Standardized File: /home/q674749/workspace/thesis_work/rat25-15.4.1/perception/std_v_DataSet/combined_231.p\n"
     ]
    },
    {
     "name": "stderr",
     "output_type": "stream",
     "text": [
      "Standardizing Files:  27%|██▋       | 42/153 [01:50<05:59,  3.24s/it]"
     ]
    },
    {
     "name": "stdout",
     "output_type": "stream",
     "text": [
      " [SAVED] Standardized File: /home/q674749/workspace/thesis_work/rat25-15.4.1/perception/std_v_DataSet/combined_230.p\n"
     ]
    },
    {
     "name": "stderr",
     "output_type": "stream",
     "text": [
      "Standardizing Files:  28%|██▊       | 43/153 [01:51<04:54,  2.68s/it]"
     ]
    },
    {
     "name": "stdout",
     "output_type": "stream",
     "text": [
      " [SAVED] Standardized File: /home/q674749/workspace/thesis_work/rat25-15.4.1/perception/std_v_DataSet/combined_154.p\n"
     ]
    },
    {
     "name": "stderr",
     "output_type": "stream",
     "text": [
      "Standardizing Files:  29%|██▉       | 44/153 [01:53<04:07,  2.27s/it]"
     ]
    },
    {
     "name": "stdout",
     "output_type": "stream",
     "text": [
      " [SAVED] Standardized File: /home/q674749/workspace/thesis_work/rat25-15.4.1/perception/std_v_DataSet/combined_155.p\n"
     ]
    },
    {
     "name": "stderr",
     "output_type": "stream",
     "text": [
      "Standardizing Files:  29%|██▉       | 45/153 [01:58<05:53,  3.27s/it]"
     ]
    },
    {
     "name": "stdout",
     "output_type": "stream",
     "text": [
      " [SAVED] Standardized File: /home/q674749/workspace/thesis_work/rat25-15.4.1/perception/std_v_DataSet/combined_140.p\n"
     ]
    },
    {
     "name": "stderr",
     "output_type": "stream",
     "text": [
      "Standardizing Files:  30%|███       | 46/153 [01:59<04:22,  2.46s/it]"
     ]
    },
    {
     "name": "stdout",
     "output_type": "stream",
     "text": [
      " [SAVED] Standardized File: /home/q674749/workspace/thesis_work/rat25-15.4.1/perception/std_v_DataSet/combined_54.p\n"
     ]
    },
    {
     "name": "stderr",
     "output_type": "stream",
     "text": [
      "Standardizing Files:  31%|███       | 47/153 [02:00<03:44,  2.12s/it]"
     ]
    },
    {
     "name": "stdout",
     "output_type": "stream",
     "text": [
      " [SAVED] Standardized File: /home/q674749/workspace/thesis_work/rat25-15.4.1/perception/std_v_DataSet/combined_174.p\n"
     ]
    },
    {
     "name": "stderr",
     "output_type": "stream",
     "text": [
      "Standardizing Files:  31%|███▏      | 48/153 [02:02<03:16,  1.88s/it]"
     ]
    },
    {
     "name": "stdout",
     "output_type": "stream",
     "text": [
      " [SAVED] Standardized File: /home/q674749/workspace/thesis_work/rat25-15.4.1/perception/std_v_DataSet/combined_179.p\n"
     ]
    },
    {
     "name": "stderr",
     "output_type": "stream",
     "text": [
      "Standardizing Files:  32%|███▏      | 49/153 [02:05<03:54,  2.25s/it]"
     ]
    },
    {
     "name": "stdout",
     "output_type": "stream",
     "text": [
      " [SAVED] Standardized File: /home/q674749/workspace/thesis_work/rat25-15.4.1/perception/std_v_DataSet/combined_116.p\n"
     ]
    },
    {
     "name": "stderr",
     "output_type": "stream",
     "text": [
      "Standardizing Files:  33%|███▎      | 50/153 [02:06<03:24,  1.98s/it]"
     ]
    },
    {
     "name": "stdout",
     "output_type": "stream",
     "text": [
      " [SAVED] Standardized File: /home/q674749/workspace/thesis_work/rat25-15.4.1/perception/std_v_DataSet/combined_173.p\n"
     ]
    },
    {
     "name": "stderr",
     "output_type": "stream",
     "text": [
      "Standardizing Files:  33%|███▎      | 51/153 [02:09<03:58,  2.34s/it]"
     ]
    },
    {
     "name": "stdout",
     "output_type": "stream",
     "text": [
      " [SAVED] Standardized File: /home/q674749/workspace/thesis_work/rat25-15.4.1/perception/std_v_DataSet/combined_111.p\n"
     ]
    },
    {
     "name": "stderr",
     "output_type": "stream",
     "text": [
      "Standardizing Files:  34%|███▍      | 52/153 [02:10<03:01,  1.80s/it]"
     ]
    },
    {
     "name": "stdout",
     "output_type": "stream",
     "text": [
      " [SAVED] Standardized File: /home/q674749/workspace/thesis_work/rat25-15.4.1/perception/std_v_DataSet/combined_58.p\n"
     ]
    },
    {
     "name": "stderr",
     "output_type": "stream",
     "text": [
      "Standardizing Files:  35%|███▍      | 53/153 [02:16<05:03,  3.04s/it]"
     ]
    },
    {
     "name": "stdout",
     "output_type": "stream",
     "text": [
      " [SAVED] Standardized File: /home/q674749/workspace/thesis_work/rat25-15.4.1/perception/std_v_DataSet/combined_202.p\n"
     ]
    },
    {
     "name": "stderr",
     "output_type": "stream",
     "text": [
      "Standardizing Files:  35%|███▌      | 54/153 [02:16<03:46,  2.29s/it]"
     ]
    },
    {
     "name": "stdout",
     "output_type": "stream",
     "text": [
      " [SAVED] Standardized File: /home/q674749/workspace/thesis_work/rat25-15.4.1/perception/std_v_DataSet/combined_74.p\n"
     ]
    },
    {
     "name": "stderr",
     "output_type": "stream",
     "text": [
      "Standardizing Files:  36%|███▌      | 55/153 [02:19<04:08,  2.54s/it]"
     ]
    },
    {
     "name": "stdout",
     "output_type": "stream",
     "text": [
      " [SAVED] Standardized File: /home/q674749/workspace/thesis_work/rat25-15.4.1/perception/std_v_DataSet/combined_124.p\n"
     ]
    },
    {
     "name": "stderr",
     "output_type": "stream",
     "text": [
      "Standardizing Files:  37%|███▋      | 56/153 [02:21<03:31,  2.18s/it]"
     ]
    },
    {
     "name": "stdout",
     "output_type": "stream",
     "text": [
      " [SAVED] Standardized File: /home/q674749/workspace/thesis_work/rat25-15.4.1/perception/std_v_DataSet/combined_151.p\n"
     ]
    },
    {
     "name": "stderr",
     "output_type": "stream",
     "text": [
      "Standardizing Files:  37%|███▋      | 57/153 [02:24<03:57,  2.48s/it]"
     ]
    },
    {
     "name": "stdout",
     "output_type": "stream",
     "text": [
      " [SAVED] Standardized File: /home/q674749/workspace/thesis_work/rat25-15.4.1/perception/std_v_DataSet/combined_113.p\n"
     ]
    },
    {
     "name": "stderr",
     "output_type": "stream",
     "text": [
      "Standardizing Files:  38%|███▊      | 58/153 [02:27<04:15,  2.69s/it]"
     ]
    },
    {
     "name": "stdout",
     "output_type": "stream",
     "text": [
      " [SAVED] Standardized File: /home/q674749/workspace/thesis_work/rat25-15.4.1/perception/std_v_DataSet/combined_136.p\n"
     ]
    },
    {
     "name": "stderr",
     "output_type": "stream",
     "text": [
      "Standardizing Files:  39%|███▊      | 59/153 [02:28<03:12,  2.05s/it]"
     ]
    },
    {
     "name": "stdout",
     "output_type": "stream",
     "text": [
      " [SAVED] Standardized File: /home/q674749/workspace/thesis_work/rat25-15.4.1/perception/std_v_DataSet/combined_70.p\n"
     ]
    },
    {
     "name": "stderr",
     "output_type": "stream",
     "text": [
      "Standardizing Files:  39%|███▉      | 60/153 [02:28<02:27,  1.58s/it]"
     ]
    },
    {
     "name": "stdout",
     "output_type": "stream",
     "text": [
      " [SAVED] Standardized File: /home/q674749/workspace/thesis_work/rat25-15.4.1/perception/std_v_DataSet/combined_82.p\n"
     ]
    },
    {
     "name": "stderr",
     "output_type": "stream",
     "text": [
      "Standardizing Files:  40%|███▉      | 61/153 [02:29<01:55,  1.26s/it]"
     ]
    },
    {
     "name": "stdout",
     "output_type": "stream",
     "text": [
      " [SAVED] Standardized File: /home/q674749/workspace/thesis_work/rat25-15.4.1/perception/std_v_DataSet/combined_65.p\n"
     ]
    },
    {
     "name": "stderr",
     "output_type": "stream",
     "text": [
      "Standardizing Files:  41%|████      | 62/153 [02:31<02:39,  1.76s/it]"
     ]
    },
    {
     "name": "stdout",
     "output_type": "stream",
     "text": [
      " [SAVED] Standardized File: /home/q674749/workspace/thesis_work/rat25-15.4.1/perception/std_v_DataSet/combined_75.p\n"
     ]
    },
    {
     "name": "stderr",
     "output_type": "stream",
     "text": [
      "Standardizing Files:  41%|████      | 63/153 [02:35<03:15,  2.17s/it]"
     ]
    },
    {
     "name": "stdout",
     "output_type": "stream",
     "text": [
      " [SAVED] Standardized File: /home/q674749/workspace/thesis_work/rat25-15.4.1/perception/std_v_DataSet/combined_115.p\n"
     ]
    },
    {
     "name": "stderr",
     "output_type": "stream",
     "text": [
      "Standardizing Files:  42%|████▏     | 64/153 [02:35<02:29,  1.68s/it]"
     ]
    },
    {
     "name": "stdout",
     "output_type": "stream",
     "text": [
      " [SAVED] Standardized File: /home/q674749/workspace/thesis_work/rat25-15.4.1/perception/std_v_DataSet/combined_57.p\n"
     ]
    },
    {
     "name": "stderr",
     "output_type": "stream",
     "text": [
      "Standardizing Files:  42%|████▏     | 65/153 [02:36<01:56,  1.33s/it]"
     ]
    },
    {
     "name": "stdout",
     "output_type": "stream",
     "text": [
      " [SAVED] Standardized File: /home/q674749/workspace/thesis_work/rat25-15.4.1/perception/std_v_DataSet/combined_60.p\n"
     ]
    },
    {
     "name": "stderr",
     "output_type": "stream",
     "text": [
      "Standardizing Files:  43%|████▎     | 66/153 [02:37<01:54,  1.32s/it]"
     ]
    },
    {
     "name": "stdout",
     "output_type": "stream",
     "text": [
      " [SAVED] Standardized File: /home/q674749/workspace/thesis_work/rat25-15.4.1/perception/std_v_DataSet/combined_159.p\n"
     ]
    },
    {
     "name": "stderr",
     "output_type": "stream",
     "text": [
      "Standardizing Files:  44%|████▍     | 67/153 [02:40<02:47,  1.95s/it]"
     ]
    },
    {
     "name": "stdout",
     "output_type": "stream",
     "text": [
      " [SAVED] Standardized File: /home/q674749/workspace/thesis_work/rat25-15.4.1/perception/std_v_DataSet/combined_204.p\n"
     ]
    },
    {
     "name": "stderr",
     "output_type": "stream",
     "text": [
      "Standardizing Files:  44%|████▍     | 68/153 [02:41<02:10,  1.53s/it]"
     ]
    },
    {
     "name": "stdout",
     "output_type": "stream",
     "text": [
      " [SAVED] Standardized File: /home/q674749/workspace/thesis_work/rat25-15.4.1/perception/std_v_DataSet/combined_61.p\n"
     ]
    },
    {
     "name": "stderr",
     "output_type": "stream",
     "text": [
      "Standardizing Files:  45%|████▌     | 69/153 [02:44<02:48,  2.01s/it]"
     ]
    },
    {
     "name": "stdout",
     "output_type": "stream",
     "text": [
      " [SAVED] Standardized File: /home/q674749/workspace/thesis_work/rat25-15.4.1/perception/std_v_DataSet/combined_130.p\n"
     ]
    },
    {
     "name": "stderr",
     "output_type": "stream",
     "text": [
      "Standardizing Files:  46%|████▌     | 70/153 [02:47<03:08,  2.28s/it]"
     ]
    },
    {
     "name": "stdout",
     "output_type": "stream",
     "text": [
      " [SAVED] Standardized File: /home/q674749/workspace/thesis_work/rat25-15.4.1/perception/std_v_DataSet/combined_59.p\n"
     ]
    },
    {
     "name": "stderr",
     "output_type": "stream",
     "text": [
      "Standardizing Files:  46%|████▋     | 71/153 [02:50<03:27,  2.53s/it]"
     ]
    },
    {
     "name": "stdout",
     "output_type": "stream",
     "text": [
      " [SAVED] Standardized File: /home/q674749/workspace/thesis_work/rat25-15.4.1/perception/std_v_DataSet/combined_126.p\n"
     ]
    },
    {
     "name": "stderr",
     "output_type": "stream",
     "text": [
      "Standardizing Files:  47%|████▋     | 72/153 [02:51<02:55,  2.17s/it]"
     ]
    },
    {
     "name": "stdout",
     "output_type": "stream",
     "text": [
      " [SAVED] Standardized File: /home/q674749/workspace/thesis_work/rat25-15.4.1/perception/std_v_DataSet/combined_175.p\n"
     ]
    },
    {
     "name": "stderr",
     "output_type": "stream",
     "text": [
      "Standardizing Files:  48%|████▊     | 73/153 [02:53<02:33,  1.92s/it]"
     ]
    },
    {
     "name": "stdout",
     "output_type": "stream",
     "text": [
      " [SAVED] Standardized File: /home/q674749/workspace/thesis_work/rat25-15.4.1/perception/std_v_DataSet/combined_163.p\n"
     ]
    },
    {
     "name": "stderr",
     "output_type": "stream",
     "text": [
      "Standardizing Files:  48%|████▊     | 74/153 [02:53<01:58,  1.50s/it]"
     ]
    },
    {
     "name": "stdout",
     "output_type": "stream",
     "text": [
      " [SAVED] Standardized File: /home/q674749/workspace/thesis_work/rat25-15.4.1/perception/std_v_DataSet/combined_63.p\n"
     ]
    },
    {
     "name": "stderr",
     "output_type": "stream",
     "text": [
      "Standardizing Files:  49%|████▉     | 75/153 [02:57<02:40,  2.06s/it]"
     ]
    },
    {
     "name": "stdout",
     "output_type": "stream",
     "text": [
      " [SAVED] Standardized File: /home/q674749/workspace/thesis_work/rat25-15.4.1/perception/std_v_DataSet/combined_209.p\n"
     ]
    },
    {
     "name": "stderr",
     "output_type": "stream",
     "text": [
      "Standardizing Files:  50%|████▉     | 76/153 [03:00<03:10,  2.48s/it]"
     ]
    },
    {
     "name": "stdout",
     "output_type": "stream",
     "text": [
      " [SAVED] Standardized File: /home/q674749/workspace/thesis_work/rat25-15.4.1/perception/std_v_DataSet/combined_225.p\n"
     ]
    },
    {
     "name": "stderr",
     "output_type": "stream",
     "text": [
      "Standardizing Files:  50%|█████     | 77/153 [03:06<04:23,  3.47s/it]"
     ]
    },
    {
     "name": "stdout",
     "output_type": "stream",
     "text": [
      " [SAVED] Standardized File: /home/q674749/workspace/thesis_work/rat25-15.4.1/perception/std_v_DataSet/combined_128.p\n"
     ]
    },
    {
     "name": "stderr",
     "output_type": "stream",
     "text": [
      "Standardizing Files:  51%|█████     | 78/153 [03:09<04:19,  3.46s/it]"
     ]
    },
    {
     "name": "stdout",
     "output_type": "stream",
     "text": [
      " [SAVED] Standardized File: /home/q674749/workspace/thesis_work/rat25-15.4.1/perception/std_v_DataSet/combined_228.p\n"
     ]
    },
    {
     "name": "stderr",
     "output_type": "stream",
     "text": [
      "Standardizing Files:  52%|█████▏    | 79/153 [03:13<04:10,  3.39s/it]"
     ]
    },
    {
     "name": "stdout",
     "output_type": "stream",
     "text": [
      " [SAVED] Standardized File: /home/q674749/workspace/thesis_work/rat25-15.4.1/perception/std_v_DataSet/combined_131.p\n"
     ]
    },
    {
     "name": "stderr",
     "output_type": "stream",
     "text": [
      "Standardizing Files:  52%|█████▏    | 80/153 [03:16<04:03,  3.33s/it]"
     ]
    },
    {
     "name": "stdout",
     "output_type": "stream",
     "text": [
      " [SAVED] Standardized File: /home/q674749/workspace/thesis_work/rat25-15.4.1/perception/std_v_DataSet/combined_123.p\n"
     ]
    },
    {
     "name": "stderr",
     "output_type": "stream",
     "text": [
      "Standardizing Files:  53%|█████▎    | 81/153 [03:22<04:56,  4.12s/it]"
     ]
    },
    {
     "name": "stdout",
     "output_type": "stream",
     "text": [
      " [SAVED] Standardized File: /home/q674749/workspace/thesis_work/rat25-15.4.1/perception/std_v_DataSet/combined_188.p\n"
     ]
    },
    {
     "name": "stderr",
     "output_type": "stream",
     "text": [
      "Standardizing Files:  54%|█████▎    | 82/153 [03:25<04:38,  3.92s/it]"
     ]
    },
    {
     "name": "stdout",
     "output_type": "stream",
     "text": [
      " [SAVED] Standardized File: /home/q674749/workspace/thesis_work/rat25-15.4.1/perception/std_v_DataSet/combined_222.p\n"
     ]
    },
    {
     "name": "stderr",
     "output_type": "stream",
     "text": [
      "Standardizing Files:  54%|█████▍    | 83/153 [03:29<04:24,  3.77s/it]"
     ]
    },
    {
     "name": "stdout",
     "output_type": "stream",
     "text": [
      " [SAVED] Standardized File: /home/q674749/workspace/thesis_work/rat25-15.4.1/perception/std_v_DataSet/combined_206.p\n"
     ]
    },
    {
     "name": "stderr",
     "output_type": "stream",
     "text": [
      "Standardizing Files:  55%|█████▍    | 84/153 [03:29<03:13,  2.81s/it]"
     ]
    },
    {
     "name": "stdout",
     "output_type": "stream",
     "text": [
      " [SAVED] Standardized File: /home/q674749/workspace/thesis_work/rat25-15.4.1/perception/std_v_DataSet/combined_66.p\n"
     ]
    },
    {
     "name": "stderr",
     "output_type": "stream",
     "text": [
      "Standardizing Files:  56%|█████▌    | 85/153 [03:30<02:40,  2.36s/it]"
     ]
    },
    {
     "name": "stdout",
     "output_type": "stream",
     "text": [
      " [SAVED] Standardized File: /home/q674749/workspace/thesis_work/rat25-15.4.1/perception/std_v_DataSet/combined_149.p\n"
     ]
    },
    {
     "name": "stderr",
     "output_type": "stream",
     "text": [
      "Standardizing Files:  56%|█████▌    | 86/153 [03:34<02:53,  2.60s/it]"
     ]
    },
    {
     "name": "stdout",
     "output_type": "stream",
     "text": [
      " [SAVED] Standardized File: /home/q674749/workspace/thesis_work/rat25-15.4.1/perception/std_v_DataSet/combined_146.p\n"
     ]
    },
    {
     "name": "stderr",
     "output_type": "stream",
     "text": [
      "Standardizing Files:  57%|█████▋    | 87/153 [03:39<03:56,  3.58s/it]"
     ]
    },
    {
     "name": "stdout",
     "output_type": "stream",
     "text": [
      " [SAVED] Standardized File: /home/q674749/workspace/thesis_work/rat25-15.4.1/perception/std_v_DataSet/combined_220.p\n"
     ]
    },
    {
     "name": "stderr",
     "output_type": "stream",
     "text": [
      "Standardizing Files:  58%|█████▊    | 88/153 [03:40<02:53,  2.67s/it]"
     ]
    },
    {
     "name": "stdout",
     "output_type": "stream",
     "text": [
      " [SAVED] Standardized File: /home/q674749/workspace/thesis_work/rat25-15.4.1/perception/std_v_DataSet/combined_77.p\n"
     ]
    },
    {
     "name": "stderr",
     "output_type": "stream",
     "text": [
      "Standardizing Files:  58%|█████▊    | 89/153 [03:43<03:04,  2.88s/it]"
     ]
    },
    {
     "name": "stdout",
     "output_type": "stream",
     "text": [
      " [SAVED] Standardized File: /home/q674749/workspace/thesis_work/rat25-15.4.1/perception/std_v_DataSet/combined_193.p\n"
     ]
    },
    {
     "name": "stderr",
     "output_type": "stream",
     "text": [
      "Standardizing Files:  59%|█████▉    | 90/153 [03:45<02:32,  2.42s/it]"
     ]
    },
    {
     "name": "stdout",
     "output_type": "stream",
     "text": [
      " [SAVED] Standardized File: /home/q674749/workspace/thesis_work/rat25-15.4.1/perception/std_v_DataSet/combined_178.p\n"
     ]
    },
    {
     "name": "stderr",
     "output_type": "stream",
     "text": [
      "Standardizing Files:  59%|█████▉    | 91/153 [03:45<01:54,  1.85s/it]"
     ]
    },
    {
     "name": "stdout",
     "output_type": "stream",
     "text": [
      " [SAVED] Standardized File: /home/q674749/workspace/thesis_work/rat25-15.4.1/perception/std_v_DataSet/combined_84.p\n"
     ]
    },
    {
     "name": "stderr",
     "output_type": "stream",
     "text": [
      "Standardizing Files:  60%|██████    | 92/153 [03:46<01:28,  1.44s/it]"
     ]
    },
    {
     "name": "stdout",
     "output_type": "stream",
     "text": [
      " [SAVED] Standardized File: /home/q674749/workspace/thesis_work/rat25-15.4.1/perception/std_v_DataSet/combined_68.p\n"
     ]
    },
    {
     "name": "stderr",
     "output_type": "stream",
     "text": [
      "Standardizing Files:  61%|██████    | 93/153 [03:49<01:57,  1.95s/it]"
     ]
    },
    {
     "name": "stdout",
     "output_type": "stream",
     "text": [
      " [SAVED] Standardized File: /home/q674749/workspace/thesis_work/rat25-15.4.1/perception/std_v_DataSet/combined_139.p\n"
     ]
    },
    {
     "name": "stderr",
     "output_type": "stream",
     "text": [
      "Standardizing Files:  61%|██████▏   | 94/153 [03:52<02:17,  2.33s/it]"
     ]
    },
    {
     "name": "stdout",
     "output_type": "stream",
     "text": [
      " [SAVED] Standardized File: /home/q674749/workspace/thesis_work/rat25-15.4.1/perception/std_v_DataSet/combined_135.p\n"
     ]
    },
    {
     "name": "stderr",
     "output_type": "stream",
     "text": [
      "Standardizing Files:  62%|██████▏   | 95/153 [03:58<03:13,  3.34s/it]"
     ]
    },
    {
     "name": "stdout",
     "output_type": "stream",
     "text": [
      " [SAVED] Standardized File: /home/q674749/workspace/thesis_work/rat25-15.4.1/perception/std_v_DataSet/combined_129.p\n"
     ]
    },
    {
     "name": "stderr",
     "output_type": "stream",
     "text": [
      "Standardizing Files:  63%|██████▎   | 96/153 [03:59<02:36,  2.75s/it]"
     ]
    },
    {
     "name": "stdout",
     "output_type": "stream",
     "text": [
      " [SAVED] Standardized File: /home/q674749/workspace/thesis_work/rat25-15.4.1/perception/std_v_DataSet/combined_167.p\n"
     ]
    },
    {
     "name": "stderr",
     "output_type": "stream",
     "text": [
      "Standardizing Files:  63%|██████▎   | 97/153 [04:03<02:44,  2.94s/it]"
     ]
    },
    {
     "name": "stdout",
     "output_type": "stream",
     "text": [
      " [SAVED] Standardized File: /home/q674749/workspace/thesis_work/rat25-15.4.1/perception/std_v_DataSet/combined_205.p\n"
     ]
    },
    {
     "name": "stderr",
     "output_type": "stream",
     "text": [
      "Standardizing Files:  64%|██████▍   | 98/153 [04:06<02:45,  3.01s/it]"
     ]
    },
    {
     "name": "stdout",
     "output_type": "stream",
     "text": [
      " [SAVED] Standardized File: /home/q674749/workspace/thesis_work/rat25-15.4.1/perception/std_v_DataSet/combined_112.p\n"
     ]
    },
    {
     "name": "stderr",
     "output_type": "stream",
     "text": [
      "Standardizing Files:  65%|██████▍   | 99/153 [04:09<02:49,  3.14s/it]"
     ]
    },
    {
     "name": "stdout",
     "output_type": "stream",
     "text": [
      " [SAVED] Standardized File: /home/q674749/workspace/thesis_work/rat25-15.4.1/perception/std_v_DataSet/combined_214.p\n"
     ]
    },
    {
     "name": "stderr",
     "output_type": "stream",
     "text": [
      "Standardizing Files:  65%|██████▌   | 100/153 [04:15<03:27,  3.92s/it]"
     ]
    },
    {
     "name": "stdout",
     "output_type": "stream",
     "text": [
      " [SAVED] Standardized File: /home/q674749/workspace/thesis_work/rat25-15.4.1/perception/std_v_DataSet/combined_122.p\n"
     ]
    },
    {
     "name": "stderr",
     "output_type": "stream",
     "text": [
      "Standardizing Files:  66%|██████▌   | 101/153 [04:18<03:12,  3.71s/it]"
     ]
    },
    {
     "name": "stdout",
     "output_type": "stream",
     "text": [
      " [SAVED] Standardized File: /home/q674749/workspace/thesis_work/rat25-15.4.1/perception/std_v_DataSet/combined_132.p\n"
     ]
    },
    {
     "name": "stderr",
     "output_type": "stream",
     "text": [
      "Standardizing Files:  67%|██████▋   | 102/153 [04:19<02:20,  2.76s/it]"
     ]
    },
    {
     "name": "stdout",
     "output_type": "stream",
     "text": [
      " [SAVED] Standardized File: /home/q674749/workspace/thesis_work/rat25-15.4.1/perception/std_v_DataSet/combined_79.p\n"
     ]
    },
    {
     "name": "stderr",
     "output_type": "stream",
     "text": [
      "Standardizing Files:  67%|██████▋   | 103/153 [04:20<01:56,  2.32s/it]"
     ]
    },
    {
     "name": "stdout",
     "output_type": "stream",
     "text": [
      " [SAVED] Standardized File: /home/q674749/workspace/thesis_work/rat25-15.4.1/perception/std_v_DataSet/combined_150.p\n"
     ]
    },
    {
     "name": "stderr",
     "output_type": "stream",
     "text": [
      "Standardizing Files:  68%|██████▊   | 104/153 [04:23<02:05,  2.57s/it]"
     ]
    },
    {
     "name": "stdout",
     "output_type": "stream",
     "text": [
      " [SAVED] Standardized File: /home/q674749/workspace/thesis_work/rat25-15.4.1/perception/std_v_DataSet/combined_143.p\n"
     ]
    },
    {
     "name": "stderr",
     "output_type": "stream",
     "text": [
      "Standardizing Files:  69%|██████▊   | 105/153 [04:24<01:45,  2.20s/it]"
     ]
    },
    {
     "name": "stdout",
     "output_type": "stream",
     "text": [
      " [SAVED] Standardized File: /home/q674749/workspace/thesis_work/rat25-15.4.1/perception/std_v_DataSet/combined_168.p\n"
     ]
    },
    {
     "name": "stderr",
     "output_type": "stream",
     "text": [
      "Standardizing Files:  69%|██████▉   | 106/153 [04:28<02:00,  2.57s/it]"
     ]
    },
    {
     "name": "stdout",
     "output_type": "stream",
     "text": [
      " [SAVED] Standardized File: /home/q674749/workspace/thesis_work/rat25-15.4.1/perception/std_v_DataSet/combined_189.p\n"
     ]
    },
    {
     "name": "stderr",
     "output_type": "stream",
     "text": [
      "Standardizing Files:  70%|██████▉   | 107/153 [04:34<02:45,  3.59s/it]"
     ]
    },
    {
     "name": "stdout",
     "output_type": "stream",
     "text": [
      " [SAVED] Standardized File: /home/q674749/workspace/thesis_work/rat25-15.4.1/perception/std_v_DataSet/combined_221.p\n"
     ]
    },
    {
     "name": "stderr",
     "output_type": "stream",
     "text": [
      "Standardizing Files:  71%|███████   | 108/153 [04:35<02:11,  2.92s/it]"
     ]
    },
    {
     "name": "stdout",
     "output_type": "stream",
     "text": [
      " [SAVED] Standardized File: /home/q674749/workspace/thesis_work/rat25-15.4.1/perception/std_v_DataSet/combined_164.p\n"
     ]
    },
    {
     "name": "stderr",
     "output_type": "stream",
     "text": [
      "Standardizing Files:  71%|███████   | 109/153 [04:36<01:36,  2.20s/it]"
     ]
    },
    {
     "name": "stdout",
     "output_type": "stream",
     "text": [
      " [SAVED] Standardized File: /home/q674749/workspace/thesis_work/rat25-15.4.1/perception/std_v_DataSet/combined_71.p\n"
     ]
    },
    {
     "name": "stderr",
     "output_type": "stream",
     "text": [
      "Standardizing Files:  72%|███████▏  | 110/153 [04:36<01:12,  1.69s/it]"
     ]
    },
    {
     "name": "stdout",
     "output_type": "stream",
     "text": [
      " [SAVED] Standardized File: /home/q674749/workspace/thesis_work/rat25-15.4.1/perception/std_v_DataSet/combined_73.p\n"
     ]
    },
    {
     "name": "stderr",
     "output_type": "stream",
     "text": [
      "Standardizing Files:  73%|███████▎  | 111/153 [04:40<01:32,  2.19s/it]"
     ]
    },
    {
     "name": "stdout",
     "output_type": "stream",
     "text": [
      " [SAVED] Standardized File: /home/q674749/workspace/thesis_work/rat25-15.4.1/perception/std_v_DataSet/combined_187.p\n"
     ]
    },
    {
     "name": "stderr",
     "output_type": "stream",
     "text": [
      "Standardizing Files:  73%|███████▎  | 112/153 [04:41<01:19,  1.94s/it]"
     ]
    },
    {
     "name": "stdout",
     "output_type": "stream",
     "text": [
      " [SAVED] Standardized File: /home/q674749/workspace/thesis_work/rat25-15.4.1/perception/std_v_DataSet/combined_160.p\n"
     ]
    },
    {
     "name": "stderr",
     "output_type": "stream",
     "text": [
      "Standardizing Files:  74%|███████▍  | 113/153 [04:44<01:31,  2.30s/it]"
     ]
    },
    {
     "name": "stdout",
     "output_type": "stream",
     "text": [
      " [SAVED] Standardized File: /home/q674749/workspace/thesis_work/rat25-15.4.1/perception/std_v_DataSet/combined_117.p\n"
     ]
    },
    {
     "name": "stderr",
     "output_type": "stream",
     "text": [
      "Standardizing Files:  75%|███████▍  | 114/153 [04:47<01:40,  2.57s/it]"
     ]
    },
    {
     "name": "stdout",
     "output_type": "stream",
     "text": [
      " [SAVED] Standardized File: /home/q674749/workspace/thesis_work/rat25-15.4.1/perception/std_v_DataSet/combined_137.p\n"
     ]
    },
    {
     "name": "stderr",
     "output_type": "stream",
     "text": [
      "Standardizing Files:  75%|███████▌  | 115/153 [04:53<02:16,  3.59s/it]"
     ]
    },
    {
     "name": "stdout",
     "output_type": "stream",
     "text": [
      " [SAVED] Standardized File: /home/q674749/workspace/thesis_work/rat25-15.4.1/perception/std_v_DataSet/combined_191.p\n"
     ]
    },
    {
     "name": "stderr",
     "output_type": "stream",
     "text": [
      "Standardizing Files:  76%|███████▌  | 116/153 [04:57<02:11,  3.55s/it]"
     ]
    },
    {
     "name": "stdout",
     "output_type": "stream",
     "text": [
      " [SAVED] Standardized File: /home/q674749/workspace/thesis_work/rat25-15.4.1/perception/std_v_DataSet/combined_196.p\n"
     ]
    },
    {
     "name": "stderr",
     "output_type": "stream",
     "text": [
      "Standardizing Files:  76%|███████▋  | 117/153 [05:00<02:04,  3.45s/it]"
     ]
    },
    {
     "name": "stdout",
     "output_type": "stream",
     "text": [
      " [SAVED] Standardized File: /home/q674749/workspace/thesis_work/rat25-15.4.1/perception/std_v_DataSet/combined_114.p\n"
     ]
    },
    {
     "name": "stderr",
     "output_type": "stream",
     "text": [
      "Standardizing Files:  77%|███████▋  | 118/153 [05:03<02:00,  3.44s/it]"
     ]
    },
    {
     "name": "stdout",
     "output_type": "stream",
     "text": [
      " [SAVED] Standardized File: /home/q674749/workspace/thesis_work/rat25-15.4.1/perception/std_v_DataSet/combined_211.p\n"
     ]
    },
    {
     "name": "stderr",
     "output_type": "stream",
     "text": [
      "Standardizing Files:  78%|███████▊  | 119/153 [05:09<02:23,  4.21s/it]"
     ]
    },
    {
     "name": "stdout",
     "output_type": "stream",
     "text": [
      " [SAVED] Standardized File: /home/q674749/workspace/thesis_work/rat25-15.4.1/perception/std_v_DataSet/combined_201.p\n"
     ]
    },
    {
     "name": "stderr",
     "output_type": "stream",
     "text": [
      "Standardizing Files:  78%|███████▊  | 120/153 [05:13<02:11,  3.99s/it]"
     ]
    },
    {
     "name": "stdout",
     "output_type": "stream",
     "text": [
      " [SAVED] Standardized File: /home/q674749/workspace/thesis_work/rat25-15.4.1/perception/std_v_DataSet/combined_217.p\n"
     ]
    },
    {
     "name": "stderr",
     "output_type": "stream",
     "text": [
      "Standardizing Files:  79%|███████▉  | 121/153 [05:16<02:00,  3.75s/it]"
     ]
    },
    {
     "name": "stdout",
     "output_type": "stream",
     "text": [
      " [SAVED] Standardized File: /home/q674749/workspace/thesis_work/rat25-15.4.1/perception/std_v_DataSet/combined_133.p\n"
     ]
    },
    {
     "name": "stderr",
     "output_type": "stream",
     "text": [
      "Standardizing Files:  80%|███████▉  | 122/153 [05:17<01:33,  3.03s/it]"
     ]
    },
    {
     "name": "stdout",
     "output_type": "stream",
     "text": [
      " [SAVED] Standardized File: /home/q674749/workspace/thesis_work/rat25-15.4.1/perception/std_v_DataSet/combined_171.p\n"
     ]
    },
    {
     "name": "stderr",
     "output_type": "stream",
     "text": [
      "Standardizing Files:  80%|████████  | 123/153 [05:19<01:15,  2.52s/it]"
     ]
    },
    {
     "name": "stdout",
     "output_type": "stream",
     "text": [
      " [SAVED] Standardized File: /home/q674749/workspace/thesis_work/rat25-15.4.1/perception/std_v_DataSet/combined_169.p\n"
     ]
    },
    {
     "name": "stderr",
     "output_type": "stream",
     "text": [
      "Standardizing Files:  81%|████████  | 124/153 [05:22<01:18,  2.70s/it]"
     ]
    },
    {
     "name": "stdout",
     "output_type": "stream",
     "text": [
      " [SAVED] Standardized File: /home/q674749/workspace/thesis_work/rat25-15.4.1/perception/std_v_DataSet/combined_145.p\n"
     ]
    },
    {
     "name": "stderr",
     "output_type": "stream",
     "text": [
      "Standardizing Files:  82%|████████▏ | 125/153 [05:28<01:40,  3.61s/it]"
     ]
    },
    {
     "name": "stdout",
     "output_type": "stream",
     "text": [
      " [SAVED] Standardized File: /home/q674749/workspace/thesis_work/rat25-15.4.1/perception/std_v_DataSet/combined_147.p\n"
     ]
    },
    {
     "name": "stderr",
     "output_type": "stream",
     "text": [
      "Standardizing Files:  82%|████████▏ | 126/153 [05:31<01:36,  3.56s/it]"
     ]
    },
    {
     "name": "stdout",
     "output_type": "stream",
     "text": [
      " [SAVED] Standardized File: /home/q674749/workspace/thesis_work/rat25-15.4.1/perception/std_v_DataSet/combined_203.p\n"
     ]
    },
    {
     "name": "stderr",
     "output_type": "stream",
     "text": [
      "Standardizing Files:  83%|████████▎ | 127/153 [05:34<01:31,  3.53s/it]"
     ]
    },
    {
     "name": "stdout",
     "output_type": "stream",
     "text": [
      " [SAVED] Standardized File: /home/q674749/workspace/thesis_work/rat25-15.4.1/perception/std_v_DataSet/combined_198.p\n"
     ]
    },
    {
     "name": "stderr",
     "output_type": "stream",
     "text": [
      "Standardizing Files:  84%|████████▎ | 128/153 [05:35<01:05,  2.64s/it]"
     ]
    },
    {
     "name": "stdout",
     "output_type": "stream",
     "text": [
      " [SAVED] Standardized File: /home/q674749/workspace/thesis_work/rat25-15.4.1/perception/std_v_DataSet/combined_83.p\n"
     ]
    },
    {
     "name": "stderr",
     "output_type": "stream",
     "text": [
      "Standardizing Files:  84%|████████▍ | 129/153 [05:38<01:08,  2.85s/it]"
     ]
    },
    {
     "name": "stdout",
     "output_type": "stream",
     "text": [
      " [SAVED] Standardized File: /home/q674749/workspace/thesis_work/rat25-15.4.1/perception/std_v_DataSet/combined_216.p\n"
     ]
    },
    {
     "name": "stderr",
     "output_type": "stream",
     "text": [
      "Standardizing Files:  85%|████████▍ | 130/153 [05:44<01:26,  3.76s/it]"
     ]
    },
    {
     "name": "stdout",
     "output_type": "stream",
     "text": [
      " [SAVED] Standardized File: /home/q674749/workspace/thesis_work/rat25-15.4.1/perception/std_v_DataSet/combined_224.p\n"
     ]
    },
    {
     "name": "stderr",
     "output_type": "stream",
     "text": [
      "Standardizing Files:  86%|████████▌ | 131/153 [05:48<01:20,  3.67s/it]"
     ]
    },
    {
     "name": "stdout",
     "output_type": "stream",
     "text": [
      " [SAVED] Standardized File: /home/q674749/workspace/thesis_work/rat25-15.4.1/perception/std_v_DataSet/combined_185.p\n"
     ]
    },
    {
     "name": "stderr",
     "output_type": "stream",
     "text": [
      "Standardizing Files:  86%|████████▋ | 132/153 [05:51<01:15,  3.60s/it]"
     ]
    },
    {
     "name": "stdout",
     "output_type": "stream",
     "text": [
      " [SAVED] Standardized File: /home/q674749/workspace/thesis_work/rat25-15.4.1/perception/std_v_DataSet/combined_215.p\n"
     ]
    },
    {
     "name": "stderr",
     "output_type": "stream",
     "text": [
      "Standardizing Files:  87%|████████▋ | 133/153 [05:55<01:10,  3.55s/it]"
     ]
    },
    {
     "name": "stdout",
     "output_type": "stream",
     "text": [
      " [SAVED] Standardized File: /home/q674749/workspace/thesis_work/rat25-15.4.1/perception/std_v_DataSet/combined_199.p\n"
     ]
    },
    {
     "name": "stderr",
     "output_type": "stream",
     "text": [
      "Standardizing Files:  88%|████████▊ | 134/153 [06:01<01:21,  4.29s/it]"
     ]
    },
    {
     "name": "stdout",
     "output_type": "stream",
     "text": [
      " [SAVED] Standardized File: /home/q674749/workspace/thesis_work/rat25-15.4.1/perception/std_v_DataSet/combined_213.p\n"
     ]
    },
    {
     "name": "stderr",
     "output_type": "stream",
     "text": [
      "Standardizing Files:  88%|████████▊ | 135/153 [06:04<01:12,  4.04s/it]"
     ]
    },
    {
     "name": "stdout",
     "output_type": "stream",
     "text": [
      " [SAVED] Standardized File: /home/q674749/workspace/thesis_work/rat25-15.4.1/perception/std_v_DataSet/combined_186.p\n"
     ]
    },
    {
     "name": "stderr",
     "output_type": "stream",
     "text": [
      "Standardizing Files:  89%|████████▉ | 136/153 [06:05<00:54,  3.23s/it]"
     ]
    },
    {
     "name": "stdout",
     "output_type": "stream",
     "text": [
      " [SAVED] Standardized File: /home/q674749/workspace/thesis_work/rat25-15.4.1/perception/std_v_DataSet/combined_158.p\n"
     ]
    },
    {
     "name": "stderr",
     "output_type": "stream",
     "text": [
      "Standardizing Files:  90%|████████▉ | 137/153 [06:06<00:38,  2.42s/it]"
     ]
    },
    {
     "name": "stdout",
     "output_type": "stream",
     "text": [
      " [SAVED] Standardized File: /home/q674749/workspace/thesis_work/rat25-15.4.1/perception/std_v_DataSet/combined_78.p\n"
     ]
    },
    {
     "name": "stderr",
     "output_type": "stream",
     "text": [
      "Standardizing Files:  90%|█████████ | 138/153 [06:07<00:31,  2.09s/it]"
     ]
    },
    {
     "name": "stdout",
     "output_type": "stream",
     "text": [
      " [SAVED] Standardized File: /home/q674749/workspace/thesis_work/rat25-15.4.1/perception/std_v_DataSet/combined_181.p\n"
     ]
    },
    {
     "name": "stderr",
     "output_type": "stream",
     "text": [
      "Standardizing Files:  91%|█████████ | 139/153 [06:11<00:34,  2.48s/it]"
     ]
    },
    {
     "name": "stdout",
     "output_type": "stream",
     "text": [
      " [SAVED] Standardized File: /home/q674749/workspace/thesis_work/rat25-15.4.1/perception/std_v_DataSet/combined_190.p\n"
     ]
    },
    {
     "name": "stderr",
     "output_type": "stream",
     "text": [
      "Standardizing Files:  92%|█████████▏| 140/153 [06:14<00:35,  2.76s/it]"
     ]
    },
    {
     "name": "stdout",
     "output_type": "stream",
     "text": [
      " [SAVED] Standardized File: /home/q674749/workspace/thesis_work/rat25-15.4.1/perception/std_v_DataSet/combined_219.p\n"
     ]
    },
    {
     "name": "stderr",
     "output_type": "stream",
     "text": [
      "Standardizing Files:  92%|█████████▏| 141/153 [06:20<00:44,  3.75s/it]"
     ]
    },
    {
     "name": "stdout",
     "output_type": "stream",
     "text": [
      " [SAVED] Standardized File: /home/q674749/workspace/thesis_work/rat25-15.4.1/perception/std_v_DataSet/combined_200.p\n"
     ]
    },
    {
     "name": "stderr",
     "output_type": "stream",
     "text": [
      "Standardizing Files:  93%|█████████▎| 142/153 [06:21<00:33,  3.03s/it]"
     ]
    },
    {
     "name": "stdout",
     "output_type": "stream",
     "text": [
      " [SAVED] Standardized File: /home/q674749/workspace/thesis_work/rat25-15.4.1/perception/std_v_DataSet/combined_182.p\n"
     ]
    },
    {
     "name": "stderr",
     "output_type": "stream",
     "text": [
      "Standardizing Files:  93%|█████████▎| 143/153 [06:23<00:25,  2.52s/it]"
     ]
    },
    {
     "name": "stdout",
     "output_type": "stream",
     "text": [
      " [SAVED] Standardized File: /home/q674749/workspace/thesis_work/rat25-15.4.1/perception/std_v_DataSet/combined_162.p\n"
     ]
    },
    {
     "name": "stderr",
     "output_type": "stream",
     "text": [
      "Standardizing Files:  94%|█████████▍| 144/153 [06:23<00:17,  1.92s/it]"
     ]
    },
    {
     "name": "stdout",
     "output_type": "stream",
     "text": [
      " [SAVED] Standardized File: /home/q674749/workspace/thesis_work/rat25-15.4.1/perception/std_v_DataSet/combined_67.p\n"
     ]
    },
    {
     "name": "stderr",
     "output_type": "stream",
     "text": [
      "Standardizing Files:  95%|█████████▍| 145/153 [06:25<00:13,  1.73s/it]"
     ]
    },
    {
     "name": "stdout",
     "output_type": "stream",
     "text": [
      " [SAVED] Standardized File: /home/q674749/workspace/thesis_work/rat25-15.4.1/perception/std_v_DataSet/combined_177.p\n"
     ]
    },
    {
     "name": "stderr",
     "output_type": "stream",
     "text": [
      "Standardizing Files:  95%|█████████▌| 146/153 [06:26<00:11,  1.61s/it]"
     ]
    },
    {
     "name": "stdout",
     "output_type": "stream",
     "text": [
      " [SAVED] Standardized File: /home/q674749/workspace/thesis_work/rat25-15.4.1/perception/std_v_DataSet/combined_152.p\n"
     ]
    },
    {
     "name": "stderr",
     "output_type": "stream",
     "text": [
      "Standardizing Files:  96%|█████████▌| 147/153 [06:29<00:12,  2.15s/it]"
     ]
    },
    {
     "name": "stdout",
     "output_type": "stream",
     "text": [
      " [SAVED] Standardized File: /home/q674749/workspace/thesis_work/rat25-15.4.1/perception/std_v_DataSet/combined_192.p\n"
     ]
    },
    {
     "name": "stderr",
     "output_type": "stream",
     "text": [
      "Standardizing Files:  97%|█████████▋| 148/153 [06:30<00:08,  1.67s/it]"
     ]
    },
    {
     "name": "stdout",
     "output_type": "stream",
     "text": [
      " [SAVED] Standardized File: /home/q674749/workspace/thesis_work/rat25-15.4.1/perception/std_v_DataSet/combined_53.p\n"
     ]
    },
    {
     "name": "stderr",
     "output_type": "stream",
     "text": [
      "Standardizing Files:  97%|█████████▋| 149/153 [06:31<00:06,  1.56s/it]"
     ]
    },
    {
     "name": "stdout",
     "output_type": "stream",
     "text": [
      " [SAVED] Standardized File: /home/q674749/workspace/thesis_work/rat25-15.4.1/perception/std_v_DataSet/combined_180.p\n"
     ]
    },
    {
     "name": "stderr",
     "output_type": "stream",
     "text": [
      "Standardizing Files:  98%|█████████▊| 150/153 [06:37<00:08,  2.74s/it]"
     ]
    },
    {
     "name": "stdout",
     "output_type": "stream",
     "text": [
      " [SAVED] Standardized File: /home/q674749/workspace/thesis_work/rat25-15.4.1/perception/std_v_DataSet/combined_125.p\n"
     ]
    },
    {
     "name": "stderr",
     "output_type": "stream",
     "text": [
      "Standardizing Files:  99%|█████████▊| 151/153 [06:40<00:05,  2.89s/it]"
     ]
    },
    {
     "name": "stdout",
     "output_type": "stream",
     "text": [
      " [SAVED] Standardized File: /home/q674749/workspace/thesis_work/rat25-15.4.1/perception/std_v_DataSet/combined_127.p\n"
     ]
    },
    {
     "name": "stderr",
     "output_type": "stream",
     "text": [
      "Standardizing Files:  99%|█████████▉| 152/153 [06:40<00:02,  2.18s/it]"
     ]
    },
    {
     "name": "stdout",
     "output_type": "stream",
     "text": [
      " [SAVED] Standardized File: /home/q674749/workspace/thesis_work/rat25-15.4.1/perception/std_v_DataSet/combined_72.p\n"
     ]
    },
    {
     "name": "stderr",
     "output_type": "stream",
     "text": [
      "Standardizing Files: 100%|██████████| 153/153 [06:44<00:00,  2.64s/it]"
     ]
    },
    {
     "name": "stdout",
     "output_type": "stream",
     "text": [
      " [SAVED] Standardized File: /home/q674749/workspace/thesis_work/rat25-15.4.1/perception/std_v_DataSet/combined_142.p\n",
      "\n",
      "🎯 [SUCCESS] Data Standardization Completed for DBSCAN!\n"
     ]
    },
    {
     "name": "stderr",
     "output_type": "stream",
     "text": [
      "\n"
     ]
    }
   ],
   "source": [
    "import os\n",
    "import pandas as pd\n",
    "import numpy as np\n",
    "from sklearn.preprocessing import StandardScaler\n",
    "from tqdm import tqdm\n",
    "\n",
    "#  Folder Paths\n",
    "input_folder = r\"/home/q674749/workspace/thesis_work/rat25-15.4.1/perception/final_endgame_data\"\n",
    "output_folder = r\"/home/q674749/workspace/thesis_work/rat25-15.4.1/perception/std_v_DataSet\"\n",
    "os.makedirs(output_folder, exist_ok=True)  # Ensure output folder exists\n",
    "\n",
    "#  Define Features for DBSCAN Standardization\n",
    "standardize_columns = [\"distance\", \"radialVelocity\", \"rcs\"]  # Use StandardScaler\n",
    "angle_columns = [\"angleAzimuth\", \"angleElevation\"]  # Convert to sin/cos\n",
    "\n",
    "#  Step 1: Compute Global Mean & Std for Standardization\n",
    "all_data = {col: [] for col in standardize_columns}  # Collect data for global scaling\n",
    "\n",
    "print(\"\\n [INFO] Collecting Data for Global Standardization...\")\n",
    "for filename in tqdm(os.listdir(input_folder), desc=\"Processing Files\"):\n",
    "    if filename.endswith(\".p\"):  \n",
    "        file_path = os.path.join(input_folder, filename)\n",
    "        df = pd.read_pickle(file_path)\n",
    "\n",
    "        #  Extract values for global standardization\n",
    "        for col in standardize_columns:\n",
    "            for values in df[col]:  \n",
    "                all_data[col].extend(values)  # Flatten list-based values\n",
    "\n",
    "#  Compute Global Mean & Std\n",
    "scalers = {}\n",
    "for col in standardize_columns:\n",
    "    scaler = StandardScaler()\n",
    "    scalers[col] = scaler.fit(np.array(all_data[col]).reshape(-1, 1))  # Fit on all data\n",
    "\n",
    "print(\"\\n [INFO] Standardization Parameters Computed!\")\n",
    "\n",
    "#  Step 2: Apply Standardization and Transformation\n",
    "print(\"\\n [INFO] Standardizing and Transforming Data...\")\n",
    "for filename in tqdm(os.listdir(input_folder), desc=\"Standardizing Files\"):\n",
    "    if filename.endswith(\".p\"):  \n",
    "        file_path = os.path.join(input_folder, filename)\n",
    "        df = pd.read_pickle(file_path)\n",
    "\n",
    "        #  Apply Standardization\n",
    "        for col in standardize_columns:\n",
    "            df[col] = df[col].apply(lambda x: scalers[col].transform(np.array(x).reshape(-1, 1)).flatten().tolist() if isinstance(x, list) else x)\n",
    "\n",
    "        #  Convert Angles to Sin/Cos Representation\n",
    "        for col in angle_columns:\n",
    "            df[f\"{col}_sin\"] = df[col].apply(lambda x: np.sin(np.radians(x)).tolist() if isinstance(x, list) else x)\n",
    "            df[f\"{col}_cos\"] = df[col].apply(lambda x: np.cos(np.radians(x)).tolist() if isinstance(x, list) else x)\n",
    "\n",
    "        #  Drop Original Angle Columns\n",
    "        df.drop(columns=angle_columns, inplace=True)\n",
    "\n",
    "        #  Save the Processed Data\n",
    "        output_file_path = os.path.join(output_folder, filename)\n",
    "        df.to_pickle(output_file_path)\n",
    "        print(f\" [SAVED] Standardized File: {output_file_path}\")\n",
    "\n",
    "print(\"\\n🎯 [SUCCESS] Data Standardization Completed for DBSCAN!\")"
   ]
  },
  {
   "cell_type": "code",
   "execution_count": null,
   "metadata": {},
   "outputs": [],
   "source": [
    "import os\n",
    "import pandas as pd\n",
    "import numpy as np\n",
    "from sklearn.preprocessing import StandardScaler\n",
    "\n",
    "# Folder Paths\n",
    "input_folder = r\"/home/q674749/workspace/thesis_work/rat25-15.4.1/perception/conv_DataSet\"  # Update this with your actual folder path\n",
    "output_folder = r\"/home/q674749/workspace/thesis_work/rat25-15.4.1/perception/std_DataSet\"  # Update this with your actual output folder path\n",
    "os.makedirs(output_folder, exist_ok=True)  # Ensure output folder exists\n",
    "\n",
    "# Define columns\n",
    "standardize_columns = [\"distance\", \"radialVelocity\", \"rcs\"]  # Use StandardScaler\n",
    "angle_columns = [\"angleAzimuth\", \"angleElevation\"]  # Use sin/cos transformation\n",
    "\n",
    "# Step 1: Compute Global Mean & Std for StandardScaler Columns\n",
    "all_data = []\n",
    "for filename in os.listdir(input_folder):\n",
    "    if filename.endswith(\".p\"):  \n",
    "        file_path = os.path.join(input_folder, filename)\n",
    "        df = pd.read_pickle(file_path)\n",
    "\n",
    "        # Flatten list-based numerical values and store them for global standardization\n",
    "        for col in standardize_columns:\n",
    "            all_data.extend([val for sublist in df[col] for val in sublist])  \n",
    "\n",
    "# Compute global mean & std using StandardScaler\n",
    "scaler = StandardScaler()\n",
    "scaler.fit(np.array(all_data).reshape(-1, 1))  # Fit on entire dataset\n",
    "\n",
    "# Process Each File Sequentially\n",
    "for filename in os.listdir(input_folder):\n",
    "    if filename.endswith(\".p\"):  \n",
    "        file_path = os.path.join(input_folder, filename)\n",
    "        df = pd.read_pickle(file_path)\n",
    "\n",
    "        # Apply Standardization\n",
    "        for col in standardize_columns:\n",
    "            df[col] = df[col].apply(lambda x: scaler.transform(np.array(x).reshape(-1, 1)).flatten().tolist() if isinstance(x, list) else x)\n",
    "\n",
    "        # Convert angle columns using sin/cos transformation\n",
    "        for col in angle_columns:\n",
    "            df[f\"{col}_sin\"] = df[col].apply(lambda x: np.sin(np.radians(x)).tolist() if isinstance(x, list) else x)\n",
    "            df[f\"{col}_cos\"] = df[col].apply(lambda x: np.cos(np.radians(x)).tolist() if isinstance(x, list) else x)\n",
    "\n",
    "        # Remove original angle columns (optional, if we no longer need them)\n",
    "        df.drop(columns=angle_columns, inplace=True)\n",
    "\n",
    "        # Save the processed DataFrame\n",
    "        output_file_path = os.path.join(output_folder, filename)\n",
    "        df.to_pickle(output_file_path)\n",
    "        print(f\"✅ Standardized and saved: {output_file_path}\")\n",
    "\n",
    "print(\"\\n Hybrid standardization completed using a single core.\")"
   ]
  },
  {
   "cell_type": "code",
   "execution_count": 2,
   "metadata": {},
   "outputs": [
    {
     "name": "stdout",
     "output_type": "stream",
     "text": [
      "Dataframe Loaded Successfully!\n",
      "      timestamp                                                rcs  \\\n",
      "5  2.740820e+07  [-19, -27, -33, -27, -3, -12, -28, -26, -31, -...   \n",
      "6  2.740820e+07  [-19, -19, -26, -27, -3, -11, -28, -26, -31, -...   \n",
      "7  2.740820e+07  [-18, -27, -27, -10, -3, -11, -28, -25, -31, -...   \n",
      "8  2.740820e+07  [-20, -28, -27, -28, -3, -12, -28, -26, -31, -...   \n",
      "9  2.740820e+07  [-18, -27, -27, -3, -11, -26, -31, -28, -28, -...   \n",
      "\n",
      "                                            distance  \\\n",
      "5  [2.1399999, 2.6699998, 2.76, 3.07, 3.6899998, ...   \n",
      "6  [1.64, 2.1699998, 2.71, 3.01, 3.6899998, 4.029...   \n",
      "7  [2.19, 2.6299999, 3.08, 3.37, 3.6899998, 4.029...   \n",
      "8  [2.19, 2.69, 3.03, 3.35, 3.6999998, 4.04, 4.23...   \n",
      "9  [2.1299999, 2.6299999, 3.03, 3.6999998, 4.0299...   \n",
      "\n",
      "                                        angleAzimuth  \\\n",
      "5  [0.29295364, 0.013456495, 0.15817927, -0.04508...   \n",
      "6  [0.7550298, 0.29138285, 0.014974931, -0.045081...   \n",
      "7  [0.29269186, 0.015184372, -0.045448393, 0.9692...   \n",
      "8  [0.2935296, 0.01570797, -0.044872437, 0.237242...   \n",
      "9  [0.29138285, 0.014294253, -0.044872437, -0.946...   \n",
      "\n",
      "                                      angleElevation  \\\n",
      "5  [-0.31342638, -0.25300303, -0.21614167, -0.218...   \n",
      "6  [0.34630838, -0.31279805, -0.25797722, -0.2183...   \n",
      "7  [-0.3136358, -0.25640643, -0.21839315, -0.1995...   \n",
      "8  [-0.31604436, -0.25363135, -0.18996172, -0.199...   \n",
      "9  [-0.31316456, -0.25467855, -0.18996172, -0.070...   \n",
      "\n",
      "                                      radialVelocity  \\\n",
      "5  [0.024999999, 0.01, 0.07, 0.0, 0.0, 0.0, 0.02,...   \n",
      "6  [0.06, 0.0, 0.02, -0.02, 0.0, -0.005, -0.02, -...   \n",
      "7  [-0.005, 0.02, -0.005, 0.02, 0.0, 0.01, 0.04, ...   \n",
      "8  [0.005, 0.005, -0.015, -0.024999999, 0.005, 0....   \n",
      "9  [0.015, 0.024999999, 0.01, 0.0, 0.005, 0.0, 0....   \n",
      "\n",
      "                                            objectID  radialVelocityDomainMax  \\\n",
      "5  [0, 0, 0, 0, 214, 214, 0, 0, 0, 0, 0, 0, 0, 23...                25.191902   \n",
      "6  [0, 0, 0, 0, 214, 214, 0, 0, 0, 0, 0, 236, 236...                23.954258   \n",
      "7  [0, 0, 0, 0, 214, 214, 0, 0, 0, 0, 0, 0, 236, ...                26.988846   \n",
      "8  [0, 0, 0, 0, 214, 214, 0, 0, 0, 0, 0, 236, 236...                25.707472   \n",
      "9  [0, 0, 0, 214, 214, 0, 0, 0, 0, 0, 236, 236, 0...                23.260509   \n",
      "\n",
      "                                         orientation  \\\n",
      "5  [0.0, 0.0, 0.0, 0.0, 0.0, 0.0, -0.22320095, 0....   \n",
      "6  [0.0, 0.0, -0.02559908, -0.039980583, 0.0, 0.0...   \n",
      "7  [0.0, 0.0, -0.03259808, -0.04045997, 0.0, 0.0,...   \n",
      "8  [0.0, 0.0, -0.031543434, -0.03978883, 0.0, 0.0...   \n",
      "9  [0.0, 0.0, -0.037871297, -0.04036409, 0.0, -0....   \n",
      "\n",
      "                                                   x  ... header.origin.y  \\\n",
      "5  [25.16, 36.57, 62.199997, 67.869995, 69.369995...  ...            -0.3   \n",
      "6  [5.66, 11.58, 16.8, 20.42, 24.72, 25.15, 27.63...  ...            -0.3   \n",
      "7  [5.67, 11.54, 16.8, 20.43, 24.72, 25.14, 27.66...  ...            -0.3   \n",
      "8  [5.68, 11.69, 16.82, 20.43, 24.72, 25.14, 27.6...  ...            -0.3   \n",
      "9  [5.68, 11.79, 16.81, 20.43, 24.72, 27.699999, ...  ...            -0.3   \n",
      "\n",
      "  header.origin.z header.origin.roll header.origin.pitch header.origin.yaw  \\\n",
      "5           0.679                0.0                 0.0               0.0   \n",
      "6           0.679                0.0                 0.0               0.0   \n",
      "7           0.679                0.0                 0.0               0.0   \n",
      "8           0.679                0.0                 0.0               0.0   \n",
      "9           0.679                0.0                 0.0               0.0   \n",
      "\n",
      "                                     reference_point  yaw_rate ego_speed  \\\n",
      "5  [(5, Middle_Rear), (5, Middle_Rear), (5, Middl...  0.139999       0.0   \n",
      "6  [(5, Middle_Rear), (5, Middle_Rear), (5, Middl... -0.020004       0.0   \n",
      "7  [(5, Middle_Rear), (5, Middle_Rear), (5, Middl... -0.005005       0.0   \n",
      "8  [(5, Middle_Rear), (5, Middle_Rear), (5, Middl...  0.009995       0.0   \n",
      "9  [(5, Middle_Rear), (5, Middle_Rear), (5, Middl...  0.110001       0.0   \n",
      "\n",
      "                                       transformed_x  \\\n",
      "5  [21.645999670028687, 33.055999517440796, 58.68...   \n",
      "6  [2.1459996700286865, 8.065999746322632, 13.285...   \n",
      "7  [2.1559998989105225, 8.025999784469604, 13.285...   \n",
      "8  [2.1659996509552, 8.175999402999878, 13.305999...   \n",
      "9  [2.1659996509552, 8.275999784469604, 13.295999...   \n",
      "\n",
      "                                       transformed_y  \n",
      "5  [-1.2499999403953552, -2.0399999022483826, 2.5...  \n",
      "6  [-3.0899998545646667, 9.479999363422394, 9.589...  \n",
      "7  [-3.0899998545646667, 9.459999859333038, 9.589...  \n",
      "8  [-3.0899998545646667, 9.470000088214874, 9.579...  \n",
      "9  [-3.0899998545646667, 9.48999959230423, 9.5799...  \n",
      "\n",
      "[5 rows x 29 columns]\n",
      "\n",
      "Columns in DataFrame:\n",
      "Index(['timestamp', 'rcs', 'distance', 'angleAzimuth', 'angleElevation',\n",
      "       'radialVelocity', 'objectID', 'radialVelocityDomainMax', 'orientation',\n",
      "       'x', 'y', 'width_edge_mean', 'length_edge_mean', 'object_id',\n",
      "       'status_measurement', 'status_movement', 'overdrivable',\n",
      "       'underdrivable', 'header.origin.x', 'header.origin.y',\n",
      "       'header.origin.z', 'header.origin.roll', 'header.origin.pitch',\n",
      "       'header.origin.yaw', 'reference_point', 'yaw_rate', 'ego_speed',\n",
      "       'transformed_x', 'transformed_y'],\n",
      "      dtype='object')\n",
      "\n",
      "Column Data Types:\n",
      "timestamp                  float64\n",
      "rcs                         object\n",
      "distance                    object\n",
      "angleAzimuth                object\n",
      "angleElevation              object\n",
      "radialVelocity              object\n",
      "objectID                    object\n",
      "radialVelocityDomainMax    float64\n",
      "orientation                 object\n",
      "x                           object\n",
      "y                           object\n",
      "width_edge_mean             object\n",
      "length_edge_mean            object\n",
      "object_id                   object\n",
      "status_measurement          object\n",
      "status_movement             object\n",
      "overdrivable                object\n",
      "underdrivable               object\n",
      "header.origin.x            float64\n",
      "header.origin.y            float64\n",
      "header.origin.z            float64\n",
      "header.origin.roll         float64\n",
      "header.origin.pitch        float64\n",
      "header.origin.yaw          float64\n",
      "reference_point             object\n",
      "yaw_rate                   float64\n",
      "ego_speed                  float64\n",
      "transformed_x               object\n",
      "transformed_y               object\n",
      "dtype: object\n",
      "\n",
      "Missing Values:\n",
      "timestamp                  0\n",
      "rcs                        0\n",
      "distance                   0\n",
      "angleAzimuth               0\n",
      "angleElevation             0\n",
      "radialVelocity             0\n",
      "objectID                   0\n",
      "radialVelocityDomainMax    0\n",
      "orientation                0\n",
      "x                          0\n",
      "y                          0\n",
      "width_edge_mean            0\n",
      "length_edge_mean           0\n",
      "object_id                  0\n",
      "status_measurement         0\n",
      "status_movement            0\n",
      "overdrivable               0\n",
      "underdrivable              0\n",
      "header.origin.x            0\n",
      "header.origin.y            0\n",
      "header.origin.z            0\n",
      "header.origin.roll         0\n",
      "header.origin.pitch        0\n",
      "header.origin.yaw          0\n",
      "reference_point            0\n",
      "yaw_rate                   0\n",
      "ego_speed                  0\n",
      "transformed_x              0\n",
      "transformed_y              0\n",
      "dtype: int64\n"
     ]
    }
   ],
   "source": [
    "import pandas as pd\n",
    "\n",
    "# Set the path to your pickle file\n",
    "file_path = r\"/home/q674749/workspace/thesis_work/rat25-15.4.1/perception/final_cleaned_data/combined_18.p\"  # Replace this with your actual file path\n",
    "\n",
    "# Load the pickle file\n",
    "df = pd.read_pickle(file_path)\n",
    "\n",
    "# Display the first few rows\n",
    "print(\"Dataframe Loaded Successfully!\")\n",
    "print(df.head())\n",
    "\n",
    "# Display column names\n",
    "print(\"\\nColumns in DataFrame:\")\n",
    "print(df.columns)\n",
    "\n",
    "# Display the data types of each column\n",
    "print(\"\\nColumn Data Types:\")\n",
    "print(df.dtypes)\n",
    "\n",
    "# Check if any columns have missing values\n",
    "print(\"\\nMissing Values:\")\n",
    "print(df.isnull().sum())"
   ]
  },
  {
   "cell_type": "code",
   "execution_count": 3,
   "metadata": {},
   "outputs": [
    {
     "data": {
      "image/png": "[encoded data removed]",
      "text/plain": [
       "<Figure size 600x600 with 1 Axes>"
      ]
     },
     "metadata": {},
     "output_type": "display_data"
    },
    {
     "name": "stdout",
     "output_type": "stream",
     "text": [
      "Extracted X Coordinates: [  2.16599965   8.34599948  13.28599906  16.91600013  21.21599936\n",
      "  24.17599845  26.31599975  28.02599883  31.03599906  40.37599921\n",
      "  21.60599875   5.21599936  11.81599975  32.97599769  34.28599906\n",
      "  38.2659986   41.50600028  41.72599769  44.24599814  45.35599875\n",
      "  48.2659986   54.61599708  54.93599677  56.3359983   56.43599677\n",
      "  58.06599784  58.45599723  59.23599982  61.50599647  64.3359983\n",
      "  66.16600013  67.74600196  68.52600074  73.72599769  74.68599677\n",
      "  76.14599586  77.09600043  81.94599891  84.23599982  86.80599952\n",
      "  90.07599616  99.63599372 100.34600043 101.35599494 103.92599463\n",
      " 107.3359983  107.98599982 110.41600013 116.8359983  118.46599555]\n",
      "Extracted Y Coordinates: [ -3.08999985   9.49999982   9.58999997   9.36999971   8.89999944\n",
      "   8.80000001   7.94999963   9.15999967  -4.0800001    7.53000003\n",
      "  -1.40999991  -2.98999995  13.57999974  -2.23999995  -4.33999985\n",
      "  -8.06999987  21.34999925   7.42999965  22.73000032  -9.30999964\n",
      "  -9.62999934  14.01999933   3.9199999    1.40000004   7.87999994\n",
      "  13.26999933   2.6699999   33.59999925  31.78999978   0.40000001\n",
      "   5.93999988  10.1899994   15.10999948  -0.94999999   6.07999974\n",
      "  12.61999971  13.6899994  -16.05999869  -0.22999996 -16.00999945\n",
      "  -0.33999997  20.78999978  -4.9999997   -9.19999999 -11.17999953\n",
      "  21.19999963 -12.51999968  19.10999948  -1.52999991  -0.61999995]\n"
     ]
    }
   ],
   "source": [
    "import numpy as np\n",
    "import matplotlib.pyplot as plt\n",
    "\n",
    "# Select a single row (change index if needed)\n",
    "index = 5  # Choose an index that contains valid data\n",
    "row = df.iloc[index]\n",
    "\n",
    "# Extract transformed coordinates\n",
    "x_vals = row[\"transformed_x\"]\n",
    "y_vals = row[\"transformed_y\"]\n",
    "\n",
    "# Ensure data is numerical\n",
    "x_vals = np.array(x_vals, dtype=float)\n",
    "y_vals = np.array(y_vals, dtype=float)\n",
    "\n",
    "# Plot transformed points\n",
    "plt.figure(figsize=(6, 6))\n",
    "plt.scatter(x_vals, y_vals, color='blue', label='Transformed Points', marker='o')\n",
    "\n",
    "plt.xlabel(\"X Coordinate\")\n",
    "plt.ylabel(\"Y Coordinate\")\n",
    "plt.title(f\"Transformed Points for Radar Cycle {index}\")\n",
    "plt.legend()\n",
    "plt.grid(True)\n",
    "plt.show()\n",
    "\n",
    "# Print extracted values for debugging\n",
    "print(f\"Extracted X Coordinates: {x_vals}\")\n",
    "print(f\"Extracted Y Coordinates: {y_vals}\")"
   ]
  },
  {
   "cell_type": "code",
   "execution_count": 4,
   "metadata": {},
   "outputs": [
    {
     "name": "stdout",
     "output_type": "stream",
     "text": [
      "Extracted Widths: [0.20999999 0.25999999 0.07       0.07       0.26999998 0.17\n",
      " 0.65999997 1.5        0.74000001 1.24000001 0.77999997 1.30999994\n",
      " 0.09999999 0.61000001 0.95999998 0.44999999 0.25       0.70999998\n",
      " 0.23999999 0.09       0.22       1.77999997 0.74000001 0.39999998\n",
      " 0.59999996 1.56999993 0.52999997 0.17       0.25       0.63999999\n",
      " 2.06999993 0.22       0.32999998 0.19999999 3.11999989 4.57999992\n",
      " 4.19999981 0.25       1.23000002 0.47       0.85999995 0.22999999\n",
      " 1.44999993 1.12       0.25999999 0.47999999 0.81       0.65999997\n",
      " 3.57999992 2.25      ]\n",
      "Extracted Lengths: [0.29999998 1.75999999 1.32999992 2.25       2.15999985 2.44000006\n",
      " 0.35999998 2.56999993 1.38999999 1.78999996 0.85999995 3.32999992\n",
      " 1.10000002 0.45999998 1.92999995 0.95999998 0.94999999 3.07999992\n",
      " 0.23999999 1.25       0.25999999 2.14999986 2.38999987 0.47999999\n",
      " 1.73000002 4.71000004 0.83999997 1.48000002 0.25       1.53999996\n",
      " 2.24000001 0.22999999 0.34999999 0.41       0.69999999 1.61000001\n",
      " 3.90999985 0.35999998 3.0999999  1.01999998 1.94999993 0.22999999\n",
      " 3.24000001 1.45999992 0.34       0.63999999 2.64999986 0.94\n",
      " 0.96999997 3.27999997]\n",
      "Extracted Orientations (radians): [ 0.00000000e+00  0.00000000e+00 -4.33362685e-02 -4.05558422e-02\n",
      "  0.00000000e+00 -9.40550417e-02  0.00000000e+00  1.43815042e-03\n",
      "  0.00000000e+00  8.99706960e-01  0.00000000e+00  0.00000000e+00\n",
      " -5.02393879e-02  0.00000000e+00  0.00000000e+00  0.00000000e+00\n",
      "  5.00284612e-01  0.00000000e+00  3.08147699e-01 -4.74589653e-02\n",
      "  0.00000000e+00  0.00000000e+00 -1.03546834e+00  0.00000000e+00\n",
      "  0.00000000e+00  0.00000000e+00  0.00000000e+00  1.35176551e+00\n",
      "  1.49615586e+00  0.00000000e+00  0.00000000e+00  0.00000000e+00\n",
      "  0.00000000e+00  0.00000000e+00  0.00000000e+00  0.00000000e+00\n",
      "  0.00000000e+00  0.00000000e+00  6.84367895e-01 -8.79189298e-02\n",
      "  7.30484545e-01  0.00000000e+00  0.00000000e+00  0.00000000e+00\n",
      " -7.73533225e-01  0.00000000e+00 -4.56277192e-01 -5.73630273e-01\n",
      "  0.00000000e+00 -8.40838611e-01]\n",
      "Extracted Orientations (degrees): [ 0.00000000e+00  0.00000000e+00 -2.48298529e+00 -2.32367859e+00\n",
      "  0.00000000e+00 -5.38895693e+00  0.00000000e+00  8.23999491e-02\n",
      "  0.00000000e+00  5.15494116e+01  0.00000000e+00  0.00000000e+00\n",
      " -2.87850489e+00  0.00000000e+00  0.00000000e+00  0.00000000e+00\n",
      "  2.86641968e+01  0.00000000e+00  1.76555626e+01 -2.71919841e+00\n",
      "  0.00000000e+00  0.00000000e+00 -5.93279657e+01  0.00000000e+00\n",
      "  0.00000000e+00  0.00000000e+00  0.00000000e+00  7.74504588e+01\n",
      "  8.57234162e+01  0.00000000e+00  0.00000000e+00  0.00000000e+00\n",
      "  0.00000000e+00  0.00000000e+00  0.00000000e+00  0.00000000e+00\n",
      "  0.00000000e+00  0.00000000e+00  3.92113920e+01 -5.03738361e+00\n",
      "  4.18536814e+01  0.00000000e+00  0.00000000e+00  0.00000000e+00\n",
      " -4.43201891e+01  0.00000000e+00 -2.61427574e+01 -3.28665937e+01\n",
      "  0.00000000e+00 -4.81765037e+01]\n"
     ]
    }
   ],
   "source": [
    "# Extract additional attributes\n",
    "width_vals = row[\"width_edge_mean\"]\n",
    "length_vals = row[\"length_edge_mean\"]\n",
    "orientation_vals = row[\"orientation\"]\n",
    "\n",
    "# Convert to numpy arrays\n",
    "width_vals = np.array(width_vals, dtype=float)\n",
    "length_vals = np.array(length_vals, dtype=float)\n",
    "orientation_vals = np.array(orientation_vals, dtype=float)\n",
    "\n",
    "# Print extracted values\n",
    "print(f\"Extracted Widths: {width_vals}\")\n",
    "print(f\"Extracted Lengths: {length_vals}\")\n",
    "print(f\"Extracted Orientations (radians): {orientation_vals}\")\n",
    "\n",
    "# Convert orientation to degrees for better readability\n",
    "orientation_deg = np.degrees(orientation_vals)\n",
    "print(f\"Extracted Orientations (degrees): {orientation_deg}\")"
   ]
  },
  {
   "cell_type": "code",
   "execution_count": 5,
   "metadata": {},
   "outputs": [
    {
     "data": {
      "image/png": "[encoded data removed]",
      "text/plain": [
       "<Figure size 800x600 with 1 Axes>"
      ]
     },
     "metadata": {},
     "output_type": "display_data"
    }
   ],
   "source": [
    "from shapely.geometry import Polygon\n",
    "from shapely.affinity import rotate\n",
    "\n",
    "# Compute centroids\n",
    "centroid_x_vals = []\n",
    "centroid_y_vals = []\n",
    "\n",
    "for obj_x, obj_y, length, width, orientation in zip(x_vals, y_vals, length_vals, width_vals, orientation_vals):\n",
    "    orientation_deg = np.degrees(orientation)  # Convert to degrees\n",
    "\n",
    "    # Define bounding box (starting from the center)\n",
    "    poly = Polygon([\n",
    "        (obj_x - length / 2, obj_y - width / 2),\n",
    "        (obj_x + length / 2, obj_y - width / 2),\n",
    "        (obj_x + length / 2, obj_y + width / 2),\n",
    "        (obj_x - length / 2, obj_y + width / 2)\n",
    "    ])\n",
    "\n",
    "    # Rotate the bounding box around its center\n",
    "    rotated_poly = rotate(poly, orientation_deg, origin='centroid')\n",
    "\n",
    "    # Extract centroid coordinates\n",
    "    centroid_x_vals.append(rotated_poly.centroid.x)\n",
    "    centroid_y_vals.append(rotated_poly.centroid.y)\n",
    "\n",
    "# Plot transformed points\n",
    "plt.figure(figsize=(8, 6))\n",
    "plt.scatter(x_vals, y_vals, color='blue', label='Transformed Points', marker='o')\n",
    "plt.scatter(centroid_x_vals, centroid_y_vals, color='red', label='Centroids', marker='x')\n",
    "\n",
    "# Draw bounding boxes\n",
    "for obj_x, obj_y, length, width, orientation in zip(x_vals, y_vals, length_vals, width_vals, orientation_vals):\n",
    "    orientation_deg = np.degrees(orientation)\n",
    "    poly = Polygon([\n",
    "        (obj_x - length / 2, obj_y - width / 2),\n",
    "        (obj_x + length / 2, obj_y - width / 2),\n",
    "        (obj_x + length / 2, obj_y + width / 2),\n",
    "        (obj_x - length / 2, obj_y + width / 2)\n",
    "    ])\n",
    "    rotated_poly = rotate(poly, orientation_deg, origin='centroid')\n",
    "\n",
    "    x_poly, y_poly = rotated_poly.exterior.xy\n",
    "    plt.plot(x_poly, y_poly, color='green')\n",
    "\n",
    "# Plot aesthetics\n",
    "plt.xlabel(\"X Coordinate\")\n",
    "plt.ylabel(\"Y Coordinate\")\n",
    "plt.title(\"Transformed Points and Centroids\")\n",
    "plt.legend()\n",
    "plt.grid(True)\n",
    "plt.show()"
   ]
  },
  {
   "cell_type": "code",
   "execution_count": 1,
   "metadata": {},
   "outputs": [
    {
     "name": "stdout",
     "output_type": "stream",
     "text": [
      "✅ Pickle file loaded successfully!\n"
     ]
    },
    {
     "ename": "KeyError",
     "evalue": "'transformed_x'",
     "output_type": "error",
     "traceback": [
      "\u001b[0;31m---------------------------------------------------------------------------\u001b[0m",
      "\u001b[0;31mKeyError\u001b[0m                                  Traceback (most recent call last)",
      "File \u001b[0;32m~/.local/lib/python3.8/site-packages/pandas/core/indexes/base.py:3653\u001b[0m, in \u001b[0;36mIndex.get_loc\u001b[0;34m(self, key)\u001b[0m\n\u001b[1;32m   3652\u001b[0m \u001b[38;5;28;01mtry\u001b[39;00m:\n\u001b[0;32m-> 3653\u001b[0m     \u001b[38;5;28;01mreturn\u001b[39;00m \u001b[38;5;28;43mself\u001b[39;49m\u001b[38;5;241;43m.\u001b[39;49m\u001b[43m_engine\u001b[49m\u001b[38;5;241;43m.\u001b[39;49m\u001b[43mget_loc\u001b[49m\u001b[43m(\u001b[49m\u001b[43mcasted_key\u001b[49m\u001b[43m)\u001b[49m\n\u001b[1;32m   3654\u001b[0m \u001b[38;5;28;01mexcept\u001b[39;00m \u001b[38;5;167;01mKeyError\u001b[39;00m \u001b[38;5;28;01mas\u001b[39;00m err:\n",
      "File \u001b[0;32m~/.local/lib/python3.8/site-packages/pandas/_libs/index.pyx:147\u001b[0m, in \u001b[0;36mpandas._libs.index.IndexEngine.get_loc\u001b[0;34m()\u001b[0m\n",
      "File \u001b[0;32m~/.local/lib/python3.8/site-packages/pandas/_libs/index.pyx:176\u001b[0m, in \u001b[0;36mpandas._libs.index.IndexEngine.get_loc\u001b[0;34m()\u001b[0m\n",
      "File \u001b[0;32mpandas/_libs/hashtable_class_helper.pxi:7080\u001b[0m, in \u001b[0;36mpandas._libs.hashtable.PyObjectHashTable.get_item\u001b[0;34m()\u001b[0m\n",
      "File \u001b[0;32mpandas/_libs/hashtable_class_helper.pxi:7088\u001b[0m, in \u001b[0;36mpandas._libs.hashtable.PyObjectHashTable.get_item\u001b[0;34m()\u001b[0m\n",
      "\u001b[0;31mKeyError\u001b[0m: 'transformed_x'",
      "\nThe above exception was the direct cause of the following exception:\n",
      "\u001b[0;31mKeyError\u001b[0m                                  Traceback (most recent call last)",
      "Cell \u001b[0;32mIn[1], line 20\u001b[0m\n\u001b[1;32m     17\u001b[0m row \u001b[38;5;241m=\u001b[39m df\u001b[38;5;241m.\u001b[39miloc[index]\n\u001b[1;32m     19\u001b[0m \u001b[38;5;66;03m# *3. Extract and Verify Data*\u001b[39;00m\n\u001b[0;32m---> 20\u001b[0m x_vals \u001b[38;5;241m=\u001b[39m \u001b[43mrow\u001b[49m\u001b[43m[\u001b[49m\u001b[38;5;124;43m\"\u001b[39;49m\u001b[38;5;124;43mtransformed_x\u001b[39;49m\u001b[38;5;124;43m\"\u001b[39;49m\u001b[43m]\u001b[49m\n\u001b[1;32m     21\u001b[0m y_vals \u001b[38;5;241m=\u001b[39m row[\u001b[38;5;124m\"\u001b[39m\u001b[38;5;124mtransformed_y\u001b[39m\u001b[38;5;124m\"\u001b[39m]\n\u001b[1;32m     22\u001b[0m width_vals \u001b[38;5;241m=\u001b[39m row[\u001b[38;5;124m\"\u001b[39m\u001b[38;5;124mwidth_edge_mean\u001b[39m\u001b[38;5;124m\"\u001b[39m]\n",
      "File \u001b[0;32m~/.local/lib/python3.8/site-packages/pandas/core/series.py:1007\u001b[0m, in \u001b[0;36mSeries.__getitem__\u001b[0;34m(self, key)\u001b[0m\n\u001b[1;32m   1004\u001b[0m     \u001b[38;5;28;01mreturn\u001b[39;00m \u001b[38;5;28mself\u001b[39m\u001b[38;5;241m.\u001b[39m_values[key]\n\u001b[1;32m   1006\u001b[0m \u001b[38;5;28;01melif\u001b[39;00m key_is_scalar:\n\u001b[0;32m-> 1007\u001b[0m     \u001b[38;5;28;01mreturn\u001b[39;00m \u001b[38;5;28;43mself\u001b[39;49m\u001b[38;5;241;43m.\u001b[39;49m\u001b[43m_get_value\u001b[49m\u001b[43m(\u001b[49m\u001b[43mkey\u001b[49m\u001b[43m)\u001b[49m\n\u001b[1;32m   1009\u001b[0m \u001b[38;5;28;01mif\u001b[39;00m is_hashable(key):\n\u001b[1;32m   1010\u001b[0m     \u001b[38;5;66;03m# Otherwise index.get_value will raise InvalidIndexError\u001b[39;00m\n\u001b[1;32m   1011\u001b[0m     \u001b[38;5;28;01mtry\u001b[39;00m:\n\u001b[1;32m   1012\u001b[0m         \u001b[38;5;66;03m# For labels that don't resolve as scalars like tuples and frozensets\u001b[39;00m\n",
      "File \u001b[0;32m~/.local/lib/python3.8/site-packages/pandas/core/series.py:1116\u001b[0m, in \u001b[0;36mSeries._get_value\u001b[0;34m(self, label, takeable)\u001b[0m\n\u001b[1;32m   1113\u001b[0m     \u001b[38;5;28;01mreturn\u001b[39;00m \u001b[38;5;28mself\u001b[39m\u001b[38;5;241m.\u001b[39m_values[label]\n\u001b[1;32m   1115\u001b[0m \u001b[38;5;66;03m# Similar to Index.get_value, but we do not fall back to positional\u001b[39;00m\n\u001b[0;32m-> 1116\u001b[0m loc \u001b[38;5;241m=\u001b[39m \u001b[38;5;28;43mself\u001b[39;49m\u001b[38;5;241;43m.\u001b[39;49m\u001b[43mindex\u001b[49m\u001b[38;5;241;43m.\u001b[39;49m\u001b[43mget_loc\u001b[49m\u001b[43m(\u001b[49m\u001b[43mlabel\u001b[49m\u001b[43m)\u001b[49m\n\u001b[1;32m   1118\u001b[0m \u001b[38;5;28;01mif\u001b[39;00m is_integer(loc):\n\u001b[1;32m   1119\u001b[0m     \u001b[38;5;28;01mreturn\u001b[39;00m \u001b[38;5;28mself\u001b[39m\u001b[38;5;241m.\u001b[39m_values[loc]\n",
      "File \u001b[0;32m~/.local/lib/python3.8/site-packages/pandas/core/indexes/base.py:3655\u001b[0m, in \u001b[0;36mIndex.get_loc\u001b[0;34m(self, key)\u001b[0m\n\u001b[1;32m   3653\u001b[0m     \u001b[38;5;28;01mreturn\u001b[39;00m \u001b[38;5;28mself\u001b[39m\u001b[38;5;241m.\u001b[39m_engine\u001b[38;5;241m.\u001b[39mget_loc(casted_key)\n\u001b[1;32m   3654\u001b[0m \u001b[38;5;28;01mexcept\u001b[39;00m \u001b[38;5;167;01mKeyError\u001b[39;00m \u001b[38;5;28;01mas\u001b[39;00m err:\n\u001b[0;32m-> 3655\u001b[0m     \u001b[38;5;28;01mraise\u001b[39;00m \u001b[38;5;167;01mKeyError\u001b[39;00m(key) \u001b[38;5;28;01mfrom\u001b[39;00m\u001b[38;5;250m \u001b[39m\u001b[38;5;21;01merr\u001b[39;00m\n\u001b[1;32m   3656\u001b[0m \u001b[38;5;28;01mexcept\u001b[39;00m \u001b[38;5;167;01mTypeError\u001b[39;00m:\n\u001b[1;32m   3657\u001b[0m     \u001b[38;5;66;03m# If we have a listlike key, _check_indexing_error will raise\u001b[39;00m\n\u001b[1;32m   3658\u001b[0m     \u001b[38;5;66;03m#  InvalidIndexError. Otherwise we fall through and re-raise\u001b[39;00m\n\u001b[1;32m   3659\u001b[0m     \u001b[38;5;66;03m#  the TypeError.\u001b[39;00m\n\u001b[1;32m   3660\u001b[0m     \u001b[38;5;28mself\u001b[39m\u001b[38;5;241m.\u001b[39m_check_indexing_error(key)\n",
      "\u001b[0;31mKeyError\u001b[0m: 'transformed_x'"
     ]
    }
   ],
   "source": [
    "import os\n",
    "import numpy as np\n",
    "import pandas as pd\n",
    "import matplotlib.pyplot as plt\n",
    "from shapely.geometry import Polygon\n",
    "from shapely.affinity import rotate\n",
    "\n",
    "# *1. Load the Pickle File*\n",
    "file_path = r\"/home/q674749/workspace/thesis_work/rat25-15.4.1/perception/final_centroid_data/combined_100.p\"   # Replace with your actual path\n",
    "\n",
    "# Load DataFrame\n",
    "df = pd.read_pickle(file_path)\n",
    "print(\"✅ Pickle file loaded successfully!\")\n",
    "\n",
    "# *2. Select One Radar Cycle (Modify the Index as Needed)*\n",
    "index = 5  # Choose an index that contains valid data\n",
    "row = df.iloc[index]\n",
    "\n",
    "# *3. Extract and Verify Data*\n",
    "x_vals = row[\"transformed_x\"]\n",
    "y_vals = row[\"transformed_y\"]\n",
    "width_vals = row[\"width_edge_mean\"]\n",
    "length_vals = row[\"length_edge_mean\"]\n",
    "orientation_vals = row[\"orientation\"]\n",
    "reference_points = row[\"reference_point\"]\n",
    "\n",
    "# *Ensure all data is in the correct format*\n",
    "x_vals = np.array(x_vals, dtype=float)\n",
    "y_vals = np.array(y_vals, dtype=float)\n",
    "width_vals = np.array(width_vals, dtype=float)\n",
    "length_vals = np.array(length_vals, dtype=float)\n",
    "orientation_vals = np.array(orientation_vals, dtype=float)\n",
    "\n",
    "# *Check Reference Point Format*\n",
    "if isinstance(reference_points, list):\n",
    "    try:\n",
    "        reference_points = [rp[0] if isinstance(rp, tuple) else rp for rp in reference_points]\n",
    "    except:\n",
    "        print(\"❌ Error extracting reference points!\")\n",
    "else:\n",
    "    print(\"❌ Reference points are not in list format!\")\n",
    "\n",
    "print(f\"✅ Extracted {len(x_vals)} objects with valid attributes!\")\n",
    "\n",
    "# *4. Compute Centroids with Correct Reference Point Adjustments*\n",
    "centroid_x_vals = []\n",
    "centroid_y_vals = []\n",
    "\n",
    "for obj_x, obj_y, length, width, orientation, ref_point in zip(\n",
    "        x_vals, y_vals, length_vals, width_vals, orientation_vals, reference_points):\n",
    "\n",
    "    orientation_deg = np.degrees(orientation)  # Convert to degrees\n",
    "\n",
    "    # *Adjust bounding box placement based on reference point*\n",
    "    if ref_point == 0:  # Rear Left\n",
    "        bbox_x, bbox_y = obj_x, obj_y\n",
    "    elif ref_point == 1:  # Rear Center\n",
    "        bbox_x, bbox_y = obj_x - length / 2, obj_y\n",
    "    elif ref_point == 2:  # Rear Right\n",
    "        bbox_x, bbox_y = obj_x - length, obj_y\n",
    "    elif ref_point == 3:  # Center Rear\n",
    "        bbox_x, bbox_y = obj_x, obj_y + width / 2\n",
    "    else:  # Default (Center-based)\n",
    "        bbox_x, bbox_y = obj_x, obj_y\n",
    "\n",
    "    # *Create Bounding Box*\n",
    "    poly = Polygon([\n",
    "        (bbox_x, bbox_y),\n",
    "        (bbox_x + length, bbox_y),\n",
    "        (bbox_x + length, bbox_y + width),\n",
    "        (bbox_x, bbox_y + width)\n",
    "    ])\n",
    "\n",
    "    # *Rotate the bounding box*\n",
    "    rotated_poly = rotate(poly, orientation_deg, origin='centroid')\n",
    "\n",
    "    # *Extract Centroid*\n",
    "    centroid_x_vals.append(rotated_poly.centroid.x)\n",
    "    centroid_y_vals.append(rotated_poly.centroid.y)\n",
    "\n",
    "# *5. Plot Results*\n",
    "plt.figure(figsize=(8, 6))\n",
    "plt.scatter(x_vals, y_vals, color='blue', label='Transformed Points', marker='o')\n",
    "plt.scatter(centroid_x_vals, centroid_y_vals, color='red', label='Centroids', marker='x')\n",
    "\n",
    "# *Plot Bounding Boxes*\n",
    "for obj_x, obj_y, length, width, orientation, ref_point in zip(\n",
    "        x_vals, y_vals, length_vals, width_vals, orientation_vals, reference_points):\n",
    "\n",
    "    orientation_deg = np.degrees(orientation)\n",
    "    poly = Polygon([\n",
    "        (obj_x, obj_y),\n",
    "        (obj_x + length, obj_y),\n",
    "        (obj_x + length, obj_y + width),\n",
    "        (obj_x, obj_y + width)\n",
    "    ])\n",
    "    rotated_poly = rotate(poly, orientation_deg, origin='centroid')\n",
    "\n",
    "    x_poly, y_poly = rotated_poly.exterior.xy\n",
    "    plt.plot(x_poly, y_poly, color='green')\n",
    "\n",
    "# *Final Plot Adjustments*\n",
    "plt.xlabel(\"X Coordinate\")\n",
    "plt.ylabel(\"Y Coordinate\")\n",
    "plt.title(\"Transformed Points, Bounding Boxes, and Centroids\")\n",
    "plt.legend()\n",
    "plt.grid(True)\n",
    "plt.show()"
   ]
  },
  {
   "cell_type": "code",
   "execution_count": 3,
   "metadata": {},
   "outputs": [
    {
     "name": "stdout",
     "output_type": "stream",
     "text": [
      "✅ Pickle file loaded successfully!\n",
      "✅ Extracted 33 objects with valid attributes!\n"
     ]
    },
    {
     "data": {
      "image/png": "[encoded data removed]",
      "text/plain": [
       "<Figure size 800x600 with 1 Axes>"
      ]
     },
     "metadata": {},
     "output_type": "display_data"
    }
   ],
   "source": [
    "# new logic\n",
    "\n",
    "import os\n",
    "import numpy as np\n",
    "import pandas as pd\n",
    "import matplotlib.pyplot as plt\n",
    "from shapely.geometry import Polygon\n",
    "from shapely.affinity import rotate\n",
    "\n",
    "# 1. Load the Pickle File\n",
    "file_path = r\"/home/q674749/workspace/thesis_work/rat25-15.4.1/perception/final_centroid_data/combined_100.p\"   # Replace with your actual path\n",
    "\n",
    "# Load DataFrame\n",
    "df = pd.read_pickle(file_path)\n",
    "print(\"✅ Pickle file loaded successfully!\")\n",
    "\n",
    "# 2. Select One Radar Cycle (Modify the Index as Needed)\n",
    "index = 4  # Choose an index that contains valid data\n",
    "row = df.iloc[index]\n",
    "\n",
    "# 3. Extract and Verify Data\n",
    "x_vals = row[\"x_obj\"]\n",
    "y_vals = row[\"y_obj\"]\n",
    "width_vals = row[\"width_edge_mean\"]\n",
    "length_vals = row[\"length_edge_mean\"]\n",
    "orientation_vals = row[\"orientation\"]\n",
    "reference_points = row[\"reference_point\"]\n",
    "\n",
    "# Ensure all data is in the correct format\n",
    "x_vals = np.array(x_vals, dtype=float)\n",
    "y_vals = np.array(y_vals, dtype=float)\n",
    "width_vals = np.array(width_vals, dtype=float)\n",
    "length_vals = np.array(length_vals, dtype=float)\n",
    "orientation_vals = np.array(orientation_vals, dtype=float)\n",
    "\n",
    "# Check Reference Point Format\n",
    "if isinstance(reference_points, list):\n",
    "    try:\n",
    "        reference_points = [rp[0] if isinstance(rp, tuple) else rp for rp in reference_points]\n",
    "    except:\n",
    "        print(\"❌ Error extracting reference points!\")\n",
    "else:\n",
    "    print(\"❌ Reference points are not in list format!\")\n",
    "\n",
    "print(f\"✅ Extracted {len(x_vals)} objects with valid attributes!\")\n",
    "\n",
    "# 4. Compute Centroids with Correct Reference Point Adjustments\n",
    "centroid_x_vals = []\n",
    "centroid_y_vals = []\n",
    "\n",
    "for obj_x, obj_y, length, width, orientation, ref_point in zip(\n",
    "        x_vals, y_vals, length_vals, width_vals, orientation_vals, reference_points):\n",
    "\n",
    "    orientation_deg = np.degrees(orientation)  # Convert to degrees\n",
    "\n",
    "    # Adjust bounding box placement based on reference point\n",
    "    if ref_point == 0:  # Rear Left\n",
    "        bbox_x, bbox_y = obj_x, obj_y\n",
    "    elif ref_point == 1:  # Rear Center\n",
    "        bbox_x, bbox_y = obj_x - length / 2, obj_y\n",
    "    elif ref_point == 2:  # Rear Right\n",
    "        bbox_x, bbox_y = obj_x - length, obj_y\n",
    "    elif ref_point == 3:  # Center Rear\n",
    "        bbox_x, bbox_y = obj_x, obj_y + width / 2\n",
    "    else:  # Default (Center-based)\n",
    "        bbox_x, bbox_y = obj_x, obj_y\n",
    "\n",
    "    # Create Bounding Box\n",
    "    poly = Polygon([\n",
    "        (bbox_x, bbox_y),\n",
    "        (bbox_x + length, bbox_y),\n",
    "        (bbox_x + length, bbox_y + width),\n",
    "        (bbox_x, bbox_y + width)\n",
    "    ])\n",
    "\n",
    "    # Rotate the bounding box\n",
    "    rotated_poly = rotate(poly, orientation_deg, origin='centroid')\n",
    "\n",
    "    # Extract Centroid\n",
    "    centroid_x_vals.append(rotated_poly.centroid.x)\n",
    "    centroid_y_vals.append(rotated_poly.centroid.y)\n",
    "\n",
    "# 5. Plot Results\n",
    "plt.figure(figsize=(8, 6))\n",
    "plt.scatter(x_vals, y_vals, color='blue', label='Object Points (x_obj, y_obj)', marker='o')\n",
    "plt.scatter(centroid_x_vals, centroid_y_vals, color='red', label='Centroids', marker='x')\n",
    "\n",
    "# Plot Bounding Boxes\n",
    "for obj_x, obj_y, length, width, orientation, ref_point in zip(\n",
    "        x_vals, y_vals, length_vals, width_vals, orientation_vals, reference_points):\n",
    "\n",
    "    orientation_deg = np.degrees(orientation)\n",
    "    poly = Polygon([\n",
    "        (obj_x, obj_y),\n",
    "        (obj_x + length, obj_y),\n",
    "        (obj_x + length, obj_y + width),\n",
    "        (obj_x, obj_y + width)\n",
    "    ])\n",
    "    rotated_poly = rotate(poly, orientation_deg, origin='centroid')\n",
    "\n",
    "    x_poly, y_poly = rotated_poly.exterior.xy\n",
    "    plt.plot(x_poly, y_poly, color='green')\n",
    "\n",
    "# Final Plot Adjustments\n",
    "plt.xlabel(\"X Coordinate (x_obj)\")\n",
    "plt.ylabel(\"Y Coordinate (y_obj)\")\n",
    "plt.title(\"Object Points, Bounding Boxes, and Centroids\")\n",
    "plt.legend()\n",
    "plt.grid(True)\n",
    "plt.show()"
   ]
  },
  {
   "cell_type": "code",
   "execution_count": 5,
   "metadata": {},
   "outputs": [
    {
     "data": {
      "text/plain": [
       "338"
      ]
     },
     "execution_count": 5,
     "metadata": {},
     "output_type": "execute_result"
    }
   ],
   "source": [
    "import pandas as pd\n",
    "vd = pd.read_pickle(\"/home/q674749/workspace/thesis_work/rat25-15.4.1/perception/tunning_data/combined_118.p\")\n",
    "len(vd)"
   ]
  },
  {
   "cell_type": "code",
   "execution_count": 7,
   "metadata": {},
   "outputs": [
    {
     "data": {
      "text/html": [
       "<div>\n",
       "<style scoped>\n",
       "    .dataframe tbody tr th:only-of-type {\n",
       "        vertical-align: middle;\n",
       "    }\n",
       "\n",
       "    .dataframe tbody tr th {\n",
       "        vertical-align: top;\n",
       "    }\n",
       "\n",
       "    .dataframe thead th {\n",
       "        text-align: right;\n",
       "    }\n",
       "</style>\n",
       "<table border=\"1\" class=\"dataframe\">\n",
       "  <thead>\n",
       "    <tr style=\"text-align: right;\">\n",
       "      <th></th>\n",
       "      <th>objectID</th>\n",
       "      <th>rcs</th>\n",
       "      <th>distance</th>\n",
       "      <th>radialVelocity</th>\n",
       "      <th>object_id</th>\n",
       "      <th>orientation</th>\n",
       "      <th>width_edge_mean</th>\n",
       "      <th>length_edge_mean</th>\n",
       "      <th>centroid_x</th>\n",
       "      <th>centroid_y</th>\n",
       "      <th>transformed_x</th>\n",
       "      <th>transformed_y</th>\n",
       "      <th>radialVelocityDomainMax</th>\n",
       "      <th>yaw_rate</th>\n",
       "      <th>ego_speed</th>\n",
       "      <th>is_valid_detection</th>\n",
       "      <th>angleAzimuth_sin</th>\n",
       "      <th>angleAzimuth_cos</th>\n",
       "      <th>angleElevation_sin</th>\n",
       "      <th>angleElevation_cos</th>\n",
       "    </tr>\n",
       "  </thead>\n",
       "  <tbody>\n",
       "    <tr>\n",
       "      <th>0</th>\n",
       "      <td>[1915, 1915, 971, 1915, 971, 0, 1915, 971, 0, ...</td>\n",
       "      <td>[-0.4676515544424469, -0.8458516128695145, -0....</td>\n",
       "      <td>[-1.2885891199111938, -1.2866606712341309, -1....</td>\n",
       "      <td>[1.070237159729004, 1.0484516620635986, 1.0286...</td>\n",
       "      <td>[2104]</td>\n",
       "      <td>[-3.0630686]</td>\n",
       "      <td>[1.39]</td>\n",
       "      <td>[4.39]</td>\n",
       "      <td>[266.19097900390625]</td>\n",
       "      <td>[1.0550000034272706]</td>\n",
       "      <td>[263.99597907066345]</td>\n",
       "      <td>[0.36000001057982445]</td>\n",
       "      <td>27.573689</td>\n",
       "      <td>0.104996</td>\n",
       "      <td>26.453125</td>\n",
       "      <td>[0, 0, 0, 0, 0, 0, 0, 0, 0, 0, 0, 0, 0, 0, 0, ...</td>\n",
       "      <td>[-0.015561369247734547, -0.014888850972056389,...</td>\n",
       "      <td>[0.9998789429664612, 0.9998891353607178, 0.999...</td>\n",
       "      <td>[0.00032533155172131956, -8.224674093071371e-0...</td>\n",
       "      <td>[0.9999999403953552, 1.0, 0.999997079372406, 1...</td>\n",
       "    </tr>\n",
       "    <tr>\n",
       "      <th>1</th>\n",
       "      <td>[1915, 1915, 1915, 1915, 1915, 0, 1915, 1915, ...</td>\n",
       "      <td>[-0.4676515544424469, -0.7702116011841009, -1....</td>\n",
       "      <td>[-1.2920011281967163, -1.2899243831634521, -1....</td>\n",
       "      <td>[1.101142406463623, 1.071250557899475, 1.05706...</td>\n",
       "      <td>[2104]</td>\n",
       "      <td>[-3.0638359]</td>\n",
       "      <td>[1.48]</td>\n",
       "      <td>[4.8599997]</td>\n",
       "      <td>[265.4259788990023]</td>\n",
       "      <td>[1.0200000219047098]</td>\n",
       "      <td>[262.99597907066345]</td>\n",
       "      <td>[0.2800000123679638]</td>\n",
       "      <td>25.904442</td>\n",
       "      <td>0.104996</td>\n",
       "      <td>26.453125</td>\n",
       "      <td>[0, 0, 0, 0, 0, 0, 0, 0, 0, 0, 0, 0, 0, 0, 0, ...</td>\n",
       "      <td>[-0.016615817323327065, -0.015755081549286842,...</td>\n",
       "      <td>[0.9998619556427002, 0.9998759031295776, 0.999...</td>\n",
       "      <td>[0.00023120472906157374, -0.000743876036722213...</td>\n",
       "      <td>[1.0, 0.9999997019767761, 0.9999995231628418, ...</td>\n",
       "    </tr>\n",
       "    <tr>\n",
       "      <th>2</th>\n",
       "      <td>[1915, 1915, 1915, 1915, 1915, 0, 1915, 1915, ...</td>\n",
       "      <td>[-0.3920115427570333, -0.6189315778132739, 0.6...</td>\n",
       "      <td>[-1.2942264080047607, -1.292891263961792, -1.2...</td>\n",
       "      <td>[1.1487665176391602, 1.120901346206665, 1.1031...</td>\n",
       "      <td>[2104]</td>\n",
       "      <td>[-3.076108]</td>\n",
       "      <td>[1.73]</td>\n",
       "      <td>[5.3599997]</td>\n",
       "      <td>[264.5559837818148]</td>\n",
       "      <td>[1.3050000220537186]</td>\n",
       "      <td>[261.87598395347595]</td>\n",
       "      <td>[0.4400000125169754]</td>\n",
       "      <td>24.401609</td>\n",
       "      <td>0.104996</td>\n",
       "      <td>26.578125</td>\n",
       "      <td>[0, 0, 0, 0, 0, 0, 0, 0, 0, 0, 0, 0, 0, 0, 0, ...</td>\n",
       "      <td>[-0.018222127109766006, -0.017430856823921204,...</td>\n",
       "      <td>[0.9998339414596558, 0.9998480677604675, 0.999...</td>\n",
       "      <td>[0.00023120472906157374, 0.0001023514996632002...</td>\n",
       "      <td>[1.0, 1.0, 0.9999862909317017, 1.0, 0.99999892...</td>\n",
       "    </tr>\n",
       "    <tr>\n",
       "      <th>3</th>\n",
       "      <td>[1915, 1915, 0, 0, 0, 1915, 0, 971, 1915, 971,...</td>\n",
       "      <td>[-0.9971316362403415, -1.4509717063528227, -1....</td>\n",
       "      <td>[-1.2939295768737793, -1.2857705354690552, -1....</td>\n",
       "      <td>[1.1371138095855713, 1.01197350025177, 0.96536...</td>\n",
       "      <td>[2104]</td>\n",
       "      <td>[-3.087709]</td>\n",
       "      <td>[1.52]</td>\n",
       "      <td>[5.2999997]</td>\n",
       "      <td>[263.45600700378435]</td>\n",
       "      <td>[1.3199999928474426]</td>\n",
       "      <td>[260.8060071468353]</td>\n",
       "      <td>[0.5600000023841858]</td>\n",
       "      <td>27.753181</td>\n",
       "      <td>0.145004</td>\n",
       "      <td>26.968750</td>\n",
       "      <td>[0, 0, 0, 0, 0, 0, 0, 0, 0, 0, 0, 0, 0, 0, 0, ...</td>\n",
       "      <td>[-0.01808415912091732, -0.014246480539441109, ...</td>\n",
       "      <td>[0.9998364448547363, 0.9998984932899475, 0.999...</td>\n",
       "      <td>[-0.0002412571047898382, 0.0001608380698598921...</td>\n",
       "      <td>[1.0, 1.0, 0.9999995231628418, 0.9999947547912...</td>\n",
       "    </tr>\n",
       "    <tr>\n",
       "      <th>4</th>\n",
       "      <td>[1915, 0, 1915, 1915, 1915, 1915, 1915, 1915, ...</td>\n",
       "      <td>[-0.7702116011841009, -2.056091799836131, -0.7...</td>\n",
       "      <td>[-1.2888859510421753, -1.2810235023498535, -1....</td>\n",
       "      <td>[1.0459184646606445, 0.9972808361053467, 0.948...</td>\n",
       "      <td>[2104]</td>\n",
       "      <td>[-3.0985432]</td>\n",
       "      <td>[1.9799999]</td>\n",
       "      <td>[5.2799997]</td>\n",
       "      <td>[262.15599846839893]</td>\n",
       "      <td>[1.5799999535083742]</td>\n",
       "      <td>[259.51599860191345]</td>\n",
       "      <td>[0.5900000035762787]</td>\n",
       "      <td>26.000765</td>\n",
       "      <td>0.104996</td>\n",
       "      <td>27.156250</td>\n",
       "      <td>[0, 0, 0, 0, 0, 0, 0, 0, 0, 0, 0, 0, 0, 0, 0, ...</td>\n",
       "      <td>[-0.015439840964972973, -0.013655276037752628,...</td>\n",
       "      <td>[0.9998807907104492, 0.9999067783355713, 0.999...</td>\n",
       "      <td>[0.00014895798813086003, -0.001049102633260190...</td>\n",
       "      <td>[1.0, 0.999999463558197, 1.0, 0.99999189376831...</td>\n",
       "    </tr>\n",
       "  </tbody>\n",
       "</table>\n",
       "</div>"
      ],
      "text/plain": [
       "                                            objectID  \\\n",
       "0  [1915, 1915, 971, 1915, 971, 0, 1915, 971, 0, ...   \n",
       "1  [1915, 1915, 1915, 1915, 1915, 0, 1915, 1915, ...   \n",
       "2  [1915, 1915, 1915, 1915, 1915, 0, 1915, 1915, ...   \n",
       "3  [1915, 1915, 0, 0, 0, 1915, 0, 971, 1915, 971,...   \n",
       "4  [1915, 0, 1915, 1915, 1915, 1915, 1915, 1915, ...   \n",
       "\n",
       "                                                 rcs  \\\n",
       "0  [-0.4676515544424469, -0.8458516128695145, -0....   \n",
       "1  [-0.4676515544424469, -0.7702116011841009, -1....   \n",
       "2  [-0.3920115427570333, -0.6189315778132739, 0.6...   \n",
       "3  [-0.9971316362403415, -1.4509717063528227, -1....   \n",
       "4  [-0.7702116011841009, -2.056091799836131, -0.7...   \n",
       "\n",
       "                                            distance  \\\n",
       "0  [-1.2885891199111938, -1.2866606712341309, -1....   \n",
       "1  [-1.2920011281967163, -1.2899243831634521, -1....   \n",
       "2  [-1.2942264080047607, -1.292891263961792, -1.2...   \n",
       "3  [-1.2939295768737793, -1.2857705354690552, -1....   \n",
       "4  [-1.2888859510421753, -1.2810235023498535, -1....   \n",
       "\n",
       "                                      radialVelocity object_id   orientation  \\\n",
       "0  [1.070237159729004, 1.0484516620635986, 1.0286...    [2104]  [-3.0630686]   \n",
       "1  [1.101142406463623, 1.071250557899475, 1.05706...    [2104]  [-3.0638359]   \n",
       "2  [1.1487665176391602, 1.120901346206665, 1.1031...    [2104]   [-3.076108]   \n",
       "3  [1.1371138095855713, 1.01197350025177, 0.96536...    [2104]   [-3.087709]   \n",
       "4  [1.0459184646606445, 0.9972808361053467, 0.948...    [2104]  [-3.0985432]   \n",
       "\n",
       "  width_edge_mean length_edge_mean            centroid_x  \\\n",
       "0          [1.39]           [4.39]  [266.19097900390625]   \n",
       "1          [1.48]      [4.8599997]   [265.4259788990023]   \n",
       "2          [1.73]      [5.3599997]   [264.5559837818148]   \n",
       "3          [1.52]      [5.2999997]  [263.45600700378435]   \n",
       "4     [1.9799999]      [5.2799997]  [262.15599846839893]   \n",
       "\n",
       "             centroid_y         transformed_x          transformed_y  \\\n",
       "0  [1.0550000034272706]  [263.99597907066345]  [0.36000001057982445]   \n",
       "1  [1.0200000219047098]  [262.99597907066345]   [0.2800000123679638]   \n",
       "2  [1.3050000220537186]  [261.87598395347595]   [0.4400000125169754]   \n",
       "3  [1.3199999928474426]   [260.8060071468353]   [0.5600000023841858]   \n",
       "4  [1.5799999535083742]  [259.51599860191345]   [0.5900000035762787]   \n",
       "\n",
       "   radialVelocityDomainMax  yaw_rate  ego_speed  \\\n",
       "0                27.573689  0.104996  26.453125   \n",
       "1                25.904442  0.104996  26.453125   \n",
       "2                24.401609  0.104996  26.578125   \n",
       "3                27.753181  0.145004  26.968750   \n",
       "4                26.000765  0.104996  27.156250   \n",
       "\n",
       "                                  is_valid_detection  \\\n",
       "0  [0, 0, 0, 0, 0, 0, 0, 0, 0, 0, 0, 0, 0, 0, 0, ...   \n",
       "1  [0, 0, 0, 0, 0, 0, 0, 0, 0, 0, 0, 0, 0, 0, 0, ...   \n",
       "2  [0, 0, 0, 0, 0, 0, 0, 0, 0, 0, 0, 0, 0, 0, 0, ...   \n",
       "3  [0, 0, 0, 0, 0, 0, 0, 0, 0, 0, 0, 0, 0, 0, 0, ...   \n",
       "4  [0, 0, 0, 0, 0, 0, 0, 0, 0, 0, 0, 0, 0, 0, 0, ...   \n",
       "\n",
       "                                    angleAzimuth_sin  \\\n",
       "0  [-0.015561369247734547, -0.014888850972056389,...   \n",
       "1  [-0.016615817323327065, -0.015755081549286842,...   \n",
       "2  [-0.018222127109766006, -0.017430856823921204,...   \n",
       "3  [-0.01808415912091732, -0.014246480539441109, ...   \n",
       "4  [-0.015439840964972973, -0.013655276037752628,...   \n",
       "\n",
       "                                    angleAzimuth_cos  \\\n",
       "0  [0.9998789429664612, 0.9998891353607178, 0.999...   \n",
       "1  [0.9998619556427002, 0.9998759031295776, 0.999...   \n",
       "2  [0.9998339414596558, 0.9998480677604675, 0.999...   \n",
       "3  [0.9998364448547363, 0.9998984932899475, 0.999...   \n",
       "4  [0.9998807907104492, 0.9999067783355713, 0.999...   \n",
       "\n",
       "                                  angleElevation_sin  \\\n",
       "0  [0.00032533155172131956, -8.224674093071371e-0...   \n",
       "1  [0.00023120472906157374, -0.000743876036722213...   \n",
       "2  [0.00023120472906157374, 0.0001023514996632002...   \n",
       "3  [-0.0002412571047898382, 0.0001608380698598921...   \n",
       "4  [0.00014895798813086003, -0.001049102633260190...   \n",
       "\n",
       "                                  angleElevation_cos  \n",
       "0  [0.9999999403953552, 1.0, 0.999997079372406, 1...  \n",
       "1  [1.0, 0.9999997019767761, 0.9999995231628418, ...  \n",
       "2  [1.0, 1.0, 0.9999862909317017, 1.0, 0.99999892...  \n",
       "3  [1.0, 1.0, 0.9999995231628418, 0.9999947547912...  \n",
       "4  [1.0, 0.999999463558197, 1.0, 0.99999189376831...  "
      ]
     },
     "execution_count": 7,
     "metadata": {},
     "output_type": "execute_result"
    }
   ],
   "source": [
    "vd.head(5)"
   ]
  },
  {
   "cell_type": "code",
   "execution_count": 13,
   "metadata": {},
   "outputs": [
    {
     "data": {
      "text/html": [
       "<div>\n",
       "<style scoped>\n",
       "    .dataframe tbody tr th:only-of-type {\n",
       "        vertical-align: middle;\n",
       "    }\n",
       "\n",
       "    .dataframe tbody tr th {\n",
       "        vertical-align: top;\n",
       "    }\n",
       "\n",
       "    .dataframe thead th {\n",
       "        text-align: right;\n",
       "    }\n",
       "</style>\n",
       "<table border=\"1\" class=\"dataframe\">\n",
       "  <thead>\n",
       "    <tr style=\"text-align: right;\">\n",
       "      <th></th>\n",
       "      <th>features</th>\n",
       "      <th>scalars</th>\n",
       "      <th>labels</th>\n",
       "    </tr>\n",
       "  </thead>\n",
       "  <tbody>\n",
       "    <tr>\n",
       "      <th>0</th>\n",
       "      <td>[-0.9214916245549281, 0.13686850666999817, -0....</td>\n",
       "      <td>[-0.25637329330851066, -0.8937637072574967, -1...</td>\n",
       "      <td>[99.92099738121033, -1.5149999260902405, 0.25,...</td>\n",
       "    </tr>\n",
       "    <tr>\n",
       "      <th>1</th>\n",
       "      <td>[0.39275357847913195, -0.6221814304590225, 0.1...</td>\n",
       "      <td>[-0.38868177287173805, 0.7326230177107833, -1....</td>\n",
       "      <td>[48.99599799513817, 2.709999918937683, 1.19999...</td>\n",
       "    </tr>\n",
       "    <tr>\n",
       "      <th>2</th>\n",
       "      <td>[0.24336455540044027, -0.6283897042274476, 0.1...</td>\n",
       "      <td>[-1.4373277724941775, 0.8487821027203979, -1.4...</td>\n",
       "      <td>[48.50099799036979, 2.719999909400938, 1.19999...</td>\n",
       "    </tr>\n",
       "    <tr>\n",
       "      <th>3</th>\n",
       "      <td>[0.3549335726364252, -0.6317683011293411, 0.14...</td>\n",
       "      <td>[1.1665631204609248, 0.6861452028328329, -1.46...</td>\n",
       "      <td>[48.220997840166106, 2.699999928474426, 1.1999...</td>\n",
       "    </tr>\n",
       "    <tr>\n",
       "      <th>4</th>\n",
       "      <td>[0.19798054838919216, -0.6396640062332153, 0.1...</td>\n",
       "      <td>[0.41514732883330074, 0.6629240214864885, -1.4...</td>\n",
       "      <td>[47.80100011825561, 2.849999904632571, 1.19999...</td>\n",
       "    </tr>\n",
       "  </tbody>\n",
       "</table>\n",
       "</div>"
      ],
      "text/plain": [
       "                                            features  \\\n",
       "0  [-0.9214916245549281, 0.13686850666999817, -0....   \n",
       "1  [0.39275357847913195, -0.6221814304590225, 0.1...   \n",
       "2  [0.24336455540044027, -0.6283897042274476, 0.1...   \n",
       "3  [0.3549335726364252, -0.6317683011293411, 0.14...   \n",
       "4  [0.19798054838919216, -0.6396640062332153, 0.1...   \n",
       "\n",
       "                                             scalars  \\\n",
       "0  [-0.25637329330851066, -0.8937637072574967, -1...   \n",
       "1  [-0.38868177287173805, 0.7326230177107833, -1....   \n",
       "2  [-1.4373277724941775, 0.8487821027203979, -1.4...   \n",
       "3  [1.1665631204609248, 0.6861452028328329, -1.46...   \n",
       "4  [0.41514732883330074, 0.6629240214864885, -1.4...   \n",
       "\n",
       "                                              labels  \n",
       "0  [99.92099738121033, -1.5149999260902405, 0.25,...  \n",
       "1  [48.99599799513817, 2.709999918937683, 1.19999...  \n",
       "2  [48.50099799036979, 2.719999909400938, 1.19999...  \n",
       "3  [48.220997840166106, 2.699999928474426, 1.1999...  \n",
       "4  [47.80100011825561, 2.849999904632571, 1.19999...  "
      ]
     },
     "execution_count": 13,
     "metadata": {},
     "output_type": "execute_result"
    }
   ],
   "source": [
    "vpd = pd.read_pickle(\"/home/q674749/workspace/thesis_work/rat25-15.4.1/perception/grouped_data/combined_54.p\")\n",
    "vpd.head(5)"
   ]
  },
  {
   "cell_type": "code",
   "execution_count": 1,
   "metadata": {},
   "outputs": [
    {
     "name": "stdout",
     "output_type": "stream",
     "text": [
      "📂 Loaded file: /home/q674749/workspace/thesis_work/rat25-15.4.1/perception/final_endgame_data/combined_194.p\n",
      "\n",
      "📊 First 5 Rows of the Dataset:\n",
      "\n",
      "                                            objectID  \\\n",
      "0  [205, 205, 205, 205, 205, 205, 205, 205, 205, ...   \n",
      "1  [205, 205, 205, 205, 205, 205, 205, 205, 205, ...   \n",
      "2  [205, 205, 205, 205, 205, 205, 205, 205, 205, ...   \n",
      "3  [205, 205, 205, 205, 205, 205, 205, 398, 398, ...   \n",
      "4  [205, 205, 205, 205, 205, 398, 398, 398, 200, ...   \n",
      "\n",
      "                                                 rcs  \\\n",
      "0  [-13, -10, -11, -14, -12, -24, -18, 1, 6, -14,...   \n",
      "1  [-11, -13, 14, 15, -23, 12, -18, -9, -16, 8, 0...   \n",
      "2  [-11, 2, -10, 10, 10, 4, 5, -11, -20, -22, -22...   \n",
      "3  [-9, -11, -4, -14, -17, -13, -13, 11, 24, -13,...   \n",
      "4  [-12, -8, -15, -8, -10, 27, -5, -16, 20, 4, -8...   \n",
      "\n",
      "                                            distance  \\\n",
      "0  [4.31, 4.37, 4.93, 5.13, 5.6099997, 5.81, 6.42...   \n",
      "1  [4.24, 4.5099998, 4.74, 4.85, 4.94, 6.47, 6.6,...   \n",
      "2  [4.1, 4.3199997, 4.33, 4.5499997, 4.5699997, 6...   \n",
      "3  [4.46, 4.47, 5.08, 6.31, 6.37, 6.39, 6.6299996...   \n",
      "4  [5.2799997, 5.72, 6.08, 6.21, 6.62, 32.63, 33....   \n",
      "\n",
      "                                        angleAzimuth  \\\n",
      "0  [-0.9896545, -0.9445726, -0.8333602, -0.959966...   \n",
      "1  [-0.9962518, -1.0119598, -0.88315445, -0.86901...   \n",
      "2  [-1.0321708, -0.9379753, -0.96729684, -0.91818...   \n",
      "3  [-0.96661615, -0.9955188, -0.77670676, -0.5925...   \n",
      "4  [-0.72738373, -0.67319125, -0.6864383, -0.7573...   \n",
      "\n",
      "                                      angleElevation  \\\n",
      "0  [0.06440268, 0.045238953, 0.06544988, 0.087702...   \n",
      "1  [0.049584825, 0.011100299, 0.06958631, 0.07026...   \n",
      "2  [0.007906345, -0.0004188792, -0.0028274346, 0....   \n",
      "3  [0.0029321546, 0.06759663, -0.19818223, 0.0081...   \n",
      "4  [-0.19373164, 0.19624491, -0.06890563, -0.0572...   \n",
      "\n",
      "                                      radialVelocity  \\\n",
      "0  [-3.0249999, -3.23, -3.715, -3.095, -4.2799997...   \n",
      "1  [-3.01, -2.885, -3.5049999, -3.56, -3.9099998,...   \n",
      "2  [-2.83, -3.34, -3.115, -3.32, -3.415, -4.42499...   \n",
      "3  [-3.135, -2.985, -3.945, -4.5499997, -4.29, -4...   \n",
      "4  [-4.14, -4.2999997, -4.2149997, -3.995, -4.52,...   \n",
      "\n",
      "                                           object_id  \\\n",
      "0  [1656, 205, 398, 863, 1872, 1504, 2557, 3370, ...   \n",
      "1  [1656, 205, 398, 863, 1872, 1504, 2557, 3370, ...   \n",
      "2  [1656, 205, 398, 863, 1872, 1504, 2557, 3370, ...   \n",
      "3  [1656, 205, 398, 863, 1872, 1504, 2557, 3370, ...   \n",
      "4  [1656, 205, 398, 863, 1872, 1504, 2557, 3370, ...   \n",
      "\n",
      "                                         orientation  \\\n",
      "0  [3.1392908, 0.018120697, 0.0002876301, 0.00977...   \n",
      "1  [3.1328669, 0.017833065, -0.0070948754, 0.0095...   \n",
      "2  [3.134497, 0.018504202, -0.006040232, 0.009204...   \n",
      "3  [3.1353598, 0.018216573, -0.01160108, 0.009012...   \n",
      "4  [3.1364145, 0.018312449, -0.0057526017, 0.0085...   \n",
      "\n",
      "                                     width_edge_mean  \\\n",
      "0  [1.1999999, 1.3299999, 1.4, 1.1999999, 1.19999...   \n",
      "1  [1.0699999, 1.31, 1.4, 1.1999999, 1.1999999, 1...   \n",
      "2  [0.93, 1.43, 1.3399999, 1.1999999, 1.1999999, ...   \n",
      "3  [0.74, 1.35, 1.23, 1.1999999, 1.1999999, 1.199...   \n",
      "4  [0.72999996, 1.2099999, 1.1999999, 1.1999999, ...   \n",
      "\n",
      "                                    length_edge_mean  ...  \\\n",
      "0  [2.48, 3.8899999, 3.28, 1.06, 0.61, 2.87, 0.25...  ...   \n",
      "1  [3.1899998, 3.78, 3.4299998, 0.85999995, 0.52,...  ...   \n",
      "2  [3.72, 3.82, 3.31, 0.7, 0.52, 2.86, 0.25, 0.22...  ...   \n",
      "3  [3.6299999, 3.76, 2.9199998, 0.59, 0.45, 2.86,...  ...   \n",
      "4  [3.1399999, 3.77, 2.8999999, 0.51, 0.45, 2.86,...  ...   \n",
      "\n",
      "                                          centroid_y  \\\n",
      "0  [8.119999766349794, -3.484999835491179, -3.469...   \n",
      "1  [8.384999692440035, -3.4749998450279236, -3.51...   \n",
      "2  [8.234999805688858, -3.4549998044967647, -3.47...   \n",
      "3  [8.039999902248386, -3.4650000333786006, -3.55...   \n",
      "4  [8.034999877214432, -3.4550001621246333, -3.40...   \n",
      "\n",
      "                                       transformed_x  \\\n",
      "0  [87.44599890708923, 2.365999460220337, 33.6459...   \n",
      "1  [84.49599432945251, 2.0959994792938232, 33.315...   \n",
      "2  [80.9560010433197, 1.9259998798370361, 32.9659...   \n",
      "3  [78.41600012779236, 1.7059996128082275, 32.655...   \n",
      "4  [74.74599432945251, 1.5359995365142822, 32.335...   \n",
      "\n",
      "                                       transformed_y  \\\n",
      "0  [7.519999802112579, -4.149999797344208, -4.169...   \n",
      "1  [7.849999725818634, -4.129999816417694, -4.219...   \n",
      "2  [7.769999802112579, -4.169999778270721, -4.149...   \n",
      "3  [7.669999897480011, -4.14000004529953, -4.1699...   \n",
      "4  [7.669999897480011, -4.060000121593475, -4.009...   \n",
      "\n",
      "                                  status_measurement  \\\n",
      "0  [(0, measured), (0, measured), (0, measured), ...   \n",
      "1  [(0, measured), (0, measured), (0, measured), ...   \n",
      "2  [(0, measured), (0, measured), (0, measured), ...   \n",
      "3  [(0, measured), (0, measured), (0, measured), ...   \n",
      "4  [(0, measured), (0, measured), (2, predicted),...   \n",
      "\n",
      "                                     status_movement  \\\n",
      "0  [(0, moved), (1, stationary), (1, stationary),...   \n",
      "1  [(0, moved), (1, stationary), (1, stationary),...   \n",
      "2  [(0, moved), (1, stationary), (1, stationary),...   \n",
      "3  [(0, moved), (1, stationary), (1, stationary),...   \n",
      "4  [(0, moved), (1, stationary), (1, stationary),...   \n",
      "\n",
      "                                        overdrivable  \\\n",
      "0  [0, 0, 0, 13, 26, 17, 0, 0, 0, 2, 23, 0, 0, 0,...   \n",
      "1  [0, 0, 28, 0, 0, 0, 2, 24, 6, 1, 13, 0, 0, 0, ...   \n",
      "2  [0, 0, 0, 29, 0, 0, 0, 2, 25, 5, 1, 0, 0, 0, 0...   \n",
      "3  [0, 0, 0, 30, 0, 0, 0, 2, 27, 5, 0, 0, 0, 0, 0...   \n",
      "4  [0, 0, 0, 28, 19, 8, 0, 0, 0, 1, 29, 0, 0, 0, ...   \n",
      "\n",
      "                                       underdrivable radialVelocityDomainMax  \\\n",
      "0  [0, 0, 0, 8, 0, 9, 49, 69, 76, 95, 76, 0, 0, 0...               26.021479   \n",
      "1  [0, 0, 0, 52, 69, 79, 94, 75, 94, 99, 87, 0, 0...               23.562521   \n",
      "2  [0, 0, 5, 0, 59, 67, 82, 94, 74, 95, 99, 0, 0,...               27.365793   \n",
      "3  [0, 0, 5, 0, 61, 61, 84, 95, 72, 95, 100, 0, 0...               24.954550   \n",
      "4  [0, 0, 4, 0, 9, 23, 46, 61, 83, 96, 69, 0, 0, ...               23.349266   \n",
      "\n",
      "   yaw_rate   ego_speed  \n",
      "0 -0.024994  109.812500  \n",
      "1 -0.024994  109.812500  \n",
      "2  0.035004  109.656250  \n",
      "3  0.095001  109.703125  \n",
      "4  0.115005  109.531250  \n",
      "\n",
      "[5 rows x 21 columns]\n"
     ]
    }
   ],
   "source": [
    "import os\n",
    "import pandas as pd\n",
    "\n",
    "# Folder path where the dataset is stored\n",
    "augmented_folder = \"/home/q674749/workspace/thesis_work/rat25-15.4.1/perception/final_endgame_data\"\n",
    "\n",
    "# Get a sample file (first .p file in the folder)\n",
    "sample_file = None\n",
    "for filename in os.listdir(augmented_folder):\n",
    "    if filename.endswith(\".p\"):  # Look for a .p (pickle) file\n",
    "        sample_file = os.path.join(augmented_folder, filename)\n",
    "        break  # Take the first available file\n",
    "\n",
    "# Load and print the first five rows if a file is found\n",
    "if sample_file:\n",
    "    df_sample = pd.read_pickle(sample_file)  # Load pickle file into a Pandas DataFrame\n",
    "    print(f\"📂 Loaded file: {sample_file}\")\n",
    "    print(\"\\n📊 First 5 Rows of the Dataset:\\n\")\n",
    "    print(df_sample.head())  # Display the first five rows\n",
    "else:\n",
    "    print(\"⚠ No .p files found in the specified folder.\")"
   ]
  }
 ],
 "metadata": {
  "kernelspec": {
   "display_name": "Python 3",
   "language": "python",
   "name": "python3"
  },
  "language_info": {
   "codemirror_mode": {
    "name": "ipython",
    "version": 3
   },
   "file_extension": ".py",
   "mimetype": "text/x-python",
   "name": "python",
   "nbconvert_exporter": "python",
   "pygments_lexer": "ipython3",
   "version": "3.8.10"
  }
 },
 "nbformat": 4,
 "nbformat_minor": 2
}
