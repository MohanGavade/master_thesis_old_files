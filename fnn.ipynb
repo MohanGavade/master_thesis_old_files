{
 "cells": [
  {
   "cell_type": "code",
   "execution_count": null,
   "metadata": {},
   "outputs": [
    {
     "name": "stdout",
     "output_type": "stream",
     "text": [
      "\n",
      "🚀 [INFO] Loading radar data files...\n"
     ]
    },
    {
     "name": "stderr",
     "output_type": "stream",
     "text": [
      "  1%|          | 1/153 [00:01<03:23,  1.34s/it]"
     ]
    },
    {
     "name": "stdout",
     "output_type": "stream",
     "text": [
      "🔍 [DEBUG] Checking file: combined_194.p, Shape: (400, 18)\n"
     ]
    },
    {
     "name": "stderr",
     "output_type": "stream",
     "text": [
      "  2%|▏         | 3/153 [00:02<01:53,  1.32it/s]"
     ]
    },
    {
     "name": "stdout",
     "output_type": "stream",
     "text": [
      "🔍 [DEBUG] Checking file: combined_218.p, Shape: (400, 18)\n",
      "🔍 [DEBUG] Checking file: combined_62.p, Shape: (82, 18)\n"
     ]
    },
    {
     "name": "stderr",
     "output_type": "stream",
     "text": [
      "  3%|▎         | 4/153 [00:03<02:14,  1.10it/s]"
     ]
    },
    {
     "name": "stdout",
     "output_type": "stream",
     "text": [
      "🔍 [DEBUG] Checking file: combined_197.p, Shape: (400, 18)\n"
     ]
    },
    {
     "name": "stderr",
     "output_type": "stream",
     "text": [
      "  3%|▎         | 5/153 [00:04<01:53,  1.31it/s]"
     ]
    },
    {
     "name": "stdout",
     "output_type": "stream",
     "text": [
      "🔍 [DEBUG] Checking file: combined_157.p, Shape: (124, 18)\n"
     ]
    },
    {
     "name": "stderr",
     "output_type": "stream",
     "text": [
      "  4%|▍         | 6/153 [00:05<02:11,  1.11it/s]"
     ]
    },
    {
     "name": "stdout",
     "output_type": "stream",
     "text": [
      "🔍 [DEBUG] Checking file: combined_141.p, Shape: (338, 18)\n"
     ]
    },
    {
     "name": "stderr",
     "output_type": "stream",
     "text": [
      "  5%|▌         | 8/153 [00:06<01:23,  1.73it/s]"
     ]
    },
    {
     "name": "stdout",
     "output_type": "stream",
     "text": [
      "🔍 [DEBUG] Checking file: combined_148.p, Shape: (124, 18)\n",
      "🔍 [DEBUG] Checking file: combined_80.p, Shape: (82, 18)\n"
     ]
    },
    {
     "name": "stderr",
     "output_type": "stream",
     "text": [
      "  6%|▌         | 9/153 [00:06<01:04,  2.22it/s]"
     ]
    },
    {
     "name": "stdout",
     "output_type": "stream",
     "text": [
      "🔍 [DEBUG] Checking file: combined_55.p, Shape: (82, 18)\n"
     ]
    },
    {
     "name": "stderr",
     "output_type": "stream",
     "text": [
      "  7%|▋         | 10/153 [00:08<01:58,  1.21it/s]"
     ]
    },
    {
     "name": "stdout",
     "output_type": "stream",
     "text": [
      "🔍 [DEBUG] Checking file: combined_210.p, Shape: (400, 18)\n"
     ]
    },
    {
     "name": "stderr",
     "output_type": "stream",
     "text": [
      "  7%|▋         | 11/153 [00:08<01:43,  1.38it/s]"
     ]
    },
    {
     "name": "stdout",
     "output_type": "stream",
     "text": [
      "🔍 [DEBUG] Checking file: combined_165.p, Shape: (124, 18)\n"
     ]
    },
    {
     "name": "stderr",
     "output_type": "stream",
     "text": [
      "  8%|▊         | 12/153 [00:09<02:00,  1.17it/s]"
     ]
    },
    {
     "name": "stdout",
     "output_type": "stream",
     "text": [
      "🔍 [DEBUG] Checking file: combined_138.p, Shape: (338, 18)\n"
     ]
    },
    {
     "name": "stderr",
     "output_type": "stream",
     "text": [
      "  8%|▊         | 13/153 [00:10<02:14,  1.04it/s]"
     ]
    },
    {
     "name": "stdout",
     "output_type": "stream",
     "text": [
      "🔍 [DEBUG] Checking file: combined_227.p, Shape: (400, 18)\n"
     ]
    },
    {
     "name": "stderr",
     "output_type": "stream",
     "text": [
      "  9%|▉         | 14/153 [00:11<02:20,  1.01s/it]"
     ]
    },
    {
     "name": "stdout",
     "output_type": "stream",
     "text": [
      "🔍 [DEBUG] Checking file: combined_144.p, Shape: (338, 18)\n"
     ]
    },
    {
     "name": "stderr",
     "output_type": "stream",
     "text": [
      " 10%|█         | 16/153 [00:12<01:28,  1.55it/s]"
     ]
    },
    {
     "name": "stdout",
     "output_type": "stream",
     "text": [
      "🔍 [DEBUG] Checking file: combined_170.p, Shape: (124, 18)\n",
      "🔍 [DEBUG] Checking file: combined_69.p, Shape: (82, 18)\n"
     ]
    },
    {
     "name": "stderr",
     "output_type": "stream",
     "text": [
      " 11%|█         | 17/153 [00:13<01:47,  1.26it/s]"
     ]
    },
    {
     "name": "stdout",
     "output_type": "stream",
     "text": [
      "🔍 [DEBUG] Checking file: combined_134.p, Shape: (338, 18)\n"
     ]
    },
    {
     "name": "stderr",
     "output_type": "stream",
     "text": [
      " 12%|█▏        | 18/153 [00:14<02:02,  1.10it/s]"
     ]
    },
    {
     "name": "stdout",
     "output_type": "stream",
     "text": [
      "🔍 [DEBUG] Checking file: combined_229.p, Shape: (400, 18)\n"
     ]
    },
    {
     "name": "stderr",
     "output_type": "stream",
     "text": [
      " 12%|█▏        | 19/153 [00:15<01:45,  1.27it/s]"
     ]
    },
    {
     "name": "stdout",
     "output_type": "stream",
     "text": [
      "🔍 [DEBUG] Checking file: combined_172.p, Shape: (124, 18)\n"
     ]
    },
    {
     "name": "stderr",
     "output_type": "stream",
     "text": [
      " 13%|█▎        | 20/153 [00:15<01:32,  1.45it/s]"
     ]
    },
    {
     "name": "stdout",
     "output_type": "stream",
     "text": [
      "🔍 [DEBUG] Checking file: combined_161.p, Shape: (124, 18)\n"
     ]
    },
    {
     "name": "stderr",
     "output_type": "stream",
     "text": [
      " 14%|█▎        | 21/153 [00:17<02:26,  1.11s/it]"
     ]
    },
    {
     "name": "stdout",
     "output_type": "stream",
     "text": [
      "🔍 [DEBUG] Checking file: combined_118.p, Shape: (338, 18)\n"
     ]
    },
    {
     "name": "stderr",
     "output_type": "stream",
     "text": [
      " 14%|█▍        | 22/153 [00:19<02:26,  1.12s/it]"
     ]
    },
    {
     "name": "stdout",
     "output_type": "stream",
     "text": [
      "🔍 [DEBUG] Checking file: combined_119.p, Shape: (338, 18)\n"
     ]
    },
    {
     "name": "stderr",
     "output_type": "stream",
     "text": [
      " 15%|█▌        | 23/153 [00:20<02:28,  1.14s/it]"
     ]
    },
    {
     "name": "stdout",
     "output_type": "stream",
     "text": [
      "🔍 [DEBUG] Checking file: combined_226.p, Shape: (400, 18)\n"
     ]
    },
    {
     "name": "stderr",
     "output_type": "stream",
     "text": [
      " 16%|█▋        | 25/153 [00:21<01:49,  1.17it/s]"
     ]
    },
    {
     "name": "stdout",
     "output_type": "stream",
     "text": [
      "🔍 [DEBUG] Checking file: combined_121.p, Shape: (338, 18)\n",
      "🔍 [DEBUG] Checking file: combined_81.p, Shape: (82, 18)\n"
     ]
    },
    {
     "name": "stderr",
     "output_type": "stream",
     "text": [
      " 17%|█▋        | 26/153 [00:22<01:59,  1.06it/s]"
     ]
    },
    {
     "name": "stdout",
     "output_type": "stream",
     "text": [
      "🔍 [DEBUG] Checking file: combined_223.p, Shape: (400, 18)\n"
     ]
    },
    {
     "name": "stderr",
     "output_type": "stream",
     "text": [
      " 18%|█▊        | 27/153 [00:23<02:06,  1.00s/it]"
     ]
    },
    {
     "name": "stdout",
     "output_type": "stream",
     "text": [
      "🔍 [DEBUG] Checking file: combined_120.p, Shape: (338, 18)\n"
     ]
    },
    {
     "name": "stderr",
     "output_type": "stream",
     "text": [
      " 19%|█▉        | 29/153 [00:25<01:38,  1.25it/s]"
     ]
    },
    {
     "name": "stdout",
     "output_type": "stream",
     "text": [
      "🔍 [DEBUG] Checking file: combined_212.p, Shape: (400, 18)\n",
      "🔍 [DEBUG] Checking file: combined_76.p, Shape: (82, 18)\n"
     ]
    },
    {
     "name": "stderr",
     "output_type": "stream",
     "text": [
      " 20%|█▉        | 30/153 [00:25<01:25,  1.43it/s]"
     ]
    },
    {
     "name": "stdout",
     "output_type": "stream",
     "text": [
      "🔍 [DEBUG] Checking file: combined_183.p, Shape: (124, 18)\n"
     ]
    },
    {
     "name": "stderr",
     "output_type": "stream",
     "text": [
      " 21%|██        | 32/153 [00:27<01:18,  1.54it/s]"
     ]
    },
    {
     "name": "stdout",
     "output_type": "stream",
     "text": [
      "🔍 [DEBUG] Checking file: combined_207.p, Shape: (400, 18)\n",
      "🔍 [DEBUG] Checking file: combined_64.p, Shape: (82, 18)\n"
     ]
    },
    {
     "name": "stderr",
     "output_type": "stream",
     "text": [
      " 22%|██▏       | 33/153 [00:27<01:10,  1.69it/s]"
     ]
    },
    {
     "name": "stdout",
     "output_type": "stream",
     "text": [
      "🔍 [DEBUG] Checking file: combined_166.p, Shape: (124, 18)\n"
     ]
    },
    {
     "name": "stderr",
     "output_type": "stream",
     "text": [
      " 22%|██▏       | 34/153 [00:29<01:56,  1.02it/s]"
     ]
    },
    {
     "name": "stdout",
     "output_type": "stream",
     "text": [
      "🔍 [DEBUG] Checking file: combined_176.p, Shape: (124, 18)\n"
     ]
    },
    {
     "name": "stderr",
     "output_type": "stream",
     "text": [
      " 24%|██▎       | 36/153 [00:30<01:31,  1.27it/s]"
     ]
    },
    {
     "name": "stdout",
     "output_type": "stream",
     "text": [
      "🔍 [DEBUG] Checking file: combined_208.p, Shape: (400, 18)\n",
      "🔍 [DEBUG] Checking file: combined_56.p, Shape: (82, 18)\n"
     ]
    },
    {
     "name": "stderr",
     "output_type": "stream",
     "text": [
      " 24%|██▍       | 37/153 [00:32<01:44,  1.11it/s]"
     ]
    },
    {
     "name": "stdout",
     "output_type": "stream",
     "text": [
      "🔍 [DEBUG] Checking file: combined_195.p, Shape: (400, 18)\n"
     ]
    },
    {
     "name": "stderr",
     "output_type": "stream",
     "text": [
      " 25%|██▍       | 38/153 [00:32<01:29,  1.29it/s]"
     ]
    },
    {
     "name": "stdout",
     "output_type": "stream",
     "text": [
      "🔍 [DEBUG] Checking file: combined_156.p, Shape: (124, 18)\n"
     ]
    },
    {
     "name": "stderr",
     "output_type": "stream",
     "text": [
      " 25%|██▌       | 39/153 [00:33<01:17,  1.46it/s]"
     ]
    },
    {
     "name": "stdout",
     "output_type": "stream",
     "text": [
      "🔍 [DEBUG] Checking file: combined_153.p, Shape: (124, 18)\n"
     ]
    },
    {
     "name": "stderr",
     "output_type": "stream",
     "text": [
      " 26%|██▌       | 40/153 [00:34<01:34,  1.20it/s]"
     ]
    },
    {
     "name": "stdout",
     "output_type": "stream",
     "text": [
      "🔍 [DEBUG] Checking file: combined_184.p, Shape: (400, 18)\n"
     ]
    },
    {
     "name": "stderr",
     "output_type": "stream",
     "text": [
      " 27%|██▋       | 41/153 [00:35<01:46,  1.05it/s]"
     ]
    },
    {
     "name": "stdout",
     "output_type": "stream",
     "text": [
      "🔍 [DEBUG] Checking file: combined_231.p, Shape: (400, 18)\n"
     ]
    },
    {
     "name": "stderr",
     "output_type": "stream",
     "text": [
      " 27%|██▋       | 42/153 [00:36<01:53,  1.02s/it]"
     ]
    },
    {
     "name": "stdout",
     "output_type": "stream",
     "text": [
      "🔍 [DEBUG] Checking file: combined_230.p, Shape: (400, 18)\n"
     ]
    },
    {
     "name": "stderr",
     "output_type": "stream",
     "text": [
      " 28%|██▊       | 43/153 [00:37<01:34,  1.16it/s]"
     ]
    },
    {
     "name": "stdout",
     "output_type": "stream",
     "text": [
      "🔍 [DEBUG] Checking file: combined_154.p, Shape: (124, 18)\n"
     ]
    },
    {
     "name": "stderr",
     "output_type": "stream",
     "text": [
      " 29%|██▉       | 44/153 [00:37<01:20,  1.35it/s]"
     ]
    },
    {
     "name": "stdout",
     "output_type": "stream",
     "text": [
      "🔍 [DEBUG] Checking file: combined_155.p, Shape: (124, 18)\n"
     ]
    },
    {
     "name": "stderr",
     "output_type": "stream",
     "text": [
      " 30%|███       | 46/153 [00:38<01:10,  1.51it/s]"
     ]
    },
    {
     "name": "stdout",
     "output_type": "stream",
     "text": [
      "🔍 [DEBUG] Checking file: combined_140.p, Shape: (338, 18)\n",
      "🔍 [DEBUG] Checking file: combined_54.p, Shape: (82, 18)\n"
     ]
    },
    {
     "name": "stderr",
     "output_type": "stream",
     "text": [
      " 31%|███       | 47/153 [00:39<01:03,  1.67it/s]"
     ]
    },
    {
     "name": "stdout",
     "output_type": "stream",
     "text": [
      "🔍 [DEBUG] Checking file: combined_174.p, Shape: (124, 18)\n"
     ]
    },
    {
     "name": "stderr",
     "output_type": "stream",
     "text": [
      " 31%|███▏      | 48/153 [00:39<00:58,  1.78it/s]"
     ]
    },
    {
     "name": "stdout",
     "output_type": "stream",
     "text": [
      "🔍 [DEBUG] Checking file: combined_179.p, Shape: (124, 18)\n"
     ]
    },
    {
     "name": "stderr",
     "output_type": "stream",
     "text": [
      " 32%|███▏      | 49/153 [00:40<01:16,  1.36it/s]"
     ]
    },
    {
     "name": "stdout",
     "output_type": "stream",
     "text": [
      "🔍 [DEBUG] Checking file: combined_116.p, Shape: (338, 18)\n"
     ]
    },
    {
     "name": "stderr",
     "output_type": "stream",
     "text": [
      " 33%|███▎      | 50/153 [00:41<01:08,  1.51it/s]"
     ]
    },
    {
     "name": "stdout",
     "output_type": "stream",
     "text": [
      "🔍 [DEBUG] Checking file: combined_173.p, Shape: (124, 18)\n"
     ]
    },
    {
     "name": "stderr",
     "output_type": "stream",
     "text": [
      " 33%|███▎      | 51/153 [00:42<01:22,  1.24it/s]"
     ]
    },
    {
     "name": "stdout",
     "output_type": "stream",
     "text": [
      "🔍 [DEBUG] Checking file: combined_111.p, Shape: (338, 18)\n"
     ]
    },
    {
     "name": "stderr",
     "output_type": "stream",
     "text": [
      " 34%|███▍      | 52/153 [00:44<02:06,  1.25s/it]"
     ]
    },
    {
     "name": "stdout",
     "output_type": "stream",
     "text": [
      "🔍 [DEBUG] Checking file: combined_58.p, Shape: (82, 18)\n"
     ]
    },
    {
     "name": "stderr",
     "output_type": "stream",
     "text": [
      " 35%|███▌      | 54/153 [00:46<01:31,  1.09it/s]"
     ]
    },
    {
     "name": "stdout",
     "output_type": "stream",
     "text": [
      "🔍 [DEBUG] Checking file: combined_202.p, Shape: (400, 18)\n",
      "🔍 [DEBUG] Checking file: combined_74.p, Shape: (82, 18)\n"
     ]
    },
    {
     "name": "stderr",
     "output_type": "stream",
     "text": [
      " 36%|███▌      | 55/153 [00:47<01:36,  1.02it/s]"
     ]
    },
    {
     "name": "stdout",
     "output_type": "stream",
     "text": [
      "🔍 [DEBUG] Checking file: combined_124.p, Shape: (338, 18)\n"
     ]
    },
    {
     "name": "stderr",
     "output_type": "stream",
     "text": [
      " 37%|███▋      | 56/153 [00:47<01:20,  1.21it/s]"
     ]
    },
    {
     "name": "stdout",
     "output_type": "stream",
     "text": [
      "🔍 [DEBUG] Checking file: combined_151.p, Shape: (124, 18)\n"
     ]
    },
    {
     "name": "stderr",
     "output_type": "stream",
     "text": [
      " 37%|███▋      | 57/153 [00:49<01:28,  1.08it/s]"
     ]
    },
    {
     "name": "stdout",
     "output_type": "stream",
     "text": [
      "🔍 [DEBUG] Checking file: combined_113.p, Shape: (338, 18)\n"
     ]
    },
    {
     "name": "stderr",
     "output_type": "stream",
     "text": [
      " 39%|███▊      | 59/153 [00:50<01:10,  1.33it/s]"
     ]
    },
    {
     "name": "stdout",
     "output_type": "stream",
     "text": [
      "🔍 [DEBUG] Checking file: combined_136.p, Shape: (338, 18)\n",
      "🔍 [DEBUG] Checking file: combined_70.p, Shape: (82, 18)\n"
     ]
    },
    {
     "name": "stderr",
     "output_type": "stream",
     "text": [
      " 40%|███▉      | 61/153 [00:50<00:41,  2.19it/s]"
     ]
    },
    {
     "name": "stdout",
     "output_type": "stream",
     "text": [
      "🔍 [DEBUG] Checking file: combined_82.p, Shape: (82, 18)\n",
      "🔍 [DEBUG] Checking file: combined_65.p, Shape: (82, 18)\n"
     ]
    },
    {
     "name": "stderr",
     "output_type": "stream",
     "text": [
      " 41%|████      | 62/153 [00:50<00:33,  2.69it/s]"
     ]
    },
    {
     "name": "stdout",
     "output_type": "stream",
     "text": [
      "🔍 [DEBUG] Checking file: combined_75.p, Shape: (82, 18)\n"
     ]
    },
    {
     "name": "stderr",
     "output_type": "stream",
     "text": [
      " 42%|████▏     | 64/153 [00:52<00:42,  2.09it/s]"
     ]
    },
    {
     "name": "stdout",
     "output_type": "stream",
     "text": [
      "🔍 [DEBUG] Checking file: combined_115.p, Shape: (338, 18)\n",
      "🔍 [DEBUG] Checking file: combined_57.p, Shape: (82, 18)\n"
     ]
    },
    {
     "name": "stderr",
     "output_type": "stream",
     "text": [
      " 42%|████▏     | 65/153 [00:52<00:34,  2.55it/s]"
     ]
    },
    {
     "name": "stdout",
     "output_type": "stream",
     "text": [
      "🔍 [DEBUG] Checking file: combined_60.p, Shape: (82, 18)\n"
     ]
    },
    {
     "name": "stderr",
     "output_type": "stream",
     "text": [
      " 43%|████▎     | 66/153 [00:52<00:36,  2.39it/s]"
     ]
    },
    {
     "name": "stdout",
     "output_type": "stream",
     "text": [
      "🔍 [DEBUG] Checking file: combined_159.p, Shape: (124, 18)\n"
     ]
    },
    {
     "name": "stderr",
     "output_type": "stream",
     "text": [
      " 44%|████▍     | 68/153 [00:54<00:43,  1.93it/s]"
     ]
    },
    {
     "name": "stdout",
     "output_type": "stream",
     "text": [
      "🔍 [DEBUG] Checking file: combined_204.p, Shape: (400, 18)\n",
      "🔍 [DEBUG] Checking file: combined_61.p, Shape: (82, 18)\n"
     ]
    },
    {
     "name": "stderr",
     "output_type": "stream",
     "text": [
      " 46%|████▌     | 70/153 [00:55<00:45,  1.84it/s]"
     ]
    },
    {
     "name": "stdout",
     "output_type": "stream",
     "text": [
      "🔍 [DEBUG] Checking file: combined_130.p, Shape: (338, 18)\n",
      "🔍 [DEBUG] Checking file: combined_59.p, Shape: (82, 18)\n"
     ]
    },
    {
     "name": "stderr",
     "output_type": "stream",
     "text": [
      " 46%|████▋     | 71/153 [00:56<00:59,  1.39it/s]"
     ]
    },
    {
     "name": "stdout",
     "output_type": "stream",
     "text": [
      "🔍 [DEBUG] Checking file: combined_126.p, Shape: (338, 18)\n"
     ]
    },
    {
     "name": "stderr",
     "output_type": "stream",
     "text": [
      " 47%|████▋     | 72/153 [00:57<00:52,  1.55it/s]"
     ]
    },
    {
     "name": "stdout",
     "output_type": "stream",
     "text": [
      "🔍 [DEBUG] Checking file: combined_175.p, Shape: (124, 18)\n"
     ]
    },
    {
     "name": "stderr",
     "output_type": "stream",
     "text": [
      " 48%|████▊     | 74/153 [00:57<00:37,  2.12it/s]"
     ]
    },
    {
     "name": "stdout",
     "output_type": "stream",
     "text": [
      "🔍 [DEBUG] Checking file: combined_163.p, Shape: (124, 18)\n",
      "🔍 [DEBUG] Checking file: combined_63.p, Shape: (82, 18)\n"
     ]
    },
    {
     "name": "stderr",
     "output_type": "stream",
     "text": [
      " 49%|████▉     | 75/153 [00:59<00:53,  1.45it/s]"
     ]
    },
    {
     "name": "stdout",
     "output_type": "stream",
     "text": [
      "🔍 [DEBUG] Checking file: combined_209.p, Shape: (400, 18)\n"
     ]
    },
    {
     "name": "stderr",
     "output_type": "stream",
     "text": [
      " 50%|████▉     | 76/153 [01:00<01:04,  1.19it/s]"
     ]
    },
    {
     "name": "stdout",
     "output_type": "stream",
     "text": [
      "🔍 [DEBUG] Checking file: combined_225.p, Shape: (400, 18)\n"
     ]
    },
    {
     "name": "stderr",
     "output_type": "stream",
     "text": [
      " 50%|█████     | 77/153 [01:01<01:10,  1.08it/s]"
     ]
    },
    {
     "name": "stdout",
     "output_type": "stream",
     "text": [
      "🔍 [DEBUG] Checking file: combined_128.p, Shape: (338, 18)\n"
     ]
    },
    {
     "name": "stderr",
     "output_type": "stream",
     "text": [
      " 51%|█████     | 78/153 [01:05<02:18,  1.85s/it]"
     ]
    },
    {
     "name": "stdout",
     "output_type": "stream",
     "text": [
      "🔍 [DEBUG] Checking file: combined_228.p, Shape: (400, 18)\n"
     ]
    },
    {
     "name": "stderr",
     "output_type": "stream",
     "text": [
      " 52%|█████▏    | 79/153 [01:06<02:01,  1.64s/it]"
     ]
    },
    {
     "name": "stdout",
     "output_type": "stream",
     "text": [
      "🔍 [DEBUG] Checking file: combined_131.p, Shape: (338, 18)\n"
     ]
    },
    {
     "name": "stderr",
     "output_type": "stream",
     "text": [
      " 52%|█████▏    | 80/153 [01:07<01:48,  1.49s/it]"
     ]
    },
    {
     "name": "stdout",
     "output_type": "stream",
     "text": [
      "🔍 [DEBUG] Checking file: combined_123.p, Shape: (338, 18)\n"
     ]
    },
    {
     "name": "stderr",
     "output_type": "stream",
     "text": [
      " 53%|█████▎    | 81/153 [01:08<01:40,  1.40s/it]"
     ]
    },
    {
     "name": "stdout",
     "output_type": "stream",
     "text": [
      "🔍 [DEBUG] Checking file: combined_188.p, Shape: (400, 18)\n"
     ]
    },
    {
     "name": "stderr",
     "output_type": "stream",
     "text": [
      " 54%|█████▎    | 82/153 [01:10<01:35,  1.34s/it]"
     ]
    },
    {
     "name": "stdout",
     "output_type": "stream",
     "text": [
      "🔍 [DEBUG] Checking file: combined_222.p, Shape: (400, 18)\n"
     ]
    },
    {
     "name": "stderr",
     "output_type": "stream",
     "text": [
      " 55%|█████▍    | 84/153 [01:11<01:06,  1.04it/s]"
     ]
    },
    {
     "name": "stdout",
     "output_type": "stream",
     "text": [
      "🔍 [DEBUG] Checking file: combined_206.p, Shape: (400, 18)\n",
      "🔍 [DEBUG] Checking file: combined_66.p, Shape: (82, 18)\n"
     ]
    },
    {
     "name": "stderr",
     "output_type": "stream",
     "text": [
      " 56%|█████▌    | 85/153 [01:11<00:55,  1.22it/s]"
     ]
    },
    {
     "name": "stdout",
     "output_type": "stream",
     "text": [
      "🔍 [DEBUG] Checking file: combined_149.p, Shape: (124, 18)\n"
     ]
    },
    {
     "name": "stderr",
     "output_type": "stream",
     "text": [
      " 56%|█████▌    | 86/153 [01:13<01:01,  1.10it/s]"
     ]
    },
    {
     "name": "stdout",
     "output_type": "stream",
     "text": [
      "🔍 [DEBUG] Checking file: combined_146.p, Shape: (338, 18)\n"
     ]
    },
    {
     "name": "stderr",
     "output_type": "stream",
     "text": [
      " 58%|█████▊    | 88/153 [01:14<00:49,  1.32it/s]"
     ]
    },
    {
     "name": "stdout",
     "output_type": "stream",
     "text": [
      "🔍 [DEBUG] Checking file: combined_220.p, Shape: (400, 18)\n",
      "🔍 [DEBUG] Checking file: combined_77.p, Shape: (82, 18)\n"
     ]
    },
    {
     "name": "stderr",
     "output_type": "stream",
     "text": [
      " 58%|█████▊    | 89/153 [01:15<00:56,  1.13it/s]"
     ]
    },
    {
     "name": "stdout",
     "output_type": "stream",
     "text": [
      "🔍 [DEBUG] Checking file: combined_193.p, Shape: (400, 18)\n"
     ]
    },
    {
     "name": "stderr",
     "output_type": "stream",
     "text": [
      " 59%|█████▉    | 91/153 [01:16<00:36,  1.70it/s]"
     ]
    },
    {
     "name": "stdout",
     "output_type": "stream",
     "text": [
      "🔍 [DEBUG] Checking file: combined_178.p, Shape: (124, 18)\n",
      "🔍 [DEBUG] Checking file: combined_84.p, Shape: (82, 18)\n"
     ]
    },
    {
     "name": "stderr",
     "output_type": "stream",
     "text": [
      " 60%|██████    | 92/153 [01:16<00:28,  2.16it/s]"
     ]
    },
    {
     "name": "stdout",
     "output_type": "stream",
     "text": [
      "🔍 [DEBUG] Checking file: combined_68.p, Shape: (82, 18)\n"
     ]
    },
    {
     "name": "stderr",
     "output_type": "stream",
     "text": [
      " 61%|██████    | 93/153 [01:17<00:40,  1.49it/s]"
     ]
    },
    {
     "name": "stdout",
     "output_type": "stream",
     "text": [
      "🔍 [DEBUG] Checking file: combined_139.p, Shape: (338, 18)\n"
     ]
    },
    {
     "name": "stderr",
     "output_type": "stream",
     "text": [
      " 61%|██████▏   | 94/153 [01:18<00:47,  1.23it/s]"
     ]
    },
    {
     "name": "stdout",
     "output_type": "stream",
     "text": [
      "🔍 [DEBUG] Checking file: combined_135.p, Shape: (338, 18)\n"
     ]
    },
    {
     "name": "stderr",
     "output_type": "stream",
     "text": [
      " 62%|██████▏   | 95/153 [01:19<00:52,  1.10it/s]"
     ]
    },
    {
     "name": "stdout",
     "output_type": "stream",
     "text": [
      "🔍 [DEBUG] Checking file: combined_129.p, Shape: (338, 18)\n"
     ]
    },
    {
     "name": "stderr",
     "output_type": "stream",
     "text": [
      " 63%|██████▎   | 96/153 [01:20<00:44,  1.28it/s]"
     ]
    },
    {
     "name": "stdout",
     "output_type": "stream",
     "text": [
      "🔍 [DEBUG] Checking file: combined_167.p, Shape: (124, 18)\n"
     ]
    },
    {
     "name": "stderr",
     "output_type": "stream",
     "text": [
      " 63%|██████▎   | 97/153 [01:21<00:51,  1.10it/s]"
     ]
    },
    {
     "name": "stdout",
     "output_type": "stream",
     "text": [
      "🔍 [DEBUG] Checking file: combined_205.p, Shape: (400, 18)\n"
     ]
    },
    {
     "name": "stderr",
     "output_type": "stream",
     "text": [
      " 64%|██████▍   | 98/153 [01:22<00:54,  1.02it/s]"
     ]
    },
    {
     "name": "stdout",
     "output_type": "stream",
     "text": [
      "🔍 [DEBUG] Checking file: combined_112.p, Shape: (338, 18)\n"
     ]
    },
    {
     "name": "stderr",
     "output_type": "stream",
     "text": [
      " 65%|██████▍   | 99/153 [01:23<00:56,  1.04s/it]"
     ]
    },
    {
     "name": "stdout",
     "output_type": "stream",
     "text": [
      "🔍 [DEBUG] Checking file: combined_214.p, Shape: (400, 18)\n"
     ]
    },
    {
     "name": "stderr",
     "output_type": "stream",
     "text": [
      " 65%|██████▌   | 100/153 [01:25<00:56,  1.07s/it]"
     ]
    },
    {
     "name": "stdout",
     "output_type": "stream",
     "text": [
      "🔍 [DEBUG] Checking file: combined_122.p, Shape: (338, 18)\n"
     ]
    },
    {
     "name": "stderr",
     "output_type": "stream",
     "text": [
      " 67%|██████▋   | 102/153 [01:30<01:22,  1.62s/it]"
     ]
    },
    {
     "name": "stdout",
     "output_type": "stream",
     "text": [
      "🔍 [DEBUG] Checking file: combined_132.p, Shape: (338, 18)\n",
      "🔍 [DEBUG] Checking file: combined_79.p, Shape: (82, 18)\n"
     ]
    },
    {
     "name": "stderr",
     "output_type": "stream",
     "text": [
      " 67%|██████▋   | 103/153 [01:30<01:03,  1.27s/it]"
     ]
    },
    {
     "name": "stdout",
     "output_type": "stream",
     "text": [
      "🔍 [DEBUG] Checking file: combined_150.p, Shape: (124, 18)\n"
     ]
    },
    {
     "name": "stderr",
     "output_type": "stream",
     "text": [
      " 68%|██████▊   | 104/153 [01:31<01:00,  1.24s/it]"
     ]
    },
    {
     "name": "stdout",
     "output_type": "stream",
     "text": [
      "🔍 [DEBUG] Checking file: combined_143.p, Shape: (338, 18)\n"
     ]
    },
    {
     "name": "stderr",
     "output_type": "stream",
     "text": [
      " 69%|██████▊   | 105/153 [01:32<00:48,  1.01s/it]"
     ]
    },
    {
     "name": "stdout",
     "output_type": "stream",
     "text": [
      "🔍 [DEBUG] Checking file: combined_168.p, Shape: (124, 18)\n"
     ]
    },
    {
     "name": "stderr",
     "output_type": "stream",
     "text": [
      " 69%|██████▉   | 106/153 [01:33<00:50,  1.07s/it]"
     ]
    },
    {
     "name": "stdout",
     "output_type": "stream",
     "text": [
      "🔍 [DEBUG] Checking file: combined_189.p, Shape: (400, 18)\n"
     ]
    },
    {
     "name": "stderr",
     "output_type": "stream",
     "text": [
      " 70%|██████▉   | 107/153 [01:34<00:50,  1.11s/it]"
     ]
    },
    {
     "name": "stdout",
     "output_type": "stream",
     "text": [
      "🔍 [DEBUG] Checking file: combined_221.p, Shape: (400, 18)\n"
     ]
    },
    {
     "name": "stderr",
     "output_type": "stream",
     "text": [
      " 71%|███████   | 109/153 [01:35<00:30,  1.43it/s]"
     ]
    },
    {
     "name": "stdout",
     "output_type": "stream",
     "text": [
      "🔍 [DEBUG] Checking file: combined_164.p, Shape: (124, 18)\n",
      "🔍 [DEBUG] Checking file: combined_71.p, Shape: (82, 18)\n"
     ]
    },
    {
     "name": "stderr",
     "output_type": "stream",
     "text": [
      " 72%|███████▏  | 110/153 [01:35<00:23,  1.85it/s]"
     ]
    },
    {
     "name": "stdout",
     "output_type": "stream",
     "text": [
      "🔍 [DEBUG] Checking file: combined_73.p, Shape: (82, 18)\n"
     ]
    },
    {
     "name": "stderr",
     "output_type": "stream",
     "text": [
      " 73%|███████▎  | 111/153 [01:36<00:31,  1.35it/s]"
     ]
    },
    {
     "name": "stdout",
     "output_type": "stream",
     "text": [
      "🔍 [DEBUG] Checking file: combined_187.p, Shape: (400, 18)\n"
     ]
    },
    {
     "name": "stderr",
     "output_type": "stream",
     "text": [
      " 73%|███████▎  | 112/153 [01:37<00:27,  1.51it/s]"
     ]
    },
    {
     "name": "stdout",
     "output_type": "stream",
     "text": [
      "🔍 [DEBUG] Checking file: combined_160.p, Shape: (124, 18)\n"
     ]
    },
    {
     "name": "stderr",
     "output_type": "stream",
     "text": [
      " 74%|███████▍  | 113/153 [01:38<00:32,  1.24it/s]"
     ]
    },
    {
     "name": "stdout",
     "output_type": "stream",
     "text": [
      "🔍 [DEBUG] Checking file: combined_117.p, Shape: (338, 18)\n"
     ]
    },
    {
     "name": "stderr",
     "output_type": "stream",
     "text": [
      " 75%|███████▍  | 114/153 [01:39<00:35,  1.10it/s]"
     ]
    },
    {
     "name": "stdout",
     "output_type": "stream",
     "text": [
      "🔍 [DEBUG] Checking file: combined_137.p, Shape: (338, 18)\n"
     ]
    },
    {
     "name": "stderr",
     "output_type": "stream",
     "text": [
      " 75%|███████▌  | 115/153 [01:40<00:37,  1.00it/s]"
     ]
    },
    {
     "name": "stdout",
     "output_type": "stream",
     "text": [
      "🔍 [DEBUG] Checking file: combined_191.p, Shape: (400, 18)\n"
     ]
    },
    {
     "name": "stderr",
     "output_type": "stream",
     "text": [
      " 76%|███████▌  | 116/153 [01:41<00:39,  1.06s/it]"
     ]
    },
    {
     "name": "stdout",
     "output_type": "stream",
     "text": [
      "🔍 [DEBUG] Checking file: combined_196.p, Shape: (400, 18)\n"
     ]
    },
    {
     "name": "stderr",
     "output_type": "stream",
     "text": [
      " 76%|███████▋  | 117/153 [01:43<00:39,  1.09s/it]"
     ]
    },
    {
     "name": "stdout",
     "output_type": "stream",
     "text": [
      "🔍 [DEBUG] Checking file: combined_114.p, Shape: (338, 18)\n"
     ]
    },
    {
     "name": "stderr",
     "output_type": "stream",
     "text": [
      " 77%|███████▋  | 118/153 [01:44<00:39,  1.12s/it]"
     ]
    },
    {
     "name": "stdout",
     "output_type": "stream",
     "text": [
      "🔍 [DEBUG] Checking file: combined_211.p, Shape: (400, 18)\n"
     ]
    },
    {
     "name": "stderr",
     "output_type": "stream",
     "text": [
      " 78%|███████▊  | 119/153 [01:45<00:38,  1.14s/it]"
     ]
    },
    {
     "name": "stdout",
     "output_type": "stream",
     "text": [
      "🔍 [DEBUG] Checking file: combined_201.p, Shape: (400, 18)\n"
     ]
    },
    {
     "name": "stderr",
     "output_type": "stream",
     "text": [
      " 78%|███████▊  | 120/153 [01:46<00:38,  1.16s/it]"
     ]
    },
    {
     "name": "stdout",
     "output_type": "stream",
     "text": [
      "🔍 [DEBUG] Checking file: combined_217.p, Shape: (400, 18)\n"
     ]
    },
    {
     "name": "stderr",
     "output_type": "stream",
     "text": [
      " 79%|███████▉  | 121/153 [01:47<00:36,  1.16s/it]"
     ]
    },
    {
     "name": "stdout",
     "output_type": "stream",
     "text": [
      "🔍 [DEBUG] Checking file: combined_133.p, Shape: (338, 18)\n"
     ]
    },
    {
     "name": "stderr",
     "output_type": "stream",
     "text": [
      " 80%|███████▉  | 122/153 [01:48<00:29,  1.05it/s]"
     ]
    },
    {
     "name": "stdout",
     "output_type": "stream",
     "text": [
      "🔍 [DEBUG] Checking file: combined_171.p, Shape: (124, 18)\n"
     ]
    },
    {
     "name": "stderr",
     "output_type": "stream",
     "text": [
      " 80%|████████  | 123/153 [01:48<00:24,  1.23it/s]"
     ]
    },
    {
     "name": "stdout",
     "output_type": "stream",
     "text": [
      "🔍 [DEBUG] Checking file: combined_169.p, Shape: (124, 18)\n"
     ]
    },
    {
     "name": "stderr",
     "output_type": "stream",
     "text": [
      " 81%|████████  | 124/153 [01:49<00:26,  1.09it/s]"
     ]
    },
    {
     "name": "stdout",
     "output_type": "stream",
     "text": [
      "🔍 [DEBUG] Checking file: combined_145.p, Shape: (338, 18)\n"
     ]
    },
    {
     "name": "stderr",
     "output_type": "stream",
     "text": [
      " 82%|████████▏ | 125/153 [01:51<00:27,  1.01it/s]"
     ]
    },
    {
     "name": "stdout",
     "output_type": "stream",
     "text": [
      "🔍 [DEBUG] Checking file: combined_147.p, Shape: (338, 18)\n"
     ]
    },
    {
     "name": "stderr",
     "output_type": "stream",
     "text": [
      " 82%|████████▏ | 126/153 [01:52<00:28,  1.05s/it]"
     ]
    },
    {
     "name": "stdout",
     "output_type": "stream",
     "text": [
      "🔍 [DEBUG] Checking file: combined_203.p, Shape: (400, 18)\n"
     ]
    },
    {
     "name": "stderr",
     "output_type": "stream",
     "text": [
      " 84%|████████▎ | 128/153 [01:53<00:20,  1.21it/s]"
     ]
    },
    {
     "name": "stdout",
     "output_type": "stream",
     "text": [
      "🔍 [DEBUG] Checking file: combined_198.p, Shape: (400, 18)\n",
      "🔍 [DEBUG] Checking file: combined_83.p, Shape: (82, 18)\n"
     ]
    },
    {
     "name": "stderr",
     "output_type": "stream",
     "text": [
      " 84%|████████▍ | 129/153 [01:54<00:22,  1.07it/s]"
     ]
    },
    {
     "name": "stdout",
     "output_type": "stream",
     "text": [
      "🔍 [DEBUG] Checking file: combined_216.p, Shape: (400, 18)\n"
     ]
    },
    {
     "name": "stderr",
     "output_type": "stream",
     "text": [
      " 85%|████████▍ | 130/153 [02:01<00:57,  2.51s/it]"
     ]
    },
    {
     "name": "stdout",
     "output_type": "stream",
     "text": [
      "🔍 [DEBUG] Checking file: combined_224.p, Shape: (400, 18)\n"
     ]
    },
    {
     "name": "stderr",
     "output_type": "stream",
     "text": [
      " 86%|████████▌ | 131/153 [02:02<00:46,  2.12s/it]"
     ]
    },
    {
     "name": "stdout",
     "output_type": "stream",
     "text": [
      "🔍 [DEBUG] Checking file: combined_185.p, Shape: (400, 18)\n"
     ]
    },
    {
     "name": "stderr",
     "output_type": "stream",
     "text": [
      " 86%|████████▋ | 132/153 [02:03<00:38,  1.85s/it]"
     ]
    },
    {
     "name": "stdout",
     "output_type": "stream",
     "text": [
      "🔍 [DEBUG] Checking file: combined_215.p, Shape: (400, 18)\n"
     ]
    },
    {
     "name": "stderr",
     "output_type": "stream",
     "text": [
      " 87%|████████▋ | 133/153 [02:04<00:33,  1.65s/it]"
     ]
    },
    {
     "name": "stdout",
     "output_type": "stream",
     "text": [
      "🔍 [DEBUG] Checking file: combined_199.p, Shape: (400, 18)\n"
     ]
    },
    {
     "name": "stderr",
     "output_type": "stream",
     "text": [
      " 88%|████████▊ | 134/153 [02:05<00:28,  1.52s/it]"
     ]
    },
    {
     "name": "stdout",
     "output_type": "stream",
     "text": [
      "🔍 [DEBUG] Checking file: combined_213.p, Shape: (400, 18)\n"
     ]
    },
    {
     "name": "stderr",
     "output_type": "stream",
     "text": [
      " 88%|████████▊ | 135/153 [02:07<00:25,  1.43s/it]"
     ]
    },
    {
     "name": "stdout",
     "output_type": "stream",
     "text": [
      "🔍 [DEBUG] Checking file: combined_186.p, Shape: (400, 18)\n"
     ]
    },
    {
     "name": "stderr",
     "output_type": "stream",
     "text": [
      " 90%|████████▉ | 137/153 [02:07<00:13,  1.17it/s]"
     ]
    },
    {
     "name": "stdout",
     "output_type": "stream",
     "text": [
      "🔍 [DEBUG] Checking file: combined_158.p, Shape: (124, 18)\n",
      "🔍 [DEBUG] Checking file: combined_78.p, Shape: (82, 18)\n"
     ]
    },
    {
     "name": "stderr",
     "output_type": "stream",
     "text": [
      " 90%|█████████ | 138/153 [02:08<00:11,  1.35it/s]"
     ]
    },
    {
     "name": "stdout",
     "output_type": "stream",
     "text": [
      "🔍 [DEBUG] Checking file: combined_181.p, Shape: (124, 18)\n"
     ]
    },
    {
     "name": "stderr",
     "output_type": "stream",
     "text": [
      " 91%|█████████ | 139/153 [02:09<00:12,  1.14it/s]"
     ]
    },
    {
     "name": "stdout",
     "output_type": "stream",
     "text": [
      "🔍 [DEBUG] Checking file: combined_190.p, Shape: (400, 18)\n"
     ]
    },
    {
     "name": "stderr",
     "output_type": "stream",
     "text": [
      " 92%|█████████▏| 140/153 [02:10<00:12,  1.02it/s]"
     ]
    },
    {
     "name": "stdout",
     "output_type": "stream",
     "text": [
      "🔍 [DEBUG] Checking file: combined_219.p, Shape: (400, 18)\n"
     ]
    },
    {
     "name": "stderr",
     "output_type": "stream",
     "text": [
      " 92%|█████████▏| 141/153 [02:11<00:12,  1.05s/it]"
     ]
    },
    {
     "name": "stdout",
     "output_type": "stream",
     "text": [
      "🔍 [DEBUG] Checking file: combined_200.p, Shape: (400, 18)\n"
     ]
    },
    {
     "name": "stderr",
     "output_type": "stream",
     "text": [
      " 93%|█████████▎| 142/153 [02:12<00:09,  1.14it/s]"
     ]
    },
    {
     "name": "stdout",
     "output_type": "stream",
     "text": [
      "🔍 [DEBUG] Checking file: combined_182.p, Shape: (124, 18)\n"
     ]
    },
    {
     "name": "stderr",
     "output_type": "stream",
     "text": [
      " 94%|█████████▍| 144/153 [02:12<00:05,  1.72it/s]"
     ]
    },
    {
     "name": "stdout",
     "output_type": "stream",
     "text": [
      "🔍 [DEBUG] Checking file: combined_162.p, Shape: (124, 18)\n",
      "🔍 [DEBUG] Checking file: combined_67.p, Shape: (82, 18)\n"
     ]
    },
    {
     "name": "stderr",
     "output_type": "stream",
     "text": [
      " 95%|█████████▍| 145/153 [02:13<00:04,  1.81it/s]"
     ]
    },
    {
     "name": "stdout",
     "output_type": "stream",
     "text": [
      "🔍 [DEBUG] Checking file: combined_177.p, Shape: (124, 18)\n"
     ]
    },
    {
     "name": "stderr",
     "output_type": "stream",
     "text": [
      " 95%|█████████▌| 146/153 [02:13<00:03,  1.88it/s]"
     ]
    },
    {
     "name": "stdout",
     "output_type": "stream",
     "text": [
      "🔍 [DEBUG] Checking file: combined_152.p, Shape: (124, 18)\n"
     ]
    },
    {
     "name": "stderr",
     "output_type": "stream",
     "text": [
      " 97%|█████████▋| 148/153 [02:15<00:02,  1.75it/s]"
     ]
    },
    {
     "name": "stdout",
     "output_type": "stream",
     "text": [
      "🔍 [DEBUG] Checking file: combined_192.p, Shape: (400, 18)\n",
      "🔍 [DEBUG] Checking file: combined_53.p, Shape: (82, 18)\n"
     ]
    },
    {
     "name": "stderr",
     "output_type": "stream",
     "text": [
      " 97%|█████████▋| 149/153 [02:15<00:02,  1.84it/s]"
     ]
    },
    {
     "name": "stdout",
     "output_type": "stream",
     "text": [
      "🔍 [DEBUG] Checking file: combined_180.p, Shape: (124, 18)\n"
     ]
    },
    {
     "name": "stderr",
     "output_type": "stream",
     "text": [
      " 98%|█████████▊| 150/153 [02:16<00:02,  1.38it/s]"
     ]
    },
    {
     "name": "stdout",
     "output_type": "stream",
     "text": [
      "🔍 [DEBUG] Checking file: combined_125.p, Shape: (338, 18)\n"
     ]
    },
    {
     "name": "stderr",
     "output_type": "stream",
     "text": [
      " 99%|█████████▉| 152/153 [02:18<00:00,  1.53it/s]"
     ]
    },
    {
     "name": "stdout",
     "output_type": "stream",
     "text": [
      "🔍 [DEBUG] Checking file: combined_127.p, Shape: (338, 18)\n",
      "🔍 [DEBUG] Checking file: combined_72.p, Shape: (82, 18)\n"
     ]
    },
    {
     "name": "stderr",
     "output_type": "stream",
     "text": [
      "100%|██████████| 153/153 [02:19<00:00,  1.10it/s]"
     ]
    },
    {
     "name": "stdout",
     "output_type": "stream",
     "text": [
      "🔍 [DEBUG] Checking file: combined_142.p, Shape: (338, 18)\n",
      "\n",
      "✅ [INFO] Successfully loaded 38794 radar frames from 153 valid files.\n",
      "\n",
      "🔹 [INFO] Sample Data Preview:\n",
      "                                            objectID  \\\n",
      "0  [205, 205, 205, 205, 205, 2427, 205, 2427, 0, ...   \n",
      "1  [205, 205, 205, 205, 205, 2427, 0, 0, 0, 2427,...   \n",
      "2  [205, 205, 205, 205, 205, 3218, 0, 2427, 205, ...   \n",
      "3  [205, 205, 0, 205, 205, 3218, 205, 205, 3218, ...   \n",
      "4  [3218, 3218, 205, 205, 205, 205, 0, 3218, 205,...   \n",
      "\n",
      "                                                 rcs  \\\n",
      "0  [-13, -10, -11, -14, -12, -26, -24, -22, -21, ...   \n",
      "1  [-11, -13, 14, 15, -23, -23, -29, -23, -18, -2...   \n",
      "2  [-11, 2, -10, 10, 10, -16, -19, 11, 4, -22, 5,...   \n",
      "3  [-9, -11, 7, -4, -14, -24, -17, -13, -23, -13,...   \n",
      "4  [-22, -25, -12, -8, -15, -8, 7, -14, -10, -21,...   \n",
      "\n",
      "                                            distance  \\\n",
      "0  [4.31, 4.37, 4.93, 5.13, 5.6099997, 5.73, 5.81...   \n",
      "1  [4.24, 4.5099998, 4.74, 4.85, 4.94, 5.21, 5.23...   \n",
      "2  [4.1, 4.3199997, 4.33, 4.5499997, 4.5699997, 5...   \n",
      "3  [4.46, 4.47, 5.04, 5.08, 6.31, 6.35, 6.37, 6.3...   \n",
      "4  [5.2, 5.21, 5.2799997, 5.72, 6.08, 6.21, 6.31,...   \n",
      "\n",
      "                                        angleAzimuth  \\\n",
      "0  [-0.9896545, -0.9445726, -0.8333602, -0.959966...   \n",
      "1  [-0.9962518, -1.0119598, -0.88315445, -0.86901...   \n",
      "2  [-1.0321708, -0.9379753, -0.96729684, -0.91818...   \n",
      "3  [-0.96661615, -0.9955188, -0.73858875, -0.7767...   \n",
      "4  [0.86618984, 0.843518, -0.72738373, -0.6731912...   \n",
      "\n",
      "                                      angleElevation  \\\n",
      "0  [0.06440268, 0.045238953, 0.06544988, 0.087702...   \n",
      "1  [0.049584825, 0.011100299, 0.06958631, 0.07026...   \n",
      "2  [0.007906345, -0.0004188792, -0.0028274346, 0....   \n",
      "3  [0.0029321546, 0.06759663, -0.35945073, -0.198...   \n",
      "4  [-0.099431455, -0.09482378, -0.19373164, 0.196...   \n",
      "\n",
      "                                      radialVelocity object_id  \\\n",
      "0  [-3.0249999, -3.23, -3.715, -3.095, -4.2799997...     [200]   \n",
      "1  [-3.01, -2.885, -3.5049999, -3.56, -3.9099998,...     [200]   \n",
      "2  [-2.83, -3.34, -3.115, -3.32, -3.415, -19.34, ...     [200]   \n",
      "3  [-3.135, -2.985, -3.985, -3.945, -4.5499997, -...     [200]   \n",
      "4  [-18.005, -18.585, -4.14, -4.2999997, -4.21499...     [200]   \n",
      "\n",
      "      orientation width_edge_mean length_edge_mean           centroid_x  \\\n",
      "0   [0.004122698]     [1.1999999]           [3.12]  [72.25599884986877]   \n",
      "1   [0.004410328]     [1.1999999]           [2.84]   [72.0160003900528]   \n",
      "2  [0.0052732183]     [1.1999999]           [2.87]  [71.99099946022032]   \n",
      "3  [0.0023969174]     [1.1999999]      [2.8999999]  [71.94600188732147]   \n",
      "4  [0.0020134107]     [1.1999999]           [3.03]  [72.01100194454195]   \n",
      "\n",
      "             centroid_y        transformed_x           transformed_y  \\\n",
      "0  [0.7699999809265137]  [70.69599890708923]   [0.17000001668930054]   \n",
      "1  [0.7699999809265137]  [70.59600043296814]   [0.17000001668930054]   \n",
      "2  [0.7699999809265134]   [70.5559995174408]   [0.17000001668930054]   \n",
      "3  [0.6599999815225601]  [70.49600195884705]  [0.060000017285346985]   \n",
      "4  [0.6699999868869781]  [70.49600195884705]   [0.07000002264976501]   \n",
      "\n",
      "   radialVelocityDomainMax  yaw_rate   ego_speed  \\\n",
      "0                26.021479 -0.024994  109.812500   \n",
      "1                23.562521 -0.024994  109.812500   \n",
      "2                27.365793  0.035004  109.656250   \n",
      "3                24.954550  0.095001  109.703125   \n",
      "4                23.349266  0.115005  109.531250   \n",
      "\n",
      "                                  is_valid_detection  \n",
      "0  [1, 1, 1, 1, 1, 0, 1, 0, 0, 1, 1, 1, 0, 1, 0, ...  \n",
      "1  [1, 1, 1, 1, 1, 0, 0, 0, 0, 0, 0, 1, 1, 1, 0, ...  \n",
      "2  [1, 1, 1, 1, 1, 0, 0, 0, 1, 0, 1, 1, 1, 1, 1, ...  \n",
      "3  [1, 1, 0, 1, 1, 0, 1, 1, 0, 1, 0, 0, 0, 0, 0, ...  \n",
      "4  [0, 0, 1, 1, 1, 1, 0, 0, 1, 0, 0, 0, 0, 0, 0, ...  \n"
     ]
    },
    {
     "name": "stderr",
     "output_type": "stream",
     "text": [
      "\n"
     ]
    }
   ],
   "source": [
    "import os\n",
    "import pandas as pd\n",
    "import numpy as np\n",
    "from tqdm import tqdm\n",
    "\n",
    "#  Paths\n",
    "input_folder = r\"/home/q674749/workspace/thesis_work/rat25-15.4.1/perception/final_endgame_data\"\n",
    "\n",
    "#  Feature & Label Columns\n",
    "feature_columns = [\"rcs\", \"distance\", \"angleAzimuth\", \"angleElevation\", \"radialVelocity\"]\n",
    "scalar_columns = [\"radialVelocityDomainMax\", \"yaw_rate\", \"ego_speed\"]\n",
    "object_properties = [\"centroid_x\", \"centroid_y\", \"width_edge_mean\", \"length_edge_mean\", \"orientation\"]\n",
    "\n",
    "#  Object Grouping Columns\n",
    "object_id_column = \"object_id\"  # Only present for valid objects\n",
    "objectID_column = \"objectID\"    # Present for all detections (valid & invalid)\n",
    "valid_detection_column = \"is_valid_detection\"  # 1 for valid, 0 for invalid detections\n",
    "\n",
    "#  Storage for all data\n",
    "all_data = []\n",
    "\n",
    "print(\"\\n [INFO] Loading radar data files...\")\n",
    "valid_files = 0\n",
    "\n",
    "for filename in tqdm(os.listdir(input_folder)):\n",
    "    if filename.endswith(\".p\"):\n",
    "        file_path = os.path.join(input_folder, filename)\n",
    "        try:\n",
    "            df = pd.read_pickle(file_path)\n",
    "\n",
    "            # Print debug information\n",
    "            print(f\" [DEBUG] Checking file: {filename}, Shape: {df.shape}\")\n",
    "\n",
    "            #  Ensure all necessary columns exist\n",
    "            required_columns = feature_columns + scalar_columns + object_properties + [objectID_column, object_id_column, valid_detection_column]\n",
    "            missing_cols = [col for col in required_columns if col not in df.columns]\n",
    "\n",
    "            if missing_cols:\n",
    "                print(f\"⚠ [WARNING] Missing columns in {filename}: {missing_cols}. Skipping file.\")\n",
    "                continue  # Skip files with missing columns\n",
    "\n",
    "            #  Convert empty lists to valid format\n",
    "            for col in feature_columns + object_properties:\n",
    "                df[col] = df[col].apply(lambda x: x if isinstance(x, list) and len(x) > 0 else [0])  # Ensure valid lists\n",
    "\n",
    "            #  Store data\n",
    "            all_data.append(df)\n",
    "            valid_files += 1  # Count valid files\n",
    "\n",
    "        except Exception as e:\n",
    "            print(f\" [ERROR] Failed to read {filename}: {str(e)}\")\n",
    "            continue  # Skip corrupted files\n",
    "\n",
    "#  Combine all valid DataFrames\n",
    "if len(all_data) > 0:\n",
    "    all_data = pd.concat(all_data, ignore_index=True)\n",
    "    print(f\"\\n [INFO] Successfully loaded {len(all_data)} radar frames from {valid_files} valid files.\")\n",
    "else:\n",
    "    print(\"\\n [ERROR] No valid files found! Check dataset directory and file format.\")\n",
    "\n",
    "#  Print sample data if available\n",
    "if isinstance(all_data, pd.DataFrame) and not all_data.empty:\n",
    "    print(\"\\n🔹 [INFO] Sample Data Preview:\")\n",
    "    print(all_data.head())\n",
    "else:\n",
    "    print(\"\\n [ERROR] No valid data was loaded. Verify the dataset directory and .p file structure.\")"
   ]
  },
  {
   "cell_type": "code",
   "execution_count": null,
   "metadata": {},
   "outputs": [
    {
     "name": "stdout",
     "output_type": "stream",
     "text": [
      "\n",
      "🚀 [INFO] Collecting global statistics for standardization...\n"
     ]
    },
    {
     "name": "stderr",
     "output_type": "stream",
     "text": [
      "Processing Files: 100%|██████████| 153/153 [02:47<00:00,  1.09s/it]\n"
     ]
    },
    {
     "name": "stdout",
     "output_type": "stream",
     "text": [
      "\n",
      "✅ [INFO] Standardization parameters computed!\n",
      "\n",
      "🚀 [INFO] Standardizing and transforming all radar data...\n"
     ]
    },
    {
     "name": "stderr",
     "output_type": "stream",
     "text": [
      "Standardizing Files:   0%|          | 0/153 [00:00<?, ?it/s]/home/q674749/.local/lib/python3.8/site-packages/sklearn/base.py:458: UserWarning: X has feature names, but StandardScaler was fitted without feature names\n",
      "  warnings.warn(\n",
      "/home/q674749/.local/lib/python3.8/site-packages/sklearn/base.py:458: UserWarning: X has feature names, but StandardScaler was fitted without feature names\n",
      "  warnings.warn(\n",
      "/home/q674749/.local/lib/python3.8/site-packages/sklearn/base.py:458: UserWarning: X has feature names, but StandardScaler was fitted without feature names\n",
      "  warnings.warn(\n",
      "Standardizing Files:   1%|          | 1/153 [00:03<08:41,  3.43s/it]"
     ]
    },
    {
     "name": "stdout",
     "output_type": "stream",
     "text": [
      "✅ [SAVED] Standardized File: /home/q674749/workspace/thesis_work/rat25-15.4.1/perception/standardized_data/combined_194.p\n"
     ]
    },
    {
     "name": "stderr",
     "output_type": "stream",
     "text": [
      "/home/q674749/.local/lib/python3.8/site-packages/sklearn/base.py:458: UserWarning: X has feature names, but StandardScaler was fitted without feature names\n",
      "  warnings.warn(\n",
      "/home/q674749/.local/lib/python3.8/site-packages/sklearn/base.py:458: UserWarning: X has feature names, but StandardScaler was fitted without feature names\n",
      "  warnings.warn(\n",
      "/home/q674749/.local/lib/python3.8/site-packages/sklearn/base.py:458: UserWarning: X has feature names, but StandardScaler was fitted without feature names\n",
      "  warnings.warn(\n",
      "Standardizing Files:   1%|▏         | 2/153 [00:06<08:44,  3.48s/it]"
     ]
    },
    {
     "name": "stdout",
     "output_type": "stream",
     "text": [
      "✅ [SAVED] Standardized File: /home/q674749/workspace/thesis_work/rat25-15.4.1/perception/standardized_data/combined_218.p\n"
     ]
    },
    {
     "name": "stderr",
     "output_type": "stream",
     "text": [
      "/home/q674749/.local/lib/python3.8/site-packages/sklearn/base.py:458: UserWarning: X has feature names, but StandardScaler was fitted without feature names\n",
      "  warnings.warn(\n",
      "/home/q674749/.local/lib/python3.8/site-packages/sklearn/base.py:458: UserWarning: X has feature names, but StandardScaler was fitted without feature names\n",
      "  warnings.warn(\n",
      "/home/q674749/.local/lib/python3.8/site-packages/sklearn/base.py:458: UserWarning: X has feature names, but StandardScaler was fitted without feature names\n",
      "  warnings.warn(\n",
      "Standardizing Files:   2%|▏         | 3/153 [00:07<05:26,  2.17s/it]"
     ]
    },
    {
     "name": "stdout",
     "output_type": "stream",
     "text": [
      "✅ [SAVED] Standardized File: /home/q674749/workspace/thesis_work/rat25-15.4.1/perception/standardized_data/combined_62.p\n"
     ]
    },
    {
     "name": "stderr",
     "output_type": "stream",
     "text": [
      "/home/q674749/.local/lib/python3.8/site-packages/sklearn/base.py:458: UserWarning: X has feature names, but StandardScaler was fitted without feature names\n",
      "  warnings.warn(\n",
      "/home/q674749/.local/lib/python3.8/site-packages/sklearn/base.py:458: UserWarning: X has feature names, but StandardScaler was fitted without feature names\n",
      "  warnings.warn(\n",
      "/home/q674749/.local/lib/python3.8/site-packages/sklearn/base.py:458: UserWarning: X has feature names, but StandardScaler was fitted without feature names\n",
      "  warnings.warn(\n",
      "Standardizing Files:   3%|▎         | 4/153 [00:10<06:35,  2.66s/it]"
     ]
    },
    {
     "name": "stdout",
     "output_type": "stream",
     "text": [
      "✅ [SAVED] Standardized File: /home/q674749/workspace/thesis_work/rat25-15.4.1/perception/standardized_data/combined_197.p\n"
     ]
    },
    {
     "name": "stderr",
     "output_type": "stream",
     "text": [
      "/home/q674749/.local/lib/python3.8/site-packages/sklearn/base.py:458: UserWarning: X has feature names, but StandardScaler was fitted without feature names\n",
      "  warnings.warn(\n",
      "/home/q674749/.local/lib/python3.8/site-packages/sklearn/base.py:458: UserWarning: X has feature names, but StandardScaler was fitted without feature names\n",
      "  warnings.warn(\n",
      "/home/q674749/.local/lib/python3.8/site-packages/sklearn/base.py:458: UserWarning: X has feature names, but StandardScaler was fitted without feature names\n",
      "  warnings.warn(\n",
      "Standardizing Files:   3%|▎         | 5/153 [00:12<05:26,  2.21s/it]"
     ]
    },
    {
     "name": "stdout",
     "output_type": "stream",
     "text": [
      "✅ [SAVED] Standardized File: /home/q674749/workspace/thesis_work/rat25-15.4.1/perception/standardized_data/combined_157.p\n"
     ]
    },
    {
     "name": "stderr",
     "output_type": "stream",
     "text": [
      "/home/q674749/.local/lib/python3.8/site-packages/sklearn/base.py:458: UserWarning: X has feature names, but StandardScaler was fitted without feature names\n",
      "  warnings.warn(\n",
      "/home/q674749/.local/lib/python3.8/site-packages/sklearn/base.py:458: UserWarning: X has feature names, but StandardScaler was fitted without feature names\n",
      "  warnings.warn(\n",
      "/home/q674749/.local/lib/python3.8/site-packages/sklearn/base.py:458: UserWarning: X has feature names, but StandardScaler was fitted without feature names\n",
      "  warnings.warn(\n",
      "Standardizing Files:   4%|▍         | 6/153 [00:15<06:11,  2.52s/it]"
     ]
    },
    {
     "name": "stdout",
     "output_type": "stream",
     "text": [
      "✅ [SAVED] Standardized File: /home/q674749/workspace/thesis_work/rat25-15.4.1/perception/standardized_data/combined_141.p\n"
     ]
    },
    {
     "name": "stderr",
     "output_type": "stream",
     "text": [
      "/home/q674749/.local/lib/python3.8/site-packages/sklearn/base.py:458: UserWarning: X has feature names, but StandardScaler was fitted without feature names\n",
      "  warnings.warn(\n",
      "/home/q674749/.local/lib/python3.8/site-packages/sklearn/base.py:458: UserWarning: X has feature names, but StandardScaler was fitted without feature names\n",
      "  warnings.warn(\n",
      "/home/q674749/.local/lib/python3.8/site-packages/sklearn/base.py:458: UserWarning: X has feature names, but StandardScaler was fitted without feature names\n",
      "  warnings.warn(\n",
      "Standardizing Files:   5%|▍         | 7/153 [00:16<05:14,  2.16s/it]"
     ]
    },
    {
     "name": "stdout",
     "output_type": "stream",
     "text": [
      "✅ [SAVED] Standardized File: /home/q674749/workspace/thesis_work/rat25-15.4.1/perception/standardized_data/combined_148.p\n"
     ]
    },
    {
     "name": "stderr",
     "output_type": "stream",
     "text": [
      "/home/q674749/.local/lib/python3.8/site-packages/sklearn/base.py:458: UserWarning: X has feature names, but StandardScaler was fitted without feature names\n",
      "  warnings.warn(\n",
      "/home/q674749/.local/lib/python3.8/site-packages/sklearn/base.py:458: UserWarning: X has feature names, but StandardScaler was fitted without feature names\n",
      "  warnings.warn(\n",
      "/home/q674749/.local/lib/python3.8/site-packages/sklearn/base.py:458: UserWarning: X has feature names, but StandardScaler was fitted without feature names\n",
      "  warnings.warn(\n",
      "Standardizing Files:   5%|▌         | 8/153 [00:17<03:58,  1.65s/it]"
     ]
    },
    {
     "name": "stdout",
     "output_type": "stream",
     "text": [
      "✅ [SAVED] Standardized File: /home/q674749/workspace/thesis_work/rat25-15.4.1/perception/standardized_data/combined_80.p\n"
     ]
    },
    {
     "name": "stderr",
     "output_type": "stream",
     "text": [
      "/home/q674749/.local/lib/python3.8/site-packages/sklearn/base.py:458: UserWarning: X has feature names, but StandardScaler was fitted without feature names\n",
      "  warnings.warn(\n",
      "/home/q674749/.local/lib/python3.8/site-packages/sklearn/base.py:458: UserWarning: X has feature names, but StandardScaler was fitted without feature names\n",
      "  warnings.warn(\n",
      "/home/q674749/.local/lib/python3.8/site-packages/sklearn/base.py:458: UserWarning: X has feature names, but StandardScaler was fitted without feature names\n",
      "  warnings.warn(\n",
      "Standardizing Files:   6%|▌         | 9/153 [00:17<03:06,  1.30s/it]"
     ]
    },
    {
     "name": "stdout",
     "output_type": "stream",
     "text": [
      "✅ [SAVED] Standardized File: /home/q674749/workspace/thesis_work/rat25-15.4.1/perception/standardized_data/combined_55.p\n"
     ]
    },
    {
     "name": "stderr",
     "output_type": "stream",
     "text": [
      "/home/q674749/.local/lib/python3.8/site-packages/sklearn/base.py:458: UserWarning: X has feature names, but StandardScaler was fitted without feature names\n",
      "  warnings.warn(\n",
      "/home/q674749/.local/lib/python3.8/site-packages/sklearn/base.py:458: UserWarning: X has feature names, but StandardScaler was fitted without feature names\n",
      "  warnings.warn(\n",
      "/home/q674749/.local/lib/python3.8/site-packages/sklearn/base.py:458: UserWarning: X has feature names, but StandardScaler was fitted without feature names\n",
      "  warnings.warn(\n",
      "Standardizing Files:   7%|▋         | 10/153 [00:21<04:38,  1.95s/it]"
     ]
    },
    {
     "name": "stdout",
     "output_type": "stream",
     "text": [
      "✅ [SAVED] Standardized File: /home/q674749/workspace/thesis_work/rat25-15.4.1/perception/standardized_data/combined_210.p\n"
     ]
    },
    {
     "name": "stderr",
     "output_type": "stream",
     "text": [
      "/home/q674749/.local/lib/python3.8/site-packages/sklearn/base.py:458: UserWarning: X has feature names, but StandardScaler was fitted without feature names\n",
      "  warnings.warn(\n",
      "/home/q674749/.local/lib/python3.8/site-packages/sklearn/base.py:458: UserWarning: X has feature names, but StandardScaler was fitted without feature names\n",
      "  warnings.warn(\n",
      "/home/q674749/.local/lib/python3.8/site-packages/sklearn/base.py:458: UserWarning: X has feature names, but StandardScaler was fitted without feature names\n",
      "  warnings.warn(\n",
      "Standardizing Files:   7%|▋         | 11/153 [00:22<04:13,  1.78s/it]"
     ]
    },
    {
     "name": "stdout",
     "output_type": "stream",
     "text": [
      "✅ [SAVED] Standardized File: /home/q674749/workspace/thesis_work/rat25-15.4.1/perception/standardized_data/combined_165.p\n"
     ]
    },
    {
     "name": "stderr",
     "output_type": "stream",
     "text": [
      "/home/q674749/.local/lib/python3.8/site-packages/sklearn/base.py:458: UserWarning: X has feature names, but StandardScaler was fitted without feature names\n",
      "  warnings.warn(\n",
      "/home/q674749/.local/lib/python3.8/site-packages/sklearn/base.py:458: UserWarning: X has feature names, but StandardScaler was fitted without feature names\n",
      "  warnings.warn(\n",
      "/home/q674749/.local/lib/python3.8/site-packages/sklearn/base.py:458: UserWarning: X has feature names, but StandardScaler was fitted without feature names\n",
      "  warnings.warn(\n",
      "Standardizing Files:   8%|▊         | 12/153 [00:25<05:10,  2.20s/it]"
     ]
    },
    {
     "name": "stdout",
     "output_type": "stream",
     "text": [
      "✅ [SAVED] Standardized File: /home/q674749/workspace/thesis_work/rat25-15.4.1/perception/standardized_data/combined_138.p\n"
     ]
    },
    {
     "name": "stderr",
     "output_type": "stream",
     "text": [
      "/home/q674749/.local/lib/python3.8/site-packages/sklearn/base.py:458: UserWarning: X has feature names, but StandardScaler was fitted without feature names\n",
      "  warnings.warn(\n",
      "/home/q674749/.local/lib/python3.8/site-packages/sklearn/base.py:458: UserWarning: X has feature names, but StandardScaler was fitted without feature names\n",
      "  warnings.warn(\n",
      "/home/q674749/.local/lib/python3.8/site-packages/sklearn/base.py:458: UserWarning: X has feature names, but StandardScaler was fitted without feature names\n",
      "  warnings.warn(\n",
      "Standardizing Files:   8%|▊         | 13/153 [00:29<06:04,  2.60s/it]"
     ]
    },
    {
     "name": "stdout",
     "output_type": "stream",
     "text": [
      "✅ [SAVED] Standardized File: /home/q674749/workspace/thesis_work/rat25-15.4.1/perception/standardized_data/combined_227.p\n"
     ]
    },
    {
     "name": "stderr",
     "output_type": "stream",
     "text": [
      "/home/q674749/.local/lib/python3.8/site-packages/sklearn/base.py:458: UserWarning: X has feature names, but StandardScaler was fitted without feature names\n",
      "  warnings.warn(\n",
      "/home/q674749/.local/lib/python3.8/site-packages/sklearn/base.py:458: UserWarning: X has feature names, but StandardScaler was fitted without feature names\n",
      "  warnings.warn(\n",
      "/home/q674749/.local/lib/python3.8/site-packages/sklearn/base.py:458: UserWarning: X has feature names, but StandardScaler was fitted without feature names\n",
      "  warnings.warn(\n",
      "Standardizing Files:   9%|▉         | 14/153 [00:32<06:25,  2.77s/it]"
     ]
    },
    {
     "name": "stdout",
     "output_type": "stream",
     "text": [
      "✅ [SAVED] Standardized File: /home/q674749/workspace/thesis_work/rat25-15.4.1/perception/standardized_data/combined_144.p\n"
     ]
    },
    {
     "name": "stderr",
     "output_type": "stream",
     "text": [
      "/home/q674749/.local/lib/python3.8/site-packages/sklearn/base.py:458: UserWarning: X has feature names, but StandardScaler was fitted without feature names\n",
      "  warnings.warn(\n",
      "/home/q674749/.local/lib/python3.8/site-packages/sklearn/base.py:458: UserWarning: X has feature names, but StandardScaler was fitted without feature names\n",
      "  warnings.warn(\n",
      "/home/q674749/.local/lib/python3.8/site-packages/sklearn/base.py:458: UserWarning: X has feature names, but StandardScaler was fitted without feature names\n",
      "  warnings.warn(\n",
      "Standardizing Files:  10%|▉         | 15/153 [00:34<05:25,  2.36s/it]"
     ]
    },
    {
     "name": "stdout",
     "output_type": "stream",
     "text": [
      "✅ [SAVED] Standardized File: /home/q674749/workspace/thesis_work/rat25-15.4.1/perception/standardized_data/combined_170.p\n"
     ]
    },
    {
     "name": "stderr",
     "output_type": "stream",
     "text": [
      "/home/q674749/.local/lib/python3.8/site-packages/sklearn/base.py:458: UserWarning: X has feature names, but StandardScaler was fitted without feature names\n",
      "  warnings.warn(\n",
      "/home/q674749/.local/lib/python3.8/site-packages/sklearn/base.py:458: UserWarning: X has feature names, but StandardScaler was fitted without feature names\n",
      "  warnings.warn(\n",
      "/home/q674749/.local/lib/python3.8/site-packages/sklearn/base.py:458: UserWarning: X has feature names, but StandardScaler was fitted without feature names\n",
      "  warnings.warn(\n",
      "Standardizing Files:  10%|█         | 16/153 [00:34<04:08,  1.81s/it]"
     ]
    },
    {
     "name": "stdout",
     "output_type": "stream",
     "text": [
      "✅ [SAVED] Standardized File: /home/q674749/workspace/thesis_work/rat25-15.4.1/perception/standardized_data/combined_69.p\n"
     ]
    },
    {
     "name": "stderr",
     "output_type": "stream",
     "text": [
      "/home/q674749/.local/lib/python3.8/site-packages/sklearn/base.py:458: UserWarning: X has feature names, but StandardScaler was fitted without feature names\n",
      "  warnings.warn(\n",
      "/home/q674749/.local/lib/python3.8/site-packages/sklearn/base.py:458: UserWarning: X has feature names, but StandardScaler was fitted without feature names\n",
      "  warnings.warn(\n",
      "/home/q674749/.local/lib/python3.8/site-packages/sklearn/base.py:458: UserWarning: X has feature names, but StandardScaler was fitted without feature names\n",
      "  warnings.warn(\n",
      "Standardizing Files:  11%|█         | 17/153 [00:37<05:00,  2.21s/it]"
     ]
    },
    {
     "name": "stdout",
     "output_type": "stream",
     "text": [
      "✅ [SAVED] Standardized File: /home/q674749/workspace/thesis_work/rat25-15.4.1/perception/standardized_data/combined_134.p\n"
     ]
    },
    {
     "name": "stderr",
     "output_type": "stream",
     "text": [
      "/home/q674749/.local/lib/python3.8/site-packages/sklearn/base.py:458: UserWarning: X has feature names, but StandardScaler was fitted without feature names\n",
      "  warnings.warn(\n",
      "/home/q674749/.local/lib/python3.8/site-packages/sklearn/base.py:458: UserWarning: X has feature names, but StandardScaler was fitted without feature names\n",
      "  warnings.warn(\n",
      "/home/q674749/.local/lib/python3.8/site-packages/sklearn/base.py:458: UserWarning: X has feature names, but StandardScaler was fitted without feature names\n",
      "  warnings.warn(\n",
      "Standardizing Files:  12%|█▏        | 18/153 [00:41<05:49,  2.59s/it]"
     ]
    },
    {
     "name": "stdout",
     "output_type": "stream",
     "text": [
      "✅ [SAVED] Standardized File: /home/q674749/workspace/thesis_work/rat25-15.4.1/perception/standardized_data/combined_229.p\n"
     ]
    },
    {
     "name": "stderr",
     "output_type": "stream",
     "text": [
      "/home/q674749/.local/lib/python3.8/site-packages/sklearn/base.py:458: UserWarning: X has feature names, but StandardScaler was fitted without feature names\n",
      "  warnings.warn(\n",
      "/home/q674749/.local/lib/python3.8/site-packages/sklearn/base.py:458: UserWarning: X has feature names, but StandardScaler was fitted without feature names\n",
      "  warnings.warn(\n",
      "/home/q674749/.local/lib/python3.8/site-packages/sklearn/base.py:458: UserWarning: X has feature names, but StandardScaler was fitted without feature names\n",
      "  warnings.warn(\n",
      "Standardizing Files:  12%|█▏        | 19/153 [00:42<04:59,  2.23s/it]"
     ]
    },
    {
     "name": "stdout",
     "output_type": "stream",
     "text": [
      "✅ [SAVED] Standardized File: /home/q674749/workspace/thesis_work/rat25-15.4.1/perception/standardized_data/combined_172.p\n"
     ]
    },
    {
     "name": "stderr",
     "output_type": "stream",
     "text": [
      "/home/q674749/.local/lib/python3.8/site-packages/sklearn/base.py:458: UserWarning: X has feature names, but StandardScaler was fitted without feature names\n",
      "  warnings.warn(\n",
      "/home/q674749/.local/lib/python3.8/site-packages/sklearn/base.py:458: UserWarning: X has feature names, but StandardScaler was fitted without feature names\n",
      "  warnings.warn(\n",
      "/home/q674749/.local/lib/python3.8/site-packages/sklearn/base.py:458: UserWarning: X has feature names, but StandardScaler was fitted without feature names\n",
      "  warnings.warn(\n",
      "Standardizing Files:  13%|█▎        | 20/153 [00:43<04:21,  1.97s/it]"
     ]
    },
    {
     "name": "stdout",
     "output_type": "stream",
     "text": [
      "✅ [SAVED] Standardized File: /home/q674749/workspace/thesis_work/rat25-15.4.1/perception/standardized_data/combined_161.p\n"
     ]
    },
    {
     "name": "stderr",
     "output_type": "stream",
     "text": [
      "/home/q674749/.local/lib/python3.8/site-packages/sklearn/base.py:458: UserWarning: X has feature names, but StandardScaler was fitted without feature names\n",
      "  warnings.warn(\n",
      "/home/q674749/.local/lib/python3.8/site-packages/sklearn/base.py:458: UserWarning: X has feature names, but StandardScaler was fitted without feature names\n",
      "  warnings.warn(\n",
      "/home/q674749/.local/lib/python3.8/site-packages/sklearn/base.py:458: UserWarning: X has feature names, but StandardScaler was fitted without feature names\n",
      "  warnings.warn(\n",
      "Standardizing Files:  14%|█▎        | 21/153 [00:47<05:07,  2.33s/it]"
     ]
    },
    {
     "name": "stdout",
     "output_type": "stream",
     "text": [
      "✅ [SAVED] Standardized File: /home/q674749/workspace/thesis_work/rat25-15.4.1/perception/standardized_data/combined_118.p\n"
     ]
    },
    {
     "name": "stderr",
     "output_type": "stream",
     "text": [
      "/home/q674749/.local/lib/python3.8/site-packages/sklearn/base.py:458: UserWarning: X has feature names, but StandardScaler was fitted without feature names\n",
      "  warnings.warn(\n",
      "/home/q674749/.local/lib/python3.8/site-packages/sklearn/base.py:458: UserWarning: X has feature names, but StandardScaler was fitted without feature names\n",
      "  warnings.warn(\n",
      "/home/q674749/.local/lib/python3.8/site-packages/sklearn/base.py:458: UserWarning: X has feature names, but StandardScaler was fitted without feature names\n",
      "  warnings.warn(\n",
      "Standardizing Files:  14%|█▍        | 22/153 [00:50<05:39,  2.59s/it]"
     ]
    },
    {
     "name": "stdout",
     "output_type": "stream",
     "text": [
      "✅ [SAVED] Standardized File: /home/q674749/workspace/thesis_work/rat25-15.4.1/perception/standardized_data/combined_119.p\n"
     ]
    },
    {
     "name": "stderr",
     "output_type": "stream",
     "text": [
      "/home/q674749/.local/lib/python3.8/site-packages/sklearn/base.py:458: UserWarning: X has feature names, but StandardScaler was fitted without feature names\n",
      "  warnings.warn(\n",
      "/home/q674749/.local/lib/python3.8/site-packages/sklearn/base.py:458: UserWarning: X has feature names, but StandardScaler was fitted without feature names\n",
      "  warnings.warn(\n",
      "/home/q674749/.local/lib/python3.8/site-packages/sklearn/base.py:458: UserWarning: X has feature names, but StandardScaler was fitted without feature names\n",
      "  warnings.warn(\n",
      "Standardizing Files:  15%|█▌        | 23/153 [00:53<06:09,  2.84s/it]"
     ]
    },
    {
     "name": "stdout",
     "output_type": "stream",
     "text": [
      "✅ [SAVED] Standardized File: /home/q674749/workspace/thesis_work/rat25-15.4.1/perception/standardized_data/combined_226.p\n"
     ]
    },
    {
     "name": "stderr",
     "output_type": "stream",
     "text": [
      "/home/q674749/.local/lib/python3.8/site-packages/sklearn/base.py:458: UserWarning: X has feature names, but StandardScaler was fitted without feature names\n",
      "  warnings.warn(\n",
      "/home/q674749/.local/lib/python3.8/site-packages/sklearn/base.py:458: UserWarning: X has feature names, but StandardScaler was fitted without feature names\n",
      "  warnings.warn(\n",
      "/home/q674749/.local/lib/python3.8/site-packages/sklearn/base.py:458: UserWarning: X has feature names, but StandardScaler was fitted without feature names\n",
      "  warnings.warn(\n",
      "Standardizing Files:  16%|█▌        | 24/153 [00:56<06:20,  2.95s/it]"
     ]
    },
    {
     "name": "stdout",
     "output_type": "stream",
     "text": [
      "✅ [SAVED] Standardized File: /home/q674749/workspace/thesis_work/rat25-15.4.1/perception/standardized_data/combined_121.p\n"
     ]
    },
    {
     "name": "stderr",
     "output_type": "stream",
     "text": [
      "/home/q674749/.local/lib/python3.8/site-packages/sklearn/base.py:458: UserWarning: X has feature names, but StandardScaler was fitted without feature names\n",
      "  warnings.warn(\n",
      "/home/q674749/.local/lib/python3.8/site-packages/sklearn/base.py:458: UserWarning: X has feature names, but StandardScaler was fitted without feature names\n",
      "  warnings.warn(\n",
      "/home/q674749/.local/lib/python3.8/site-packages/sklearn/base.py:458: UserWarning: X has feature names, but StandardScaler was fitted without feature names\n",
      "  warnings.warn(\n",
      "Standardizing Files:  16%|█▋        | 25/153 [00:57<04:47,  2.25s/it]"
     ]
    },
    {
     "name": "stdout",
     "output_type": "stream",
     "text": [
      "✅ [SAVED] Standardized File: /home/q674749/workspace/thesis_work/rat25-15.4.1/perception/standardized_data/combined_81.p\n"
     ]
    },
    {
     "name": "stderr",
     "output_type": "stream",
     "text": [
      "/home/q674749/.local/lib/python3.8/site-packages/sklearn/base.py:458: UserWarning: X has feature names, but StandardScaler was fitted without feature names\n",
      "  warnings.warn(\n",
      "/home/q674749/.local/lib/python3.8/site-packages/sklearn/base.py:458: UserWarning: X has feature names, but StandardScaler was fitted without feature names\n",
      "  warnings.warn(\n",
      "/home/q674749/.local/lib/python3.8/site-packages/sklearn/base.py:458: UserWarning: X has feature names, but StandardScaler was fitted without feature names\n",
      "  warnings.warn(\n",
      "Standardizing Files:  17%|█▋        | 26/153 [01:00<05:28,  2.59s/it]"
     ]
    },
    {
     "name": "stdout",
     "output_type": "stream",
     "text": [
      "✅ [SAVED] Standardized File: /home/q674749/workspace/thesis_work/rat25-15.4.1/perception/standardized_data/combined_223.p\n"
     ]
    },
    {
     "name": "stderr",
     "output_type": "stream",
     "text": [
      "/home/q674749/.local/lib/python3.8/site-packages/sklearn/base.py:458: UserWarning: X has feature names, but StandardScaler was fitted without feature names\n",
      "  warnings.warn(\n",
      "/home/q674749/.local/lib/python3.8/site-packages/sklearn/base.py:458: UserWarning: X has feature names, but StandardScaler was fitted without feature names\n",
      "  warnings.warn(\n",
      "/home/q674749/.local/lib/python3.8/site-packages/sklearn/base.py:458: UserWarning: X has feature names, but StandardScaler was fitted without feature names\n",
      "  warnings.warn(\n",
      "Standardizing Files:  18%|█▊        | 27/153 [01:04<05:50,  2.78s/it]"
     ]
    },
    {
     "name": "stdout",
     "output_type": "stream",
     "text": [
      "✅ [SAVED] Standardized File: /home/q674749/workspace/thesis_work/rat25-15.4.1/perception/standardized_data/combined_120.p\n"
     ]
    },
    {
     "name": "stderr",
     "output_type": "stream",
     "text": [
      "/home/q674749/.local/lib/python3.8/site-packages/sklearn/base.py:458: UserWarning: X has feature names, but StandardScaler was fitted without feature names\n",
      "  warnings.warn(\n",
      "/home/q674749/.local/lib/python3.8/site-packages/sklearn/base.py:458: UserWarning: X has feature names, but StandardScaler was fitted without feature names\n",
      "  warnings.warn(\n",
      "/home/q674749/.local/lib/python3.8/site-packages/sklearn/base.py:458: UserWarning: X has feature names, but StandardScaler was fitted without feature names\n",
      "  warnings.warn(\n",
      "Standardizing Files:  18%|█▊        | 28/153 [01:21<15:05,  7.25s/it]"
     ]
    },
    {
     "name": "stdout",
     "output_type": "stream",
     "text": [
      "✅ [SAVED] Standardized File: /home/q674749/workspace/thesis_work/rat25-15.4.1/perception/standardized_data/combined_212.p\n"
     ]
    },
    {
     "name": "stderr",
     "output_type": "stream",
     "text": [
      "/home/q674749/.local/lib/python3.8/site-packages/sklearn/base.py:458: UserWarning: X has feature names, but StandardScaler was fitted without feature names\n",
      "  warnings.warn(\n",
      "/home/q674749/.local/lib/python3.8/site-packages/sklearn/base.py:458: UserWarning: X has feature names, but StandardScaler was fitted without feature names\n",
      "  warnings.warn(\n",
      "/home/q674749/.local/lib/python3.8/site-packages/sklearn/base.py:458: UserWarning: X has feature names, but StandardScaler was fitted without feature names\n",
      "  warnings.warn(\n",
      "Standardizing Files:  19%|█▉        | 29/153 [01:22<10:52,  5.26s/it]"
     ]
    },
    {
     "name": "stdout",
     "output_type": "stream",
     "text": [
      "✅ [SAVED] Standardized File: /home/q674749/workspace/thesis_work/rat25-15.4.1/perception/standardized_data/combined_76.p\n"
     ]
    },
    {
     "name": "stderr",
     "output_type": "stream",
     "text": [
      "/home/q674749/.local/lib/python3.8/site-packages/sklearn/base.py:458: UserWarning: X has feature names, but StandardScaler was fitted without feature names\n",
      "  warnings.warn(\n",
      "/home/q674749/.local/lib/python3.8/site-packages/sklearn/base.py:458: UserWarning: X has feature names, but StandardScaler was fitted without feature names\n",
      "  warnings.warn(\n",
      "/home/q674749/.local/lib/python3.8/site-packages/sklearn/base.py:458: UserWarning: X has feature names, but StandardScaler was fitted without feature names\n",
      "  warnings.warn(\n",
      "Standardizing Files:  20%|█▉        | 30/153 [01:23<08:21,  4.08s/it]"
     ]
    },
    {
     "name": "stdout",
     "output_type": "stream",
     "text": [
      "✅ [SAVED] Standardized File: /home/q674749/workspace/thesis_work/rat25-15.4.1/perception/standardized_data/combined_183.p\n"
     ]
    },
    {
     "name": "stderr",
     "output_type": "stream",
     "text": [
      "/home/q674749/.local/lib/python3.8/site-packages/sklearn/base.py:458: UserWarning: X has feature names, but StandardScaler was fitted without feature names\n",
      "  warnings.warn(\n",
      "/home/q674749/.local/lib/python3.8/site-packages/sklearn/base.py:458: UserWarning: X has feature names, but StandardScaler was fitted without feature names\n",
      "  warnings.warn(\n",
      "/home/q674749/.local/lib/python3.8/site-packages/sklearn/base.py:458: UserWarning: X has feature names, but StandardScaler was fitted without feature names\n",
      "  warnings.warn(\n",
      "Standardizing Files:  20%|██        | 31/153 [01:27<07:54,  3.89s/it]"
     ]
    },
    {
     "name": "stdout",
     "output_type": "stream",
     "text": [
      "✅ [SAVED] Standardized File: /home/q674749/workspace/thesis_work/rat25-15.4.1/perception/standardized_data/combined_207.p\n"
     ]
    },
    {
     "name": "stderr",
     "output_type": "stream",
     "text": [
      "/home/q674749/.local/lib/python3.8/site-packages/sklearn/base.py:458: UserWarning: X has feature names, but StandardScaler was fitted without feature names\n",
      "  warnings.warn(\n",
      "/home/q674749/.local/lib/python3.8/site-packages/sklearn/base.py:458: UserWarning: X has feature names, but StandardScaler was fitted without feature names\n",
      "  warnings.warn(\n",
      "/home/q674749/.local/lib/python3.8/site-packages/sklearn/base.py:458: UserWarning: X has feature names, but StandardScaler was fitted without feature names\n",
      "  warnings.warn(\n",
      "Standardizing Files:  21%|██        | 32/153 [01:27<05:51,  2.91s/it]"
     ]
    },
    {
     "name": "stdout",
     "output_type": "stream",
     "text": [
      "✅ [SAVED] Standardized File: /home/q674749/workspace/thesis_work/rat25-15.4.1/perception/standardized_data/combined_64.p\n"
     ]
    },
    {
     "name": "stderr",
     "output_type": "stream",
     "text": [
      "/home/q674749/.local/lib/python3.8/site-packages/sklearn/base.py:458: UserWarning: X has feature names, but StandardScaler was fitted without feature names\n",
      "  warnings.warn(\n",
      "/home/q674749/.local/lib/python3.8/site-packages/sklearn/base.py:458: UserWarning: X has feature names, but StandardScaler was fitted without feature names\n",
      "  warnings.warn(\n",
      "/home/q674749/.local/lib/python3.8/site-packages/sklearn/base.py:458: UserWarning: X has feature names, but StandardScaler was fitted without feature names\n",
      "  warnings.warn(\n",
      "Standardizing Files:  22%|██▏       | 33/153 [01:29<04:51,  2.43s/it]"
     ]
    },
    {
     "name": "stdout",
     "output_type": "stream",
     "text": [
      "✅ [SAVED] Standardized File: /home/q674749/workspace/thesis_work/rat25-15.4.1/perception/standardized_data/combined_166.p\n"
     ]
    },
    {
     "name": "stderr",
     "output_type": "stream",
     "text": [
      "/home/q674749/.local/lib/python3.8/site-packages/sklearn/base.py:458: UserWarning: X has feature names, but StandardScaler was fitted without feature names\n",
      "  warnings.warn(\n",
      "/home/q674749/.local/lib/python3.8/site-packages/sklearn/base.py:458: UserWarning: X has feature names, but StandardScaler was fitted without feature names\n",
      "  warnings.warn(\n",
      "/home/q674749/.local/lib/python3.8/site-packages/sklearn/base.py:458: UserWarning: X has feature names, but StandardScaler was fitted without feature names\n",
      "  warnings.warn(\n",
      "Standardizing Files:  22%|██▏       | 34/153 [01:30<04:10,  2.10s/it]"
     ]
    },
    {
     "name": "stdout",
     "output_type": "stream",
     "text": [
      "✅ [SAVED] Standardized File: /home/q674749/workspace/thesis_work/rat25-15.4.1/perception/standardized_data/combined_176.p\n"
     ]
    },
    {
     "name": "stderr",
     "output_type": "stream",
     "text": [
      "/home/q674749/.local/lib/python3.8/site-packages/sklearn/base.py:458: UserWarning: X has feature names, but StandardScaler was fitted without feature names\n",
      "  warnings.warn(\n",
      "/home/q674749/.local/lib/python3.8/site-packages/sklearn/base.py:458: UserWarning: X has feature names, but StandardScaler was fitted without feature names\n",
      "  warnings.warn(\n",
      "/home/q674749/.local/lib/python3.8/site-packages/sklearn/base.py:458: UserWarning: X has feature names, but StandardScaler was fitted without feature names\n",
      "  warnings.warn(\n",
      "Standardizing Files:  23%|██▎       | 35/153 [01:33<04:54,  2.49s/it]"
     ]
    },
    {
     "name": "stdout",
     "output_type": "stream",
     "text": [
      "✅ [SAVED] Standardized File: /home/q674749/workspace/thesis_work/rat25-15.4.1/perception/standardized_data/combined_208.p\n"
     ]
    },
    {
     "name": "stderr",
     "output_type": "stream",
     "text": [
      "/home/q674749/.local/lib/python3.8/site-packages/sklearn/base.py:458: UserWarning: X has feature names, but StandardScaler was fitted without feature names\n",
      "  warnings.warn(\n",
      "/home/q674749/.local/lib/python3.8/site-packages/sklearn/base.py:458: UserWarning: X has feature names, but StandardScaler was fitted without feature names\n",
      "  warnings.warn(\n",
      "/home/q674749/.local/lib/python3.8/site-packages/sklearn/base.py:458: UserWarning: X has feature names, but StandardScaler was fitted without feature names\n",
      "  warnings.warn(\n",
      "Standardizing Files:  24%|██▎       | 36/153 [01:34<03:45,  1.93s/it]"
     ]
    },
    {
     "name": "stdout",
     "output_type": "stream",
     "text": [
      "✅ [SAVED] Standardized File: /home/q674749/workspace/thesis_work/rat25-15.4.1/perception/standardized_data/combined_56.p\n"
     ]
    },
    {
     "name": "stderr",
     "output_type": "stream",
     "text": [
      "/home/q674749/.local/lib/python3.8/site-packages/sklearn/base.py:458: UserWarning: X has feature names, but StandardScaler was fitted without feature names\n",
      "  warnings.warn(\n",
      "/home/q674749/.local/lib/python3.8/site-packages/sklearn/base.py:458: UserWarning: X has feature names, but StandardScaler was fitted without feature names\n",
      "  warnings.warn(\n",
      "/home/q674749/.local/lib/python3.8/site-packages/sklearn/base.py:458: UserWarning: X has feature names, but StandardScaler was fitted without feature names\n",
      "  warnings.warn(\n",
      "Standardizing Files:  24%|██▍       | 37/153 [01:37<04:33,  2.36s/it]"
     ]
    },
    {
     "name": "stdout",
     "output_type": "stream",
     "text": [
      "✅ [SAVED] Standardized File: /home/q674749/workspace/thesis_work/rat25-15.4.1/perception/standardized_data/combined_195.p\n"
     ]
    },
    {
     "name": "stderr",
     "output_type": "stream",
     "text": [
      "/home/q674749/.local/lib/python3.8/site-packages/sklearn/base.py:458: UserWarning: X has feature names, but StandardScaler was fitted without feature names\n",
      "  warnings.warn(\n",
      "/home/q674749/.local/lib/python3.8/site-packages/sklearn/base.py:458: UserWarning: X has feature names, but StandardScaler was fitted without feature names\n",
      "  warnings.warn(\n",
      "/home/q674749/.local/lib/python3.8/site-packages/sklearn/base.py:458: UserWarning: X has feature names, but StandardScaler was fitted without feature names\n",
      "  warnings.warn(\n",
      "Standardizing Files:  25%|██▍       | 38/153 [01:39<03:58,  2.07s/it]"
     ]
    },
    {
     "name": "stdout",
     "output_type": "stream",
     "text": [
      "✅ [SAVED] Standardized File: /home/q674749/workspace/thesis_work/rat25-15.4.1/perception/standardized_data/combined_156.p\n"
     ]
    },
    {
     "name": "stderr",
     "output_type": "stream",
     "text": [
      "/home/q674749/.local/lib/python3.8/site-packages/sklearn/base.py:458: UserWarning: X has feature names, but StandardScaler was fitted without feature names\n",
      "  warnings.warn(\n",
      "/home/q674749/.local/lib/python3.8/site-packages/sklearn/base.py:458: UserWarning: X has feature names, but StandardScaler was fitted without feature names\n",
      "  warnings.warn(\n",
      "/home/q674749/.local/lib/python3.8/site-packages/sklearn/base.py:458: UserWarning: X has feature names, but StandardScaler was fitted without feature names\n",
      "  warnings.warn(\n",
      "Standardizing Files:  25%|██▌       | 39/153 [01:40<03:31,  1.85s/it]"
     ]
    },
    {
     "name": "stdout",
     "output_type": "stream",
     "text": [
      "✅ [SAVED] Standardized File: /home/q674749/workspace/thesis_work/rat25-15.4.1/perception/standardized_data/combined_153.p\n"
     ]
    },
    {
     "name": "stderr",
     "output_type": "stream",
     "text": [
      "/home/q674749/.local/lib/python3.8/site-packages/sklearn/base.py:458: UserWarning: X has feature names, but StandardScaler was fitted without feature names\n",
      "  warnings.warn(\n",
      "/home/q674749/.local/lib/python3.8/site-packages/sklearn/base.py:458: UserWarning: X has feature names, but StandardScaler was fitted without feature names\n",
      "  warnings.warn(\n",
      "/home/q674749/.local/lib/python3.8/site-packages/sklearn/base.py:458: UserWarning: X has feature names, but StandardScaler was fitted without feature names\n",
      "  warnings.warn(\n",
      "Standardizing Files:  26%|██▌       | 40/153 [01:44<04:22,  2.32s/it]"
     ]
    },
    {
     "name": "stdout",
     "output_type": "stream",
     "text": [
      "✅ [SAVED] Standardized File: /home/q674749/workspace/thesis_work/rat25-15.4.1/perception/standardized_data/combined_184.p\n"
     ]
    },
    {
     "name": "stderr",
     "output_type": "stream",
     "text": [
      "/home/q674749/.local/lib/python3.8/site-packages/sklearn/base.py:458: UserWarning: X has feature names, but StandardScaler was fitted without feature names\n",
      "  warnings.warn(\n",
      "/home/q674749/.local/lib/python3.8/site-packages/sklearn/base.py:458: UserWarning: X has feature names, but StandardScaler was fitted without feature names\n",
      "  warnings.warn(\n",
      "/home/q674749/.local/lib/python3.8/site-packages/sklearn/base.py:458: UserWarning: X has feature names, but StandardScaler was fitted without feature names\n",
      "  warnings.warn(\n",
      "Standardizing Files:  27%|██▋       | 41/153 [01:47<04:58,  2.67s/it]"
     ]
    },
    {
     "name": "stdout",
     "output_type": "stream",
     "text": [
      "✅ [SAVED] Standardized File: /home/q674749/workspace/thesis_work/rat25-15.4.1/perception/standardized_data/combined_231.p\n"
     ]
    },
    {
     "name": "stderr",
     "output_type": "stream",
     "text": [
      "/home/q674749/.local/lib/python3.8/site-packages/sklearn/base.py:458: UserWarning: X has feature names, but StandardScaler was fitted without feature names\n",
      "  warnings.warn(\n",
      "/home/q674749/.local/lib/python3.8/site-packages/sklearn/base.py:458: UserWarning: X has feature names, but StandardScaler was fitted without feature names\n",
      "  warnings.warn(\n",
      "/home/q674749/.local/lib/python3.8/site-packages/sklearn/base.py:458: UserWarning: X has feature names, but StandardScaler was fitted without feature names\n",
      "  warnings.warn(\n",
      "Standardizing Files:  27%|██▋       | 42/153 [01:50<05:21,  2.89s/it]"
     ]
    },
    {
     "name": "stdout",
     "output_type": "stream",
     "text": [
      "✅ [SAVED] Standardized File: /home/q674749/workspace/thesis_work/rat25-15.4.1/perception/standardized_data/combined_230.p\n"
     ]
    },
    {
     "name": "stderr",
     "output_type": "stream",
     "text": [
      "/home/q674749/.local/lib/python3.8/site-packages/sklearn/base.py:458: UserWarning: X has feature names, but StandardScaler was fitted without feature names\n",
      "  warnings.warn(\n",
      "/home/q674749/.local/lib/python3.8/site-packages/sklearn/base.py:458: UserWarning: X has feature names, but StandardScaler was fitted without feature names\n",
      "  warnings.warn(\n",
      "/home/q674749/.local/lib/python3.8/site-packages/sklearn/base.py:458: UserWarning: X has feature names, but StandardScaler was fitted without feature names\n",
      "  warnings.warn(\n",
      "Standardizing Files:  28%|██▊       | 43/153 [01:52<04:29,  2.45s/it]"
     ]
    },
    {
     "name": "stdout",
     "output_type": "stream",
     "text": [
      "✅ [SAVED] Standardized File: /home/q674749/workspace/thesis_work/rat25-15.4.1/perception/standardized_data/combined_154.p\n"
     ]
    },
    {
     "name": "stderr",
     "output_type": "stream",
     "text": [
      "/home/q674749/.local/lib/python3.8/site-packages/sklearn/base.py:458: UserWarning: X has feature names, but StandardScaler was fitted without feature names\n",
      "  warnings.warn(\n",
      "/home/q674749/.local/lib/python3.8/site-packages/sklearn/base.py:458: UserWarning: X has feature names, but StandardScaler was fitted without feature names\n",
      "  warnings.warn(\n",
      "/home/q674749/.local/lib/python3.8/site-packages/sklearn/base.py:458: UserWarning: X has feature names, but StandardScaler was fitted without feature names\n",
      "  warnings.warn(\n",
      "Standardizing Files:  29%|██▉       | 44/153 [01:53<03:50,  2.12s/it]"
     ]
    },
    {
     "name": "stdout",
     "output_type": "stream",
     "text": [
      "✅ [SAVED] Standardized File: /home/q674749/workspace/thesis_work/rat25-15.4.1/perception/standardized_data/combined_155.p\n"
     ]
    },
    {
     "name": "stderr",
     "output_type": "stream",
     "text": [
      "/home/q674749/.local/lib/python3.8/site-packages/sklearn/base.py:458: UserWarning: X has feature names, but StandardScaler was fitted without feature names\n",
      "  warnings.warn(\n",
      "/home/q674749/.local/lib/python3.8/site-packages/sklearn/base.py:458: UserWarning: X has feature names, but StandardScaler was fitted without feature names\n",
      "  warnings.warn(\n",
      "/home/q674749/.local/lib/python3.8/site-packages/sklearn/base.py:458: UserWarning: X has feature names, but StandardScaler was fitted without feature names\n",
      "  warnings.warn(\n",
      "Standardizing Files:  29%|██▉       | 45/153 [01:56<04:22,  2.43s/it]"
     ]
    },
    {
     "name": "stdout",
     "output_type": "stream",
     "text": [
      "✅ [SAVED] Standardized File: /home/q674749/workspace/thesis_work/rat25-15.4.1/perception/standardized_data/combined_140.p\n"
     ]
    },
    {
     "name": "stderr",
     "output_type": "stream",
     "text": [
      "/home/q674749/.local/lib/python3.8/site-packages/sklearn/base.py:458: UserWarning: X has feature names, but StandardScaler was fitted without feature names\n",
      "  warnings.warn(\n",
      "/home/q674749/.local/lib/python3.8/site-packages/sklearn/base.py:458: UserWarning: X has feature names, but StandardScaler was fitted without feature names\n",
      "  warnings.warn(\n",
      "/home/q674749/.local/lib/python3.8/site-packages/sklearn/base.py:458: UserWarning: X has feature names, but StandardScaler was fitted without feature names\n",
      "  warnings.warn(\n",
      "Standardizing Files:  30%|███       | 46/153 [01:57<03:21,  1.89s/it]"
     ]
    },
    {
     "name": "stdout",
     "output_type": "stream",
     "text": [
      "✅ [SAVED] Standardized File: /home/q674749/workspace/thesis_work/rat25-15.4.1/perception/standardized_data/combined_54.p\n"
     ]
    },
    {
     "name": "stderr",
     "output_type": "stream",
     "text": [
      "/home/q674749/.local/lib/python3.8/site-packages/sklearn/base.py:458: UserWarning: X has feature names, but StandardScaler was fitted without feature names\n",
      "  warnings.warn(\n",
      "/home/q674749/.local/lib/python3.8/site-packages/sklearn/base.py:458: UserWarning: X has feature names, but StandardScaler was fitted without feature names\n",
      "  warnings.warn(\n",
      "/home/q674749/.local/lib/python3.8/site-packages/sklearn/base.py:458: UserWarning: X has feature names, but StandardScaler was fitted without feature names\n",
      "  warnings.warn(\n",
      "Standardizing Files:  31%|███       | 47/153 [01:58<03:01,  1.72s/it]"
     ]
    },
    {
     "name": "stdout",
     "output_type": "stream",
     "text": [
      "✅ [SAVED] Standardized File: /home/q674749/workspace/thesis_work/rat25-15.4.1/perception/standardized_data/combined_174.p\n"
     ]
    },
    {
     "name": "stderr",
     "output_type": "stream",
     "text": [
      "/home/q674749/.local/lib/python3.8/site-packages/sklearn/base.py:458: UserWarning: X has feature names, but StandardScaler was fitted without feature names\n",
      "  warnings.warn(\n",
      "/home/q674749/.local/lib/python3.8/site-packages/sklearn/base.py:458: UserWarning: X has feature names, but StandardScaler was fitted without feature names\n",
      "  warnings.warn(\n",
      "/home/q674749/.local/lib/python3.8/site-packages/sklearn/base.py:458: UserWarning: X has feature names, but StandardScaler was fitted without feature names\n",
      "  warnings.warn(\n",
      "Standardizing Files:  31%|███▏      | 48/153 [02:00<02:48,  1.60s/it]"
     ]
    },
    {
     "name": "stdout",
     "output_type": "stream",
     "text": [
      "✅ [SAVED] Standardized File: /home/q674749/workspace/thesis_work/rat25-15.4.1/perception/standardized_data/combined_179.p\n"
     ]
    },
    {
     "name": "stderr",
     "output_type": "stream",
     "text": [
      "/home/q674749/.local/lib/python3.8/site-packages/sklearn/base.py:458: UserWarning: X has feature names, but StandardScaler was fitted without feature names\n",
      "  warnings.warn(\n",
      "/home/q674749/.local/lib/python3.8/site-packages/sklearn/base.py:458: UserWarning: X has feature names, but StandardScaler was fitted without feature names\n",
      "  warnings.warn(\n",
      "/home/q674749/.local/lib/python3.8/site-packages/sklearn/base.py:458: UserWarning: X has feature names, but StandardScaler was fitted without feature names\n",
      "  warnings.warn(\n",
      "Standardizing Files:  32%|███▏      | 49/153 [02:03<03:35,  2.08s/it]"
     ]
    },
    {
     "name": "stdout",
     "output_type": "stream",
     "text": [
      "✅ [SAVED] Standardized File: /home/q674749/workspace/thesis_work/rat25-15.4.1/perception/standardized_data/combined_116.p\n"
     ]
    },
    {
     "name": "stderr",
     "output_type": "stream",
     "text": [
      "/home/q674749/.local/lib/python3.8/site-packages/sklearn/base.py:458: UserWarning: X has feature names, but StandardScaler was fitted without feature names\n",
      "  warnings.warn(\n",
      "/home/q674749/.local/lib/python3.8/site-packages/sklearn/base.py:458: UserWarning: X has feature names, but StandardScaler was fitted without feature names\n",
      "  warnings.warn(\n",
      "/home/q674749/.local/lib/python3.8/site-packages/sklearn/base.py:458: UserWarning: X has feature names, but StandardScaler was fitted without feature names\n",
      "  warnings.warn(\n",
      "Standardizing Files:  33%|███▎      | 50/153 [02:04<03:12,  1.87s/it]"
     ]
    },
    {
     "name": "stdout",
     "output_type": "stream",
     "text": [
      "✅ [SAVED] Standardized File: /home/q674749/workspace/thesis_work/rat25-15.4.1/perception/standardized_data/combined_173.p\n"
     ]
    },
    {
     "name": "stderr",
     "output_type": "stream",
     "text": [
      "/home/q674749/.local/lib/python3.8/site-packages/sklearn/base.py:458: UserWarning: X has feature names, but StandardScaler was fitted without feature names\n",
      "  warnings.warn(\n",
      "/home/q674749/.local/lib/python3.8/site-packages/sklearn/base.py:458: UserWarning: X has feature names, but StandardScaler was fitted without feature names\n",
      "  warnings.warn(\n",
      "/home/q674749/.local/lib/python3.8/site-packages/sklearn/base.py:458: UserWarning: X has feature names, but StandardScaler was fitted without feature names\n",
      "  warnings.warn(\n",
      "Standardizing Files:  33%|███▎      | 51/153 [02:07<03:50,  2.26s/it]"
     ]
    },
    {
     "name": "stdout",
     "output_type": "stream",
     "text": [
      "✅ [SAVED] Standardized File: /home/q674749/workspace/thesis_work/rat25-15.4.1/perception/standardized_data/combined_111.p\n"
     ]
    },
    {
     "name": "stderr",
     "output_type": "stream",
     "text": [
      "/home/q674749/.local/lib/python3.8/site-packages/sklearn/base.py:458: UserWarning: X has feature names, but StandardScaler was fitted without feature names\n",
      "  warnings.warn(\n",
      "/home/q674749/.local/lib/python3.8/site-packages/sklearn/base.py:458: UserWarning: X has feature names, but StandardScaler was fitted without feature names\n",
      "  warnings.warn(\n",
      "/home/q674749/.local/lib/python3.8/site-packages/sklearn/base.py:458: UserWarning: X has feature names, but StandardScaler was fitted without feature names\n",
      "  warnings.warn(\n",
      "Standardizing Files:  34%|███▍      | 52/153 [02:08<02:58,  1.77s/it]"
     ]
    },
    {
     "name": "stdout",
     "output_type": "stream",
     "text": [
      "✅ [SAVED] Standardized File: /home/q674749/workspace/thesis_work/rat25-15.4.1/perception/standardized_data/combined_58.p\n"
     ]
    },
    {
     "name": "stderr",
     "output_type": "stream",
     "text": [
      "/home/q674749/.local/lib/python3.8/site-packages/sklearn/base.py:458: UserWarning: X has feature names, but StandardScaler was fitted without feature names\n",
      "  warnings.warn(\n",
      "/home/q674749/.local/lib/python3.8/site-packages/sklearn/base.py:458: UserWarning: X has feature names, but StandardScaler was fitted without feature names\n",
      "  warnings.warn(\n",
      "/home/q674749/.local/lib/python3.8/site-packages/sklearn/base.py:458: UserWarning: X has feature names, but StandardScaler was fitted without feature names\n",
      "  warnings.warn(\n",
      "Standardizing Files:  35%|███▍      | 53/153 [02:11<03:45,  2.26s/it]"
     ]
    },
    {
     "name": "stdout",
     "output_type": "stream",
     "text": [
      "✅ [SAVED] Standardized File: /home/q674749/workspace/thesis_work/rat25-15.4.1/perception/standardized_data/combined_202.p\n"
     ]
    },
    {
     "name": "stderr",
     "output_type": "stream",
     "text": [
      "/home/q674749/.local/lib/python3.8/site-packages/sklearn/base.py:458: UserWarning: X has feature names, but StandardScaler was fitted without feature names\n",
      "  warnings.warn(\n",
      "/home/q674749/.local/lib/python3.8/site-packages/sklearn/base.py:458: UserWarning: X has feature names, but StandardScaler was fitted without feature names\n",
      "  warnings.warn(\n",
      "/home/q674749/.local/lib/python3.8/site-packages/sklearn/base.py:458: UserWarning: X has feature names, but StandardScaler was fitted without feature names\n",
      "  warnings.warn(\n",
      "Standardizing Files:  35%|███▌      | 54/153 [02:12<02:54,  1.76s/it]"
     ]
    },
    {
     "name": "stdout",
     "output_type": "stream",
     "text": [
      "✅ [SAVED] Standardized File: /home/q674749/workspace/thesis_work/rat25-15.4.1/perception/standardized_data/combined_74.p\n"
     ]
    },
    {
     "name": "stderr",
     "output_type": "stream",
     "text": [
      "/home/q674749/.local/lib/python3.8/site-packages/sklearn/base.py:458: UserWarning: X has feature names, but StandardScaler was fitted without feature names\n",
      "  warnings.warn(\n",
      "/home/q674749/.local/lib/python3.8/site-packages/sklearn/base.py:458: UserWarning: X has feature names, but StandardScaler was fitted without feature names\n",
      "  warnings.warn(\n",
      "/home/q674749/.local/lib/python3.8/site-packages/sklearn/base.py:458: UserWarning: X has feature names, but StandardScaler was fitted without feature names\n",
      "  warnings.warn(\n",
      "Standardizing Files:  36%|███▌      | 55/153 [02:15<03:32,  2.17s/it]"
     ]
    },
    {
     "name": "stdout",
     "output_type": "stream",
     "text": [
      "✅ [SAVED] Standardized File: /home/q674749/workspace/thesis_work/rat25-15.4.1/perception/standardized_data/combined_124.p\n"
     ]
    },
    {
     "name": "stderr",
     "output_type": "stream",
     "text": [
      "/home/q674749/.local/lib/python3.8/site-packages/sklearn/base.py:458: UserWarning: X has feature names, but StandardScaler was fitted without feature names\n",
      "  warnings.warn(\n",
      "/home/q674749/.local/lib/python3.8/site-packages/sklearn/base.py:458: UserWarning: X has feature names, but StandardScaler was fitted without feature names\n",
      "  warnings.warn(\n",
      "/home/q674749/.local/lib/python3.8/site-packages/sklearn/base.py:458: UserWarning: X has feature names, but StandardScaler was fitted without feature names\n",
      "  warnings.warn(\n",
      "Standardizing Files:  37%|███▋      | 56/153 [02:17<03:08,  1.94s/it]"
     ]
    },
    {
     "name": "stdout",
     "output_type": "stream",
     "text": [
      "✅ [SAVED] Standardized File: /home/q674749/workspace/thesis_work/rat25-15.4.1/perception/standardized_data/combined_151.p\n"
     ]
    },
    {
     "name": "stderr",
     "output_type": "stream",
     "text": [
      "/home/q674749/.local/lib/python3.8/site-packages/sklearn/base.py:458: UserWarning: X has feature names, but StandardScaler was fitted without feature names\n",
      "  warnings.warn(\n",
      "/home/q674749/.local/lib/python3.8/site-packages/sklearn/base.py:458: UserWarning: X has feature names, but StandardScaler was fitted without feature names\n",
      "  warnings.warn(\n",
      "/home/q674749/.local/lib/python3.8/site-packages/sklearn/base.py:458: UserWarning: X has feature names, but StandardScaler was fitted without feature names\n",
      "  warnings.warn(\n",
      "Standardizing Files:  37%|███▋      | 57/153 [02:20<03:41,  2.31s/it]"
     ]
    },
    {
     "name": "stdout",
     "output_type": "stream",
     "text": [
      "✅ [SAVED] Standardized File: /home/q674749/workspace/thesis_work/rat25-15.4.1/perception/standardized_data/combined_113.p\n"
     ]
    },
    {
     "name": "stderr",
     "output_type": "stream",
     "text": [
      "/home/q674749/.local/lib/python3.8/site-packages/sklearn/base.py:458: UserWarning: X has feature names, but StandardScaler was fitted without feature names\n",
      "  warnings.warn(\n",
      "/home/q674749/.local/lib/python3.8/site-packages/sklearn/base.py:458: UserWarning: X has feature names, but StandardScaler was fitted without feature names\n",
      "  warnings.warn(\n",
      "/home/q674749/.local/lib/python3.8/site-packages/sklearn/base.py:458: UserWarning: X has feature names, but StandardScaler was fitted without feature names\n",
      "  warnings.warn(\n",
      "Standardizing Files:  38%|███▊      | 58/153 [02:23<04:07,  2.60s/it]"
     ]
    },
    {
     "name": "stdout",
     "output_type": "stream",
     "text": [
      "✅ [SAVED] Standardized File: /home/q674749/workspace/thesis_work/rat25-15.4.1/perception/standardized_data/combined_136.p\n"
     ]
    },
    {
     "name": "stderr",
     "output_type": "stream",
     "text": [
      "/home/q674749/.local/lib/python3.8/site-packages/sklearn/base.py:458: UserWarning: X has feature names, but StandardScaler was fitted without feature names\n",
      "  warnings.warn(\n",
      "/home/q674749/.local/lib/python3.8/site-packages/sklearn/base.py:458: UserWarning: X has feature names, but StandardScaler was fitted without feature names\n",
      "  warnings.warn(\n",
      "/home/q674749/.local/lib/python3.8/site-packages/sklearn/base.py:458: UserWarning: X has feature names, but StandardScaler was fitted without feature names\n",
      "  warnings.warn(\n",
      "Standardizing Files:  39%|███▊      | 59/153 [02:24<03:08,  2.00s/it]"
     ]
    },
    {
     "name": "stdout",
     "output_type": "stream",
     "text": [
      "✅ [SAVED] Standardized File: /home/q674749/workspace/thesis_work/rat25-15.4.1/perception/standardized_data/combined_70.p\n"
     ]
    },
    {
     "name": "stderr",
     "output_type": "stream",
     "text": [
      "/home/q674749/.local/lib/python3.8/site-packages/sklearn/base.py:458: UserWarning: X has feature names, but StandardScaler was fitted without feature names\n",
      "  warnings.warn(\n",
      "/home/q674749/.local/lib/python3.8/site-packages/sklearn/base.py:458: UserWarning: X has feature names, but StandardScaler was fitted without feature names\n",
      "  warnings.warn(\n",
      "/home/q674749/.local/lib/python3.8/site-packages/sklearn/base.py:458: UserWarning: X has feature names, but StandardScaler was fitted without feature names\n",
      "  warnings.warn(\n",
      "Standardizing Files:  39%|███▉      | 60/153 [02:24<02:25,  1.56s/it]"
     ]
    },
    {
     "name": "stdout",
     "output_type": "stream",
     "text": [
      "✅ [SAVED] Standardized File: /home/q674749/workspace/thesis_work/rat25-15.4.1/perception/standardized_data/combined_82.p\n"
     ]
    },
    {
     "name": "stderr",
     "output_type": "stream",
     "text": [
      "/home/q674749/.local/lib/python3.8/site-packages/sklearn/base.py:458: UserWarning: X has feature names, but StandardScaler was fitted without feature names\n",
      "  warnings.warn(\n",
      "/home/q674749/.local/lib/python3.8/site-packages/sklearn/base.py:458: UserWarning: X has feature names, but StandardScaler was fitted without feature names\n",
      "  warnings.warn(\n",
      "/home/q674749/.local/lib/python3.8/site-packages/sklearn/base.py:458: UserWarning: X has feature names, but StandardScaler was fitted without feature names\n",
      "  warnings.warn(\n",
      "Standardizing Files:  40%|███▉      | 61/153 [02:25<01:55,  1.25s/it]"
     ]
    },
    {
     "name": "stdout",
     "output_type": "stream",
     "text": [
      "✅ [SAVED] Standardized File: /home/q674749/workspace/thesis_work/rat25-15.4.1/perception/standardized_data/combined_65.p\n"
     ]
    },
    {
     "name": "stderr",
     "output_type": "stream",
     "text": [
      "/home/q674749/.local/lib/python3.8/site-packages/sklearn/base.py:458: UserWarning: X has feature names, but StandardScaler was fitted without feature names\n",
      "  warnings.warn(\n",
      "/home/q674749/.local/lib/python3.8/site-packages/sklearn/base.py:458: UserWarning: X has feature names, but StandardScaler was fitted without feature names\n",
      "  warnings.warn(\n",
      "/home/q674749/.local/lib/python3.8/site-packages/sklearn/base.py:458: UserWarning: X has feature names, but StandardScaler was fitted without feature names\n",
      "  warnings.warn(\n",
      "Standardizing Files:  41%|████      | 62/153 [02:25<01:33,  1.03s/it]"
     ]
    },
    {
     "name": "stdout",
     "output_type": "stream",
     "text": [
      "✅ [SAVED] Standardized File: /home/q674749/workspace/thesis_work/rat25-15.4.1/perception/standardized_data/combined_75.p\n"
     ]
    },
    {
     "name": "stderr",
     "output_type": "stream",
     "text": [
      "/home/q674749/.local/lib/python3.8/site-packages/sklearn/base.py:458: UserWarning: X has feature names, but StandardScaler was fitted without feature names\n",
      "  warnings.warn(\n",
      "/home/q674749/.local/lib/python3.8/site-packages/sklearn/base.py:458: UserWarning: X has feature names, but StandardScaler was fitted without feature names\n",
      "  warnings.warn(\n",
      "/home/q674749/.local/lib/python3.8/site-packages/sklearn/base.py:458: UserWarning: X has feature names, but StandardScaler was fitted without feature names\n",
      "  warnings.warn(\n",
      "Standardizing Files:  41%|████      | 63/153 [02:28<02:29,  1.66s/it]"
     ]
    },
    {
     "name": "stdout",
     "output_type": "stream",
     "text": [
      "✅ [SAVED] Standardized File: /home/q674749/workspace/thesis_work/rat25-15.4.1/perception/standardized_data/combined_115.p\n"
     ]
    },
    {
     "name": "stderr",
     "output_type": "stream",
     "text": [
      "/home/q674749/.local/lib/python3.8/site-packages/sklearn/base.py:458: UserWarning: X has feature names, but StandardScaler was fitted without feature names\n",
      "  warnings.warn(\n",
      "/home/q674749/.local/lib/python3.8/site-packages/sklearn/base.py:458: UserWarning: X has feature names, but StandardScaler was fitted without feature names\n",
      "  warnings.warn(\n",
      "/home/q674749/.local/lib/python3.8/site-packages/sklearn/base.py:458: UserWarning: X has feature names, but StandardScaler was fitted without feature names\n",
      "  warnings.warn(\n",
      "Standardizing Files:  42%|████▏     | 64/153 [02:29<01:59,  1.34s/it]"
     ]
    },
    {
     "name": "stdout",
     "output_type": "stream",
     "text": [
      "✅ [SAVED] Standardized File: /home/q674749/workspace/thesis_work/rat25-15.4.1/perception/standardized_data/combined_57.p\n"
     ]
    },
    {
     "name": "stderr",
     "output_type": "stream",
     "text": [
      "/home/q674749/.local/lib/python3.8/site-packages/sklearn/base.py:458: UserWarning: X has feature names, but StandardScaler was fitted without feature names\n",
      "  warnings.warn(\n",
      "/home/q674749/.local/lib/python3.8/site-packages/sklearn/base.py:458: UserWarning: X has feature names, but StandardScaler was fitted without feature names\n",
      "  warnings.warn(\n",
      "/home/q674749/.local/lib/python3.8/site-packages/sklearn/base.py:458: UserWarning: X has feature names, but StandardScaler was fitted without feature names\n",
      "  warnings.warn(\n",
      "Standardizing Files:  42%|████▏     | 65/153 [02:29<01:36,  1.10s/it]"
     ]
    },
    {
     "name": "stdout",
     "output_type": "stream",
     "text": [
      "✅ [SAVED] Standardized File: /home/q674749/workspace/thesis_work/rat25-15.4.1/perception/standardized_data/combined_60.p\n"
     ]
    },
    {
     "name": "stderr",
     "output_type": "stream",
     "text": [
      "/home/q674749/.local/lib/python3.8/site-packages/sklearn/base.py:458: UserWarning: X has feature names, but StandardScaler was fitted without feature names\n",
      "  warnings.warn(\n",
      "/home/q674749/.local/lib/python3.8/site-packages/sklearn/base.py:458: UserWarning: X has feature names, but StandardScaler was fitted without feature names\n",
      "  warnings.warn(\n",
      "/home/q674749/.local/lib/python3.8/site-packages/sklearn/base.py:458: UserWarning: X has feature names, but StandardScaler was fitted without feature names\n",
      "  warnings.warn(\n",
      "Standardizing Files:  43%|████▎     | 66/153 [02:31<01:41,  1.17s/it]"
     ]
    },
    {
     "name": "stdout",
     "output_type": "stream",
     "text": [
      "✅ [SAVED] Standardized File: /home/q674749/workspace/thesis_work/rat25-15.4.1/perception/standardized_data/combined_159.p\n"
     ]
    },
    {
     "name": "stderr",
     "output_type": "stream",
     "text": [
      "/home/q674749/.local/lib/python3.8/site-packages/sklearn/base.py:458: UserWarning: X has feature names, but StandardScaler was fitted without feature names\n",
      "  warnings.warn(\n",
      "/home/q674749/.local/lib/python3.8/site-packages/sklearn/base.py:458: UserWarning: X has feature names, but StandardScaler was fitted without feature names\n",
      "  warnings.warn(\n",
      "/home/q674749/.local/lib/python3.8/site-packages/sklearn/base.py:458: UserWarning: X has feature names, but StandardScaler was fitted without feature names\n",
      "  warnings.warn(\n",
      "Standardizing Files:  44%|████▍     | 67/153 [02:34<02:38,  1.84s/it]"
     ]
    },
    {
     "name": "stdout",
     "output_type": "stream",
     "text": [
      "✅ [SAVED] Standardized File: /home/q674749/workspace/thesis_work/rat25-15.4.1/perception/standardized_data/combined_204.p\n"
     ]
    },
    {
     "name": "stderr",
     "output_type": "stream",
     "text": [
      "/home/q674749/.local/lib/python3.8/site-packages/sklearn/base.py:458: UserWarning: X has feature names, but StandardScaler was fitted without feature names\n",
      "  warnings.warn(\n",
      "/home/q674749/.local/lib/python3.8/site-packages/sklearn/base.py:458: UserWarning: X has feature names, but StandardScaler was fitted without feature names\n",
      "  warnings.warn(\n",
      "/home/q674749/.local/lib/python3.8/site-packages/sklearn/base.py:458: UserWarning: X has feature names, but StandardScaler was fitted without feature names\n",
      "  warnings.warn(\n",
      "Standardizing Files:  44%|████▍     | 68/153 [02:35<02:05,  1.47s/it]"
     ]
    },
    {
     "name": "stdout",
     "output_type": "stream",
     "text": [
      "✅ [SAVED] Standardized File: /home/q674749/workspace/thesis_work/rat25-15.4.1/perception/standardized_data/combined_61.p\n"
     ]
    },
    {
     "name": "stderr",
     "output_type": "stream",
     "text": [
      "/home/q674749/.local/lib/python3.8/site-packages/sklearn/base.py:458: UserWarning: X has feature names, but StandardScaler was fitted without feature names\n",
      "  warnings.warn(\n",
      "/home/q674749/.local/lib/python3.8/site-packages/sklearn/base.py:458: UserWarning: X has feature names, but StandardScaler was fitted without feature names\n",
      "  warnings.warn(\n",
      "/home/q674749/.local/lib/python3.8/site-packages/sklearn/base.py:458: UserWarning: X has feature names, but StandardScaler was fitted without feature names\n",
      "  warnings.warn(\n",
      "Standardizing Files:  45%|████▌     | 69/153 [02:38<02:44,  1.96s/it]"
     ]
    },
    {
     "name": "stdout",
     "output_type": "stream",
     "text": [
      "✅ [SAVED] Standardized File: /home/q674749/workspace/thesis_work/rat25-15.4.1/perception/standardized_data/combined_130.p\n"
     ]
    },
    {
     "name": "stderr",
     "output_type": "stream",
     "text": [
      "/home/q674749/.local/lib/python3.8/site-packages/sklearn/base.py:458: UserWarning: X has feature names, but StandardScaler was fitted without feature names\n",
      "  warnings.warn(\n",
      "/home/q674749/.local/lib/python3.8/site-packages/sklearn/base.py:458: UserWarning: X has feature names, but StandardScaler was fitted without feature names\n",
      "  warnings.warn(\n",
      "/home/q674749/.local/lib/python3.8/site-packages/sklearn/base.py:458: UserWarning: X has feature names, but StandardScaler was fitted without feature names\n",
      "  warnings.warn(\n",
      "Standardizing Files:  46%|████▌     | 70/153 [02:39<02:09,  1.55s/it]"
     ]
    },
    {
     "name": "stdout",
     "output_type": "stream",
     "text": [
      "✅ [SAVED] Standardized File: /home/q674749/workspace/thesis_work/rat25-15.4.1/perception/standardized_data/combined_59.p\n"
     ]
    },
    {
     "name": "stderr",
     "output_type": "stream",
     "text": [
      "/home/q674749/.local/lib/python3.8/site-packages/sklearn/base.py:458: UserWarning: X has feature names, but StandardScaler was fitted without feature names\n",
      "  warnings.warn(\n",
      "/home/q674749/.local/lib/python3.8/site-packages/sklearn/base.py:458: UserWarning: X has feature names, but StandardScaler was fitted without feature names\n",
      "  warnings.warn(\n",
      "/home/q674749/.local/lib/python3.8/site-packages/sklearn/base.py:458: UserWarning: X has feature names, but StandardScaler was fitted without feature names\n",
      "  warnings.warn(\n",
      "Standardizing Files:  46%|████▋     | 71/153 [02:55<08:22,  6.13s/it]"
     ]
    },
    {
     "name": "stdout",
     "output_type": "stream",
     "text": [
      "✅ [SAVED] Standardized File: /home/q674749/workspace/thesis_work/rat25-15.4.1/perception/standardized_data/combined_126.p\n"
     ]
    },
    {
     "name": "stderr",
     "output_type": "stream",
     "text": [
      "/home/q674749/.local/lib/python3.8/site-packages/sklearn/base.py:458: UserWarning: X has feature names, but StandardScaler was fitted without feature names\n",
      "  warnings.warn(\n",
      "/home/q674749/.local/lib/python3.8/site-packages/sklearn/base.py:458: UserWarning: X has feature names, but StandardScaler was fitted without feature names\n",
      "  warnings.warn(\n",
      "/home/q674749/.local/lib/python3.8/site-packages/sklearn/base.py:458: UserWarning: X has feature names, but StandardScaler was fitted without feature names\n",
      "  warnings.warn(\n",
      "Standardizing Files:  47%|████▋     | 72/153 [02:57<06:21,  4.71s/it]"
     ]
    },
    {
     "name": "stdout",
     "output_type": "stream",
     "text": [
      "✅ [SAVED] Standardized File: /home/q674749/workspace/thesis_work/rat25-15.4.1/perception/standardized_data/combined_175.p\n"
     ]
    },
    {
     "name": "stderr",
     "output_type": "stream",
     "text": [
      "/home/q674749/.local/lib/python3.8/site-packages/sklearn/base.py:458: UserWarning: X has feature names, but StandardScaler was fitted without feature names\n",
      "  warnings.warn(\n",
      "/home/q674749/.local/lib/python3.8/site-packages/sklearn/base.py:458: UserWarning: X has feature names, but StandardScaler was fitted without feature names\n",
      "  warnings.warn(\n",
      "/home/q674749/.local/lib/python3.8/site-packages/sklearn/base.py:458: UserWarning: X has feature names, but StandardScaler was fitted without feature names\n",
      "  warnings.warn(\n",
      "Standardizing Files:  48%|████▊     | 73/153 [02:58<04:56,  3.70s/it]"
     ]
    },
    {
     "name": "stdout",
     "output_type": "stream",
     "text": [
      "✅ [SAVED] Standardized File: /home/q674749/workspace/thesis_work/rat25-15.4.1/perception/standardized_data/combined_163.p\n"
     ]
    },
    {
     "name": "stderr",
     "output_type": "stream",
     "text": [
      "/home/q674749/.local/lib/python3.8/site-packages/sklearn/base.py:458: UserWarning: X has feature names, but StandardScaler was fitted without feature names\n",
      "  warnings.warn(\n",
      "/home/q674749/.local/lib/python3.8/site-packages/sklearn/base.py:458: UserWarning: X has feature names, but StandardScaler was fitted without feature names\n",
      "  warnings.warn(\n",
      "/home/q674749/.local/lib/python3.8/site-packages/sklearn/base.py:458: UserWarning: X has feature names, but StandardScaler was fitted without feature names\n",
      "  warnings.warn(\n",
      "Standardizing Files:  48%|████▊     | 74/153 [02:59<03:37,  2.76s/it]"
     ]
    },
    {
     "name": "stdout",
     "output_type": "stream",
     "text": [
      "✅ [SAVED] Standardized File: /home/q674749/workspace/thesis_work/rat25-15.4.1/perception/standardized_data/combined_63.p\n"
     ]
    },
    {
     "name": "stderr",
     "output_type": "stream",
     "text": [
      "/home/q674749/.local/lib/python3.8/site-packages/sklearn/base.py:458: UserWarning: X has feature names, but StandardScaler was fitted without feature names\n",
      "  warnings.warn(\n",
      "/home/q674749/.local/lib/python3.8/site-packages/sklearn/base.py:458: UserWarning: X has feature names, but StandardScaler was fitted without feature names\n",
      "  warnings.warn(\n",
      "/home/q674749/.local/lib/python3.8/site-packages/sklearn/base.py:458: UserWarning: X has feature names, but StandardScaler was fitted without feature names\n",
      "  warnings.warn(\n",
      "Standardizing Files:  49%|████▉     | 75/153 [03:02<03:50,  2.95s/it]"
     ]
    },
    {
     "name": "stdout",
     "output_type": "stream",
     "text": [
      "✅ [SAVED] Standardized File: /home/q674749/workspace/thesis_work/rat25-15.4.1/perception/standardized_data/combined_209.p\n"
     ]
    },
    {
     "name": "stderr",
     "output_type": "stream",
     "text": [
      "/home/q674749/.local/lib/python3.8/site-packages/sklearn/base.py:458: UserWarning: X has feature names, but StandardScaler was fitted without feature names\n",
      "  warnings.warn(\n",
      "/home/q674749/.local/lib/python3.8/site-packages/sklearn/base.py:458: UserWarning: X has feature names, but StandardScaler was fitted without feature names\n",
      "  warnings.warn(\n",
      "/home/q674749/.local/lib/python3.8/site-packages/sklearn/base.py:458: UserWarning: X has feature names, but StandardScaler was fitted without feature names\n",
      "  warnings.warn(\n",
      "Standardizing Files:  50%|████▉     | 76/153 [03:06<03:59,  3.11s/it]"
     ]
    },
    {
     "name": "stdout",
     "output_type": "stream",
     "text": [
      "✅ [SAVED] Standardized File: /home/q674749/workspace/thesis_work/rat25-15.4.1/perception/standardized_data/combined_225.p\n"
     ]
    },
    {
     "name": "stderr",
     "output_type": "stream",
     "text": [
      "/home/q674749/.local/lib/python3.8/site-packages/sklearn/base.py:458: UserWarning: X has feature names, but StandardScaler was fitted without feature names\n",
      "  warnings.warn(\n",
      "/home/q674749/.local/lib/python3.8/site-packages/sklearn/base.py:458: UserWarning: X has feature names, but StandardScaler was fitted without feature names\n",
      "  warnings.warn(\n",
      "/home/q674749/.local/lib/python3.8/site-packages/sklearn/base.py:458: UserWarning: X has feature names, but StandardScaler was fitted without feature names\n",
      "  warnings.warn(\n",
      "Standardizing Files:  50%|█████     | 77/153 [03:09<03:58,  3.14s/it]"
     ]
    },
    {
     "name": "stdout",
     "output_type": "stream",
     "text": [
      "✅ [SAVED] Standardized File: /home/q674749/workspace/thesis_work/rat25-15.4.1/perception/standardized_data/combined_128.p\n"
     ]
    },
    {
     "name": "stderr",
     "output_type": "stream",
     "text": [
      "/home/q674749/.local/lib/python3.8/site-packages/sklearn/base.py:458: UserWarning: X has feature names, but StandardScaler was fitted without feature names\n",
      "  warnings.warn(\n",
      "/home/q674749/.local/lib/python3.8/site-packages/sklearn/base.py:458: UserWarning: X has feature names, but StandardScaler was fitted without feature names\n",
      "  warnings.warn(\n",
      "/home/q674749/.local/lib/python3.8/site-packages/sklearn/base.py:458: UserWarning: X has feature names, but StandardScaler was fitted without feature names\n",
      "  warnings.warn(\n",
      "Standardizing Files:  51%|█████     | 78/153 [03:12<04:02,  3.23s/it]"
     ]
    },
    {
     "name": "stdout",
     "output_type": "stream",
     "text": [
      "✅ [SAVED] Standardized File: /home/q674749/workspace/thesis_work/rat25-15.4.1/perception/standardized_data/combined_228.p\n"
     ]
    },
    {
     "name": "stderr",
     "output_type": "stream",
     "text": [
      "/home/q674749/.local/lib/python3.8/site-packages/sklearn/base.py:458: UserWarning: X has feature names, but StandardScaler was fitted without feature names\n",
      "  warnings.warn(\n",
      "/home/q674749/.local/lib/python3.8/site-packages/sklearn/base.py:458: UserWarning: X has feature names, but StandardScaler was fitted without feature names\n",
      "  warnings.warn(\n",
      "/home/q674749/.local/lib/python3.8/site-packages/sklearn/base.py:458: UserWarning: X has feature names, but StandardScaler was fitted without feature names\n",
      "  warnings.warn(\n",
      "Standardizing Files:  52%|█████▏    | 79/153 [03:15<03:58,  3.22s/it]"
     ]
    },
    {
     "name": "stdout",
     "output_type": "stream",
     "text": [
      "✅ [SAVED] Standardized File: /home/q674749/workspace/thesis_work/rat25-15.4.1/perception/standardized_data/combined_131.p\n"
     ]
    },
    {
     "name": "stderr",
     "output_type": "stream",
     "text": [
      "/home/q674749/.local/lib/python3.8/site-packages/sklearn/base.py:458: UserWarning: X has feature names, but StandardScaler was fitted without feature names\n",
      "  warnings.warn(\n",
      "/home/q674749/.local/lib/python3.8/site-packages/sklearn/base.py:458: UserWarning: X has feature names, but StandardScaler was fitted without feature names\n",
      "  warnings.warn(\n",
      "/home/q674749/.local/lib/python3.8/site-packages/sklearn/base.py:458: UserWarning: X has feature names, but StandardScaler was fitted without feature names\n",
      "  warnings.warn(\n",
      "Standardizing Files:  52%|█████▏    | 80/153 [03:19<03:55,  3.22s/it]"
     ]
    },
    {
     "name": "stdout",
     "output_type": "stream",
     "text": [
      "✅ [SAVED] Standardized File: /home/q674749/workspace/thesis_work/rat25-15.4.1/perception/standardized_data/combined_123.p\n"
     ]
    },
    {
     "name": "stderr",
     "output_type": "stream",
     "text": [
      "/home/q674749/.local/lib/python3.8/site-packages/sklearn/base.py:458: UserWarning: X has feature names, but StandardScaler was fitted without feature names\n",
      "  warnings.warn(\n",
      "/home/q674749/.local/lib/python3.8/site-packages/sklearn/base.py:458: UserWarning: X has feature names, but StandardScaler was fitted without feature names\n",
      "  warnings.warn(\n",
      "/home/q674749/.local/lib/python3.8/site-packages/sklearn/base.py:458: UserWarning: X has feature names, but StandardScaler was fitted without feature names\n",
      "  warnings.warn(\n",
      "Standardizing Files:  53%|█████▎    | 81/153 [03:22<03:57,  3.30s/it]"
     ]
    },
    {
     "name": "stdout",
     "output_type": "stream",
     "text": [
      "✅ [SAVED] Standardized File: /home/q674749/workspace/thesis_work/rat25-15.4.1/perception/standardized_data/combined_188.p\n"
     ]
    },
    {
     "name": "stderr",
     "output_type": "stream",
     "text": [
      "/home/q674749/.local/lib/python3.8/site-packages/sklearn/base.py:458: UserWarning: X has feature names, but StandardScaler was fitted without feature names\n",
      "  warnings.warn(\n",
      "/home/q674749/.local/lib/python3.8/site-packages/sklearn/base.py:458: UserWarning: X has feature names, but StandardScaler was fitted without feature names\n",
      "  warnings.warn(\n",
      "/home/q674749/.local/lib/python3.8/site-packages/sklearn/base.py:458: UserWarning: X has feature names, but StandardScaler was fitted without feature names\n",
      "  warnings.warn(\n",
      "Standardizing Files:  54%|█████▎    | 82/153 [03:26<03:58,  3.36s/it]"
     ]
    },
    {
     "name": "stdout",
     "output_type": "stream",
     "text": [
      "✅ [SAVED] Standardized File: /home/q674749/workspace/thesis_work/rat25-15.4.1/perception/standardized_data/combined_222.p\n"
     ]
    },
    {
     "name": "stderr",
     "output_type": "stream",
     "text": [
      "/home/q674749/.local/lib/python3.8/site-packages/sklearn/base.py:458: UserWarning: X has feature names, but StandardScaler was fitted without feature names\n",
      "  warnings.warn(\n",
      "/home/q674749/.local/lib/python3.8/site-packages/sklearn/base.py:458: UserWarning: X has feature names, but StandardScaler was fitted without feature names\n",
      "  warnings.warn(\n",
      "/home/q674749/.local/lib/python3.8/site-packages/sklearn/base.py:458: UserWarning: X has feature names, but StandardScaler was fitted without feature names\n",
      "  warnings.warn(\n",
      "Standardizing Files:  54%|█████▍    | 83/153 [03:29<03:56,  3.38s/it]"
     ]
    },
    {
     "name": "stdout",
     "output_type": "stream",
     "text": [
      "✅ [SAVED] Standardized File: /home/q674749/workspace/thesis_work/rat25-15.4.1/perception/standardized_data/combined_206.p\n"
     ]
    },
    {
     "name": "stderr",
     "output_type": "stream",
     "text": [
      "/home/q674749/.local/lib/python3.8/site-packages/sklearn/base.py:458: UserWarning: X has feature names, but StandardScaler was fitted without feature names\n",
      "  warnings.warn(\n",
      "/home/q674749/.local/lib/python3.8/site-packages/sklearn/base.py:458: UserWarning: X has feature names, but StandardScaler was fitted without feature names\n",
      "  warnings.warn(\n",
      "/home/q674749/.local/lib/python3.8/site-packages/sklearn/base.py:458: UserWarning: X has feature names, but StandardScaler was fitted without feature names\n",
      "  warnings.warn(\n",
      "Standardizing Files:  55%|█████▍    | 84/153 [03:30<02:55,  2.55s/it]"
     ]
    },
    {
     "name": "stdout",
     "output_type": "stream",
     "text": [
      "✅ [SAVED] Standardized File: /home/q674749/workspace/thesis_work/rat25-15.4.1/perception/standardized_data/combined_66.p\n"
     ]
    },
    {
     "name": "stderr",
     "output_type": "stream",
     "text": [
      "/home/q674749/.local/lib/python3.8/site-packages/sklearn/base.py:458: UserWarning: X has feature names, but StandardScaler was fitted without feature names\n",
      "  warnings.warn(\n",
      "/home/q674749/.local/lib/python3.8/site-packages/sklearn/base.py:458: UserWarning: X has feature names, but StandardScaler was fitted without feature names\n",
      "  warnings.warn(\n",
      "/home/q674749/.local/lib/python3.8/site-packages/sklearn/base.py:458: UserWarning: X has feature names, but StandardScaler was fitted without feature names\n",
      "  warnings.warn(\n",
      "Standardizing Files:  56%|█████▌    | 85/153 [03:31<02:27,  2.17s/it]"
     ]
    },
    {
     "name": "stdout",
     "output_type": "stream",
     "text": [
      "✅ [SAVED] Standardized File: /home/q674749/workspace/thesis_work/rat25-15.4.1/perception/standardized_data/combined_149.p\n"
     ]
    },
    {
     "name": "stderr",
     "output_type": "stream",
     "text": [
      "/home/q674749/.local/lib/python3.8/site-packages/sklearn/base.py:458: UserWarning: X has feature names, but StandardScaler was fitted without feature names\n",
      "  warnings.warn(\n",
      "/home/q674749/.local/lib/python3.8/site-packages/sklearn/base.py:458: UserWarning: X has feature names, but StandardScaler was fitted without feature names\n",
      "  warnings.warn(\n",
      "/home/q674749/.local/lib/python3.8/site-packages/sklearn/base.py:458: UserWarning: X has feature names, but StandardScaler was fitted without feature names\n",
      "  warnings.warn(\n",
      "Standardizing Files:  56%|█████▌    | 86/153 [03:34<02:45,  2.47s/it]"
     ]
    },
    {
     "name": "stdout",
     "output_type": "stream",
     "text": [
      "✅ [SAVED] Standardized File: /home/q674749/workspace/thesis_work/rat25-15.4.1/perception/standardized_data/combined_146.p\n"
     ]
    },
    {
     "name": "stderr",
     "output_type": "stream",
     "text": [
      "/home/q674749/.local/lib/python3.8/site-packages/sklearn/base.py:458: UserWarning: X has feature names, but StandardScaler was fitted without feature names\n",
      "  warnings.warn(\n",
      "/home/q674749/.local/lib/python3.8/site-packages/sklearn/base.py:458: UserWarning: X has feature names, but StandardScaler was fitted without feature names\n",
      "  warnings.warn(\n",
      "/home/q674749/.local/lib/python3.8/site-packages/sklearn/base.py:458: UserWarning: X has feature names, but StandardScaler was fitted without feature names\n",
      "  warnings.warn(\n",
      "Standardizing Files:  57%|█████▋    | 87/153 [03:38<03:02,  2.77s/it]"
     ]
    },
    {
     "name": "stdout",
     "output_type": "stream",
     "text": [
      "✅ [SAVED] Standardized File: /home/q674749/workspace/thesis_work/rat25-15.4.1/perception/standardized_data/combined_220.p\n"
     ]
    },
    {
     "name": "stderr",
     "output_type": "stream",
     "text": [
      "/home/q674749/.local/lib/python3.8/site-packages/sklearn/base.py:458: UserWarning: X has feature names, but StandardScaler was fitted without feature names\n",
      "  warnings.warn(\n",
      "/home/q674749/.local/lib/python3.8/site-packages/sklearn/base.py:458: UserWarning: X has feature names, but StandardScaler was fitted without feature names\n",
      "  warnings.warn(\n",
      "/home/q674749/.local/lib/python3.8/site-packages/sklearn/base.py:458: UserWarning: X has feature names, but StandardScaler was fitted without feature names\n",
      "  warnings.warn(\n",
      "Standardizing Files:  58%|█████▊    | 88/153 [03:38<02:18,  2.13s/it]"
     ]
    },
    {
     "name": "stdout",
     "output_type": "stream",
     "text": [
      "✅ [SAVED] Standardized File: /home/q674749/workspace/thesis_work/rat25-15.4.1/perception/standardized_data/combined_77.p\n"
     ]
    },
    {
     "name": "stderr",
     "output_type": "stream",
     "text": [
      "/home/q674749/.local/lib/python3.8/site-packages/sklearn/base.py:458: UserWarning: X has feature names, but StandardScaler was fitted without feature names\n",
      "  warnings.warn(\n",
      "/home/q674749/.local/lib/python3.8/site-packages/sklearn/base.py:458: UserWarning: X has feature names, but StandardScaler was fitted without feature names\n",
      "  warnings.warn(\n",
      "/home/q674749/.local/lib/python3.8/site-packages/sklearn/base.py:458: UserWarning: X has feature names, but StandardScaler was fitted without feature names\n",
      "  warnings.warn(\n",
      "Standardizing Files:  58%|█████▊    | 89/153 [03:42<02:39,  2.50s/it]"
     ]
    },
    {
     "name": "stdout",
     "output_type": "stream",
     "text": [
      "✅ [SAVED] Standardized File: /home/q674749/workspace/thesis_work/rat25-15.4.1/perception/standardized_data/combined_193.p\n"
     ]
    },
    {
     "name": "stderr",
     "output_type": "stream",
     "text": [
      "/home/q674749/.local/lib/python3.8/site-packages/sklearn/base.py:458: UserWarning: X has feature names, but StandardScaler was fitted without feature names\n",
      "  warnings.warn(\n",
      "/home/q674749/.local/lib/python3.8/site-packages/sklearn/base.py:458: UserWarning: X has feature names, but StandardScaler was fitted without feature names\n",
      "  warnings.warn(\n",
      "/home/q674749/.local/lib/python3.8/site-packages/sklearn/base.py:458: UserWarning: X has feature names, but StandardScaler was fitted without feature names\n",
      "  warnings.warn(\n",
      "Standardizing Files:  59%|█████▉    | 90/153 [03:43<02:16,  2.17s/it]"
     ]
    },
    {
     "name": "stdout",
     "output_type": "stream",
     "text": [
      "✅ [SAVED] Standardized File: /home/q674749/workspace/thesis_work/rat25-15.4.1/perception/standardized_data/combined_178.p\n"
     ]
    },
    {
     "name": "stderr",
     "output_type": "stream",
     "text": [
      "/home/q674749/.local/lib/python3.8/site-packages/sklearn/base.py:458: UserWarning: X has feature names, but StandardScaler was fitted without feature names\n",
      "  warnings.warn(\n",
      "/home/q674749/.local/lib/python3.8/site-packages/sklearn/base.py:458: UserWarning: X has feature names, but StandardScaler was fitted without feature names\n",
      "  warnings.warn(\n",
      "/home/q674749/.local/lib/python3.8/site-packages/sklearn/base.py:458: UserWarning: X has feature names, but StandardScaler was fitted without feature names\n",
      "  warnings.warn(\n",
      "Standardizing Files:  59%|█████▉    | 91/153 [03:43<01:44,  1.69s/it]"
     ]
    },
    {
     "name": "stdout",
     "output_type": "stream",
     "text": [
      "✅ [SAVED] Standardized File: /home/q674749/workspace/thesis_work/rat25-15.4.1/perception/standardized_data/combined_84.p\n"
     ]
    },
    {
     "name": "stderr",
     "output_type": "stream",
     "text": [
      "/home/q674749/.local/lib/python3.8/site-packages/sklearn/base.py:458: UserWarning: X has feature names, but StandardScaler was fitted without feature names\n",
      "  warnings.warn(\n",
      "/home/q674749/.local/lib/python3.8/site-packages/sklearn/base.py:458: UserWarning: X has feature names, but StandardScaler was fitted without feature names\n",
      "  warnings.warn(\n",
      "/home/q674749/.local/lib/python3.8/site-packages/sklearn/base.py:458: UserWarning: X has feature names, but StandardScaler was fitted without feature names\n",
      "  warnings.warn(\n",
      "Standardizing Files:  60%|██████    | 92/153 [03:44<01:21,  1.34s/it]"
     ]
    },
    {
     "name": "stdout",
     "output_type": "stream",
     "text": [
      "✅ [SAVED] Standardized File: /home/q674749/workspace/thesis_work/rat25-15.4.1/perception/standardized_data/combined_68.p\n"
     ]
    },
    {
     "name": "stderr",
     "output_type": "stream",
     "text": [
      "/home/q674749/.local/lib/python3.8/site-packages/sklearn/base.py:458: UserWarning: X has feature names, but StandardScaler was fitted without feature names\n",
      "  warnings.warn(\n",
      "/home/q674749/.local/lib/python3.8/site-packages/sklearn/base.py:458: UserWarning: X has feature names, but StandardScaler was fitted without feature names\n",
      "  warnings.warn(\n",
      "/home/q674749/.local/lib/python3.8/site-packages/sklearn/base.py:458: UserWarning: X has feature names, but StandardScaler was fitted without feature names\n",
      "  warnings.warn(\n",
      "Standardizing Files:  61%|██████    | 93/153 [03:47<01:52,  1.88s/it]"
     ]
    },
    {
     "name": "stdout",
     "output_type": "stream",
     "text": [
      "✅ [SAVED] Standardized File: /home/q674749/workspace/thesis_work/rat25-15.4.1/perception/standardized_data/combined_139.p\n"
     ]
    },
    {
     "name": "stderr",
     "output_type": "stream",
     "text": [
      "/home/q674749/.local/lib/python3.8/site-packages/sklearn/base.py:458: UserWarning: X has feature names, but StandardScaler was fitted without feature names\n",
      "  warnings.warn(\n",
      "/home/q674749/.local/lib/python3.8/site-packages/sklearn/base.py:458: UserWarning: X has feature names, but StandardScaler was fitted without feature names\n",
      "  warnings.warn(\n",
      "/home/q674749/.local/lib/python3.8/site-packages/sklearn/base.py:458: UserWarning: X has feature names, but StandardScaler was fitted without feature names\n",
      "  warnings.warn(\n",
      "Standardizing Files:  61%|██████▏   | 94/153 [03:50<02:14,  2.28s/it]"
     ]
    },
    {
     "name": "stdout",
     "output_type": "stream",
     "text": [
      "✅ [SAVED] Standardized File: /home/q674749/workspace/thesis_work/rat25-15.4.1/perception/standardized_data/combined_135.p\n"
     ]
    },
    {
     "name": "stderr",
     "output_type": "stream",
     "text": [
      "/home/q674749/.local/lib/python3.8/site-packages/sklearn/base.py:458: UserWarning: X has feature names, but StandardScaler was fitted without feature names\n",
      "  warnings.warn(\n",
      "/home/q674749/.local/lib/python3.8/site-packages/sklearn/base.py:458: UserWarning: X has feature names, but StandardScaler was fitted without feature names\n",
      "  warnings.warn(\n",
      "/home/q674749/.local/lib/python3.8/site-packages/sklearn/base.py:458: UserWarning: X has feature names, but StandardScaler was fitted without feature names\n",
      "  warnings.warn(\n",
      "Standardizing Files:  62%|██████▏   | 95/153 [03:54<02:28,  2.56s/it]"
     ]
    },
    {
     "name": "stdout",
     "output_type": "stream",
     "text": [
      "✅ [SAVED] Standardized File: /home/q674749/workspace/thesis_work/rat25-15.4.1/perception/standardized_data/combined_129.p\n"
     ]
    },
    {
     "name": "stderr",
     "output_type": "stream",
     "text": [
      "/home/q674749/.local/lib/python3.8/site-packages/sklearn/base.py:458: UserWarning: X has feature names, but StandardScaler was fitted without feature names\n",
      "  warnings.warn(\n",
      "/home/q674749/.local/lib/python3.8/site-packages/sklearn/base.py:458: UserWarning: X has feature names, but StandardScaler was fitted without feature names\n",
      "  warnings.warn(\n",
      "/home/q674749/.local/lib/python3.8/site-packages/sklearn/base.py:458: UserWarning: X has feature names, but StandardScaler was fitted without feature names\n",
      "  warnings.warn(\n",
      "Standardizing Files:  63%|██████▎   | 96/153 [03:55<02:05,  2.21s/it]"
     ]
    },
    {
     "name": "stdout",
     "output_type": "stream",
     "text": [
      "✅ [SAVED] Standardized File: /home/q674749/workspace/thesis_work/rat25-15.4.1/perception/standardized_data/combined_167.p\n"
     ]
    },
    {
     "name": "stderr",
     "output_type": "stream",
     "text": [
      "/home/q674749/.local/lib/python3.8/site-packages/sklearn/base.py:458: UserWarning: X has feature names, but StandardScaler was fitted without feature names\n",
      "  warnings.warn(\n",
      "/home/q674749/.local/lib/python3.8/site-packages/sklearn/base.py:458: UserWarning: X has feature names, but StandardScaler was fitted without feature names\n",
      "  warnings.warn(\n",
      "/home/q674749/.local/lib/python3.8/site-packages/sklearn/base.py:458: UserWarning: X has feature names, but StandardScaler was fitted without feature names\n",
      "  warnings.warn(\n",
      "Standardizing Files:  63%|██████▎   | 97/153 [03:58<02:23,  2.57s/it]"
     ]
    },
    {
     "name": "stdout",
     "output_type": "stream",
     "text": [
      "✅ [SAVED] Standardized File: /home/q674749/workspace/thesis_work/rat25-15.4.1/perception/standardized_data/combined_205.p\n"
     ]
    },
    {
     "name": "stderr",
     "output_type": "stream",
     "text": [
      "/home/q674749/.local/lib/python3.8/site-packages/sklearn/base.py:458: UserWarning: X has feature names, but StandardScaler was fitted without feature names\n",
      "  warnings.warn(\n",
      "/home/q674749/.local/lib/python3.8/site-packages/sklearn/base.py:458: UserWarning: X has feature names, but StandardScaler was fitted without feature names\n",
      "  warnings.warn(\n",
      "/home/q674749/.local/lib/python3.8/site-packages/sklearn/base.py:458: UserWarning: X has feature names, but StandardScaler was fitted without feature names\n",
      "  warnings.warn(\n",
      "Standardizing Files:  64%|██████▍   | 98/153 [04:02<02:31,  2.76s/it]"
     ]
    },
    {
     "name": "stdout",
     "output_type": "stream",
     "text": [
      "✅ [SAVED] Standardized File: /home/q674749/workspace/thesis_work/rat25-15.4.1/perception/standardized_data/combined_112.p\n"
     ]
    },
    {
     "name": "stderr",
     "output_type": "stream",
     "text": [
      "/home/q674749/.local/lib/python3.8/site-packages/sklearn/base.py:458: UserWarning: X has feature names, but StandardScaler was fitted without feature names\n",
      "  warnings.warn(\n",
      "/home/q674749/.local/lib/python3.8/site-packages/sklearn/base.py:458: UserWarning: X has feature names, but StandardScaler was fitted without feature names\n",
      "  warnings.warn(\n",
      "/home/q674749/.local/lib/python3.8/site-packages/sklearn/base.py:458: UserWarning: X has feature names, but StandardScaler was fitted without feature names\n",
      "  warnings.warn(\n",
      "Standardizing Files:  65%|██████▍   | 99/153 [04:05<02:40,  2.98s/it]"
     ]
    },
    {
     "name": "stdout",
     "output_type": "stream",
     "text": [
      "✅ [SAVED] Standardized File: /home/q674749/workspace/thesis_work/rat25-15.4.1/perception/standardized_data/combined_214.p\n"
     ]
    },
    {
     "name": "stderr",
     "output_type": "stream",
     "text": [
      "/home/q674749/.local/lib/python3.8/site-packages/sklearn/base.py:458: UserWarning: X has feature names, but StandardScaler was fitted without feature names\n",
      "  warnings.warn(\n",
      "/home/q674749/.local/lib/python3.8/site-packages/sklearn/base.py:458: UserWarning: X has feature names, but StandardScaler was fitted without feature names\n",
      "  warnings.warn(\n",
      "/home/q674749/.local/lib/python3.8/site-packages/sklearn/base.py:458: UserWarning: X has feature names, but StandardScaler was fitted without feature names\n",
      "  warnings.warn(\n",
      "Standardizing Files:  65%|██████▌   | 100/153 [04:08<02:41,  3.05s/it]"
     ]
    },
    {
     "name": "stdout",
     "output_type": "stream",
     "text": [
      "✅ [SAVED] Standardized File: /home/q674749/workspace/thesis_work/rat25-15.4.1/perception/standardized_data/combined_122.p\n"
     ]
    },
    {
     "name": "stderr",
     "output_type": "stream",
     "text": [
      "/home/q674749/.local/lib/python3.8/site-packages/sklearn/base.py:458: UserWarning: X has feature names, but StandardScaler was fitted without feature names\n",
      "  warnings.warn(\n",
      "/home/q674749/.local/lib/python3.8/site-packages/sklearn/base.py:458: UserWarning: X has feature names, but StandardScaler was fitted without feature names\n",
      "  warnings.warn(\n",
      "/home/q674749/.local/lib/python3.8/site-packages/sklearn/base.py:458: UserWarning: X has feature names, but StandardScaler was fitted without feature names\n",
      "  warnings.warn(\n",
      "Standardizing Files:  66%|██████▌   | 101/153 [04:11<02:40,  3.09s/it]"
     ]
    },
    {
     "name": "stdout",
     "output_type": "stream",
     "text": [
      "✅ [SAVED] Standardized File: /home/q674749/workspace/thesis_work/rat25-15.4.1/perception/standardized_data/combined_132.p\n"
     ]
    },
    {
     "name": "stderr",
     "output_type": "stream",
     "text": [
      "/home/q674749/.local/lib/python3.8/site-packages/sklearn/base.py:458: UserWarning: X has feature names, but StandardScaler was fitted without feature names\n",
      "  warnings.warn(\n",
      "/home/q674749/.local/lib/python3.8/site-packages/sklearn/base.py:458: UserWarning: X has feature names, but StandardScaler was fitted without feature names\n",
      "  warnings.warn(\n",
      "/home/q674749/.local/lib/python3.8/site-packages/sklearn/base.py:458: UserWarning: X has feature names, but StandardScaler was fitted without feature names\n",
      "  warnings.warn(\n",
      "Standardizing Files:  67%|██████▋   | 102/153 [04:12<01:59,  2.34s/it]"
     ]
    },
    {
     "name": "stdout",
     "output_type": "stream",
     "text": [
      "✅ [SAVED] Standardized File: /home/q674749/workspace/thesis_work/rat25-15.4.1/perception/standardized_data/combined_79.p\n"
     ]
    },
    {
     "name": "stderr",
     "output_type": "stream",
     "text": [
      "/home/q674749/.local/lib/python3.8/site-packages/sklearn/base.py:458: UserWarning: X has feature names, but StandardScaler was fitted without feature names\n",
      "  warnings.warn(\n",
      "/home/q674749/.local/lib/python3.8/site-packages/sklearn/base.py:458: UserWarning: X has feature names, but StandardScaler was fitted without feature names\n",
      "  warnings.warn(\n",
      "/home/q674749/.local/lib/python3.8/site-packages/sklearn/base.py:458: UserWarning: X has feature names, but StandardScaler was fitted without feature names\n",
      "  warnings.warn(\n",
      "Standardizing Files:  67%|██████▋   | 103/153 [04:13<01:42,  2.04s/it]"
     ]
    },
    {
     "name": "stdout",
     "output_type": "stream",
     "text": [
      "✅ [SAVED] Standardized File: /home/q674749/workspace/thesis_work/rat25-15.4.1/perception/standardized_data/combined_150.p\n"
     ]
    },
    {
     "name": "stderr",
     "output_type": "stream",
     "text": [
      "/home/q674749/.local/lib/python3.8/site-packages/sklearn/base.py:458: UserWarning: X has feature names, but StandardScaler was fitted without feature names\n",
      "  warnings.warn(\n",
      "/home/q674749/.local/lib/python3.8/site-packages/sklearn/base.py:458: UserWarning: X has feature names, but StandardScaler was fitted without feature names\n",
      "  warnings.warn(\n",
      "/home/q674749/.local/lib/python3.8/site-packages/sklearn/base.py:458: UserWarning: X has feature names, but StandardScaler was fitted without feature names\n",
      "  warnings.warn(\n",
      "Standardizing Files:  68%|██████▊   | 104/153 [04:30<05:18,  6.50s/it]"
     ]
    },
    {
     "name": "stdout",
     "output_type": "stream",
     "text": [
      "✅ [SAVED] Standardized File: /home/q674749/workspace/thesis_work/rat25-15.4.1/perception/standardized_data/combined_143.p\n"
     ]
    },
    {
     "name": "stderr",
     "output_type": "stream",
     "text": [
      "/home/q674749/.local/lib/python3.8/site-packages/sklearn/base.py:458: UserWarning: X has feature names, but StandardScaler was fitted without feature names\n",
      "  warnings.warn(\n",
      "/home/q674749/.local/lib/python3.8/site-packages/sklearn/base.py:458: UserWarning: X has feature names, but StandardScaler was fitted without feature names\n",
      "  warnings.warn(\n",
      "/home/q674749/.local/lib/python3.8/site-packages/sklearn/base.py:458: UserWarning: X has feature names, but StandardScaler was fitted without feature names\n",
      "  warnings.warn(\n",
      "Standardizing Files:  69%|██████▊   | 105/153 [04:32<03:58,  4.97s/it]"
     ]
    },
    {
     "name": "stdout",
     "output_type": "stream",
     "text": [
      "✅ [SAVED] Standardized File: /home/q674749/workspace/thesis_work/rat25-15.4.1/perception/standardized_data/combined_168.p\n"
     ]
    },
    {
     "name": "stderr",
     "output_type": "stream",
     "text": [
      "/home/q674749/.local/lib/python3.8/site-packages/sklearn/base.py:458: UserWarning: X has feature names, but StandardScaler was fitted without feature names\n",
      "  warnings.warn(\n",
      "/home/q674749/.local/lib/python3.8/site-packages/sklearn/base.py:458: UserWarning: X has feature names, but StandardScaler was fitted without feature names\n",
      "  warnings.warn(\n",
      "/home/q674749/.local/lib/python3.8/site-packages/sklearn/base.py:458: UserWarning: X has feature names, but StandardScaler was fitted without feature names\n",
      "  warnings.warn(\n",
      "Standardizing Files:  69%|██████▉   | 106/153 [04:35<03:31,  4.50s/it]"
     ]
    },
    {
     "name": "stdout",
     "output_type": "stream",
     "text": [
      "✅ [SAVED] Standardized File: /home/q674749/workspace/thesis_work/rat25-15.4.1/perception/standardized_data/combined_189.p\n"
     ]
    },
    {
     "name": "stderr",
     "output_type": "stream",
     "text": [
      "/home/q674749/.local/lib/python3.8/site-packages/sklearn/base.py:458: UserWarning: X has feature names, but StandardScaler was fitted without feature names\n",
      "  warnings.warn(\n",
      "/home/q674749/.local/lib/python3.8/site-packages/sklearn/base.py:458: UserWarning: X has feature names, but StandardScaler was fitted without feature names\n",
      "  warnings.warn(\n",
      "/home/q674749/.local/lib/python3.8/site-packages/sklearn/base.py:458: UserWarning: X has feature names, but StandardScaler was fitted without feature names\n",
      "  warnings.warn(\n",
      "Standardizing Files:  70%|██████▉   | 107/153 [04:39<03:12,  4.19s/it]"
     ]
    },
    {
     "name": "stdout",
     "output_type": "stream",
     "text": [
      "✅ [SAVED] Standardized File: /home/q674749/workspace/thesis_work/rat25-15.4.1/perception/standardized_data/combined_221.p\n"
     ]
    },
    {
     "name": "stderr",
     "output_type": "stream",
     "text": [
      "/home/q674749/.local/lib/python3.8/site-packages/sklearn/base.py:458: UserWarning: X has feature names, but StandardScaler was fitted without feature names\n",
      "  warnings.warn(\n",
      "/home/q674749/.local/lib/python3.8/site-packages/sklearn/base.py:458: UserWarning: X has feature names, but StandardScaler was fitted without feature names\n",
      "  warnings.warn(\n",
      "/home/q674749/.local/lib/python3.8/site-packages/sklearn/base.py:458: UserWarning: X has feature names, but StandardScaler was fitted without feature names\n",
      "  warnings.warn(\n",
      "Standardizing Files:  71%|███████   | 108/153 [04:40<02:31,  3.36s/it]"
     ]
    },
    {
     "name": "stdout",
     "output_type": "stream",
     "text": [
      "✅ [SAVED] Standardized File: /home/q674749/workspace/thesis_work/rat25-15.4.1/perception/standardized_data/combined_164.p\n"
     ]
    },
    {
     "name": "stderr",
     "output_type": "stream",
     "text": [
      "/home/q674749/.local/lib/python3.8/site-packages/sklearn/base.py:458: UserWarning: X has feature names, but StandardScaler was fitted without feature names\n",
      "  warnings.warn(\n",
      "/home/q674749/.local/lib/python3.8/site-packages/sklearn/base.py:458: UserWarning: X has feature names, but StandardScaler was fitted without feature names\n",
      "  warnings.warn(\n",
      "/home/q674749/.local/lib/python3.8/site-packages/sklearn/base.py:458: UserWarning: X has feature names, but StandardScaler was fitted without feature names\n",
      "  warnings.warn(\n",
      "Standardizing Files:  71%|███████   | 109/153 [04:41<01:50,  2.51s/it]"
     ]
    },
    {
     "name": "stdout",
     "output_type": "stream",
     "text": [
      "✅ [SAVED] Standardized File: /home/q674749/workspace/thesis_work/rat25-15.4.1/perception/standardized_data/combined_71.p\n"
     ]
    },
    {
     "name": "stderr",
     "output_type": "stream",
     "text": [
      "/home/q674749/.local/lib/python3.8/site-packages/sklearn/base.py:458: UserWarning: X has feature names, but StandardScaler was fitted without feature names\n",
      "  warnings.warn(\n",
      "/home/q674749/.local/lib/python3.8/site-packages/sklearn/base.py:458: UserWarning: X has feature names, but StandardScaler was fitted without feature names\n",
      "  warnings.warn(\n",
      "/home/q674749/.local/lib/python3.8/site-packages/sklearn/base.py:458: UserWarning: X has feature names, but StandardScaler was fitted without feature names\n",
      "  warnings.warn(\n",
      "Standardizing Files:  72%|███████▏  | 110/153 [04:41<01:22,  1.92s/it]"
     ]
    },
    {
     "name": "stdout",
     "output_type": "stream",
     "text": [
      "✅ [SAVED] Standardized File: /home/q674749/workspace/thesis_work/rat25-15.4.1/perception/standardized_data/combined_73.p\n"
     ]
    },
    {
     "name": "stderr",
     "output_type": "stream",
     "text": [
      "/home/q674749/.local/lib/python3.8/site-packages/sklearn/base.py:458: UserWarning: X has feature names, but StandardScaler was fitted without feature names\n",
      "  warnings.warn(\n",
      "/home/q674749/.local/lib/python3.8/site-packages/sklearn/base.py:458: UserWarning: X has feature names, but StandardScaler was fitted without feature names\n",
      "  warnings.warn(\n",
      "/home/q674749/.local/lib/python3.8/site-packages/sklearn/base.py:458: UserWarning: X has feature names, but StandardScaler was fitted without feature names\n",
      "  warnings.warn(\n",
      "Standardizing Files:  73%|███████▎  | 111/153 [04:44<01:39,  2.36s/it]"
     ]
    },
    {
     "name": "stdout",
     "output_type": "stream",
     "text": [
      "✅ [SAVED] Standardized File: /home/q674749/workspace/thesis_work/rat25-15.4.1/perception/standardized_data/combined_187.p\n"
     ]
    },
    {
     "name": "stderr",
     "output_type": "stream",
     "text": [
      "/home/q674749/.local/lib/python3.8/site-packages/sklearn/base.py:458: UserWarning: X has feature names, but StandardScaler was fitted without feature names\n",
      "  warnings.warn(\n",
      "/home/q674749/.local/lib/python3.8/site-packages/sklearn/base.py:458: UserWarning: X has feature names, but StandardScaler was fitted without feature names\n",
      "  warnings.warn(\n",
      "/home/q674749/.local/lib/python3.8/site-packages/sklearn/base.py:458: UserWarning: X has feature names, but StandardScaler was fitted without feature names\n",
      "  warnings.warn(\n",
      "Standardizing Files:  73%|███████▎  | 112/153 [04:46<01:25,  2.07s/it]"
     ]
    },
    {
     "name": "stdout",
     "output_type": "stream",
     "text": [
      "✅ [SAVED] Standardized File: /home/q674749/workspace/thesis_work/rat25-15.4.1/perception/standardized_data/combined_160.p\n"
     ]
    },
    {
     "name": "stderr",
     "output_type": "stream",
     "text": [
      "/home/q674749/.local/lib/python3.8/site-packages/sklearn/base.py:458: UserWarning: X has feature names, but StandardScaler was fitted without feature names\n",
      "  warnings.warn(\n",
      "/home/q674749/.local/lib/python3.8/site-packages/sklearn/base.py:458: UserWarning: X has feature names, but StandardScaler was fitted without feature names\n",
      "  warnings.warn(\n",
      "/home/q674749/.local/lib/python3.8/site-packages/sklearn/base.py:458: UserWarning: X has feature names, but StandardScaler was fitted without feature names\n",
      "  warnings.warn(\n",
      "Standardizing Files:  74%|███████▍  | 113/153 [04:49<01:35,  2.40s/it]"
     ]
    },
    {
     "name": "stdout",
     "output_type": "stream",
     "text": [
      "✅ [SAVED] Standardized File: /home/q674749/workspace/thesis_work/rat25-15.4.1/perception/standardized_data/combined_117.p\n"
     ]
    },
    {
     "name": "stderr",
     "output_type": "stream",
     "text": [
      "/home/q674749/.local/lib/python3.8/site-packages/sklearn/base.py:458: UserWarning: X has feature names, but StandardScaler was fitted without feature names\n",
      "  warnings.warn(\n",
      "/home/q674749/.local/lib/python3.8/site-packages/sklearn/base.py:458: UserWarning: X has feature names, but StandardScaler was fitted without feature names\n",
      "  warnings.warn(\n",
      "/home/q674749/.local/lib/python3.8/site-packages/sklearn/base.py:458: UserWarning: X has feature names, but StandardScaler was fitted without feature names\n",
      "  warnings.warn(\n",
      "Standardizing Files:  75%|███████▍  | 114/153 [04:52<01:43,  2.65s/it]"
     ]
    },
    {
     "name": "stdout",
     "output_type": "stream",
     "text": [
      "✅ [SAVED] Standardized File: /home/q674749/workspace/thesis_work/rat25-15.4.1/perception/standardized_data/combined_137.p\n"
     ]
    },
    {
     "name": "stderr",
     "output_type": "stream",
     "text": [
      "/home/q674749/.local/lib/python3.8/site-packages/sklearn/base.py:458: UserWarning: X has feature names, but StandardScaler was fitted without feature names\n",
      "  warnings.warn(\n",
      "/home/q674749/.local/lib/python3.8/site-packages/sklearn/base.py:458: UserWarning: X has feature names, but StandardScaler was fitted without feature names\n",
      "  warnings.warn(\n",
      "/home/q674749/.local/lib/python3.8/site-packages/sklearn/base.py:458: UserWarning: X has feature names, but StandardScaler was fitted without feature names\n",
      "  warnings.warn(\n",
      "Standardizing Files:  75%|███████▌  | 115/153 [04:56<01:49,  2.89s/it]"
     ]
    },
    {
     "name": "stdout",
     "output_type": "stream",
     "text": [
      "✅ [SAVED] Standardized File: /home/q674749/workspace/thesis_work/rat25-15.4.1/perception/standardized_data/combined_191.p\n"
     ]
    },
    {
     "name": "stderr",
     "output_type": "stream",
     "text": [
      "/home/q674749/.local/lib/python3.8/site-packages/sklearn/base.py:458: UserWarning: X has feature names, but StandardScaler was fitted without feature names\n",
      "  warnings.warn(\n",
      "/home/q674749/.local/lib/python3.8/site-packages/sklearn/base.py:458: UserWarning: X has feature names, but StandardScaler was fitted without feature names\n",
      "  warnings.warn(\n",
      "/home/q674749/.local/lib/python3.8/site-packages/sklearn/base.py:458: UserWarning: X has feature names, but StandardScaler was fitted without feature names\n",
      "  warnings.warn(\n",
      "Standardizing Files:  76%|███████▌  | 116/153 [04:59<01:53,  3.06s/it]"
     ]
    },
    {
     "name": "stdout",
     "output_type": "stream",
     "text": [
      "✅ [SAVED] Standardized File: /home/q674749/workspace/thesis_work/rat25-15.4.1/perception/standardized_data/combined_196.p\n"
     ]
    },
    {
     "name": "stderr",
     "output_type": "stream",
     "text": [
      "/home/q674749/.local/lib/python3.8/site-packages/sklearn/base.py:458: UserWarning: X has feature names, but StandardScaler was fitted without feature names\n",
      "  warnings.warn(\n",
      "/home/q674749/.local/lib/python3.8/site-packages/sklearn/base.py:458: UserWarning: X has feature names, but StandardScaler was fitted without feature names\n",
      "  warnings.warn(\n",
      "/home/q674749/.local/lib/python3.8/site-packages/sklearn/base.py:458: UserWarning: X has feature names, but StandardScaler was fitted without feature names\n",
      "  warnings.warn(\n",
      "Standardizing Files:  76%|███████▋  | 117/153 [05:02<01:51,  3.11s/it]"
     ]
    },
    {
     "name": "stdout",
     "output_type": "stream",
     "text": [
      "✅ [SAVED] Standardized File: /home/q674749/workspace/thesis_work/rat25-15.4.1/perception/standardized_data/combined_114.p\n"
     ]
    },
    {
     "name": "stderr",
     "output_type": "stream",
     "text": [
      "/home/q674749/.local/lib/python3.8/site-packages/sklearn/base.py:458: UserWarning: X has feature names, but StandardScaler was fitted without feature names\n",
      "  warnings.warn(\n",
      "/home/q674749/.local/lib/python3.8/site-packages/sklearn/base.py:458: UserWarning: X has feature names, but StandardScaler was fitted without feature names\n",
      "  warnings.warn(\n",
      "/home/q674749/.local/lib/python3.8/site-packages/sklearn/base.py:458: UserWarning: X has feature names, but StandardScaler was fitted without feature names\n",
      "  warnings.warn(\n",
      "Standardizing Files:  77%|███████▋  | 118/153 [05:06<01:52,  3.21s/it]"
     ]
    },
    {
     "name": "stdout",
     "output_type": "stream",
     "text": [
      "✅ [SAVED] Standardized File: /home/q674749/workspace/thesis_work/rat25-15.4.1/perception/standardized_data/combined_211.p\n"
     ]
    },
    {
     "name": "stderr",
     "output_type": "stream",
     "text": [
      "/home/q674749/.local/lib/python3.8/site-packages/sklearn/base.py:458: UserWarning: X has feature names, but StandardScaler was fitted without feature names\n",
      "  warnings.warn(\n",
      "/home/q674749/.local/lib/python3.8/site-packages/sklearn/base.py:458: UserWarning: X has feature names, but StandardScaler was fitted without feature names\n",
      "  warnings.warn(\n",
      "/home/q674749/.local/lib/python3.8/site-packages/sklearn/base.py:458: UserWarning: X has feature names, but StandardScaler was fitted without feature names\n",
      "  warnings.warn(\n",
      "Standardizing Files:  78%|███████▊  | 119/153 [05:09<01:51,  3.27s/it]"
     ]
    },
    {
     "name": "stdout",
     "output_type": "stream",
     "text": [
      "✅ [SAVED] Standardized File: /home/q674749/workspace/thesis_work/rat25-15.4.1/perception/standardized_data/combined_201.p\n"
     ]
    },
    {
     "name": "stderr",
     "output_type": "stream",
     "text": [
      "/home/q674749/.local/lib/python3.8/site-packages/sklearn/base.py:458: UserWarning: X has feature names, but StandardScaler was fitted without feature names\n",
      "  warnings.warn(\n",
      "/home/q674749/.local/lib/python3.8/site-packages/sklearn/base.py:458: UserWarning: X has feature names, but StandardScaler was fitted without feature names\n",
      "  warnings.warn(\n",
      "/home/q674749/.local/lib/python3.8/site-packages/sklearn/base.py:458: UserWarning: X has feature names, but StandardScaler was fitted without feature names\n",
      "  warnings.warn(\n",
      "Standardizing Files:  78%|███████▊  | 120/153 [05:13<01:50,  3.34s/it]"
     ]
    },
    {
     "name": "stdout",
     "output_type": "stream",
     "text": [
      "✅ [SAVED] Standardized File: /home/q674749/workspace/thesis_work/rat25-15.4.1/perception/standardized_data/combined_217.p\n"
     ]
    },
    {
     "name": "stderr",
     "output_type": "stream",
     "text": [
      "/home/q674749/.local/lib/python3.8/site-packages/sklearn/base.py:458: UserWarning: X has feature names, but StandardScaler was fitted without feature names\n",
      "  warnings.warn(\n",
      "/home/q674749/.local/lib/python3.8/site-packages/sklearn/base.py:458: UserWarning: X has feature names, but StandardScaler was fitted without feature names\n",
      "  warnings.warn(\n",
      "/home/q674749/.local/lib/python3.8/site-packages/sklearn/base.py:458: UserWarning: X has feature names, but StandardScaler was fitted without feature names\n",
      "  warnings.warn(\n",
      "Standardizing Files:  79%|███████▉  | 121/153 [05:16<01:45,  3.30s/it]"
     ]
    },
    {
     "name": "stdout",
     "output_type": "stream",
     "text": [
      "✅ [SAVED] Standardized File: /home/q674749/workspace/thesis_work/rat25-15.4.1/perception/standardized_data/combined_133.p\n"
     ]
    },
    {
     "name": "stderr",
     "output_type": "stream",
     "text": [
      "/home/q674749/.local/lib/python3.8/site-packages/sklearn/base.py:458: UserWarning: X has feature names, but StandardScaler was fitted without feature names\n",
      "  warnings.warn(\n",
      "/home/q674749/.local/lib/python3.8/site-packages/sklearn/base.py:458: UserWarning: X has feature names, but StandardScaler was fitted without feature names\n",
      "  warnings.warn(\n",
      "/home/q674749/.local/lib/python3.8/site-packages/sklearn/base.py:458: UserWarning: X has feature names, but StandardScaler was fitted without feature names\n",
      "  warnings.warn(\n",
      "Standardizing Files:  80%|███████▉  | 122/153 [05:17<01:25,  2.74s/it]"
     ]
    },
    {
     "name": "stdout",
     "output_type": "stream",
     "text": [
      "✅ [SAVED] Standardized File: /home/q674749/workspace/thesis_work/rat25-15.4.1/perception/standardized_data/combined_171.p\n"
     ]
    },
    {
     "name": "stderr",
     "output_type": "stream",
     "text": [
      "/home/q674749/.local/lib/python3.8/site-packages/sklearn/base.py:458: UserWarning: X has feature names, but StandardScaler was fitted without feature names\n",
      "  warnings.warn(\n",
      "/home/q674749/.local/lib/python3.8/site-packages/sklearn/base.py:458: UserWarning: X has feature names, but StandardScaler was fitted without feature names\n",
      "  warnings.warn(\n",
      "/home/q674749/.local/lib/python3.8/site-packages/sklearn/base.py:458: UserWarning: X has feature names, but StandardScaler was fitted without feature names\n",
      "  warnings.warn(\n",
      "Standardizing Files:  80%|████████  | 123/153 [05:19<01:09,  2.33s/it]"
     ]
    },
    {
     "name": "stdout",
     "output_type": "stream",
     "text": [
      "✅ [SAVED] Standardized File: /home/q674749/workspace/thesis_work/rat25-15.4.1/perception/standardized_data/combined_169.p\n"
     ]
    },
    {
     "name": "stderr",
     "output_type": "stream",
     "text": [
      "/home/q674749/.local/lib/python3.8/site-packages/sklearn/base.py:458: UserWarning: X has feature names, but StandardScaler was fitted without feature names\n",
      "  warnings.warn(\n",
      "/home/q674749/.local/lib/python3.8/site-packages/sklearn/base.py:458: UserWarning: X has feature names, but StandardScaler was fitted without feature names\n",
      "  warnings.warn(\n",
      "/home/q674749/.local/lib/python3.8/site-packages/sklearn/base.py:458: UserWarning: X has feature names, but StandardScaler was fitted without feature names\n",
      "  warnings.warn(\n",
      "Standardizing Files:  81%|████████  | 124/153 [05:22<01:14,  2.58s/it]"
     ]
    },
    {
     "name": "stdout",
     "output_type": "stream",
     "text": [
      "✅ [SAVED] Standardized File: /home/q674749/workspace/thesis_work/rat25-15.4.1/perception/standardized_data/combined_145.p\n"
     ]
    },
    {
     "name": "stderr",
     "output_type": "stream",
     "text": [
      "/home/q674749/.local/lib/python3.8/site-packages/sklearn/base.py:458: UserWarning: X has feature names, but StandardScaler was fitted without feature names\n",
      "  warnings.warn(\n",
      "/home/q674749/.local/lib/python3.8/site-packages/sklearn/base.py:458: UserWarning: X has feature names, but StandardScaler was fitted without feature names\n",
      "  warnings.warn(\n",
      "/home/q674749/.local/lib/python3.8/site-packages/sklearn/base.py:458: UserWarning: X has feature names, but StandardScaler was fitted without feature names\n",
      "  warnings.warn(\n",
      "Standardizing Files:  82%|████████▏ | 125/153 [05:25<01:17,  2.77s/it]"
     ]
    },
    {
     "name": "stdout",
     "output_type": "stream",
     "text": [
      "✅ [SAVED] Standardized File: /home/q674749/workspace/thesis_work/rat25-15.4.1/perception/standardized_data/combined_147.p\n"
     ]
    },
    {
     "name": "stderr",
     "output_type": "stream",
     "text": [
      "/home/q674749/.local/lib/python3.8/site-packages/sklearn/base.py:458: UserWarning: X has feature names, but StandardScaler was fitted without feature names\n",
      "  warnings.warn(\n",
      "/home/q674749/.local/lib/python3.8/site-packages/sklearn/base.py:458: UserWarning: X has feature names, but StandardScaler was fitted without feature names\n",
      "  warnings.warn(\n",
      "/home/q674749/.local/lib/python3.8/site-packages/sklearn/base.py:458: UserWarning: X has feature names, but StandardScaler was fitted without feature names\n",
      "  warnings.warn(\n",
      "Standardizing Files:  82%|████████▏ | 126/153 [05:29<01:20,  2.97s/it]"
     ]
    },
    {
     "name": "stdout",
     "output_type": "stream",
     "text": [
      "✅ [SAVED] Standardized File: /home/q674749/workspace/thesis_work/rat25-15.4.1/perception/standardized_data/combined_203.p\n"
     ]
    },
    {
     "name": "stderr",
     "output_type": "stream",
     "text": [
      "/home/q674749/.local/lib/python3.8/site-packages/sklearn/base.py:458: UserWarning: X has feature names, but StandardScaler was fitted without feature names\n",
      "  warnings.warn(\n",
      "/home/q674749/.local/lib/python3.8/site-packages/sklearn/base.py:458: UserWarning: X has feature names, but StandardScaler was fitted without feature names\n",
      "  warnings.warn(\n",
      "/home/q674749/.local/lib/python3.8/site-packages/sklearn/base.py:458: UserWarning: X has feature names, but StandardScaler was fitted without feature names\n",
      "  warnings.warn(\n",
      "Standardizing Files:  83%|████████▎ | 127/153 [05:32<01:21,  3.12s/it]"
     ]
    },
    {
     "name": "stdout",
     "output_type": "stream",
     "text": [
      "✅ [SAVED] Standardized File: /home/q674749/workspace/thesis_work/rat25-15.4.1/perception/standardized_data/combined_198.p\n"
     ]
    },
    {
     "name": "stderr",
     "output_type": "stream",
     "text": [
      "/home/q674749/.local/lib/python3.8/site-packages/sklearn/base.py:458: UserWarning: X has feature names, but StandardScaler was fitted without feature names\n",
      "  warnings.warn(\n",
      "/home/q674749/.local/lib/python3.8/site-packages/sklearn/base.py:458: UserWarning: X has feature names, but StandardScaler was fitted without feature names\n",
      "  warnings.warn(\n",
      "/home/q674749/.local/lib/python3.8/site-packages/sklearn/base.py:458: UserWarning: X has feature names, but StandardScaler was fitted without feature names\n",
      "  warnings.warn(\n",
      "Standardizing Files:  84%|████████▎ | 128/153 [05:33<00:59,  2.37s/it]"
     ]
    },
    {
     "name": "stdout",
     "output_type": "stream",
     "text": [
      "✅ [SAVED] Standardized File: /home/q674749/workspace/thesis_work/rat25-15.4.1/perception/standardized_data/combined_83.p\n"
     ]
    },
    {
     "name": "stderr",
     "output_type": "stream",
     "text": [
      "/home/q674749/.local/lib/python3.8/site-packages/sklearn/base.py:458: UserWarning: X has feature names, but StandardScaler was fitted without feature names\n",
      "  warnings.warn(\n",
      "/home/q674749/.local/lib/python3.8/site-packages/sklearn/base.py:458: UserWarning: X has feature names, but StandardScaler was fitted without feature names\n",
      "  warnings.warn(\n",
      "/home/q674749/.local/lib/python3.8/site-packages/sklearn/base.py:458: UserWarning: X has feature names, but StandardScaler was fitted without feature names\n",
      "  warnings.warn(\n",
      "Standardizing Files:  84%|████████▍ | 129/153 [05:36<01:04,  2.67s/it]"
     ]
    },
    {
     "name": "stdout",
     "output_type": "stream",
     "text": [
      "✅ [SAVED] Standardized File: /home/q674749/workspace/thesis_work/rat25-15.4.1/perception/standardized_data/combined_216.p\n"
     ]
    },
    {
     "name": "stderr",
     "output_type": "stream",
     "text": [
      "/home/q674749/.local/lib/python3.8/site-packages/sklearn/base.py:458: UserWarning: X has feature names, but StandardScaler was fitted without feature names\n",
      "  warnings.warn(\n",
      "/home/q674749/.local/lib/python3.8/site-packages/sklearn/base.py:458: UserWarning: X has feature names, but StandardScaler was fitted without feature names\n",
      "  warnings.warn(\n",
      "/home/q674749/.local/lib/python3.8/site-packages/sklearn/base.py:458: UserWarning: X has feature names, but StandardScaler was fitted without feature names\n",
      "  warnings.warn(\n",
      "Standardizing Files:  85%|████████▍ | 130/153 [05:40<01:07,  2.92s/it]"
     ]
    },
    {
     "name": "stdout",
     "output_type": "stream",
     "text": [
      "✅ [SAVED] Standardized File: /home/q674749/workspace/thesis_work/rat25-15.4.1/perception/standardized_data/combined_224.p\n"
     ]
    },
    {
     "name": "stderr",
     "output_type": "stream",
     "text": [
      "/home/q674749/.local/lib/python3.8/site-packages/sklearn/base.py:458: UserWarning: X has feature names, but StandardScaler was fitted without feature names\n",
      "  warnings.warn(\n",
      "/home/q674749/.local/lib/python3.8/site-packages/sklearn/base.py:458: UserWarning: X has feature names, but StandardScaler was fitted without feature names\n",
      "  warnings.warn(\n",
      "/home/q674749/.local/lib/python3.8/site-packages/sklearn/base.py:458: UserWarning: X has feature names, but StandardScaler was fitted without feature names\n",
      "  warnings.warn(\n",
      "Standardizing Files:  86%|████████▌ | 131/153 [05:43<01:07,  3.08s/it]"
     ]
    },
    {
     "name": "stdout",
     "output_type": "stream",
     "text": [
      "✅ [SAVED] Standardized File: /home/q674749/workspace/thesis_work/rat25-15.4.1/perception/standardized_data/combined_185.p\n"
     ]
    },
    {
     "name": "stderr",
     "output_type": "stream",
     "text": [
      "/home/q674749/.local/lib/python3.8/site-packages/sklearn/base.py:458: UserWarning: X has feature names, but StandardScaler was fitted without feature names\n",
      "  warnings.warn(\n",
      "/home/q674749/.local/lib/python3.8/site-packages/sklearn/base.py:458: UserWarning: X has feature names, but StandardScaler was fitted without feature names\n",
      "  warnings.warn(\n",
      "/home/q674749/.local/lib/python3.8/site-packages/sklearn/base.py:458: UserWarning: X has feature names, but StandardScaler was fitted without feature names\n",
      "  warnings.warn(\n",
      "Standardizing Files:  86%|████████▋ | 132/153 [05:46<01:06,  3.19s/it]"
     ]
    },
    {
     "name": "stdout",
     "output_type": "stream",
     "text": [
      "✅ [SAVED] Standardized File: /home/q674749/workspace/thesis_work/rat25-15.4.1/perception/standardized_data/combined_215.p\n"
     ]
    },
    {
     "name": "stderr",
     "output_type": "stream",
     "text": [
      "/home/q674749/.local/lib/python3.8/site-packages/sklearn/base.py:458: UserWarning: X has feature names, but StandardScaler was fitted without feature names\n",
      "  warnings.warn(\n",
      "/home/q674749/.local/lib/python3.8/site-packages/sklearn/base.py:458: UserWarning: X has feature names, but StandardScaler was fitted without feature names\n",
      "  warnings.warn(\n",
      "/home/q674749/.local/lib/python3.8/site-packages/sklearn/base.py:458: UserWarning: X has feature names, but StandardScaler was fitted without feature names\n",
      "  warnings.warn(\n",
      "Standardizing Files:  87%|████████▋ | 133/153 [05:50<01:05,  3.26s/it]"
     ]
    },
    {
     "name": "stdout",
     "output_type": "stream",
     "text": [
      "✅ [SAVED] Standardized File: /home/q674749/workspace/thesis_work/rat25-15.4.1/perception/standardized_data/combined_199.p\n"
     ]
    },
    {
     "name": "stderr",
     "output_type": "stream",
     "text": [
      "/home/q674749/.local/lib/python3.8/site-packages/sklearn/base.py:458: UserWarning: X has feature names, but StandardScaler was fitted without feature names\n",
      "  warnings.warn(\n",
      "/home/q674749/.local/lib/python3.8/site-packages/sklearn/base.py:458: UserWarning: X has feature names, but StandardScaler was fitted without feature names\n",
      "  warnings.warn(\n",
      "/home/q674749/.local/lib/python3.8/site-packages/sklearn/base.py:458: UserWarning: X has feature names, but StandardScaler was fitted without feature names\n",
      "  warnings.warn(\n",
      "Standardizing Files:  88%|████████▊ | 134/153 [06:07<02:22,  7.49s/it]"
     ]
    },
    {
     "name": "stdout",
     "output_type": "stream",
     "text": [
      "✅ [SAVED] Standardized File: /home/q674749/workspace/thesis_work/rat25-15.4.1/perception/standardized_data/combined_213.p\n"
     ]
    },
    {
     "name": "stderr",
     "output_type": "stream",
     "text": [
      "/home/q674749/.local/lib/python3.8/site-packages/sklearn/base.py:458: UserWarning: X has feature names, but StandardScaler was fitted without feature names\n",
      "  warnings.warn(\n",
      "/home/q674749/.local/lib/python3.8/site-packages/sklearn/base.py:458: UserWarning: X has feature names, but StandardScaler was fitted without feature names\n",
      "  warnings.warn(\n",
      "/home/q674749/.local/lib/python3.8/site-packages/sklearn/base.py:458: UserWarning: X has feature names, but StandardScaler was fitted without feature names\n",
      "  warnings.warn(\n",
      "Standardizing Files:  88%|████████▊ | 135/153 [06:11<01:52,  6.28s/it]"
     ]
    },
    {
     "name": "stdout",
     "output_type": "stream",
     "text": [
      "✅ [SAVED] Standardized File: /home/q674749/workspace/thesis_work/rat25-15.4.1/perception/standardized_data/combined_186.p\n"
     ]
    },
    {
     "name": "stderr",
     "output_type": "stream",
     "text": [
      "/home/q674749/.local/lib/python3.8/site-packages/sklearn/base.py:458: UserWarning: X has feature names, but StandardScaler was fitted without feature names\n",
      "  warnings.warn(\n",
      "/home/q674749/.local/lib/python3.8/site-packages/sklearn/base.py:458: UserWarning: X has feature names, but StandardScaler was fitted without feature names\n",
      "  warnings.warn(\n",
      "/home/q674749/.local/lib/python3.8/site-packages/sklearn/base.py:458: UserWarning: X has feature names, but StandardScaler was fitted without feature names\n",
      "  warnings.warn(\n",
      "Standardizing Files:  89%|████████▉ | 136/153 [06:12<01:21,  4.82s/it]"
     ]
    },
    {
     "name": "stdout",
     "output_type": "stream",
     "text": [
      "✅ [SAVED] Standardized File: /home/q674749/workspace/thesis_work/rat25-15.4.1/perception/standardized_data/combined_158.p\n"
     ]
    },
    {
     "name": "stderr",
     "output_type": "stream",
     "text": [
      "/home/q674749/.local/lib/python3.8/site-packages/sklearn/base.py:458: UserWarning: X has feature names, but StandardScaler was fitted without feature names\n",
      "  warnings.warn(\n",
      "/home/q674749/.local/lib/python3.8/site-packages/sklearn/base.py:458: UserWarning: X has feature names, but StandardScaler was fitted without feature names\n",
      "  warnings.warn(\n",
      "/home/q674749/.local/lib/python3.8/site-packages/sklearn/base.py:458: UserWarning: X has feature names, but StandardScaler was fitted without feature names\n",
      "  warnings.warn(\n",
      "Standardizing Files:  90%|████████▉ | 137/153 [06:13<00:56,  3.54s/it]"
     ]
    },
    {
     "name": "stdout",
     "output_type": "stream",
     "text": [
      "✅ [SAVED] Standardized File: /home/q674749/workspace/thesis_work/rat25-15.4.1/perception/standardized_data/combined_78.p\n"
     ]
    },
    {
     "name": "stderr",
     "output_type": "stream",
     "text": [
      "/home/q674749/.local/lib/python3.8/site-packages/sklearn/base.py:458: UserWarning: X has feature names, but StandardScaler was fitted without feature names\n",
      "  warnings.warn(\n",
      "/home/q674749/.local/lib/python3.8/site-packages/sklearn/base.py:458: UserWarning: X has feature names, but StandardScaler was fitted without feature names\n",
      "  warnings.warn(\n",
      "/home/q674749/.local/lib/python3.8/site-packages/sklearn/base.py:458: UserWarning: X has feature names, but StandardScaler was fitted without feature names\n",
      "  warnings.warn(\n",
      "Standardizing Files:  90%|█████████ | 138/153 [06:14<00:43,  2.87s/it]"
     ]
    },
    {
     "name": "stdout",
     "output_type": "stream",
     "text": [
      "✅ [SAVED] Standardized File: /home/q674749/workspace/thesis_work/rat25-15.4.1/perception/standardized_data/combined_181.p\n"
     ]
    },
    {
     "name": "stderr",
     "output_type": "stream",
     "text": [
      "/home/q674749/.local/lib/python3.8/site-packages/sklearn/base.py:458: UserWarning: X has feature names, but StandardScaler was fitted without feature names\n",
      "  warnings.warn(\n",
      "/home/q674749/.local/lib/python3.8/site-packages/sklearn/base.py:458: UserWarning: X has feature names, but StandardScaler was fitted without feature names\n",
      "  warnings.warn(\n",
      "/home/q674749/.local/lib/python3.8/site-packages/sklearn/base.py:458: UserWarning: X has feature names, but StandardScaler was fitted without feature names\n",
      "  warnings.warn(\n",
      "Standardizing Files:  91%|█████████ | 139/153 [06:17<00:42,  3.06s/it]"
     ]
    },
    {
     "name": "stdout",
     "output_type": "stream",
     "text": [
      "✅ [SAVED] Standardized File: /home/q674749/workspace/thesis_work/rat25-15.4.1/perception/standardized_data/combined_190.p\n"
     ]
    },
    {
     "name": "stderr",
     "output_type": "stream",
     "text": [
      "/home/q674749/.local/lib/python3.8/site-packages/sklearn/base.py:458: UserWarning: X has feature names, but StandardScaler was fitted without feature names\n",
      "  warnings.warn(\n",
      "/home/q674749/.local/lib/python3.8/site-packages/sklearn/base.py:458: UserWarning: X has feature names, but StandardScaler was fitted without feature names\n",
      "  warnings.warn(\n",
      "/home/q674749/.local/lib/python3.8/site-packages/sklearn/base.py:458: UserWarning: X has feature names, but StandardScaler was fitted without feature names\n",
      "  warnings.warn(\n",
      "Standardizing Files:  92%|█████████▏| 140/153 [06:21<00:41,  3.19s/it]"
     ]
    },
    {
     "name": "stdout",
     "output_type": "stream",
     "text": [
      "✅ [SAVED] Standardized File: /home/q674749/workspace/thesis_work/rat25-15.4.1/perception/standardized_data/combined_219.p\n"
     ]
    },
    {
     "name": "stderr",
     "output_type": "stream",
     "text": [
      "/home/q674749/.local/lib/python3.8/site-packages/sklearn/base.py:458: UserWarning: X has feature names, but StandardScaler was fitted without feature names\n",
      "  warnings.warn(\n",
      "/home/q674749/.local/lib/python3.8/site-packages/sklearn/base.py:458: UserWarning: X has feature names, but StandardScaler was fitted without feature names\n",
      "  warnings.warn(\n",
      "/home/q674749/.local/lib/python3.8/site-packages/sklearn/base.py:458: UserWarning: X has feature names, but StandardScaler was fitted without feature names\n",
      "  warnings.warn(\n",
      "Standardizing Files:  92%|█████████▏| 141/153 [06:24<00:39,  3.26s/it]"
     ]
    },
    {
     "name": "stdout",
     "output_type": "stream",
     "text": [
      "✅ [SAVED] Standardized File: /home/q674749/workspace/thesis_work/rat25-15.4.1/perception/standardized_data/combined_200.p\n"
     ]
    },
    {
     "name": "stderr",
     "output_type": "stream",
     "text": [
      "/home/q674749/.local/lib/python3.8/site-packages/sklearn/base.py:458: UserWarning: X has feature names, but StandardScaler was fitted without feature names\n",
      "  warnings.warn(\n",
      "/home/q674749/.local/lib/python3.8/site-packages/sklearn/base.py:458: UserWarning: X has feature names, but StandardScaler was fitted without feature names\n",
      "  warnings.warn(\n",
      "/home/q674749/.local/lib/python3.8/site-packages/sklearn/base.py:458: UserWarning: X has feature names, but StandardScaler was fitted without feature names\n",
      "  warnings.warn(\n",
      "Standardizing Files:  93%|█████████▎| 142/153 [06:26<00:29,  2.71s/it]"
     ]
    },
    {
     "name": "stdout",
     "output_type": "stream",
     "text": [
      "✅ [SAVED] Standardized File: /home/q674749/workspace/thesis_work/rat25-15.4.1/perception/standardized_data/combined_182.p\n"
     ]
    },
    {
     "name": "stderr",
     "output_type": "stream",
     "text": [
      "/home/q674749/.local/lib/python3.8/site-packages/sklearn/base.py:458: UserWarning: X has feature names, but StandardScaler was fitted without feature names\n",
      "  warnings.warn(\n",
      "/home/q674749/.local/lib/python3.8/site-packages/sklearn/base.py:458: UserWarning: X has feature names, but StandardScaler was fitted without feature names\n",
      "  warnings.warn(\n",
      "/home/q674749/.local/lib/python3.8/site-packages/sklearn/base.py:458: UserWarning: X has feature names, but StandardScaler was fitted without feature names\n",
      "  warnings.warn(\n",
      "Standardizing Files:  93%|█████████▎| 143/153 [06:27<00:22,  2.30s/it]"
     ]
    },
    {
     "name": "stdout",
     "output_type": "stream",
     "text": [
      "✅ [SAVED] Standardized File: /home/q674749/workspace/thesis_work/rat25-15.4.1/perception/standardized_data/combined_162.p\n"
     ]
    },
    {
     "name": "stderr",
     "output_type": "stream",
     "text": [
      "/home/q674749/.local/lib/python3.8/site-packages/sklearn/base.py:458: UserWarning: X has feature names, but StandardScaler was fitted without feature names\n",
      "  warnings.warn(\n",
      "/home/q674749/.local/lib/python3.8/site-packages/sklearn/base.py:458: UserWarning: X has feature names, but StandardScaler was fitted without feature names\n",
      "  warnings.warn(\n",
      "/home/q674749/.local/lib/python3.8/site-packages/sklearn/base.py:458: UserWarning: X has feature names, but StandardScaler was fitted without feature names\n",
      "  warnings.warn(\n",
      "Standardizing Files:  94%|█████████▍| 144/153 [06:28<00:15,  1.77s/it]"
     ]
    },
    {
     "name": "stdout",
     "output_type": "stream",
     "text": [
      "✅ [SAVED] Standardized File: /home/q674749/workspace/thesis_work/rat25-15.4.1/perception/standardized_data/combined_67.p\n"
     ]
    },
    {
     "name": "stderr",
     "output_type": "stream",
     "text": [
      "/home/q674749/.local/lib/python3.8/site-packages/sklearn/base.py:458: UserWarning: X has feature names, but StandardScaler was fitted without feature names\n",
      "  warnings.warn(\n",
      "/home/q674749/.local/lib/python3.8/site-packages/sklearn/base.py:458: UserWarning: X has feature names, but StandardScaler was fitted without feature names\n",
      "  warnings.warn(\n",
      "/home/q674749/.local/lib/python3.8/site-packages/sklearn/base.py:458: UserWarning: X has feature names, but StandardScaler was fitted without feature names\n",
      "  warnings.warn(\n",
      "Standardizing Files:  95%|█████████▍| 145/153 [06:29<00:13,  1.64s/it]"
     ]
    },
    {
     "name": "stdout",
     "output_type": "stream",
     "text": [
      "✅ [SAVED] Standardized File: /home/q674749/workspace/thesis_work/rat25-15.4.1/perception/standardized_data/combined_177.p\n"
     ]
    },
    {
     "name": "stderr",
     "output_type": "stream",
     "text": [
      "/home/q674749/.local/lib/python3.8/site-packages/sklearn/base.py:458: UserWarning: X has feature names, but StandardScaler was fitted without feature names\n",
      "  warnings.warn(\n",
      "/home/q674749/.local/lib/python3.8/site-packages/sklearn/base.py:458: UserWarning: X has feature names, but StandardScaler was fitted without feature names\n",
      "  warnings.warn(\n",
      "/home/q674749/.local/lib/python3.8/site-packages/sklearn/base.py:458: UserWarning: X has feature names, but StandardScaler was fitted without feature names\n",
      "  warnings.warn(\n",
      "Standardizing Files:  95%|█████████▌| 146/153 [06:30<00:10,  1.55s/it]"
     ]
    },
    {
     "name": "stdout",
     "output_type": "stream",
     "text": [
      "✅ [SAVED] Standardized File: /home/q674749/workspace/thesis_work/rat25-15.4.1/perception/standardized_data/combined_152.p\n"
     ]
    },
    {
     "name": "stderr",
     "output_type": "stream",
     "text": [
      "/home/q674749/.local/lib/python3.8/site-packages/sklearn/base.py:458: UserWarning: X has feature names, but StandardScaler was fitted without feature names\n",
      "  warnings.warn(\n",
      "/home/q674749/.local/lib/python3.8/site-packages/sklearn/base.py:458: UserWarning: X has feature names, but StandardScaler was fitted without feature names\n",
      "  warnings.warn(\n",
      "/home/q674749/.local/lib/python3.8/site-packages/sklearn/base.py:458: UserWarning: X has feature names, but StandardScaler was fitted without feature names\n",
      "  warnings.warn(\n",
      "Standardizing Files:  96%|█████████▌| 147/153 [06:34<00:12,  2.11s/it]"
     ]
    },
    {
     "name": "stdout",
     "output_type": "stream",
     "text": [
      "✅ [SAVED] Standardized File: /home/q674749/workspace/thesis_work/rat25-15.4.1/perception/standardized_data/combined_192.p\n"
     ]
    },
    {
     "name": "stderr",
     "output_type": "stream",
     "text": [
      "/home/q674749/.local/lib/python3.8/site-packages/sklearn/base.py:458: UserWarning: X has feature names, but StandardScaler was fitted without feature names\n",
      "  warnings.warn(\n",
      "/home/q674749/.local/lib/python3.8/site-packages/sklearn/base.py:458: UserWarning: X has feature names, but StandardScaler was fitted without feature names\n",
      "  warnings.warn(\n",
      "/home/q674749/.local/lib/python3.8/site-packages/sklearn/base.py:458: UserWarning: X has feature names, but StandardScaler was fitted without feature names\n",
      "  warnings.warn(\n",
      "Standardizing Files:  97%|█████████▋| 148/153 [06:34<00:08,  1.66s/it]"
     ]
    },
    {
     "name": "stdout",
     "output_type": "stream",
     "text": [
      "✅ [SAVED] Standardized File: /home/q674749/workspace/thesis_work/rat25-15.4.1/perception/standardized_data/combined_53.p\n"
     ]
    },
    {
     "name": "stderr",
     "output_type": "stream",
     "text": [
      "/home/q674749/.local/lib/python3.8/site-packages/sklearn/base.py:458: UserWarning: X has feature names, but StandardScaler was fitted without feature names\n",
      "  warnings.warn(\n",
      "/home/q674749/.local/lib/python3.8/site-packages/sklearn/base.py:458: UserWarning: X has feature names, but StandardScaler was fitted without feature names\n",
      "  warnings.warn(\n",
      "/home/q674749/.local/lib/python3.8/site-packages/sklearn/base.py:458: UserWarning: X has feature names, but StandardScaler was fitted without feature names\n",
      "  warnings.warn(\n",
      "Standardizing Files:  97%|█████████▋| 149/153 [06:36<00:06,  1.56s/it]"
     ]
    },
    {
     "name": "stdout",
     "output_type": "stream",
     "text": [
      "✅ [SAVED] Standardized File: /home/q674749/workspace/thesis_work/rat25-15.4.1/perception/standardized_data/combined_180.p\n"
     ]
    },
    {
     "name": "stderr",
     "output_type": "stream",
     "text": [
      "/home/q674749/.local/lib/python3.8/site-packages/sklearn/base.py:458: UserWarning: X has feature names, but StandardScaler was fitted without feature names\n",
      "  warnings.warn(\n",
      "/home/q674749/.local/lib/python3.8/site-packages/sklearn/base.py:458: UserWarning: X has feature names, but StandardScaler was fitted without feature names\n",
      "  warnings.warn(\n",
      "/home/q674749/.local/lib/python3.8/site-packages/sklearn/base.py:458: UserWarning: X has feature names, but StandardScaler was fitted without feature names\n",
      "  warnings.warn(\n",
      "Standardizing Files:  98%|█████████▊| 150/153 [06:39<00:06,  2.04s/it]"
     ]
    },
    {
     "name": "stdout",
     "output_type": "stream",
     "text": [
      "✅ [SAVED] Standardized File: /home/q674749/workspace/thesis_work/rat25-15.4.1/perception/standardized_data/combined_125.p\n"
     ]
    },
    {
     "name": "stderr",
     "output_type": "stream",
     "text": [
      "/home/q674749/.local/lib/python3.8/site-packages/sklearn/base.py:458: UserWarning: X has feature names, but StandardScaler was fitted without feature names\n",
      "  warnings.warn(\n",
      "/home/q674749/.local/lib/python3.8/site-packages/sklearn/base.py:458: UserWarning: X has feature names, but StandardScaler was fitted without feature names\n",
      "  warnings.warn(\n",
      "/home/q674749/.local/lib/python3.8/site-packages/sklearn/base.py:458: UserWarning: X has feature names, but StandardScaler was fitted without feature names\n",
      "  warnings.warn(\n",
      "Standardizing Files:  99%|█████████▊| 151/153 [06:42<00:04,  2.40s/it]"
     ]
    },
    {
     "name": "stdout",
     "output_type": "stream",
     "text": [
      "✅ [SAVED] Standardized File: /home/q674749/workspace/thesis_work/rat25-15.4.1/perception/standardized_data/combined_127.p\n"
     ]
    },
    {
     "name": "stderr",
     "output_type": "stream",
     "text": [
      "/home/q674749/.local/lib/python3.8/site-packages/sklearn/base.py:458: UserWarning: X has feature names, but StandardScaler was fitted without feature names\n",
      "  warnings.warn(\n",
      "/home/q674749/.local/lib/python3.8/site-packages/sklearn/base.py:458: UserWarning: X has feature names, but StandardScaler was fitted without feature names\n",
      "  warnings.warn(\n",
      "/home/q674749/.local/lib/python3.8/site-packages/sklearn/base.py:458: UserWarning: X has feature names, but StandardScaler was fitted without feature names\n",
      "  warnings.warn(\n",
      "Standardizing Files:  99%|█████████▉| 152/153 [06:43<00:01,  1.86s/it]"
     ]
    },
    {
     "name": "stdout",
     "output_type": "stream",
     "text": [
      "✅ [SAVED] Standardized File: /home/q674749/workspace/thesis_work/rat25-15.4.1/perception/standardized_data/combined_72.p\n"
     ]
    },
    {
     "name": "stderr",
     "output_type": "stream",
     "text": [
      "/home/q674749/.local/lib/python3.8/site-packages/sklearn/base.py:458: UserWarning: X has feature names, but StandardScaler was fitted without feature names\n",
      "  warnings.warn(\n",
      "/home/q674749/.local/lib/python3.8/site-packages/sklearn/base.py:458: UserWarning: X has feature names, but StandardScaler was fitted without feature names\n",
      "  warnings.warn(\n",
      "/home/q674749/.local/lib/python3.8/site-packages/sklearn/base.py:458: UserWarning: X has feature names, but StandardScaler was fitted without feature names\n",
      "  warnings.warn(\n",
      "Standardizing Files: 100%|██████████| 153/153 [06:46<00:00,  2.66s/it]"
     ]
    },
    {
     "name": "stdout",
     "output_type": "stream",
     "text": [
      "✅ [SAVED] Standardized File: /home/q674749/workspace/thesis_work/rat25-15.4.1/perception/standardized_data/combined_142.p\n",
      "\n",
      "🎯 [SUCCESS] Data Standardization Completed for Radar Training!\n"
     ]
    },
    {
     "name": "stderr",
     "output_type": "stream",
     "text": [
      "\n"
     ]
    }
   ],
   "source": [
    "import os\n",
    "import pandas as pd\n",
    "import numpy as np\n",
    "from tqdm import tqdm\n",
    "from sklearn.preprocessing import StandardScaler\n",
    "\n",
    "#  Paths\n",
    "input_folder = r\"/home/q674749/workspace/thesis_work/rat25-15.4.1/perception/final_endgame_data\"\n",
    "output_folder = r\"/home/q674749/workspace/thesis_work/rat25-15.4.1/perception/standardized_data\"\n",
    "os.makedirs(output_folder, exist_ok=True)  # Ensure output folder exists\n",
    "\n",
    "#  Define Features to Standardize\n",
    "feature_columns = [\"rcs\", \"distance\", \"angleAzimuth\", \"angleElevation\", \"radialVelocity\"]\n",
    "scalar_columns = [\"radialVelocityDomainMax\", \"yaw_rate\", \"ego_speed\"]\n",
    "\n",
    "#  Step 1: Collect Global Statistics (Fit StandardScaler)\n",
    "all_values = {col: [] for col in feature_columns + scalar_columns}\n",
    "\n",
    "print(\"\\n [INFO] Collecting global statistics for standardization...\")\n",
    "for filename in tqdm(os.listdir(input_folder), desc=\"Processing Files\"):\n",
    "    if filename.endswith(\".p\"):\n",
    "        file_path = os.path.join(input_folder, filename)\n",
    "        df = pd.read_pickle(file_path)\n",
    "\n",
    "        #  Extract values for global scaling (flatten lists)\n",
    "        for col in feature_columns:\n",
    "            for values in df[col]:  \n",
    "                all_values[col].extend(values)\n",
    "\n",
    "        for col in scalar_columns:\n",
    "            all_values[col].extend(df[col].values)  # Scalars are already single values per row\n",
    "\n",
    "#  Fit StandardScaler\n",
    "scalers = {}\n",
    "for col in feature_columns + scalar_columns:\n",
    "    scaler = StandardScaler()\n",
    "    scalers[col] = scaler.fit(np.array(all_values[col]).reshape(-1, 1))  # Fit on all collected values\n",
    "\n",
    "print(\"\\n [INFO] Standardization parameters computed!\")\n",
    "\n",
    "#  Step 2: Apply Standardization\n",
    "print(\"\\n [INFO] Standardizing and transforming all radar data...\")\n",
    "for filename in tqdm(os.listdir(input_folder), desc=\"Standardizing Files\"):\n",
    "    if filename.endswith(\".p\"):\n",
    "        file_path = os.path.join(input_folder, filename)\n",
    "        df = pd.read_pickle(file_path)\n",
    "\n",
    "        #  Apply Standardization to Each List-Based Column\n",
    "        for col in feature_columns:\n",
    "            df[col] = df[col].apply(lambda x: scalers[col].transform(np.array(x).reshape(-1, 1)).flatten().tolist() if isinstance(x, list) else x)\n",
    "\n",
    "        #  Apply Standardization to Scalar Columns\n",
    "        for col in scalar_columns:\n",
    "            df[col] = scalers[col].transform(df[[col]])  # Scalars are already single values per row\n",
    "\n",
    "        #  Save the Processed Data\n",
    "        output_file_path = os.path.join(output_folder, filename)\n",
    "        df.to_pickle(output_file_path)\n",
    "        print(f\" [SAVED] Standardized File: {output_file_path}\")\n",
    "\n",
    "print(\"\\n [SUCCESS] Data Standardization Completed for Radar Training!\")"
   ]
  },
  {
   "cell_type": "code",
   "execution_count": null,
   "metadata": {},
   "outputs": [
    {
     "name": "stdout",
     "output_type": "stream",
     "text": [
      "\n",
      "🚀 [INFO] Finding the max number of detections per frame...\n"
     ]
    },
    {
     "name": "stderr",
     "output_type": "stream",
     "text": [
      "Scanning Files: 100%|██████████| 153/153 [01:17<00:00,  1.97it/s]\n"
     ]
    },
    {
     "name": "stdout",
     "output_type": "stream",
     "text": [
      "\n",
      "✅ [INFO] Maximum detections in any frame: 995\n",
      "\n",
      "🚀 [INFO] Applying padding and saving processed files...\n"
     ]
    },
    {
     "name": "stderr",
     "output_type": "stream",
     "text": [
      "Padding Files:   1%|          | 1/153 [00:01<04:45,  1.88s/it]"
     ]
    },
    {
     "name": "stdout",
     "output_type": "stream",
     "text": [
      "✅ [SAVED] Padded File: /home/q674749/workspace/thesis_work/rat25-15.4.1/perception/padded_data/combined_194.p\n"
     ]
    },
    {
     "name": "stderr",
     "output_type": "stream",
     "text": [
      "Padding Files:   1%|▏         | 2/153 [00:03<04:39,  1.85s/it]"
     ]
    },
    {
     "name": "stdout",
     "output_type": "stream",
     "text": [
      "✅ [SAVED] Padded File: /home/q674749/workspace/thesis_work/rat25-15.4.1/perception/padded_data/combined_218.p\n"
     ]
    },
    {
     "name": "stderr",
     "output_type": "stream",
     "text": [
      "Padding Files:   2%|▏         | 3/153 [00:04<02:52,  1.15s/it]"
     ]
    },
    {
     "name": "stdout",
     "output_type": "stream",
     "text": [
      "✅ [SAVED] Padded File: /home/q674749/workspace/thesis_work/rat25-15.4.1/perception/padded_data/combined_62.p\n"
     ]
    },
    {
     "name": "stderr",
     "output_type": "stream",
     "text": [
      "Padding Files:   3%|▎         | 4/153 [00:05<03:23,  1.37s/it]"
     ]
    },
    {
     "name": "stdout",
     "output_type": "stream",
     "text": [
      "✅ [SAVED] Padded File: /home/q674749/workspace/thesis_work/rat25-15.4.1/perception/padded_data/combined_197.p\n"
     ]
    },
    {
     "name": "stderr",
     "output_type": "stream",
     "text": [
      "Padding Files:   3%|▎         | 5/153 [00:06<02:47,  1.13s/it]"
     ]
    },
    {
     "name": "stdout",
     "output_type": "stream",
     "text": [
      "✅ [SAVED] Padded File: /home/q674749/workspace/thesis_work/rat25-15.4.1/perception/padded_data/combined_157.p\n"
     ]
    },
    {
     "name": "stderr",
     "output_type": "stream",
     "text": [
      "Padding Files:   4%|▍         | 6/153 [00:08<03:11,  1.30s/it]"
     ]
    },
    {
     "name": "stdout",
     "output_type": "stream",
     "text": [
      "✅ [SAVED] Padded File: /home/q674749/workspace/thesis_work/rat25-15.4.1/perception/padded_data/combined_141.p\n"
     ]
    },
    {
     "name": "stderr",
     "output_type": "stream",
     "text": [
      "Padding Files:   5%|▍         | 7/153 [00:08<02:41,  1.11s/it]"
     ]
    },
    {
     "name": "stdout",
     "output_type": "stream",
     "text": [
      "✅ [SAVED] Padded File: /home/q674749/workspace/thesis_work/rat25-15.4.1/perception/padded_data/combined_148.p\n"
     ]
    },
    {
     "name": "stderr",
     "output_type": "stream",
     "text": [
      "Padding Files:   5%|▌         | 8/153 [00:09<02:02,  1.18it/s]"
     ]
    },
    {
     "name": "stdout",
     "output_type": "stream",
     "text": [
      "✅ [SAVED] Padded File: /home/q674749/workspace/thesis_work/rat25-15.4.1/perception/padded_data/combined_80.p\n"
     ]
    },
    {
     "name": "stderr",
     "output_type": "stream",
     "text": [
      "Padding Files:   6%|▌         | 9/153 [00:09<01:36,  1.50it/s]"
     ]
    },
    {
     "name": "stdout",
     "output_type": "stream",
     "text": [
      "✅ [SAVED] Padded File: /home/q674749/workspace/thesis_work/rat25-15.4.1/perception/padded_data/combined_55.p\n"
     ]
    },
    {
     "name": "stderr",
     "output_type": "stream",
     "text": [
      "Padding Files:   7%|▋         | 10/153 [00:11<02:25,  1.02s/it]"
     ]
    },
    {
     "name": "stdout",
     "output_type": "stream",
     "text": [
      "✅ [SAVED] Padded File: /home/q674749/workspace/thesis_work/rat25-15.4.1/perception/padded_data/combined_210.p\n"
     ]
    },
    {
     "name": "stderr",
     "output_type": "stream",
     "text": [
      "Padding Files:   7%|▋         | 11/153 [00:11<02:11,  1.08it/s]"
     ]
    },
    {
     "name": "stdout",
     "output_type": "stream",
     "text": [
      "✅ [SAVED] Padded File: /home/q674749/workspace/thesis_work/rat25-15.4.1/perception/padded_data/combined_165.p\n"
     ]
    },
    {
     "name": "stderr",
     "output_type": "stream",
     "text": [
      "Padding Files:   8%|▊         | 12/153 [00:13<02:40,  1.14s/it]"
     ]
    },
    {
     "name": "stdout",
     "output_type": "stream",
     "text": [
      "✅ [SAVED] Padded File: /home/q674749/workspace/thesis_work/rat25-15.4.1/perception/padded_data/combined_138.p\n"
     ]
    },
    {
     "name": "stderr",
     "output_type": "stream",
     "text": [
      "Padding Files:   8%|▊         | 13/153 [00:15<03:08,  1.34s/it]"
     ]
    },
    {
     "name": "stdout",
     "output_type": "stream",
     "text": [
      "✅ [SAVED] Padded File: /home/q674749/workspace/thesis_work/rat25-15.4.1/perception/padded_data/combined_227.p\n"
     ]
    },
    {
     "name": "stderr",
     "output_type": "stream",
     "text": [
      "Padding Files:   9%|▉         | 14/153 [00:17<03:21,  1.45s/it]"
     ]
    },
    {
     "name": "stdout",
     "output_type": "stream",
     "text": [
      "✅ [SAVED] Padded File: /home/q674749/workspace/thesis_work/rat25-15.4.1/perception/padded_data/combined_144.p\n"
     ]
    },
    {
     "name": "stderr",
     "output_type": "stream",
     "text": [
      "Padding Files:  10%|▉         | 15/153 [00:17<02:49,  1.23s/it]"
     ]
    },
    {
     "name": "stdout",
     "output_type": "stream",
     "text": [
      "✅ [SAVED] Padded File: /home/q674749/workspace/thesis_work/rat25-15.4.1/perception/padded_data/combined_170.p\n"
     ]
    },
    {
     "name": "stderr",
     "output_type": "stream",
     "text": [
      "Padding Files:  10%|█         | 16/153 [00:18<02:09,  1.06it/s]"
     ]
    },
    {
     "name": "stdout",
     "output_type": "stream",
     "text": [
      "✅ [SAVED] Padded File: /home/q674749/workspace/thesis_work/rat25-15.4.1/perception/padded_data/combined_69.p\n"
     ]
    },
    {
     "name": "stderr",
     "output_type": "stream",
     "text": [
      "Padding Files:  11%|█         | 17/153 [00:19<02:35,  1.15s/it]"
     ]
    },
    {
     "name": "stdout",
     "output_type": "stream",
     "text": [
      "✅ [SAVED] Padded File: /home/q674749/workspace/thesis_work/rat25-15.4.1/perception/padded_data/combined_134.p\n"
     ]
    },
    {
     "name": "stderr",
     "output_type": "stream",
     "text": [
      "Padding Files:  12%|█▏        | 18/153 [00:21<03:02,  1.35s/it]"
     ]
    },
    {
     "name": "stdout",
     "output_type": "stream",
     "text": [
      "✅ [SAVED] Padded File: /home/q674749/workspace/thesis_work/rat25-15.4.1/perception/padded_data/combined_229.p\n"
     ]
    },
    {
     "name": "stderr",
     "output_type": "stream",
     "text": [
      "Padding Files:  12%|█▏        | 19/153 [00:22<02:35,  1.16s/it]"
     ]
    },
    {
     "name": "stdout",
     "output_type": "stream",
     "text": [
      "✅ [SAVED] Padded File: /home/q674749/workspace/thesis_work/rat25-15.4.1/perception/padded_data/combined_172.p\n"
     ]
    },
    {
     "name": "stderr",
     "output_type": "stream",
     "text": [
      "Padding Files:  13%|█▎        | 20/153 [00:22<02:15,  1.02s/it]"
     ]
    },
    {
     "name": "stdout",
     "output_type": "stream",
     "text": [
      "✅ [SAVED] Padded File: /home/q674749/workspace/thesis_work/rat25-15.4.1/perception/padded_data/combined_161.p\n"
     ]
    },
    {
     "name": "stderr",
     "output_type": "stream",
     "text": [
      "Padding Files:  14%|█▎        | 21/153 [00:24<02:35,  1.18s/it]"
     ]
    },
    {
     "name": "stdout",
     "output_type": "stream",
     "text": [
      "✅ [SAVED] Padded File: /home/q674749/workspace/thesis_work/rat25-15.4.1/perception/padded_data/combined_118.p\n"
     ]
    },
    {
     "name": "stderr",
     "output_type": "stream",
     "text": [
      "Padding Files:  14%|█▍        | 22/153 [00:26<02:53,  1.33s/it]"
     ]
    },
    {
     "name": "stdout",
     "output_type": "stream",
     "text": [
      "✅ [SAVED] Padded File: /home/q674749/workspace/thesis_work/rat25-15.4.1/perception/padded_data/combined_119.p\n"
     ]
    },
    {
     "name": "stderr",
     "output_type": "stream",
     "text": [
      "Padding Files:  15%|█▌        | 23/153 [00:27<03:08,  1.45s/it]"
     ]
    },
    {
     "name": "stdout",
     "output_type": "stream",
     "text": [
      "✅ [SAVED] Padded File: /home/q674749/workspace/thesis_work/rat25-15.4.1/perception/padded_data/combined_226.p\n"
     ]
    },
    {
     "name": "stderr",
     "output_type": "stream",
     "text": [
      "Padding Files:  16%|█▌        | 24/153 [00:29<03:15,  1.51s/it]"
     ]
    },
    {
     "name": "stdout",
     "output_type": "stream",
     "text": [
      "✅ [SAVED] Padded File: /home/q674749/workspace/thesis_work/rat25-15.4.1/perception/padded_data/combined_121.p\n"
     ]
    },
    {
     "name": "stderr",
     "output_type": "stream",
     "text": [
      "Padding Files:  16%|█▋        | 25/153 [00:29<02:27,  1.15s/it]"
     ]
    },
    {
     "name": "stdout",
     "output_type": "stream",
     "text": [
      "✅ [SAVED] Padded File: /home/q674749/workspace/thesis_work/rat25-15.4.1/perception/padded_data/combined_81.p\n"
     ]
    },
    {
     "name": "stderr",
     "output_type": "stream",
     "text": [
      "Padding Files:  17%|█▋        | 26/153 [00:43<10:37,  5.02s/it]"
     ]
    },
    {
     "name": "stdout",
     "output_type": "stream",
     "text": [
      "✅ [SAVED] Padded File: /home/q674749/workspace/thesis_work/rat25-15.4.1/perception/padded_data/combined_223.p\n"
     ]
    },
    {
     "name": "stderr",
     "output_type": "stream",
     "text": [
      "Padding Files:  18%|█▊        | 27/153 [00:45<08:26,  4.02s/it]"
     ]
    },
    {
     "name": "stdout",
     "output_type": "stream",
     "text": [
      "✅ [SAVED] Padded File: /home/q674749/workspace/thesis_work/rat25-15.4.1/perception/padded_data/combined_120.p\n"
     ]
    },
    {
     "name": "stderr",
     "output_type": "stream",
     "text": [
      "Padding Files:  18%|█▊        | 28/153 [00:47<07:00,  3.37s/it]"
     ]
    },
    {
     "name": "stdout",
     "output_type": "stream",
     "text": [
      "✅ [SAVED] Padded File: /home/q674749/workspace/thesis_work/rat25-15.4.1/perception/padded_data/combined_212.p\n"
     ]
    },
    {
     "name": "stderr",
     "output_type": "stream",
     "text": [
      "Padding Files:  19%|█▉        | 29/153 [00:47<05:03,  2.45s/it]"
     ]
    },
    {
     "name": "stdout",
     "output_type": "stream",
     "text": [
      "✅ [SAVED] Padded File: /home/q674749/workspace/thesis_work/rat25-15.4.1/perception/padded_data/combined_76.p\n"
     ]
    },
    {
     "name": "stderr",
     "output_type": "stream",
     "text": [
      "Padding Files:  20%|█▉        | 30/153 [00:48<03:56,  1.92s/it]"
     ]
    },
    {
     "name": "stdout",
     "output_type": "stream",
     "text": [
      "✅ [SAVED] Padded File: /home/q674749/workspace/thesis_work/rat25-15.4.1/perception/padded_data/combined_183.p\n"
     ]
    },
    {
     "name": "stderr",
     "output_type": "stream",
     "text": [
      "Padding Files:  20%|██        | 31/153 [00:50<03:49,  1.88s/it]"
     ]
    },
    {
     "name": "stdout",
     "output_type": "stream",
     "text": [
      "✅ [SAVED] Padded File: /home/q674749/workspace/thesis_work/rat25-15.4.1/perception/padded_data/combined_207.p\n"
     ]
    },
    {
     "name": "stderr",
     "output_type": "stream",
     "text": [
      "Padding Files:  21%|██        | 32/153 [00:50<02:50,  1.41s/it]"
     ]
    },
    {
     "name": "stdout",
     "output_type": "stream",
     "text": [
      "✅ [SAVED] Padded File: /home/q674749/workspace/thesis_work/rat25-15.4.1/perception/padded_data/combined_64.p\n"
     ]
    },
    {
     "name": "stderr",
     "output_type": "stream",
     "text": [
      "Padding Files:  22%|██▏       | 33/153 [00:51<02:22,  1.19s/it]"
     ]
    },
    {
     "name": "stdout",
     "output_type": "stream",
     "text": [
      "✅ [SAVED] Padded File: /home/q674749/workspace/thesis_work/rat25-15.4.1/perception/padded_data/combined_166.p\n"
     ]
    },
    {
     "name": "stderr",
     "output_type": "stream",
     "text": [
      "Padding Files:  22%|██▏       | 34/153 [00:51<02:03,  1.04s/it]"
     ]
    },
    {
     "name": "stdout",
     "output_type": "stream",
     "text": [
      "✅ [SAVED] Padded File: /home/q674749/workspace/thesis_work/rat25-15.4.1/perception/padded_data/combined_176.p\n"
     ]
    },
    {
     "name": "stderr",
     "output_type": "stream",
     "text": [
      "Padding Files:  23%|██▎       | 35/153 [00:53<02:29,  1.27s/it]"
     ]
    },
    {
     "name": "stdout",
     "output_type": "stream",
     "text": [
      "✅ [SAVED] Padded File: /home/q674749/workspace/thesis_work/rat25-15.4.1/perception/padded_data/combined_208.p\n"
     ]
    },
    {
     "name": "stderr",
     "output_type": "stream",
     "text": [
      "Padding Files:  24%|██▎       | 36/153 [00:53<01:54,  1.02it/s]"
     ]
    },
    {
     "name": "stdout",
     "output_type": "stream",
     "text": [
      "✅ [SAVED] Padded File: /home/q674749/workspace/thesis_work/rat25-15.4.1/perception/padded_data/combined_56.p\n"
     ]
    },
    {
     "name": "stderr",
     "output_type": "stream",
     "text": [
      "Padding Files:  24%|██▍       | 37/153 [00:55<02:21,  1.22s/it]"
     ]
    },
    {
     "name": "stdout",
     "output_type": "stream",
     "text": [
      "✅ [SAVED] Padded File: /home/q674749/workspace/thesis_work/rat25-15.4.1/perception/padded_data/combined_195.p\n"
     ]
    },
    {
     "name": "stderr",
     "output_type": "stream",
     "text": [
      "Padding Files:  25%|██▍       | 38/153 [00:56<02:03,  1.07s/it]"
     ]
    },
    {
     "name": "stdout",
     "output_type": "stream",
     "text": [
      "✅ [SAVED] Padded File: /home/q674749/workspace/thesis_work/rat25-15.4.1/perception/padded_data/combined_156.p\n"
     ]
    },
    {
     "name": "stderr",
     "output_type": "stream",
     "text": [
      "Padding Files:  25%|██▌       | 39/153 [00:57<01:49,  1.04it/s]"
     ]
    },
    {
     "name": "stdout",
     "output_type": "stream",
     "text": [
      "✅ [SAVED] Padded File: /home/q674749/workspace/thesis_work/rat25-15.4.1/perception/padded_data/combined_153.p\n"
     ]
    },
    {
     "name": "stderr",
     "output_type": "stream",
     "text": [
      "Padding Files:  26%|██▌       | 40/153 [00:58<02:16,  1.21s/it]"
     ]
    },
    {
     "name": "stdout",
     "output_type": "stream",
     "text": [
      "✅ [SAVED] Padded File: /home/q674749/workspace/thesis_work/rat25-15.4.1/perception/padded_data/combined_184.p\n"
     ]
    },
    {
     "name": "stderr",
     "output_type": "stream",
     "text": [
      "Padding Files:  27%|██▋       | 41/153 [01:00<02:36,  1.40s/it]"
     ]
    },
    {
     "name": "stdout",
     "output_type": "stream",
     "text": [
      "✅ [SAVED] Padded File: /home/q674749/workspace/thesis_work/rat25-15.4.1/perception/padded_data/combined_231.p\n"
     ]
    },
    {
     "name": "stderr",
     "output_type": "stream",
     "text": [
      "Padding Files:  27%|██▋       | 42/153 [01:02<02:49,  1.53s/it]"
     ]
    },
    {
     "name": "stdout",
     "output_type": "stream",
     "text": [
      "✅ [SAVED] Padded File: /home/q674749/workspace/thesis_work/rat25-15.4.1/perception/padded_data/combined_230.p\n"
     ]
    },
    {
     "name": "stderr",
     "output_type": "stream",
     "text": [
      "Padding Files:  28%|██▊       | 43/153 [01:03<02:21,  1.29s/it]"
     ]
    },
    {
     "name": "stdout",
     "output_type": "stream",
     "text": [
      "✅ [SAVED] Padded File: /home/q674749/workspace/thesis_work/rat25-15.4.1/perception/padded_data/combined_154.p\n"
     ]
    },
    {
     "name": "stderr",
     "output_type": "stream",
     "text": [
      "Padding Files:  29%|██▉       | 44/153 [01:03<02:00,  1.11s/it]"
     ]
    },
    {
     "name": "stdout",
     "output_type": "stream",
     "text": [
      "✅ [SAVED] Padded File: /home/q674749/workspace/thesis_work/rat25-15.4.1/perception/padded_data/combined_155.p\n"
     ]
    },
    {
     "name": "stderr",
     "output_type": "stream",
     "text": [
      "Padding Files:  29%|██▉       | 45/153 [01:05<02:16,  1.26s/it]"
     ]
    },
    {
     "name": "stdout",
     "output_type": "stream",
     "text": [
      "✅ [SAVED] Padded File: /home/q674749/workspace/thesis_work/rat25-15.4.1/perception/padded_data/combined_140.p\n"
     ]
    },
    {
     "name": "stderr",
     "output_type": "stream",
     "text": [
      "Padding Files:  30%|███       | 46/153 [01:05<01:44,  1.02it/s]"
     ]
    },
    {
     "name": "stdout",
     "output_type": "stream",
     "text": [
      "✅ [SAVED] Padded File: /home/q674749/workspace/thesis_work/rat25-15.4.1/perception/padded_data/combined_54.p\n"
     ]
    },
    {
     "name": "stderr",
     "output_type": "stream",
     "text": [
      "Padding Files:  31%|███       | 47/153 [01:06<01:34,  1.13it/s]"
     ]
    },
    {
     "name": "stdout",
     "output_type": "stream",
     "text": [
      "✅ [SAVED] Padded File: /home/q674749/workspace/thesis_work/rat25-15.4.1/perception/padded_data/combined_174.p\n"
     ]
    },
    {
     "name": "stderr",
     "output_type": "stream",
     "text": [
      "Padding Files:  31%|███▏      | 48/153 [01:07<01:27,  1.21it/s]"
     ]
    },
    {
     "name": "stdout",
     "output_type": "stream",
     "text": [
      "✅ [SAVED] Padded File: /home/q674749/workspace/thesis_work/rat25-15.4.1/perception/padded_data/combined_179.p\n"
     ]
    },
    {
     "name": "stderr",
     "output_type": "stream",
     "text": [
      "Padding Files:  32%|███▏      | 49/153 [01:08<01:51,  1.07s/it]"
     ]
    },
    {
     "name": "stdout",
     "output_type": "stream",
     "text": [
      "✅ [SAVED] Padded File: /home/q674749/workspace/thesis_work/rat25-15.4.1/perception/padded_data/combined_116.p\n"
     ]
    },
    {
     "name": "stderr",
     "output_type": "stream",
     "text": [
      "Padding Files:  33%|███▎      | 50/153 [01:09<01:39,  1.04it/s]"
     ]
    },
    {
     "name": "stdout",
     "output_type": "stream",
     "text": [
      "✅ [SAVED] Padded File: /home/q674749/workspace/thesis_work/rat25-15.4.1/perception/padded_data/combined_173.p\n"
     ]
    },
    {
     "name": "stderr",
     "output_type": "stream",
     "text": [
      "Padding Files:  33%|███▎      | 51/153 [01:11<01:58,  1.16s/it]"
     ]
    },
    {
     "name": "stdout",
     "output_type": "stream",
     "text": [
      "✅ [SAVED] Padded File: /home/q674749/workspace/thesis_work/rat25-15.4.1/perception/padded_data/combined_111.p\n"
     ]
    },
    {
     "name": "stderr",
     "output_type": "stream",
     "text": [
      "Padding Files:  34%|███▍      | 52/153 [01:11<01:31,  1.10it/s]"
     ]
    },
    {
     "name": "stdout",
     "output_type": "stream",
     "text": [
      "✅ [SAVED] Padded File: /home/q674749/workspace/thesis_work/rat25-15.4.1/perception/padded_data/combined_58.p\n"
     ]
    },
    {
     "name": "stderr",
     "output_type": "stream",
     "text": [
      "Padding Files:  35%|███▍      | 53/153 [01:13<01:56,  1.17s/it]"
     ]
    },
    {
     "name": "stdout",
     "output_type": "stream",
     "text": [
      "✅ [SAVED] Padded File: /home/q674749/workspace/thesis_work/rat25-15.4.1/perception/padded_data/combined_202.p\n"
     ]
    },
    {
     "name": "stderr",
     "output_type": "stream",
     "text": [
      "Padding Files:  35%|███▌      | 54/153 [01:13<01:30,  1.10it/s]"
     ]
    },
    {
     "name": "stdout",
     "output_type": "stream",
     "text": [
      "✅ [SAVED] Padded File: /home/q674749/workspace/thesis_work/rat25-15.4.1/perception/padded_data/combined_74.p\n"
     ]
    },
    {
     "name": "stderr",
     "output_type": "stream",
     "text": [
      "Padding Files:  36%|███▌      | 55/153 [01:15<01:50,  1.12s/it]"
     ]
    },
    {
     "name": "stdout",
     "output_type": "stream",
     "text": [
      "✅ [SAVED] Padded File: /home/q674749/workspace/thesis_work/rat25-15.4.1/perception/padded_data/combined_124.p\n"
     ]
    },
    {
     "name": "stderr",
     "output_type": "stream",
     "text": [
      "Padding Files:  37%|███▋      | 56/153 [01:16<01:37,  1.00s/it]"
     ]
    },
    {
     "name": "stdout",
     "output_type": "stream",
     "text": [
      "✅ [SAVED] Padded File: /home/q674749/workspace/thesis_work/rat25-15.4.1/perception/padded_data/combined_151.p\n"
     ]
    },
    {
     "name": "stderr",
     "output_type": "stream",
     "text": [
      "Padding Files:  37%|███▋      | 57/153 [01:17<01:54,  1.19s/it]"
     ]
    },
    {
     "name": "stdout",
     "output_type": "stream",
     "text": [
      "✅ [SAVED] Padded File: /home/q674749/workspace/thesis_work/rat25-15.4.1/perception/padded_data/combined_113.p\n"
     ]
    },
    {
     "name": "stderr",
     "output_type": "stream",
     "text": [
      "Padding Files:  38%|███▊      | 58/153 [01:19<02:06,  1.33s/it]"
     ]
    },
    {
     "name": "stdout",
     "output_type": "stream",
     "text": [
      "✅ [SAVED] Padded File: /home/q674749/workspace/thesis_work/rat25-15.4.1/perception/padded_data/combined_136.p\n"
     ]
    },
    {
     "name": "stderr",
     "output_type": "stream",
     "text": [
      "Padding Files:  39%|███▊      | 59/153 [01:19<01:36,  1.02s/it]"
     ]
    },
    {
     "name": "stdout",
     "output_type": "stream",
     "text": [
      "✅ [SAVED] Padded File: /home/q674749/workspace/thesis_work/rat25-15.4.1/perception/padded_data/combined_70.p\n"
     ]
    },
    {
     "name": "stderr",
     "output_type": "stream",
     "text": [
      "Padding Files:  39%|███▉      | 60/153 [01:19<01:14,  1.25it/s]"
     ]
    },
    {
     "name": "stdout",
     "output_type": "stream",
     "text": [
      "✅ [SAVED] Padded File: /home/q674749/workspace/thesis_work/rat25-15.4.1/perception/padded_data/combined_82.p\n"
     ]
    },
    {
     "name": "stderr",
     "output_type": "stream",
     "text": [
      "Padding Files:  40%|███▉      | 61/153 [01:20<00:58,  1.56it/s]"
     ]
    },
    {
     "name": "stdout",
     "output_type": "stream",
     "text": [
      "✅ [SAVED] Padded File: /home/q674749/workspace/thesis_work/rat25-15.4.1/perception/padded_data/combined_65.p\n"
     ]
    },
    {
     "name": "stderr",
     "output_type": "stream",
     "text": [
      "Padding Files:  41%|████      | 62/153 [01:20<00:48,  1.88it/s]"
     ]
    },
    {
     "name": "stdout",
     "output_type": "stream",
     "text": [
      "✅ [SAVED] Padded File: /home/q674749/workspace/thesis_work/rat25-15.4.1/perception/padded_data/combined_75.p\n"
     ]
    },
    {
     "name": "stderr",
     "output_type": "stream",
     "text": [
      "Padding Files:  41%|████      | 63/153 [01:22<01:17,  1.17it/s]"
     ]
    },
    {
     "name": "stdout",
     "output_type": "stream",
     "text": [
      "✅ [SAVED] Padded File: /home/q674749/workspace/thesis_work/rat25-15.4.1/perception/padded_data/combined_115.p\n"
     ]
    },
    {
     "name": "stderr",
     "output_type": "stream",
     "text": [
      "Padding Files:  42%|████▏     | 64/153 [01:22<01:01,  1.44it/s]"
     ]
    },
    {
     "name": "stdout",
     "output_type": "stream",
     "text": [
      "✅ [SAVED] Padded File: /home/q674749/workspace/thesis_work/rat25-15.4.1/perception/padded_data/combined_57.p\n"
     ]
    },
    {
     "name": "stderr",
     "output_type": "stream",
     "text": [
      "Padding Files:  42%|████▏     | 65/153 [01:22<00:49,  1.76it/s]"
     ]
    },
    {
     "name": "stdout",
     "output_type": "stream",
     "text": [
      "✅ [SAVED] Padded File: /home/q674749/workspace/thesis_work/rat25-15.4.1/perception/padded_data/combined_60.p\n"
     ]
    },
    {
     "name": "stderr",
     "output_type": "stream",
     "text": [
      "Padding Files:  43%|████▎     | 66/153 [01:23<00:52,  1.66it/s]"
     ]
    },
    {
     "name": "stdout",
     "output_type": "stream",
     "text": [
      "✅ [SAVED] Padded File: /home/q674749/workspace/thesis_work/rat25-15.4.1/perception/padded_data/combined_159.p\n"
     ]
    },
    {
     "name": "stderr",
     "output_type": "stream",
     "text": [
      "Padding Files:  44%|████▍     | 67/153 [01:25<01:22,  1.04it/s]"
     ]
    },
    {
     "name": "stdout",
     "output_type": "stream",
     "text": [
      "✅ [SAVED] Padded File: /home/q674749/workspace/thesis_work/rat25-15.4.1/perception/padded_data/combined_204.p\n"
     ]
    },
    {
     "name": "stderr",
     "output_type": "stream",
     "text": [
      "Padding Files:  44%|████▍     | 68/153 [01:25<01:05,  1.31it/s]"
     ]
    },
    {
     "name": "stdout",
     "output_type": "stream",
     "text": [
      "✅ [SAVED] Padded File: /home/q674749/workspace/thesis_work/rat25-15.4.1/perception/padded_data/combined_61.p\n"
     ]
    },
    {
     "name": "stderr",
     "output_type": "stream",
     "text": [
      "Padding Files:  45%|████▌     | 69/153 [01:27<01:25,  1.02s/it]"
     ]
    },
    {
     "name": "stdout",
     "output_type": "stream",
     "text": [
      "✅ [SAVED] Padded File: /home/q674749/workspace/thesis_work/rat25-15.4.1/perception/padded_data/combined_130.p\n"
     ]
    },
    {
     "name": "stderr",
     "output_type": "stream",
     "text": [
      "Padding Files:  46%|████▌     | 70/153 [01:27<01:06,  1.24it/s]"
     ]
    },
    {
     "name": "stdout",
     "output_type": "stream",
     "text": [
      "✅ [SAVED] Padded File: /home/q674749/workspace/thesis_work/rat25-15.4.1/perception/padded_data/combined_59.p\n"
     ]
    },
    {
     "name": "stderr",
     "output_type": "stream",
     "text": [
      "Padding Files:  46%|████▋     | 71/153 [01:28<01:26,  1.05s/it]"
     ]
    },
    {
     "name": "stdout",
     "output_type": "stream",
     "text": [
      "✅ [SAVED] Padded File: /home/q674749/workspace/thesis_work/rat25-15.4.1/perception/padded_data/combined_126.p\n"
     ]
    },
    {
     "name": "stderr",
     "output_type": "stream",
     "text": [
      "Padding Files:  47%|████▋     | 72/153 [01:29<01:17,  1.05it/s]"
     ]
    },
    {
     "name": "stdout",
     "output_type": "stream",
     "text": [
      "✅ [SAVED] Padded File: /home/q674749/workspace/thesis_work/rat25-15.4.1/perception/padded_data/combined_175.p\n"
     ]
    },
    {
     "name": "stderr",
     "output_type": "stream",
     "text": [
      "Padding Files:  48%|████▊     | 73/153 [01:30<01:09,  1.16it/s]"
     ]
    },
    {
     "name": "stdout",
     "output_type": "stream",
     "text": [
      "✅ [SAVED] Padded File: /home/q674749/workspace/thesis_work/rat25-15.4.1/perception/padded_data/combined_163.p\n"
     ]
    },
    {
     "name": "stderr",
     "output_type": "stream",
     "text": [
      "Padding Files:  48%|████▊     | 74/153 [01:30<00:54,  1.45it/s]"
     ]
    },
    {
     "name": "stdout",
     "output_type": "stream",
     "text": [
      "✅ [SAVED] Padded File: /home/q674749/workspace/thesis_work/rat25-15.4.1/perception/padded_data/combined_63.p\n"
     ]
    },
    {
     "name": "stderr",
     "output_type": "stream",
     "text": [
      "Padding Files:  49%|████▉     | 75/153 [01:32<01:19,  1.02s/it]"
     ]
    },
    {
     "name": "stdout",
     "output_type": "stream",
     "text": [
      "✅ [SAVED] Padded File: /home/q674749/workspace/thesis_work/rat25-15.4.1/perception/padded_data/combined_209.p\n"
     ]
    },
    {
     "name": "stderr",
     "output_type": "stream",
     "text": [
      "Padding Files:  50%|████▉     | 76/153 [01:34<01:37,  1.26s/it]"
     ]
    },
    {
     "name": "stdout",
     "output_type": "stream",
     "text": [
      "✅ [SAVED] Padded File: /home/q674749/workspace/thesis_work/rat25-15.4.1/perception/padded_data/combined_225.p\n"
     ]
    },
    {
     "name": "stderr",
     "output_type": "stream",
     "text": [
      "Padding Files:  50%|█████     | 77/153 [01:50<07:09,  5.65s/it]"
     ]
    },
    {
     "name": "stdout",
     "output_type": "stream",
     "text": [
      "✅ [SAVED] Padded File: /home/q674749/workspace/thesis_work/rat25-15.4.1/perception/padded_data/combined_128.p\n"
     ]
    },
    {
     "name": "stderr",
     "output_type": "stream",
     "text": [
      "Padding Files:  51%|█████     | 78/153 [01:51<05:36,  4.48s/it]"
     ]
    },
    {
     "name": "stdout",
     "output_type": "stream",
     "text": [
      "✅ [SAVED] Padded File: /home/q674749/workspace/thesis_work/rat25-15.4.1/perception/padded_data/combined_228.p\n"
     ]
    },
    {
     "name": "stderr",
     "output_type": "stream",
     "text": [
      "Padding Files:  52%|█████▏    | 79/153 [01:53<04:29,  3.64s/it]"
     ]
    },
    {
     "name": "stdout",
     "output_type": "stream",
     "text": [
      "✅ [SAVED] Padded File: /home/q674749/workspace/thesis_work/rat25-15.4.1/perception/padded_data/combined_131.p\n"
     ]
    },
    {
     "name": "stderr",
     "output_type": "stream",
     "text": [
      "Padding Files:  52%|█████▏    | 80/153 [01:55<03:40,  3.03s/it]"
     ]
    },
    {
     "name": "stdout",
     "output_type": "stream",
     "text": [
      "✅ [SAVED] Padded File: /home/q674749/workspace/thesis_work/rat25-15.4.1/perception/padded_data/combined_123.p\n"
     ]
    },
    {
     "name": "stderr",
     "output_type": "stream",
     "text": [
      "Padding Files:  53%|█████▎    | 81/153 [01:56<03:11,  2.66s/it]"
     ]
    },
    {
     "name": "stdout",
     "output_type": "stream",
     "text": [
      "✅ [SAVED] Padded File: /home/q674749/workspace/thesis_work/rat25-15.4.1/perception/padded_data/combined_188.p\n"
     ]
    },
    {
     "name": "stderr",
     "output_type": "stream",
     "text": [
      "Padding Files:  54%|█████▎    | 82/153 [01:58<02:51,  2.42s/it]"
     ]
    },
    {
     "name": "stdout",
     "output_type": "stream",
     "text": [
      "✅ [SAVED] Padded File: /home/q674749/workspace/thesis_work/rat25-15.4.1/perception/padded_data/combined_222.p\n"
     ]
    },
    {
     "name": "stderr",
     "output_type": "stream",
     "text": [
      "Padding Files:  54%|█████▍    | 83/153 [02:00<02:36,  2.24s/it]"
     ]
    },
    {
     "name": "stdout",
     "output_type": "stream",
     "text": [
      "✅ [SAVED] Padded File: /home/q674749/workspace/thesis_work/rat25-15.4.1/perception/padded_data/combined_206.p\n"
     ]
    },
    {
     "name": "stderr",
     "output_type": "stream",
     "text": [
      "Padding Files:  55%|█████▍    | 84/153 [02:00<01:54,  1.66s/it]"
     ]
    },
    {
     "name": "stdout",
     "output_type": "stream",
     "text": [
      "✅ [SAVED] Padded File: /home/q674749/workspace/thesis_work/rat25-15.4.1/perception/padded_data/combined_66.p\n"
     ]
    },
    {
     "name": "stderr",
     "output_type": "stream",
     "text": [
      "Padding Files:  56%|█████▌    | 85/153 [02:01<01:32,  1.37s/it]"
     ]
    },
    {
     "name": "stdout",
     "output_type": "stream",
     "text": [
      "✅ [SAVED] Padded File: /home/q674749/workspace/thesis_work/rat25-15.4.1/perception/padded_data/combined_149.p\n"
     ]
    },
    {
     "name": "stderr",
     "output_type": "stream",
     "text": [
      "Padding Files:  56%|█████▌    | 86/153 [02:03<01:36,  1.44s/it]"
     ]
    },
    {
     "name": "stdout",
     "output_type": "stream",
     "text": [
      "✅ [SAVED] Padded File: /home/q674749/workspace/thesis_work/rat25-15.4.1/perception/padded_data/combined_146.p\n"
     ]
    },
    {
     "name": "stderr",
     "output_type": "stream",
     "text": [
      "Padding Files:  57%|█████▋    | 87/153 [02:05<01:42,  1.56s/it]"
     ]
    },
    {
     "name": "stdout",
     "output_type": "stream",
     "text": [
      "✅ [SAVED] Padded File: /home/q674749/workspace/thesis_work/rat25-15.4.1/perception/padded_data/combined_220.p\n"
     ]
    },
    {
     "name": "stderr",
     "output_type": "stream",
     "text": [
      "Padding Files:  58%|█████▊    | 88/153 [02:05<01:16,  1.18s/it]"
     ]
    },
    {
     "name": "stdout",
     "output_type": "stream",
     "text": [
      "✅ [SAVED] Padded File: /home/q674749/workspace/thesis_work/rat25-15.4.1/perception/padded_data/combined_77.p\n"
     ]
    },
    {
     "name": "stderr",
     "output_type": "stream",
     "text": [
      "Padding Files:  58%|█████▊    | 89/153 [02:07<01:27,  1.37s/it]"
     ]
    },
    {
     "name": "stdout",
     "output_type": "stream",
     "text": [
      "✅ [SAVED] Padded File: /home/q674749/workspace/thesis_work/rat25-15.4.1/perception/padded_data/combined_193.p\n"
     ]
    },
    {
     "name": "stderr",
     "output_type": "stream",
     "text": [
      "Padding Files:  59%|█████▉    | 90/153 [02:07<01:14,  1.18s/it]"
     ]
    },
    {
     "name": "stdout",
     "output_type": "stream",
     "text": [
      "✅ [SAVED] Padded File: /home/q674749/workspace/thesis_work/rat25-15.4.1/perception/padded_data/combined_178.p\n"
     ]
    },
    {
     "name": "stderr",
     "output_type": "stream",
     "text": [
      "Padding Files:  59%|█████▉    | 91/153 [02:08<00:56,  1.10it/s]"
     ]
    },
    {
     "name": "stdout",
     "output_type": "stream",
     "text": [
      "✅ [SAVED] Padded File: /home/q674749/workspace/thesis_work/rat25-15.4.1/perception/padded_data/combined_84.p\n"
     ]
    },
    {
     "name": "stderr",
     "output_type": "stream",
     "text": [
      "Padding Files:  60%|██████    | 92/153 [02:08<00:43,  1.39it/s]"
     ]
    },
    {
     "name": "stdout",
     "output_type": "stream",
     "text": [
      "✅ [SAVED] Padded File: /home/q674749/workspace/thesis_work/rat25-15.4.1/perception/padded_data/combined_68.p\n"
     ]
    },
    {
     "name": "stderr",
     "output_type": "stream",
     "text": [
      "Padding Files:  61%|██████    | 93/153 [02:10<00:59,  1.00it/s]"
     ]
    },
    {
     "name": "stdout",
     "output_type": "stream",
     "text": [
      "✅ [SAVED] Padded File: /home/q674749/workspace/thesis_work/rat25-15.4.1/perception/padded_data/combined_139.p\n"
     ]
    },
    {
     "name": "stderr",
     "output_type": "stream",
     "text": [
      "Padding Files:  61%|██████▏   | 94/153 [02:11<01:10,  1.20s/it]"
     ]
    },
    {
     "name": "stdout",
     "output_type": "stream",
     "text": [
      "✅ [SAVED] Padded File: /home/q674749/workspace/thesis_work/rat25-15.4.1/perception/padded_data/combined_135.p\n"
     ]
    },
    {
     "name": "stderr",
     "output_type": "stream",
     "text": [
      "Padding Files:  62%|██████▏   | 95/153 [02:13<01:17,  1.34s/it]"
     ]
    },
    {
     "name": "stdout",
     "output_type": "stream",
     "text": [
      "✅ [SAVED] Padded File: /home/q674749/workspace/thesis_work/rat25-15.4.1/perception/padded_data/combined_129.p\n"
     ]
    },
    {
     "name": "stderr",
     "output_type": "stream",
     "text": [
      "Padding Files:  63%|██████▎   | 96/153 [02:14<01:05,  1.16s/it]"
     ]
    },
    {
     "name": "stdout",
     "output_type": "stream",
     "text": [
      "✅ [SAVED] Padded File: /home/q674749/workspace/thesis_work/rat25-15.4.1/perception/padded_data/combined_167.p\n"
     ]
    },
    {
     "name": "stderr",
     "output_type": "stream",
     "text": [
      "Padding Files:  63%|██████▎   | 97/153 [02:16<01:16,  1.36s/it]"
     ]
    },
    {
     "name": "stdout",
     "output_type": "stream",
     "text": [
      "✅ [SAVED] Padded File: /home/q674749/workspace/thesis_work/rat25-15.4.1/perception/padded_data/combined_205.p\n"
     ]
    },
    {
     "name": "stderr",
     "output_type": "stream",
     "text": [
      "Padding Files:  64%|██████▍   | 98/153 [02:17<01:20,  1.46s/it]"
     ]
    },
    {
     "name": "stdout",
     "output_type": "stream",
     "text": [
      "✅ [SAVED] Padded File: /home/q674749/workspace/thesis_work/rat25-15.4.1/perception/padded_data/combined_112.p\n"
     ]
    },
    {
     "name": "stderr",
     "output_type": "stream",
     "text": [
      "Padding Files:  65%|██████▍   | 99/153 [02:19<01:24,  1.57s/it]"
     ]
    },
    {
     "name": "stdout",
     "output_type": "stream",
     "text": [
      "✅ [SAVED] Padded File: /home/q674749/workspace/thesis_work/rat25-15.4.1/perception/padded_data/combined_214.p\n"
     ]
    },
    {
     "name": "stderr",
     "output_type": "stream",
     "text": [
      "Padding Files:  65%|██████▌   | 100/153 [02:21<01:25,  1.60s/it]"
     ]
    },
    {
     "name": "stdout",
     "output_type": "stream",
     "text": [
      "✅ [SAVED] Padded File: /home/q674749/workspace/thesis_work/rat25-15.4.1/perception/padded_data/combined_122.p\n"
     ]
    },
    {
     "name": "stderr",
     "output_type": "stream",
     "text": [
      "Padding Files:  66%|██████▌   | 101/153 [02:22<01:24,  1.63s/it]"
     ]
    },
    {
     "name": "stdout",
     "output_type": "stream",
     "text": [
      "✅ [SAVED] Padded File: /home/q674749/workspace/thesis_work/rat25-15.4.1/perception/padded_data/combined_132.p\n"
     ]
    },
    {
     "name": "stderr",
     "output_type": "stream",
     "text": [
      "Padding Files:  67%|██████▋   | 102/153 [02:23<01:02,  1.23s/it]"
     ]
    },
    {
     "name": "stdout",
     "output_type": "stream",
     "text": [
      "✅ [SAVED] Padded File: /home/q674749/workspace/thesis_work/rat25-15.4.1/perception/padded_data/combined_79.p\n"
     ]
    },
    {
     "name": "stderr",
     "output_type": "stream",
     "text": [
      "Padding Files:  67%|██████▋   | 103/153 [02:23<00:53,  1.07s/it]"
     ]
    },
    {
     "name": "stdout",
     "output_type": "stream",
     "text": [
      "✅ [SAVED] Padded File: /home/q674749/workspace/thesis_work/rat25-15.4.1/perception/padded_data/combined_150.p\n"
     ]
    },
    {
     "name": "stderr",
     "output_type": "stream",
     "text": [
      "Padding Files:  68%|██████▊   | 104/153 [02:25<01:00,  1.24s/it]"
     ]
    },
    {
     "name": "stdout",
     "output_type": "stream",
     "text": [
      "✅ [SAVED] Padded File: /home/q674749/workspace/thesis_work/rat25-15.4.1/perception/padded_data/combined_143.p\n"
     ]
    },
    {
     "name": "stderr",
     "output_type": "stream",
     "text": [
      "Padding Files:  69%|██████▊   | 105/153 [02:26<00:51,  1.08s/it]"
     ]
    },
    {
     "name": "stdout",
     "output_type": "stream",
     "text": [
      "✅ [SAVED] Padded File: /home/q674749/workspace/thesis_work/rat25-15.4.1/perception/padded_data/combined_168.p\n"
     ]
    },
    {
     "name": "stderr",
     "output_type": "stream",
     "text": [
      "Padding Files:  69%|██████▉   | 106/153 [02:28<01:00,  1.29s/it]"
     ]
    },
    {
     "name": "stdout",
     "output_type": "stream",
     "text": [
      "✅ [SAVED] Padded File: /home/q674749/workspace/thesis_work/rat25-15.4.1/perception/padded_data/combined_189.p\n"
     ]
    },
    {
     "name": "stderr",
     "output_type": "stream",
     "text": [
      "Padding Files:  70%|██████▉   | 107/153 [02:29<01:07,  1.46s/it]"
     ]
    },
    {
     "name": "stdout",
     "output_type": "stream",
     "text": [
      "✅ [SAVED] Padded File: /home/q674749/workspace/thesis_work/rat25-15.4.1/perception/padded_data/combined_221.p\n"
     ]
    },
    {
     "name": "stderr",
     "output_type": "stream",
     "text": [
      "Padding Files:  71%|███████   | 108/153 [02:30<00:55,  1.24s/it]"
     ]
    },
    {
     "name": "stdout",
     "output_type": "stream",
     "text": [
      "✅ [SAVED] Padded File: /home/q674749/workspace/thesis_work/rat25-15.4.1/perception/padded_data/combined_164.p\n"
     ]
    },
    {
     "name": "stderr",
     "output_type": "stream",
     "text": [
      "Padding Files:  71%|███████   | 109/153 [02:30<00:41,  1.05it/s]"
     ]
    },
    {
     "name": "stdout",
     "output_type": "stream",
     "text": [
      "✅ [SAVED] Padded File: /home/q674749/workspace/thesis_work/rat25-15.4.1/perception/padded_data/combined_71.p\n"
     ]
    },
    {
     "name": "stderr",
     "output_type": "stream",
     "text": [
      "Padding Files:  72%|███████▏  | 110/153 [02:31<00:32,  1.33it/s]"
     ]
    },
    {
     "name": "stdout",
     "output_type": "stream",
     "text": [
      "✅ [SAVED] Padded File: /home/q674749/workspace/thesis_work/rat25-15.4.1/perception/padded_data/combined_73.p\n"
     ]
    },
    {
     "name": "stderr",
     "output_type": "stream",
     "text": [
      "Padding Files:  73%|███████▎  | 111/153 [02:32<00:43,  1.04s/it]"
     ]
    },
    {
     "name": "stdout",
     "output_type": "stream",
     "text": [
      "✅ [SAVED] Padded File: /home/q674749/workspace/thesis_work/rat25-15.4.1/perception/padded_data/combined_187.p\n"
     ]
    },
    {
     "name": "stderr",
     "output_type": "stream",
     "text": [
      "Padding Files:  73%|███████▎  | 112/153 [02:33<00:38,  1.06it/s]"
     ]
    },
    {
     "name": "stdout",
     "output_type": "stream",
     "text": [
      "✅ [SAVED] Padded File: /home/q674749/workspace/thesis_work/rat25-15.4.1/perception/padded_data/combined_160.p\n"
     ]
    },
    {
     "name": "stderr",
     "output_type": "stream",
     "text": [
      "Padding Files:  74%|███████▍  | 113/153 [02:35<00:46,  1.16s/it]"
     ]
    },
    {
     "name": "stdout",
     "output_type": "stream",
     "text": [
      "✅ [SAVED] Padded File: /home/q674749/workspace/thesis_work/rat25-15.4.1/perception/padded_data/combined_117.p\n"
     ]
    },
    {
     "name": "stderr",
     "output_type": "stream",
     "text": [
      "Padding Files:  75%|███████▍  | 114/153 [02:36<00:51,  1.32s/it]"
     ]
    },
    {
     "name": "stdout",
     "output_type": "stream",
     "text": [
      "✅ [SAVED] Padded File: /home/q674749/workspace/thesis_work/rat25-15.4.1/perception/padded_data/combined_137.p\n"
     ]
    },
    {
     "name": "stderr",
     "output_type": "stream",
     "text": [
      "Padding Files:  75%|███████▌  | 115/153 [02:38<00:55,  1.47s/it]"
     ]
    },
    {
     "name": "stdout",
     "output_type": "stream",
     "text": [
      "✅ [SAVED] Padded File: /home/q674749/workspace/thesis_work/rat25-15.4.1/perception/padded_data/combined_191.p\n"
     ]
    },
    {
     "name": "stderr",
     "output_type": "stream",
     "text": [
      "Padding Files:  76%|███████▌  | 116/153 [02:40<00:58,  1.58s/it]"
     ]
    },
    {
     "name": "stdout",
     "output_type": "stream",
     "text": [
      "✅ [SAVED] Padded File: /home/q674749/workspace/thesis_work/rat25-15.4.1/perception/padded_data/combined_196.p\n"
     ]
    },
    {
     "name": "stderr",
     "output_type": "stream",
     "text": [
      "Padding Files:  76%|███████▋  | 117/153 [02:56<03:26,  5.74s/it]"
     ]
    },
    {
     "name": "stdout",
     "output_type": "stream",
     "text": [
      "✅ [SAVED] Padded File: /home/q674749/workspace/thesis_work/rat25-15.4.1/perception/padded_data/combined_114.p\n"
     ]
    },
    {
     "name": "stderr",
     "output_type": "stream",
     "text": [
      "Padding Files:  77%|███████▋  | 118/153 [02:57<02:39,  4.57s/it]"
     ]
    },
    {
     "name": "stdout",
     "output_type": "stream",
     "text": [
      "✅ [SAVED] Padded File: /home/q674749/workspace/thesis_work/rat25-15.4.1/perception/padded_data/combined_211.p\n"
     ]
    },
    {
     "name": "stderr",
     "output_type": "stream",
     "text": [
      "Padding Files:  78%|███████▊  | 119/153 [02:59<02:07,  3.74s/it]"
     ]
    },
    {
     "name": "stdout",
     "output_type": "stream",
     "text": [
      "✅ [SAVED] Padded File: /home/q674749/workspace/thesis_work/rat25-15.4.1/perception/padded_data/combined_201.p\n"
     ]
    },
    {
     "name": "stderr",
     "output_type": "stream",
     "text": [
      "Padding Files:  78%|███████▊  | 120/153 [03:01<01:44,  3.17s/it]"
     ]
    },
    {
     "name": "stdout",
     "output_type": "stream",
     "text": [
      "✅ [SAVED] Padded File: /home/q674749/workspace/thesis_work/rat25-15.4.1/perception/padded_data/combined_217.p\n"
     ]
    },
    {
     "name": "stderr",
     "output_type": "stream",
     "text": [
      "Padding Files:  79%|███████▉  | 121/153 [03:03<01:27,  2.72s/it]"
     ]
    },
    {
     "name": "stdout",
     "output_type": "stream",
     "text": [
      "✅ [SAVED] Padded File: /home/q674749/workspace/thesis_work/rat25-15.4.1/perception/padded_data/combined_133.p\n"
     ]
    },
    {
     "name": "stderr",
     "output_type": "stream",
     "text": [
      "Padding Files:  80%|███████▉  | 122/153 [03:03<01:05,  2.12s/it]"
     ]
    },
    {
     "name": "stdout",
     "output_type": "stream",
     "text": [
      "✅ [SAVED] Padded File: /home/q674749/workspace/thesis_work/rat25-15.4.1/perception/padded_data/combined_171.p\n"
     ]
    },
    {
     "name": "stderr",
     "output_type": "stream",
     "text": [
      "Padding Files:  80%|████████  | 123/153 [03:04<00:50,  1.69s/it]"
     ]
    },
    {
     "name": "stdout",
     "output_type": "stream",
     "text": [
      "✅ [SAVED] Padded File: /home/q674749/workspace/thesis_work/rat25-15.4.1/perception/padded_data/combined_169.p\n"
     ]
    },
    {
     "name": "stderr",
     "output_type": "stream",
     "text": [
      "Padding Files:  81%|████████  | 124/153 [03:06<00:48,  1.67s/it]"
     ]
    },
    {
     "name": "stdout",
     "output_type": "stream",
     "text": [
      "✅ [SAVED] Padded File: /home/q674749/workspace/thesis_work/rat25-15.4.1/perception/padded_data/combined_145.p\n"
     ]
    },
    {
     "name": "stderr",
     "output_type": "stream",
     "text": [
      "Padding Files:  82%|████████▏ | 125/153 [03:07<00:46,  1.67s/it]"
     ]
    },
    {
     "name": "stdout",
     "output_type": "stream",
     "text": [
      "✅ [SAVED] Padded File: /home/q674749/workspace/thesis_work/rat25-15.4.1/perception/padded_data/combined_147.p\n"
     ]
    },
    {
     "name": "stderr",
     "output_type": "stream",
     "text": [
      "Padding Files:  82%|████████▏ | 126/153 [03:09<00:46,  1.71s/it]"
     ]
    },
    {
     "name": "stdout",
     "output_type": "stream",
     "text": [
      "✅ [SAVED] Padded File: /home/q674749/workspace/thesis_work/rat25-15.4.1/perception/padded_data/combined_203.p\n"
     ]
    },
    {
     "name": "stderr",
     "output_type": "stream",
     "text": [
      "Padding Files:  83%|████████▎ | 127/153 [03:11<00:45,  1.74s/it]"
     ]
    },
    {
     "name": "stdout",
     "output_type": "stream",
     "text": [
      "✅ [SAVED] Padded File: /home/q674749/workspace/thesis_work/rat25-15.4.1/perception/padded_data/combined_198.p\n"
     ]
    },
    {
     "name": "stderr",
     "output_type": "stream",
     "text": [
      "Padding Files:  84%|████████▎ | 128/153 [03:11<00:32,  1.32s/it]"
     ]
    },
    {
     "name": "stdout",
     "output_type": "stream",
     "text": [
      "✅ [SAVED] Padded File: /home/q674749/workspace/thesis_work/rat25-15.4.1/perception/padded_data/combined_83.p\n"
     ]
    },
    {
     "name": "stderr",
     "output_type": "stream",
     "text": [
      "Padding Files:  84%|████████▍ | 129/153 [03:13<00:35,  1.46s/it]"
     ]
    },
    {
     "name": "stdout",
     "output_type": "stream",
     "text": [
      "✅ [SAVED] Padded File: /home/q674749/workspace/thesis_work/rat25-15.4.1/perception/padded_data/combined_216.p\n"
     ]
    },
    {
     "name": "stderr",
     "output_type": "stream",
     "text": [
      "Padding Files:  85%|████████▍ | 130/153 [03:15<00:36,  1.58s/it]"
     ]
    },
    {
     "name": "stdout",
     "output_type": "stream",
     "text": [
      "✅ [SAVED] Padded File: /home/q674749/workspace/thesis_work/rat25-15.4.1/perception/padded_data/combined_224.p\n"
     ]
    },
    {
     "name": "stderr",
     "output_type": "stream",
     "text": [
      "Padding Files:  86%|████████▌ | 131/153 [03:17<00:36,  1.65s/it]"
     ]
    },
    {
     "name": "stdout",
     "output_type": "stream",
     "text": [
      "✅ [SAVED] Padded File: /home/q674749/workspace/thesis_work/rat25-15.4.1/perception/padded_data/combined_185.p\n"
     ]
    },
    {
     "name": "stderr",
     "output_type": "stream",
     "text": [
      "Padding Files:  86%|████████▋ | 132/153 [03:19<00:35,  1.70s/it]"
     ]
    },
    {
     "name": "stdout",
     "output_type": "stream",
     "text": [
      "✅ [SAVED] Padded File: /home/q674749/workspace/thesis_work/rat25-15.4.1/perception/padded_data/combined_215.p\n"
     ]
    },
    {
     "name": "stderr",
     "output_type": "stream",
     "text": [
      "Padding Files:  87%|████████▋ | 133/153 [03:20<00:34,  1.74s/it]"
     ]
    },
    {
     "name": "stdout",
     "output_type": "stream",
     "text": [
      "✅ [SAVED] Padded File: /home/q674749/workspace/thesis_work/rat25-15.4.1/perception/padded_data/combined_199.p\n"
     ]
    },
    {
     "name": "stderr",
     "output_type": "stream",
     "text": [
      "Padding Files:  88%|████████▊ | 134/153 [03:22<00:33,  1.76s/it]"
     ]
    },
    {
     "name": "stdout",
     "output_type": "stream",
     "text": [
      "✅ [SAVED] Padded File: /home/q674749/workspace/thesis_work/rat25-15.4.1/perception/padded_data/combined_213.p\n"
     ]
    },
    {
     "name": "stderr",
     "output_type": "stream",
     "text": [
      "Padding Files:  88%|████████▊ | 135/153 [03:24<00:32,  1.78s/it]"
     ]
    },
    {
     "name": "stdout",
     "output_type": "stream",
     "text": [
      "✅ [SAVED] Padded File: /home/q674749/workspace/thesis_work/rat25-15.4.1/perception/padded_data/combined_186.p\n"
     ]
    },
    {
     "name": "stderr",
     "output_type": "stream",
     "text": [
      "Padding Files:  89%|████████▉ | 136/153 [03:25<00:24,  1.46s/it]"
     ]
    },
    {
     "name": "stdout",
     "output_type": "stream",
     "text": [
      "✅ [SAVED] Padded File: /home/q674749/workspace/thesis_work/rat25-15.4.1/perception/padded_data/combined_158.p\n"
     ]
    },
    {
     "name": "stderr",
     "output_type": "stream",
     "text": [
      "Padding Files:  90%|████████▉ | 137/153 [03:25<00:17,  1.11s/it]"
     ]
    },
    {
     "name": "stdout",
     "output_type": "stream",
     "text": [
      "✅ [SAVED] Padded File: /home/q674749/workspace/thesis_work/rat25-15.4.1/perception/padded_data/combined_78.p\n"
     ]
    },
    {
     "name": "stderr",
     "output_type": "stream",
     "text": [
      "Padding Files:  90%|█████████ | 138/153 [03:26<00:14,  1.02it/s]"
     ]
    },
    {
     "name": "stdout",
     "output_type": "stream",
     "text": [
      "✅ [SAVED] Padded File: /home/q674749/workspace/thesis_work/rat25-15.4.1/perception/padded_data/combined_181.p\n"
     ]
    },
    {
     "name": "stderr",
     "output_type": "stream",
     "text": [
      "Padding Files:  91%|█████████ | 139/153 [03:28<00:17,  1.22s/it]"
     ]
    },
    {
     "name": "stdout",
     "output_type": "stream",
     "text": [
      "✅ [SAVED] Padded File: /home/q674749/workspace/thesis_work/rat25-15.4.1/perception/padded_data/combined_190.p\n"
     ]
    },
    {
     "name": "stderr",
     "output_type": "stream",
     "text": [
      "Padding Files:  92%|█████████▏| 140/153 [03:29<00:18,  1.40s/it]"
     ]
    },
    {
     "name": "stdout",
     "output_type": "stream",
     "text": [
      "✅ [SAVED] Padded File: /home/q674749/workspace/thesis_work/rat25-15.4.1/perception/padded_data/combined_219.p\n"
     ]
    },
    {
     "name": "stderr",
     "output_type": "stream",
     "text": [
      "Padding Files:  92%|█████████▏| 141/153 [03:31<00:18,  1.53s/it]"
     ]
    },
    {
     "name": "stdout",
     "output_type": "stream",
     "text": [
      "✅ [SAVED] Padded File: /home/q674749/workspace/thesis_work/rat25-15.4.1/perception/padded_data/combined_200.p\n"
     ]
    },
    {
     "name": "stderr",
     "output_type": "stream",
     "text": [
      "Padding Files:  93%|█████████▎| 142/153 [03:32<00:14,  1.29s/it]"
     ]
    },
    {
     "name": "stdout",
     "output_type": "stream",
     "text": [
      "✅ [SAVED] Padded File: /home/q674749/workspace/thesis_work/rat25-15.4.1/perception/padded_data/combined_182.p\n"
     ]
    },
    {
     "name": "stderr",
     "output_type": "stream",
     "text": [
      "Padding Files:  93%|█████████▎| 143/153 [03:33<00:11,  1.11s/it]"
     ]
    },
    {
     "name": "stdout",
     "output_type": "stream",
     "text": [
      "✅ [SAVED] Padded File: /home/q674749/workspace/thesis_work/rat25-15.4.1/perception/padded_data/combined_162.p\n"
     ]
    },
    {
     "name": "stderr",
     "output_type": "stream",
     "text": [
      "Padding Files:  94%|█████████▍| 144/153 [03:33<00:07,  1.16it/s]"
     ]
    },
    {
     "name": "stdout",
     "output_type": "stream",
     "text": [
      "✅ [SAVED] Padded File: /home/q674749/workspace/thesis_work/rat25-15.4.1/perception/padded_data/combined_67.p\n"
     ]
    },
    {
     "name": "stderr",
     "output_type": "stream",
     "text": [
      "Padding Files:  95%|█████████▍| 145/153 [03:34<00:06,  1.24it/s]"
     ]
    },
    {
     "name": "stdout",
     "output_type": "stream",
     "text": [
      "✅ [SAVED] Padded File: /home/q674749/workspace/thesis_work/rat25-15.4.1/perception/padded_data/combined_177.p\n"
     ]
    },
    {
     "name": "stderr",
     "output_type": "stream",
     "text": [
      "Padding Files:  95%|█████████▌| 146/153 [03:34<00:05,  1.30it/s]"
     ]
    },
    {
     "name": "stdout",
     "output_type": "stream",
     "text": [
      "✅ [SAVED] Padded File: /home/q674749/workspace/thesis_work/rat25-15.4.1/perception/padded_data/combined_152.p\n"
     ]
    },
    {
     "name": "stderr",
     "output_type": "stream",
     "text": [
      "Padding Files:  96%|█████████▌| 147/153 [03:36<00:06,  1.08s/it]"
     ]
    },
    {
     "name": "stdout",
     "output_type": "stream",
     "text": [
      "✅ [SAVED] Padded File: /home/q674749/workspace/thesis_work/rat25-15.4.1/perception/padded_data/combined_192.p\n"
     ]
    },
    {
     "name": "stderr",
     "output_type": "stream",
     "text": [
      "Padding Files:  97%|█████████▋| 148/153 [03:36<00:04,  1.18it/s]"
     ]
    },
    {
     "name": "stdout",
     "output_type": "stream",
     "text": [
      "✅ [SAVED] Padded File: /home/q674749/workspace/thesis_work/rat25-15.4.1/perception/padded_data/combined_53.p\n"
     ]
    },
    {
     "name": "stderr",
     "output_type": "stream",
     "text": [
      "Padding Files:  97%|█████████▋| 149/153 [03:37<00:03,  1.26it/s]"
     ]
    },
    {
     "name": "stdout",
     "output_type": "stream",
     "text": [
      "✅ [SAVED] Padded File: /home/q674749/workspace/thesis_work/rat25-15.4.1/perception/padded_data/combined_180.p\n"
     ]
    },
    {
     "name": "stderr",
     "output_type": "stream",
     "text": [
      "Padding Files:  98%|█████████▊| 150/153 [03:39<00:03,  1.05s/it]"
     ]
    },
    {
     "name": "stdout",
     "output_type": "stream",
     "text": [
      "✅ [SAVED] Padded File: /home/q674749/workspace/thesis_work/rat25-15.4.1/perception/padded_data/combined_125.p\n"
     ]
    },
    {
     "name": "stderr",
     "output_type": "stream",
     "text": [
      "Padding Files:  99%|█████████▊| 151/153 [03:40<00:02,  1.23s/it]"
     ]
    },
    {
     "name": "stdout",
     "output_type": "stream",
     "text": [
      "✅ [SAVED] Padded File: /home/q674749/workspace/thesis_work/rat25-15.4.1/perception/padded_data/combined_127.p\n"
     ]
    },
    {
     "name": "stderr",
     "output_type": "stream",
     "text": [
      "Padding Files:  99%|█████████▉| 152/153 [03:41<00:00,  1.05it/s]"
     ]
    },
    {
     "name": "stdout",
     "output_type": "stream",
     "text": [
      "✅ [SAVED] Padded File: /home/q674749/workspace/thesis_work/rat25-15.4.1/perception/padded_data/combined_72.p\n"
     ]
    },
    {
     "name": "stderr",
     "output_type": "stream",
     "text": [
      "Padding Files: 100%|██████████| 153/153 [03:42<00:00,  1.46s/it]"
     ]
    },
    {
     "name": "stdout",
     "output_type": "stream",
     "text": [
      "✅ [SAVED] Padded File: /home/q674749/workspace/thesis_work/rat25-15.4.1/perception/padded_data/combined_142.p\n",
      "\n",
      "🎯 [SUCCESS] Padding & Masking Completed!\n"
     ]
    },
    {
     "name": "stderr",
     "output_type": "stream",
     "text": [
      "\n"
     ]
    }
   ],
   "source": [
    "import os\n",
    "import pandas as pd\n",
    "import numpy as np\n",
    "from tqdm import tqdm\n",
    "\n",
    "#  Paths\n",
    "input_folder = r\"/home/q674749/workspace/thesis_work/rat25-15.4.1/perception/standardized_data\"\n",
    "output_folder = r\"/home/q674749/workspace/thesis_work/rat25-15.4.1/perception/padded_data\"\n",
    "os.makedirs(output_folder, exist_ok=True)  # Ensure output folder exists\n",
    "\n",
    "#  Define Feature Columns\n",
    "feature_columns = [\"rcs\", \"distance\", \"angleAzimuth\", \"angleElevation\", \"radialVelocity\"]\n",
    "scalar_columns = [\"radialVelocityDomainMax\", \"yaw_rate\", \"ego_speed\"]\n",
    "object_properties = [\"centroid_x\", \"centroid_y\", \"width_edge_mean\", \"length_edge_mean\", \"orientation\"]\n",
    "id_columns = [\"objectID\", \"is_valid_detection\"]  # Columns that need padding\n",
    "\n",
    "#  Step 1: Find Maximum Number of Detections in Any Frame\n",
    "max_detections = 0\n",
    "\n",
    "print(\"\\n [INFO] Finding the max number of detections per frame...\")\n",
    "for filename in tqdm(os.listdir(input_folder), desc=\"Scanning Files\"):\n",
    "    if filename.endswith(\".p\"):\n",
    "        file_path = os.path.join(input_folder, filename)\n",
    "        df = pd.read_pickle(file_path)\n",
    "\n",
    "        for row in df[feature_columns[0]]:  # Use any detection feature column to find max length\n",
    "            max_detections = max(max_detections, len(row))\n",
    "\n",
    "print(f\"\\n [INFO] Maximum detections in any frame: {max_detections}\")\n",
    "\n",
    "#  Step 2: Apply Padding & Masking\n",
    "print(\"\\n [INFO] Applying padding and saving processed files...\")\n",
    "for filename in tqdm(os.listdir(input_folder), desc=\"Padding Files\"):\n",
    "    if filename.endswith(\".p\"):\n",
    "        file_path = os.path.join(input_folder, filename)\n",
    "        df = pd.read_pickle(file_path)\n",
    "\n",
    "        #  Pad detection-based features\n",
    "        for col in feature_columns:\n",
    "            pad_value = 0 if col != \"angleAzimuth\" and col != \"angleElevation\" else -1  # Use -1 for angles\n",
    "            df[col] = df[col].apply(lambda x: x + [pad_value] * (max_detections - len(x)))\n",
    "\n",
    "        #  Pad ID columns (objectID, is_valid_detection)  \n",
    "        for col in id_columns:\n",
    "            df[col] = df[col].apply(lambda x: x + [0] * (max_detections - len(x)))  # Use 0 for missing IDs & detections\n",
    "\n",
    "        #  Create Mask for Padded Data (1 for real values, 0 for padded values)\n",
    "        df[\"mask\"] = df[feature_columns[0]].apply(lambda x: [1] * len(x) + [0] * (max_detections - len(x)))\n",
    "\n",
    "        #  Save Processed Data\n",
    "        output_file_path = os.path.join(output_folder, filename)\n",
    "        df.to_pickle(output_file_path)\n",
    "        print(f\" [SAVED] Padded File: {output_file_path}\")\n",
    "\n",
    "print(\"\\n [SUCCESS] Padding & Masking Completed!\")"
   ]
  },
  {
   "cell_type": "code",
   "execution_count": null,
   "metadata": {},
   "outputs": [
    {
     "name": "stdout",
     "output_type": "stream",
     "text": [
      "\n",
      "🚀 [INFO] Grouping detections into objects...\n"
     ]
    },
    {
     "name": "stderr",
     "output_type": "stream",
     "text": [
      "Processing Files:   0%|          | 0/153 [00:00<?, ?it/s]"
     ]
    },
    {
     "name": "stderr",
     "output_type": "stream",
     "text": [
      "Processing Files:   1%|          | 1/153 [00:12<31:48, 12.55s/it]"
     ]
    },
    {
     "name": "stdout",
     "output_type": "stream",
     "text": [
      "✅ [SAVED] Grouped File: /home/q674749/workspace/thesis_work/rat25-15.4.1/perception/grouped_data/combined_194.p\n"
     ]
    },
    {
     "name": "stderr",
     "output_type": "stream",
     "text": [
      "Processing Files:   1%|▏         | 2/153 [00:25<31:39, 12.58s/it]"
     ]
    },
    {
     "name": "stdout",
     "output_type": "stream",
     "text": [
      "✅ [SAVED] Grouped File: /home/q674749/workspace/thesis_work/rat25-15.4.1/perception/grouped_data/combined_218.p\n"
     ]
    },
    {
     "name": "stderr",
     "output_type": "stream",
     "text": [
      "Processing Files:   2%|▏         | 3/153 [00:27<19:23,  7.75s/it]"
     ]
    },
    {
     "name": "stdout",
     "output_type": "stream",
     "text": [
      "✅ [SAVED] Grouped File: /home/q674749/workspace/thesis_work/rat25-15.4.1/perception/grouped_data/combined_62.p\n"
     ]
    },
    {
     "name": "stderr",
     "output_type": "stream",
     "text": [
      "Processing Files:   3%|▎         | 4/153 [00:39<23:52,  9.62s/it]"
     ]
    },
    {
     "name": "stdout",
     "output_type": "stream",
     "text": [
      "✅ [SAVED] Grouped File: /home/q674749/workspace/thesis_work/rat25-15.4.1/perception/grouped_data/combined_197.p\n"
     ]
    },
    {
     "name": "stderr",
     "output_type": "stream",
     "text": [
      "Processing Files:   3%|▎         | 5/153 [00:43<18:46,  7.61s/it]"
     ]
    },
    {
     "name": "stdout",
     "output_type": "stream",
     "text": [
      "✅ [SAVED] Grouped File: /home/q674749/workspace/thesis_work/rat25-15.4.1/perception/grouped_data/combined_157.p\n"
     ]
    },
    {
     "name": "stderr",
     "output_type": "stream",
     "text": [
      "Processing Files:   4%|▍         | 6/153 [00:53<20:40,  8.44s/it]"
     ]
    },
    {
     "name": "stdout",
     "output_type": "stream",
     "text": [
      "✅ [SAVED] Grouped File: /home/q674749/workspace/thesis_work/rat25-15.4.1/perception/grouped_data/combined_141.p\n"
     ]
    },
    {
     "name": "stderr",
     "output_type": "stream",
     "text": [
      "Processing Files:   5%|▍         | 7/153 [00:57<17:01,  7.00s/it]"
     ]
    },
    {
     "name": "stdout",
     "output_type": "stream",
     "text": [
      "✅ [SAVED] Grouped File: /home/q674749/workspace/thesis_work/rat25-15.4.1/perception/grouped_data/combined_148.p\n"
     ]
    },
    {
     "name": "stderr",
     "output_type": "stream",
     "text": [
      "Processing Files:   5%|▌         | 8/153 [00:59<13:01,  5.39s/it]"
     ]
    },
    {
     "name": "stdout",
     "output_type": "stream",
     "text": [
      "✅ [SAVED] Grouped File: /home/q674749/workspace/thesis_work/rat25-15.4.1/perception/grouped_data/combined_80.p\n"
     ]
    },
    {
     "name": "stderr",
     "output_type": "stream",
     "text": [
      "Processing Files:   6%|▌         | 9/153 [01:01<10:20,  4.31s/it]"
     ]
    },
    {
     "name": "stdout",
     "output_type": "stream",
     "text": [
      "✅ [SAVED] Grouped File: /home/q674749/workspace/thesis_work/rat25-15.4.1/perception/grouped_data/combined_55.p\n"
     ]
    },
    {
     "name": "stderr",
     "output_type": "stream",
     "text": [
      "Processing Files:   7%|▋         | 10/153 [01:14<16:37,  6.98s/it]"
     ]
    },
    {
     "name": "stdout",
     "output_type": "stream",
     "text": [
      "✅ [SAVED] Grouped File: /home/q674749/workspace/thesis_work/rat25-15.4.1/perception/grouped_data/combined_210.p\n"
     ]
    },
    {
     "name": "stderr",
     "output_type": "stream",
     "text": [
      "Processing Files:   7%|▋         | 11/153 [01:18<14:22,  6.07s/it]"
     ]
    },
    {
     "name": "stdout",
     "output_type": "stream",
     "text": [
      "✅ [SAVED] Grouped File: /home/q674749/workspace/thesis_work/rat25-15.4.1/perception/grouped_data/combined_165.p\n"
     ]
    },
    {
     "name": "stderr",
     "output_type": "stream",
     "text": [
      "Processing Files:   8%|▊         | 12/153 [01:28<17:08,  7.29s/it]"
     ]
    },
    {
     "name": "stdout",
     "output_type": "stream",
     "text": [
      "✅ [SAVED] Grouped File: /home/q674749/workspace/thesis_work/rat25-15.4.1/perception/grouped_data/combined_138.p\n"
     ]
    },
    {
     "name": "stderr",
     "output_type": "stream",
     "text": [
      "Processing Files:   8%|▊         | 13/153 [01:41<20:40,  8.86s/it]"
     ]
    },
    {
     "name": "stdout",
     "output_type": "stream",
     "text": [
      "✅ [SAVED] Grouped File: /home/q674749/workspace/thesis_work/rat25-15.4.1/perception/grouped_data/combined_227.p\n"
     ]
    },
    {
     "name": "stderr",
     "output_type": "stream",
     "text": [
      "Processing Files:   9%|▉         | 14/153 [01:51<21:23,  9.23s/it]"
     ]
    },
    {
     "name": "stdout",
     "output_type": "stream",
     "text": [
      "✅ [SAVED] Grouped File: /home/q674749/workspace/thesis_work/rat25-15.4.1/perception/grouped_data/combined_144.p\n"
     ]
    },
    {
     "name": "stderr",
     "output_type": "stream",
     "text": [
      "Processing Files:  10%|▉         | 15/153 [01:55<17:38,  7.67s/it]"
     ]
    },
    {
     "name": "stdout",
     "output_type": "stream",
     "text": [
      "✅ [SAVED] Grouped File: /home/q674749/workspace/thesis_work/rat25-15.4.1/perception/grouped_data/combined_170.p\n"
     ]
    },
    {
     "name": "stderr",
     "output_type": "stream",
     "text": [
      "Processing Files:  10%|█         | 16/153 [01:57<13:34,  5.95s/it]"
     ]
    },
    {
     "name": "stdout",
     "output_type": "stream",
     "text": [
      "✅ [SAVED] Grouped File: /home/q674749/workspace/thesis_work/rat25-15.4.1/perception/grouped_data/combined_69.p\n"
     ]
    },
    {
     "name": "stderr",
     "output_type": "stream",
     "text": [
      "Processing Files:  11%|█         | 17/153 [02:07<16:15,  7.17s/it]"
     ]
    },
    {
     "name": "stdout",
     "output_type": "stream",
     "text": [
      "✅ [SAVED] Grouped File: /home/q674749/workspace/thesis_work/rat25-15.4.1/perception/grouped_data/combined_134.p\n"
     ]
    },
    {
     "name": "stderr",
     "output_type": "stream",
     "text": [
      "Processing Files:  12%|█▏        | 18/153 [02:19<19:43,  8.76s/it]"
     ]
    },
    {
     "name": "stdout",
     "output_type": "stream",
     "text": [
      "✅ [SAVED] Grouped File: /home/q674749/workspace/thesis_work/rat25-15.4.1/perception/grouped_data/combined_229.p\n"
     ]
    },
    {
     "name": "stderr",
     "output_type": "stream",
     "text": [
      "Processing Files:  12%|█▏        | 19/153 [02:23<16:23,  7.34s/it]"
     ]
    },
    {
     "name": "stdout",
     "output_type": "stream",
     "text": [
      "✅ [SAVED] Grouped File: /home/q674749/workspace/thesis_work/rat25-15.4.1/perception/grouped_data/combined_172.p\n"
     ]
    },
    {
     "name": "stderr",
     "output_type": "stream",
     "text": [
      "Processing Files:  13%|█▎        | 20/153 [02:27<14:03,  6.34s/it]"
     ]
    },
    {
     "name": "stdout",
     "output_type": "stream",
     "text": [
      "✅ [SAVED] Grouped File: /home/q674749/workspace/thesis_work/rat25-15.4.1/perception/grouped_data/combined_161.p\n"
     ]
    },
    {
     "name": "stderr",
     "output_type": "stream",
     "text": [
      "Processing Files:  14%|█▎        | 21/153 [02:37<16:24,  7.46s/it]"
     ]
    },
    {
     "name": "stdout",
     "output_type": "stream",
     "text": [
      "✅ [SAVED] Grouped File: /home/q674749/workspace/thesis_work/rat25-15.4.1/perception/grouped_data/combined_118.p\n"
     ]
    },
    {
     "name": "stderr",
     "output_type": "stream",
     "text": [
      "Processing Files:  14%|█▍        | 22/153 [02:47<17:59,  8.24s/it]"
     ]
    },
    {
     "name": "stdout",
     "output_type": "stream",
     "text": [
      "✅ [SAVED] Grouped File: /home/q674749/workspace/thesis_work/rat25-15.4.1/perception/grouped_data/combined_119.p\n"
     ]
    },
    {
     "name": "stderr",
     "output_type": "stream",
     "text": [
      "Processing Files:  15%|█▌        | 23/153 [03:00<20:53,  9.65s/it]"
     ]
    },
    {
     "name": "stdout",
     "output_type": "stream",
     "text": [
      "✅ [SAVED] Grouped File: /home/q674749/workspace/thesis_work/rat25-15.4.1/perception/grouped_data/combined_226.p\n"
     ]
    },
    {
     "name": "stderr",
     "output_type": "stream",
     "text": [
      "Processing Files:  16%|█▌        | 24/153 [03:10<21:02,  9.78s/it]"
     ]
    },
    {
     "name": "stdout",
     "output_type": "stream",
     "text": [
      "✅ [SAVED] Grouped File: /home/q674749/workspace/thesis_work/rat25-15.4.1/perception/grouped_data/combined_121.p\n"
     ]
    },
    {
     "name": "stderr",
     "output_type": "stream",
     "text": [
      "Processing Files:  16%|█▋        | 25/153 [03:12<15:52,  7.44s/it]"
     ]
    },
    {
     "name": "stdout",
     "output_type": "stream",
     "text": [
      "✅ [SAVED] Grouped File: /home/q674749/workspace/thesis_work/rat25-15.4.1/perception/grouped_data/combined_81.p\n"
     ]
    },
    {
     "name": "stderr",
     "output_type": "stream",
     "text": [
      "Processing Files:  17%|█▋        | 26/153 [03:25<18:55,  8.94s/it]"
     ]
    },
    {
     "name": "stdout",
     "output_type": "stream",
     "text": [
      "✅ [SAVED] Grouped File: /home/q674749/workspace/thesis_work/rat25-15.4.1/perception/grouped_data/combined_223.p\n"
     ]
    },
    {
     "name": "stderr",
     "output_type": "stream",
     "text": [
      "Processing Files:  18%|█▊        | 27/153 [03:35<19:30,  9.29s/it]"
     ]
    },
    {
     "name": "stdout",
     "output_type": "stream",
     "text": [
      "✅ [SAVED] Grouped File: /home/q674749/workspace/thesis_work/rat25-15.4.1/perception/grouped_data/combined_120.p\n"
     ]
    },
    {
     "name": "stderr",
     "output_type": "stream",
     "text": [
      "Processing Files:  18%|█▊        | 28/153 [03:47<21:20, 10.25s/it]"
     ]
    },
    {
     "name": "stdout",
     "output_type": "stream",
     "text": [
      "✅ [SAVED] Grouped File: /home/q674749/workspace/thesis_work/rat25-15.4.1/perception/grouped_data/combined_212.p\n"
     ]
    },
    {
     "name": "stderr",
     "output_type": "stream",
     "text": [
      "Processing Files:  19%|█▉        | 29/153 [03:49<16:03,  7.77s/it]"
     ]
    },
    {
     "name": "stdout",
     "output_type": "stream",
     "text": [
      "✅ [SAVED] Grouped File: /home/q674749/workspace/thesis_work/rat25-15.4.1/perception/grouped_data/combined_76.p\n"
     ]
    },
    {
     "name": "stderr",
     "output_type": "stream",
     "text": [
      "Processing Files:  20%|█▉        | 30/153 [03:53<13:35,  6.63s/it]"
     ]
    },
    {
     "name": "stdout",
     "output_type": "stream",
     "text": [
      "✅ [SAVED] Grouped File: /home/q674749/workspace/thesis_work/rat25-15.4.1/perception/grouped_data/combined_183.p\n"
     ]
    },
    {
     "name": "stderr",
     "output_type": "stream",
     "text": [
      "Processing Files:  20%|██        | 31/153 [04:06<17:02,  8.38s/it]"
     ]
    },
    {
     "name": "stdout",
     "output_type": "stream",
     "text": [
      "✅ [SAVED] Grouped File: /home/q674749/workspace/thesis_work/rat25-15.4.1/perception/grouped_data/combined_207.p\n"
     ]
    },
    {
     "name": "stderr",
     "output_type": "stream",
     "text": [
      "Processing Files:  21%|██        | 32/153 [04:08<13:01,  6.46s/it]"
     ]
    },
    {
     "name": "stdout",
     "output_type": "stream",
     "text": [
      "✅ [SAVED] Grouped File: /home/q674749/workspace/thesis_work/rat25-15.4.1/perception/grouped_data/combined_64.p\n"
     ]
    },
    {
     "name": "stderr",
     "output_type": "stream",
     "text": [
      "Processing Files:  22%|██▏       | 33/153 [04:12<11:25,  5.71s/it]"
     ]
    },
    {
     "name": "stdout",
     "output_type": "stream",
     "text": [
      "✅ [SAVED] Grouped File: /home/q674749/workspace/thesis_work/rat25-15.4.1/perception/grouped_data/combined_166.p\n"
     ]
    },
    {
     "name": "stderr",
     "output_type": "stream",
     "text": [
      "Processing Files:  22%|██▏       | 34/153 [04:16<10:18,  5.19s/it]"
     ]
    },
    {
     "name": "stdout",
     "output_type": "stream",
     "text": [
      "✅ [SAVED] Grouped File: /home/q674749/workspace/thesis_work/rat25-15.4.1/perception/grouped_data/combined_176.p\n"
     ]
    },
    {
     "name": "stderr",
     "output_type": "stream",
     "text": [
      "Processing Files:  23%|██▎       | 35/153 [04:28<14:30,  7.38s/it]"
     ]
    },
    {
     "name": "stdout",
     "output_type": "stream",
     "text": [
      "✅ [SAVED] Grouped File: /home/q674749/workspace/thesis_work/rat25-15.4.1/perception/grouped_data/combined_208.p\n"
     ]
    },
    {
     "name": "stderr",
     "output_type": "stream",
     "text": [
      "Processing Files:  24%|██▎       | 36/153 [04:30<11:14,  5.76s/it]"
     ]
    },
    {
     "name": "stdout",
     "output_type": "stream",
     "text": [
      "✅ [SAVED] Grouped File: /home/q674749/workspace/thesis_work/rat25-15.4.1/perception/grouped_data/combined_56.p\n"
     ]
    },
    {
     "name": "stderr",
     "output_type": "stream",
     "text": [
      "Processing Files:  24%|██▍       | 37/153 [04:43<15:00,  7.76s/it]"
     ]
    },
    {
     "name": "stdout",
     "output_type": "stream",
     "text": [
      "✅ [SAVED] Grouped File: /home/q674749/workspace/thesis_work/rat25-15.4.1/perception/grouped_data/combined_195.p\n"
     ]
    },
    {
     "name": "stderr",
     "output_type": "stream",
     "text": [
      "Processing Files:  25%|██▍       | 38/153 [04:47<12:43,  6.64s/it]"
     ]
    },
    {
     "name": "stdout",
     "output_type": "stream",
     "text": [
      "✅ [SAVED] Grouped File: /home/q674749/workspace/thesis_work/rat25-15.4.1/perception/grouped_data/combined_156.p\n"
     ]
    },
    {
     "name": "stderr",
     "output_type": "stream",
     "text": [
      "Processing Files:  25%|██▌       | 39/153 [04:51<11:05,  5.84s/it]"
     ]
    },
    {
     "name": "stdout",
     "output_type": "stream",
     "text": [
      "✅ [SAVED] Grouped File: /home/q674749/workspace/thesis_work/rat25-15.4.1/perception/grouped_data/combined_153.p\n"
     ]
    },
    {
     "name": "stderr",
     "output_type": "stream",
     "text": [
      "Processing Files:  26%|██▌       | 40/153 [05:04<14:59,  7.96s/it]"
     ]
    },
    {
     "name": "stdout",
     "output_type": "stream",
     "text": [
      "✅ [SAVED] Grouped File: /home/q674749/workspace/thesis_work/rat25-15.4.1/perception/grouped_data/combined_184.p\n"
     ]
    },
    {
     "name": "stderr",
     "output_type": "stream",
     "text": [
      "Processing Files:  27%|██▋       | 41/153 [05:16<17:24,  9.33s/it]"
     ]
    },
    {
     "name": "stdout",
     "output_type": "stream",
     "text": [
      "✅ [SAVED] Grouped File: /home/q674749/workspace/thesis_work/rat25-15.4.1/perception/grouped_data/combined_231.p\n"
     ]
    },
    {
     "name": "stderr",
     "output_type": "stream",
     "text": [
      "Processing Files:  27%|██▋       | 42/153 [05:29<19:00, 10.27s/it]"
     ]
    },
    {
     "name": "stdout",
     "output_type": "stream",
     "text": [
      "✅ [SAVED] Grouped File: /home/q674749/workspace/thesis_work/rat25-15.4.1/perception/grouped_data/combined_230.p\n"
     ]
    },
    {
     "name": "stderr",
     "output_type": "stream",
     "text": [
      "Processing Files:  28%|██▊       | 43/153 [05:33<15:23,  8.40s/it]"
     ]
    },
    {
     "name": "stdout",
     "output_type": "stream",
     "text": [
      "✅ [SAVED] Grouped File: /home/q674749/workspace/thesis_work/rat25-15.4.1/perception/grouped_data/combined_154.p\n"
     ]
    },
    {
     "name": "stderr",
     "output_type": "stream",
     "text": [
      "Processing Files:  29%|██▉       | 44/153 [05:37<12:50,  7.07s/it]"
     ]
    },
    {
     "name": "stdout",
     "output_type": "stream",
     "text": [
      "✅ [SAVED] Grouped File: /home/q674749/workspace/thesis_work/rat25-15.4.1/perception/grouped_data/combined_155.p\n"
     ]
    },
    {
     "name": "stderr",
     "output_type": "stream",
     "text": [
      "Processing Files:  29%|██▉       | 45/153 [05:47<14:20,  7.96s/it]"
     ]
    },
    {
     "name": "stdout",
     "output_type": "stream",
     "text": [
      "✅ [SAVED] Grouped File: /home/q674749/workspace/thesis_work/rat25-15.4.1/perception/grouped_data/combined_140.p\n"
     ]
    },
    {
     "name": "stderr",
     "output_type": "stream",
     "text": [
      "Processing Files:  30%|███       | 46/153 [05:49<11:00,  6.17s/it]"
     ]
    },
    {
     "name": "stdout",
     "output_type": "stream",
     "text": [
      "✅ [SAVED] Grouped File: /home/q674749/workspace/thesis_work/rat25-15.4.1/perception/grouped_data/combined_54.p\n"
     ]
    },
    {
     "name": "stderr",
     "output_type": "stream",
     "text": [
      "Processing Files:  31%|███       | 47/153 [05:53<09:44,  5.51s/it]"
     ]
    },
    {
     "name": "stdout",
     "output_type": "stream",
     "text": [
      "✅ [SAVED] Grouped File: /home/q674749/workspace/thesis_work/rat25-15.4.1/perception/grouped_data/combined_174.p\n"
     ]
    },
    {
     "name": "stderr",
     "output_type": "stream",
     "text": [
      "Processing Files:  31%|███▏      | 48/153 [05:57<08:50,  5.06s/it]"
     ]
    },
    {
     "name": "stdout",
     "output_type": "stream",
     "text": [
      "✅ [SAVED] Grouped File: /home/q674749/workspace/thesis_work/rat25-15.4.1/perception/grouped_data/combined_179.p\n"
     ]
    },
    {
     "name": "stderr",
     "output_type": "stream",
     "text": [
      "Processing Files:  32%|███▏      | 49/153 [06:07<11:21,  6.55s/it]"
     ]
    },
    {
     "name": "stdout",
     "output_type": "stream",
     "text": [
      "✅ [SAVED] Grouped File: /home/q674749/workspace/thesis_work/rat25-15.4.1/perception/grouped_data/combined_116.p\n"
     ]
    },
    {
     "name": "stderr",
     "output_type": "stream",
     "text": [
      "Processing Files:  33%|███▎      | 50/153 [06:11<09:56,  5.79s/it]"
     ]
    },
    {
     "name": "stdout",
     "output_type": "stream",
     "text": [
      "✅ [SAVED] Grouped File: /home/q674749/workspace/thesis_work/rat25-15.4.1/perception/grouped_data/combined_173.p\n"
     ]
    },
    {
     "name": "stderr",
     "output_type": "stream",
     "text": [
      "Processing Files:  33%|███▎      | 51/153 [06:21<12:00,  7.06s/it]"
     ]
    },
    {
     "name": "stdout",
     "output_type": "stream",
     "text": [
      "✅ [SAVED] Grouped File: /home/q674749/workspace/thesis_work/rat25-15.4.1/perception/grouped_data/combined_111.p\n"
     ]
    },
    {
     "name": "stderr",
     "output_type": "stream",
     "text": [
      "Processing Files:  34%|███▍      | 52/153 [06:23<09:18,  5.53s/it]"
     ]
    },
    {
     "name": "stdout",
     "output_type": "stream",
     "text": [
      "✅ [SAVED] Grouped File: /home/q674749/workspace/thesis_work/rat25-15.4.1/perception/grouped_data/combined_58.p\n"
     ]
    },
    {
     "name": "stderr",
     "output_type": "stream",
     "text": [
      "Processing Files:  35%|███▍      | 53/153 [06:35<12:41,  7.61s/it]"
     ]
    },
    {
     "name": "stdout",
     "output_type": "stream",
     "text": [
      "✅ [SAVED] Grouped File: /home/q674749/workspace/thesis_work/rat25-15.4.1/perception/grouped_data/combined_202.p\n"
     ]
    },
    {
     "name": "stderr",
     "output_type": "stream",
     "text": [
      "Processing Files:  35%|███▌      | 54/153 [06:37<09:45,  5.91s/it]"
     ]
    },
    {
     "name": "stdout",
     "output_type": "stream",
     "text": [
      "✅ [SAVED] Grouped File: /home/q674749/workspace/thesis_work/rat25-15.4.1/perception/grouped_data/combined_74.p\n"
     ]
    },
    {
     "name": "stderr",
     "output_type": "stream",
     "text": [
      "Processing Files:  36%|███▌      | 55/153 [06:48<11:54,  7.29s/it]"
     ]
    },
    {
     "name": "stdout",
     "output_type": "stream",
     "text": [
      "✅ [SAVED] Grouped File: /home/q674749/workspace/thesis_work/rat25-15.4.1/perception/grouped_data/combined_124.p\n"
     ]
    },
    {
     "name": "stderr",
     "output_type": "stream",
     "text": [
      "Processing Files:  37%|███▋      | 56/153 [06:52<10:11,  6.31s/it]"
     ]
    },
    {
     "name": "stdout",
     "output_type": "stream",
     "text": [
      "✅ [SAVED] Grouped File: /home/q674749/workspace/thesis_work/rat25-15.4.1/perception/grouped_data/combined_151.p\n"
     ]
    },
    {
     "name": "stderr",
     "output_type": "stream",
     "text": [
      "Processing Files:  37%|███▋      | 57/153 [07:02<11:53,  7.43s/it]"
     ]
    },
    {
     "name": "stdout",
     "output_type": "stream",
     "text": [
      "✅ [SAVED] Grouped File: /home/q674749/workspace/thesis_work/rat25-15.4.1/perception/grouped_data/combined_113.p\n"
     ]
    },
    {
     "name": "stderr",
     "output_type": "stream",
     "text": [
      "Processing Files:  38%|███▊      | 58/153 [07:12<13:02,  8.23s/it]"
     ]
    },
    {
     "name": "stdout",
     "output_type": "stream",
     "text": [
      "✅ [SAVED] Grouped File: /home/q674749/workspace/thesis_work/rat25-15.4.1/perception/grouped_data/combined_136.p\n"
     ]
    },
    {
     "name": "stderr",
     "output_type": "stream",
     "text": [
      "Processing Files:  39%|███▊      | 59/153 [07:14<09:57,  6.36s/it]"
     ]
    },
    {
     "name": "stdout",
     "output_type": "stream",
     "text": [
      "✅ [SAVED] Grouped File: /home/q674749/workspace/thesis_work/rat25-15.4.1/perception/grouped_data/combined_70.p\n"
     ]
    },
    {
     "name": "stderr",
     "output_type": "stream",
     "text": [
      "Processing Files:  39%|███▉      | 60/153 [07:16<07:47,  5.03s/it]"
     ]
    },
    {
     "name": "stdout",
     "output_type": "stream",
     "text": [
      "✅ [SAVED] Grouped File: /home/q674749/workspace/thesis_work/rat25-15.4.1/perception/grouped_data/combined_82.p\n"
     ]
    },
    {
     "name": "stderr",
     "output_type": "stream",
     "text": [
      "Processing Files:  40%|███▉      | 61/153 [07:18<06:17,  4.10s/it]"
     ]
    },
    {
     "name": "stdout",
     "output_type": "stream",
     "text": [
      "✅ [SAVED] Grouped File: /home/q674749/workspace/thesis_work/rat25-15.4.1/perception/grouped_data/combined_65.p\n"
     ]
    },
    {
     "name": "stderr",
     "output_type": "stream",
     "text": [
      "Processing Files:  41%|████      | 62/153 [07:19<05:13,  3.45s/it]"
     ]
    },
    {
     "name": "stdout",
     "output_type": "stream",
     "text": [
      "✅ [SAVED] Grouped File: /home/q674749/workspace/thesis_work/rat25-15.4.1/perception/grouped_data/combined_75.p\n"
     ]
    },
    {
     "name": "stderr",
     "output_type": "stream",
     "text": [
      "Processing Files:  41%|████      | 63/153 [07:30<08:08,  5.43s/it]"
     ]
    },
    {
     "name": "stdout",
     "output_type": "stream",
     "text": [
      "✅ [SAVED] Grouped File: /home/q674749/workspace/thesis_work/rat25-15.4.1/perception/grouped_data/combined_115.p\n"
     ]
    },
    {
     "name": "stderr",
     "output_type": "stream",
     "text": [
      "Processing Files:  42%|████▏     | 64/153 [07:32<06:30,  4.39s/it]"
     ]
    },
    {
     "name": "stdout",
     "output_type": "stream",
     "text": [
      "✅ [SAVED] Grouped File: /home/q674749/workspace/thesis_work/rat25-15.4.1/perception/grouped_data/combined_57.p\n"
     ]
    },
    {
     "name": "stderr",
     "output_type": "stream",
     "text": [
      "Processing Files:  42%|████▏     | 65/153 [07:33<05:21,  3.65s/it]"
     ]
    },
    {
     "name": "stdout",
     "output_type": "stream",
     "text": [
      "✅ [SAVED] Grouped File: /home/q674749/workspace/thesis_work/rat25-15.4.1/perception/grouped_data/combined_60.p\n"
     ]
    },
    {
     "name": "stderr",
     "output_type": "stream",
     "text": [
      "Processing Files:  43%|████▎     | 66/153 [07:37<05:26,  3.75s/it]"
     ]
    },
    {
     "name": "stdout",
     "output_type": "stream",
     "text": [
      "✅ [SAVED] Grouped File: /home/q674749/workspace/thesis_work/rat25-15.4.1/perception/grouped_data/combined_159.p\n"
     ]
    },
    {
     "name": "stderr",
     "output_type": "stream",
     "text": [
      "Processing Files:  44%|████▍     | 67/153 [07:50<09:07,  6.37s/it]"
     ]
    },
    {
     "name": "stdout",
     "output_type": "stream",
     "text": [
      "✅ [SAVED] Grouped File: /home/q674749/workspace/thesis_work/rat25-15.4.1/perception/grouped_data/combined_204.p\n"
     ]
    },
    {
     "name": "stderr",
     "output_type": "stream",
     "text": [
      "Processing Files:  44%|████▍     | 68/153 [07:52<07:09,  5.06s/it]"
     ]
    },
    {
     "name": "stdout",
     "output_type": "stream",
     "text": [
      "✅ [SAVED] Grouped File: /home/q674749/workspace/thesis_work/rat25-15.4.1/perception/grouped_data/combined_61.p\n"
     ]
    },
    {
     "name": "stderr",
     "output_type": "stream",
     "text": [
      "Processing Files:  45%|████▌     | 69/153 [08:02<09:10,  6.55s/it]"
     ]
    },
    {
     "name": "stdout",
     "output_type": "stream",
     "text": [
      "✅ [SAVED] Grouped File: /home/q674749/workspace/thesis_work/rat25-15.4.1/perception/grouped_data/combined_130.p\n"
     ]
    },
    {
     "name": "stderr",
     "output_type": "stream",
     "text": [
      "Processing Files:  46%|████▌     | 70/153 [08:04<07:09,  5.18s/it]"
     ]
    },
    {
     "name": "stdout",
     "output_type": "stream",
     "text": [
      "✅ [SAVED] Grouped File: /home/q674749/workspace/thesis_work/rat25-15.4.1/perception/grouped_data/combined_59.p\n"
     ]
    },
    {
     "name": "stderr",
     "output_type": "stream",
     "text": [
      "Processing Files:  46%|████▋     | 71/153 [08:14<09:04,  6.64s/it]"
     ]
    },
    {
     "name": "stdout",
     "output_type": "stream",
     "text": [
      "✅ [SAVED] Grouped File: /home/q674749/workspace/thesis_work/rat25-15.4.1/perception/grouped_data/combined_126.p\n"
     ]
    },
    {
     "name": "stderr",
     "output_type": "stream",
     "text": [
      "Processing Files:  47%|████▋     | 72/153 [08:18<07:53,  5.85s/it]"
     ]
    },
    {
     "name": "stdout",
     "output_type": "stream",
     "text": [
      "✅ [SAVED] Grouped File: /home/q674749/workspace/thesis_work/rat25-15.4.1/perception/grouped_data/combined_175.p\n"
     ]
    },
    {
     "name": "stderr",
     "output_type": "stream",
     "text": [
      "Processing Files:  48%|████▊     | 73/153 [08:22<07:13,  5.41s/it]"
     ]
    },
    {
     "name": "stdout",
     "output_type": "stream",
     "text": [
      "✅ [SAVED] Grouped File: /home/q674749/workspace/thesis_work/rat25-15.4.1/perception/grouped_data/combined_163.p\n"
     ]
    },
    {
     "name": "stderr",
     "output_type": "stream",
     "text": [
      "Processing Files:  48%|████▊     | 74/153 [08:24<05:45,  4.37s/it]"
     ]
    },
    {
     "name": "stdout",
     "output_type": "stream",
     "text": [
      "✅ [SAVED] Grouped File: /home/q674749/workspace/thesis_work/rat25-15.4.1/perception/grouped_data/combined_63.p\n"
     ]
    },
    {
     "name": "stderr",
     "output_type": "stream",
     "text": [
      "Processing Files:  49%|████▉     | 75/153 [08:37<08:49,  6.79s/it]"
     ]
    },
    {
     "name": "stdout",
     "output_type": "stream",
     "text": [
      "✅ [SAVED] Grouped File: /home/q674749/workspace/thesis_work/rat25-15.4.1/perception/grouped_data/combined_209.p\n"
     ]
    },
    {
     "name": "stderr",
     "output_type": "stream",
     "text": [
      "Processing Files:  50%|████▉     | 76/153 [08:49<10:54,  8.50s/it]"
     ]
    },
    {
     "name": "stdout",
     "output_type": "stream",
     "text": [
      "✅ [SAVED] Grouped File: /home/q674749/workspace/thesis_work/rat25-15.4.1/perception/grouped_data/combined_225.p\n"
     ]
    },
    {
     "name": "stderr",
     "output_type": "stream",
     "text": [
      "Processing Files:  50%|█████     | 77/153 [08:59<11:21,  8.97s/it]"
     ]
    },
    {
     "name": "stdout",
     "output_type": "stream",
     "text": [
      "✅ [SAVED] Grouped File: /home/q674749/workspace/thesis_work/rat25-15.4.1/perception/grouped_data/combined_128.p\n"
     ]
    },
    {
     "name": "stderr",
     "output_type": "stream",
     "text": [
      "Processing Files:  51%|█████     | 78/153 [09:12<12:31, 10.02s/it]"
     ]
    },
    {
     "name": "stdout",
     "output_type": "stream",
     "text": [
      "✅ [SAVED] Grouped File: /home/q674749/workspace/thesis_work/rat25-15.4.1/perception/grouped_data/combined_228.p\n"
     ]
    },
    {
     "name": "stderr",
     "output_type": "stream",
     "text": [
      "Processing Files:  52%|█████▏    | 79/153 [09:22<12:23, 10.04s/it]"
     ]
    },
    {
     "name": "stdout",
     "output_type": "stream",
     "text": [
      "✅ [SAVED] Grouped File: /home/q674749/workspace/thesis_work/rat25-15.4.1/perception/grouped_data/combined_131.p\n"
     ]
    },
    {
     "name": "stderr",
     "output_type": "stream",
     "text": [
      "Processing Files:  52%|█████▏    | 80/153 [09:32<12:13, 10.05s/it]"
     ]
    },
    {
     "name": "stdout",
     "output_type": "stream",
     "text": [
      "✅ [SAVED] Grouped File: /home/q674749/workspace/thesis_work/rat25-15.4.1/perception/grouped_data/combined_123.p\n"
     ]
    },
    {
     "name": "stderr",
     "output_type": "stream",
     "text": [
      "Processing Files:  53%|█████▎    | 81/153 [09:44<12:55, 10.78s/it]"
     ]
    },
    {
     "name": "stdout",
     "output_type": "stream",
     "text": [
      "✅ [SAVED] Grouped File: /home/q674749/workspace/thesis_work/rat25-15.4.1/perception/grouped_data/combined_188.p\n"
     ]
    },
    {
     "name": "stderr",
     "output_type": "stream",
     "text": [
      "Processing Files:  54%|█████▎    | 82/153 [09:57<13:22, 11.30s/it]"
     ]
    },
    {
     "name": "stdout",
     "output_type": "stream",
     "text": [
      "✅ [SAVED] Grouped File: /home/q674749/workspace/thesis_work/rat25-15.4.1/perception/grouped_data/combined_222.p\n"
     ]
    },
    {
     "name": "stderr",
     "output_type": "stream",
     "text": [
      "Processing Files:  54%|█████▍    | 83/153 [10:09<13:35, 11.66s/it]"
     ]
    },
    {
     "name": "stdout",
     "output_type": "stream",
     "text": [
      "✅ [SAVED] Grouped File: /home/q674749/workspace/thesis_work/rat25-15.4.1/perception/grouped_data/combined_206.p\n"
     ]
    },
    {
     "name": "stderr",
     "output_type": "stream",
     "text": [
      "Processing Files:  55%|█████▍    | 84/153 [10:11<10:03,  8.75s/it]"
     ]
    },
    {
     "name": "stdout",
     "output_type": "stream",
     "text": [
      "✅ [SAVED] Grouped File: /home/q674749/workspace/thesis_work/rat25-15.4.1/perception/grouped_data/combined_66.p\n"
     ]
    },
    {
     "name": "stderr",
     "output_type": "stream",
     "text": [
      "Processing Files:  56%|█████▌    | 85/153 [10:15<08:17,  7.31s/it]"
     ]
    },
    {
     "name": "stdout",
     "output_type": "stream",
     "text": [
      "✅ [SAVED] Grouped File: /home/q674749/workspace/thesis_work/rat25-15.4.1/perception/grouped_data/combined_149.p\n"
     ]
    },
    {
     "name": "stderr",
     "output_type": "stream",
     "text": [
      "Processing Files:  56%|█████▌    | 86/153 [10:26<09:14,  8.28s/it]"
     ]
    },
    {
     "name": "stdout",
     "output_type": "stream",
     "text": [
      "✅ [SAVED] Grouped File: /home/q674749/workspace/thesis_work/rat25-15.4.1/perception/grouped_data/combined_146.p\n"
     ]
    },
    {
     "name": "stderr",
     "output_type": "stream",
     "text": [
      "Processing Files:  57%|█████▋    | 87/153 [10:38<10:30,  9.55s/it]"
     ]
    },
    {
     "name": "stdout",
     "output_type": "stream",
     "text": [
      "✅ [SAVED] Grouped File: /home/q674749/workspace/thesis_work/rat25-15.4.1/perception/grouped_data/combined_220.p\n"
     ]
    },
    {
     "name": "stderr",
     "output_type": "stream",
     "text": [
      "Processing Files:  58%|█████▊    | 88/153 [10:40<07:53,  7.28s/it]"
     ]
    },
    {
     "name": "stdout",
     "output_type": "stream",
     "text": [
      "✅ [SAVED] Grouped File: /home/q674749/workspace/thesis_work/rat25-15.4.1/perception/grouped_data/combined_77.p\n"
     ]
    },
    {
     "name": "stderr",
     "output_type": "stream",
     "text": [
      "Processing Files:  58%|█████▊    | 89/153 [10:53<09:25,  8.83s/it]"
     ]
    },
    {
     "name": "stdout",
     "output_type": "stream",
     "text": [
      "✅ [SAVED] Grouped File: /home/q674749/workspace/thesis_work/rat25-15.4.1/perception/grouped_data/combined_193.p\n"
     ]
    },
    {
     "name": "stderr",
     "output_type": "stream",
     "text": [
      "Processing Files:  59%|█████▉    | 90/153 [10:57<07:45,  7.39s/it]"
     ]
    },
    {
     "name": "stdout",
     "output_type": "stream",
     "text": [
      "✅ [SAVED] Grouped File: /home/q674749/workspace/thesis_work/rat25-15.4.1/perception/grouped_data/combined_178.p\n"
     ]
    },
    {
     "name": "stderr",
     "output_type": "stream",
     "text": [
      "Processing Files:  59%|█████▉    | 91/153 [10:59<05:56,  5.75s/it]"
     ]
    },
    {
     "name": "stdout",
     "output_type": "stream",
     "text": [
      "✅ [SAVED] Grouped File: /home/q674749/workspace/thesis_work/rat25-15.4.1/perception/grouped_data/combined_84.p\n"
     ]
    },
    {
     "name": "stderr",
     "output_type": "stream",
     "text": [
      "Processing Files:  60%|██████    | 92/153 [11:01<04:41,  4.61s/it]"
     ]
    },
    {
     "name": "stdout",
     "output_type": "stream",
     "text": [
      "✅ [SAVED] Grouped File: /home/q674749/workspace/thesis_work/rat25-15.4.1/perception/grouped_data/combined_68.p\n"
     ]
    },
    {
     "name": "stderr",
     "output_type": "stream",
     "text": [
      "Processing Files:  61%|██████    | 93/153 [11:11<06:15,  6.26s/it]"
     ]
    },
    {
     "name": "stdout",
     "output_type": "stream",
     "text": [
      "✅ [SAVED] Grouped File: /home/q674749/workspace/thesis_work/rat25-15.4.1/perception/grouped_data/combined_139.p\n"
     ]
    },
    {
     "name": "stderr",
     "output_type": "stream",
     "text": [
      "Processing Files:  61%|██████▏   | 94/153 [11:21<07:18,  7.44s/it]"
     ]
    },
    {
     "name": "stdout",
     "output_type": "stream",
     "text": [
      "✅ [SAVED] Grouped File: /home/q674749/workspace/thesis_work/rat25-15.4.1/perception/grouped_data/combined_135.p\n"
     ]
    },
    {
     "name": "stderr",
     "output_type": "stream",
     "text": [
      "Processing Files:  62%|██████▏   | 95/153 [11:31<07:57,  8.23s/it]"
     ]
    },
    {
     "name": "stdout",
     "output_type": "stream",
     "text": [
      "✅ [SAVED] Grouped File: /home/q674749/workspace/thesis_work/rat25-15.4.1/perception/grouped_data/combined_129.p\n"
     ]
    },
    {
     "name": "stderr",
     "output_type": "stream",
     "text": [
      "Processing Files:  63%|██████▎   | 96/153 [11:35<06:37,  6.97s/it]"
     ]
    },
    {
     "name": "stdout",
     "output_type": "stream",
     "text": [
      "✅ [SAVED] Grouped File: /home/q674749/workspace/thesis_work/rat25-15.4.1/perception/grouped_data/combined_167.p\n"
     ]
    },
    {
     "name": "stderr",
     "output_type": "stream",
     "text": [
      "Processing Files:  63%|██████▎   | 97/153 [11:48<08:02,  8.62s/it]"
     ]
    },
    {
     "name": "stdout",
     "output_type": "stream",
     "text": [
      "✅ [SAVED] Grouped File: /home/q674749/workspace/thesis_work/rat25-15.4.1/perception/grouped_data/combined_205.p\n"
     ]
    },
    {
     "name": "stderr",
     "output_type": "stream",
     "text": [
      "Processing Files:  64%|██████▍   | 98/153 [11:58<08:18,  9.07s/it]"
     ]
    },
    {
     "name": "stdout",
     "output_type": "stream",
     "text": [
      "✅ [SAVED] Grouped File: /home/q674749/workspace/thesis_work/rat25-15.4.1/perception/grouped_data/combined_112.p\n"
     ]
    },
    {
     "name": "stderr",
     "output_type": "stream",
     "text": [
      "Processing Files:  65%|██████▍   | 99/153 [12:11<09:12, 10.24s/it]"
     ]
    },
    {
     "name": "stdout",
     "output_type": "stream",
     "text": [
      "✅ [SAVED] Grouped File: /home/q674749/workspace/thesis_work/rat25-15.4.1/perception/grouped_data/combined_214.p\n"
     ]
    },
    {
     "name": "stderr",
     "output_type": "stream",
     "text": [
      "Processing Files:  65%|██████▌   | 100/153 [12:21<08:59, 10.18s/it]"
     ]
    },
    {
     "name": "stdout",
     "output_type": "stream",
     "text": [
      "✅ [SAVED] Grouped File: /home/q674749/workspace/thesis_work/rat25-15.4.1/perception/grouped_data/combined_122.p\n"
     ]
    },
    {
     "name": "stderr",
     "output_type": "stream",
     "text": [
      "Processing Files:  66%|██████▌   | 101/153 [12:31<08:48, 10.16s/it]"
     ]
    },
    {
     "name": "stdout",
     "output_type": "stream",
     "text": [
      "✅ [SAVED] Grouped File: /home/q674749/workspace/thesis_work/rat25-15.4.1/perception/grouped_data/combined_132.p\n"
     ]
    },
    {
     "name": "stderr",
     "output_type": "stream",
     "text": [
      "Processing Files:  67%|██████▋   | 102/153 [12:33<06:33,  7.71s/it]"
     ]
    },
    {
     "name": "stdout",
     "output_type": "stream",
     "text": [
      "✅ [SAVED] Grouped File: /home/q674749/workspace/thesis_work/rat25-15.4.1/perception/grouped_data/combined_79.p\n"
     ]
    },
    {
     "name": "stderr",
     "output_type": "stream",
     "text": [
      "Processing Files:  67%|██████▋   | 103/153 [12:37<05:29,  6.59s/it]"
     ]
    },
    {
     "name": "stdout",
     "output_type": "stream",
     "text": [
      "✅ [SAVED] Grouped File: /home/q674749/workspace/thesis_work/rat25-15.4.1/perception/grouped_data/combined_150.p\n"
     ]
    },
    {
     "name": "stderr",
     "output_type": "stream",
     "text": [
      "Processing Files:  68%|██████▊   | 104/153 [12:47<06:14,  7.64s/it]"
     ]
    },
    {
     "name": "stdout",
     "output_type": "stream",
     "text": [
      "✅ [SAVED] Grouped File: /home/q674749/workspace/thesis_work/rat25-15.4.1/perception/grouped_data/combined_143.p\n"
     ]
    },
    {
     "name": "stderr",
     "output_type": "stream",
     "text": [
      "Processing Files:  69%|██████▊   | 105/153 [12:51<05:14,  6.56s/it]"
     ]
    },
    {
     "name": "stdout",
     "output_type": "stream",
     "text": [
      "✅ [SAVED] Grouped File: /home/q674749/workspace/thesis_work/rat25-15.4.1/perception/grouped_data/combined_168.p\n"
     ]
    },
    {
     "name": "stderr",
     "output_type": "stream",
     "text": [
      "Processing Files:  69%|██████▉   | 106/153 [13:03<06:31,  8.33s/it]"
     ]
    },
    {
     "name": "stdout",
     "output_type": "stream",
     "text": [
      "✅ [SAVED] Grouped File: /home/q674749/workspace/thesis_work/rat25-15.4.1/perception/grouped_data/combined_189.p\n"
     ]
    },
    {
     "name": "stderr",
     "output_type": "stream",
     "text": [
      "Processing Files:  70%|██████▉   | 107/153 [13:16<07:21,  9.60s/it]"
     ]
    },
    {
     "name": "stdout",
     "output_type": "stream",
     "text": [
      "✅ [SAVED] Grouped File: /home/q674749/workspace/thesis_work/rat25-15.4.1/perception/grouped_data/combined_221.p\n"
     ]
    },
    {
     "name": "stderr",
     "output_type": "stream",
     "text": [
      "Processing Files:  71%|███████   | 108/153 [13:20<05:56,  7.92s/it]"
     ]
    },
    {
     "name": "stdout",
     "output_type": "stream",
     "text": [
      "✅ [SAVED] Grouped File: /home/q674749/workspace/thesis_work/rat25-15.4.1/perception/grouped_data/combined_164.p\n"
     ]
    },
    {
     "name": "stderr",
     "output_type": "stream",
     "text": [
      "Processing Files:  71%|███████   | 109/153 [13:22<04:29,  6.13s/it]"
     ]
    },
    {
     "name": "stdout",
     "output_type": "stream",
     "text": [
      "✅ [SAVED] Grouped File: /home/q674749/workspace/thesis_work/rat25-15.4.1/perception/grouped_data/combined_71.p\n"
     ]
    },
    {
     "name": "stderr",
     "output_type": "stream",
     "text": [
      "Processing Files:  72%|███████▏  | 110/153 [13:24<03:29,  4.86s/it]"
     ]
    },
    {
     "name": "stdout",
     "output_type": "stream",
     "text": [
      "✅ [SAVED] Grouped File: /home/q674749/workspace/thesis_work/rat25-15.4.1/perception/grouped_data/combined_73.p\n"
     ]
    },
    {
     "name": "stderr",
     "output_type": "stream",
     "text": [
      "Processing Files:  73%|███████▎  | 111/153 [13:36<04:59,  7.14s/it]"
     ]
    },
    {
     "name": "stdout",
     "output_type": "stream",
     "text": [
      "✅ [SAVED] Grouped File: /home/q674749/workspace/thesis_work/rat25-15.4.1/perception/grouped_data/combined_187.p\n"
     ]
    },
    {
     "name": "stderr",
     "output_type": "stream",
     "text": [
      "Processing Files:  73%|███████▎  | 112/153 [13:40<04:14,  6.20s/it]"
     ]
    },
    {
     "name": "stdout",
     "output_type": "stream",
     "text": [
      "✅ [SAVED] Grouped File: /home/q674749/workspace/thesis_work/rat25-15.4.1/perception/grouped_data/combined_160.p\n"
     ]
    },
    {
     "name": "stderr",
     "output_type": "stream",
     "text": [
      "Processing Files:  74%|███████▍  | 113/153 [13:50<04:54,  7.37s/it]"
     ]
    },
    {
     "name": "stdout",
     "output_type": "stream",
     "text": [
      "✅ [SAVED] Grouped File: /home/q674749/workspace/thesis_work/rat25-15.4.1/perception/grouped_data/combined_117.p\n"
     ]
    },
    {
     "name": "stderr",
     "output_type": "stream",
     "text": [
      "Processing Files:  75%|███████▍  | 114/153 [14:01<05:24,  8.33s/it]"
     ]
    },
    {
     "name": "stdout",
     "output_type": "stream",
     "text": [
      "✅ [SAVED] Grouped File: /home/q674749/workspace/thesis_work/rat25-15.4.1/perception/grouped_data/combined_137.p\n"
     ]
    },
    {
     "name": "stderr",
     "output_type": "stream",
     "text": [
      "Processing Files:  75%|███████▌  | 115/153 [14:13<06:03,  9.58s/it]"
     ]
    },
    {
     "name": "stdout",
     "output_type": "stream",
     "text": [
      "✅ [SAVED] Grouped File: /home/q674749/workspace/thesis_work/rat25-15.4.1/perception/grouped_data/combined_191.p\n"
     ]
    },
    {
     "name": "stderr",
     "output_type": "stream",
     "text": [
      "Processing Files:  76%|███████▌  | 116/153 [14:26<06:26, 10.45s/it]"
     ]
    },
    {
     "name": "stdout",
     "output_type": "stream",
     "text": [
      "✅ [SAVED] Grouped File: /home/q674749/workspace/thesis_work/rat25-15.4.1/perception/grouped_data/combined_196.p\n"
     ]
    },
    {
     "name": "stderr",
     "output_type": "stream",
     "text": [
      "Processing Files:  76%|███████▋  | 117/153 [14:36<06:12, 10.36s/it]"
     ]
    },
    {
     "name": "stdout",
     "output_type": "stream",
     "text": [
      "✅ [SAVED] Grouped File: /home/q674749/workspace/thesis_work/rat25-15.4.1/perception/grouped_data/combined_114.p\n"
     ]
    },
    {
     "name": "stderr",
     "output_type": "stream",
     "text": [
      "Processing Files:  77%|███████▋  | 118/153 [14:49<06:24, 11.00s/it]"
     ]
    },
    {
     "name": "stdout",
     "output_type": "stream",
     "text": [
      "✅ [SAVED] Grouped File: /home/q674749/workspace/thesis_work/rat25-15.4.1/perception/grouped_data/combined_211.p\n"
     ]
    },
    {
     "name": "stderr",
     "output_type": "stream",
     "text": [
      "Processing Files:  78%|███████▊  | 119/153 [15:01<06:29, 11.44s/it]"
     ]
    },
    {
     "name": "stdout",
     "output_type": "stream",
     "text": [
      "✅ [SAVED] Grouped File: /home/q674749/workspace/thesis_work/rat25-15.4.1/perception/grouped_data/combined_201.p\n"
     ]
    },
    {
     "name": "stderr",
     "output_type": "stream",
     "text": [
      "Processing Files:  78%|███████▊  | 120/153 [15:14<06:28, 11.76s/it]"
     ]
    },
    {
     "name": "stdout",
     "output_type": "stream",
     "text": [
      "✅ [SAVED] Grouped File: /home/q674749/workspace/thesis_work/rat25-15.4.1/perception/grouped_data/combined_217.p\n"
     ]
    },
    {
     "name": "stderr",
     "output_type": "stream",
     "text": [
      "Processing Files:  79%|███████▉  | 121/153 [15:24<06:00, 11.27s/it]"
     ]
    },
    {
     "name": "stdout",
     "output_type": "stream",
     "text": [
      "✅ [SAVED] Grouped File: /home/q674749/workspace/thesis_work/rat25-15.4.1/perception/grouped_data/combined_133.p\n"
     ]
    },
    {
     "name": "stderr",
     "output_type": "stream",
     "text": [
      "Processing Files:  80%|███████▉  | 122/153 [15:28<04:41,  9.09s/it]"
     ]
    },
    {
     "name": "stdout",
     "output_type": "stream",
     "text": [
      "✅ [SAVED] Grouped File: /home/q674749/workspace/thesis_work/rat25-15.4.1/perception/grouped_data/combined_171.p\n"
     ]
    },
    {
     "name": "stderr",
     "output_type": "stream",
     "text": [
      "Processing Files:  80%|████████  | 123/153 [15:32<03:46,  7.56s/it]"
     ]
    },
    {
     "name": "stdout",
     "output_type": "stream",
     "text": [
      "✅ [SAVED] Grouped File: /home/q674749/workspace/thesis_work/rat25-15.4.1/perception/grouped_data/combined_169.p\n"
     ]
    },
    {
     "name": "stderr",
     "output_type": "stream",
     "text": [
      "Processing Files:  81%|████████  | 124/153 [15:42<04:00,  8.31s/it]"
     ]
    },
    {
     "name": "stdout",
     "output_type": "stream",
     "text": [
      "✅ [SAVED] Grouped File: /home/q674749/workspace/thesis_work/rat25-15.4.1/perception/grouped_data/combined_145.p\n"
     ]
    },
    {
     "name": "stderr",
     "output_type": "stream",
     "text": [
      "Processing Files:  82%|████████▏ | 125/153 [15:52<04:11,  8.99s/it]"
     ]
    },
    {
     "name": "stdout",
     "output_type": "stream",
     "text": [
      "✅ [SAVED] Grouped File: /home/q674749/workspace/thesis_work/rat25-15.4.1/perception/grouped_data/combined_147.p\n"
     ]
    },
    {
     "name": "stderr",
     "output_type": "stream",
     "text": [
      "Processing Files:  82%|████████▏ | 126/153 [16:05<04:31, 10.05s/it]"
     ]
    },
    {
     "name": "stdout",
     "output_type": "stream",
     "text": [
      "✅ [SAVED] Grouped File: /home/q674749/workspace/thesis_work/rat25-15.4.1/perception/grouped_data/combined_203.p\n"
     ]
    },
    {
     "name": "stderr",
     "output_type": "stream",
     "text": [
      "Processing Files:  83%|████████▎ | 127/153 [16:17<04:40, 10.78s/it]"
     ]
    },
    {
     "name": "stdout",
     "output_type": "stream",
     "text": [
      "✅ [SAVED] Grouped File: /home/q674749/workspace/thesis_work/rat25-15.4.1/perception/grouped_data/combined_198.p\n"
     ]
    },
    {
     "name": "stderr",
     "output_type": "stream",
     "text": [
      "Processing Files:  84%|████████▎ | 128/153 [16:19<03:23,  8.14s/it]"
     ]
    },
    {
     "name": "stdout",
     "output_type": "stream",
     "text": [
      "✅ [SAVED] Grouped File: /home/q674749/workspace/thesis_work/rat25-15.4.1/perception/grouped_data/combined_83.p\n"
     ]
    },
    {
     "name": "stderr",
     "output_type": "stream",
     "text": [
      "Processing Files:  84%|████████▍ | 129/153 [16:32<03:46,  9.44s/it]"
     ]
    },
    {
     "name": "stdout",
     "output_type": "stream",
     "text": [
      "✅ [SAVED] Grouped File: /home/q674749/workspace/thesis_work/rat25-15.4.1/perception/grouped_data/combined_216.p\n"
     ]
    },
    {
     "name": "stderr",
     "output_type": "stream",
     "text": [
      "Processing Files:  85%|████████▍ | 130/153 [16:44<03:58, 10.37s/it]"
     ]
    },
    {
     "name": "stdout",
     "output_type": "stream",
     "text": [
      "✅ [SAVED] Grouped File: /home/q674749/workspace/thesis_work/rat25-15.4.1/perception/grouped_data/combined_224.p\n"
     ]
    },
    {
     "name": "stderr",
     "output_type": "stream",
     "text": [
      "Processing Files:  86%|████████▌ | 131/153 [16:57<04:02, 11.00s/it]"
     ]
    },
    {
     "name": "stdout",
     "output_type": "stream",
     "text": [
      "✅ [SAVED] Grouped File: /home/q674749/workspace/thesis_work/rat25-15.4.1/perception/grouped_data/combined_185.p\n"
     ]
    },
    {
     "name": "stderr",
     "output_type": "stream",
     "text": [
      "Processing Files:  86%|████████▋ | 132/153 [17:09<04:00, 11.46s/it]"
     ]
    },
    {
     "name": "stdout",
     "output_type": "stream",
     "text": [
      "✅ [SAVED] Grouped File: /home/q674749/workspace/thesis_work/rat25-15.4.1/perception/grouped_data/combined_215.p\n"
     ]
    },
    {
     "name": "stderr",
     "output_type": "stream",
     "text": [
      "Processing Files:  87%|████████▋ | 133/153 [17:22<03:55, 11.78s/it]"
     ]
    },
    {
     "name": "stdout",
     "output_type": "stream",
     "text": [
      "✅ [SAVED] Grouped File: /home/q674749/workspace/thesis_work/rat25-15.4.1/perception/grouped_data/combined_199.p\n"
     ]
    },
    {
     "name": "stderr",
     "output_type": "stream",
     "text": [
      "Processing Files:  88%|████████▊ | 134/153 [17:34<03:47, 11.99s/it]"
     ]
    },
    {
     "name": "stdout",
     "output_type": "stream",
     "text": [
      "✅ [SAVED] Grouped File: /home/q674749/workspace/thesis_work/rat25-15.4.1/perception/grouped_data/combined_213.p\n"
     ]
    },
    {
     "name": "stderr",
     "output_type": "stream",
     "text": [
      "Processing Files:  88%|████████▊ | 135/153 [17:47<03:38, 12.15s/it]"
     ]
    },
    {
     "name": "stdout",
     "output_type": "stream",
     "text": [
      "✅ [SAVED] Grouped File: /home/q674749/workspace/thesis_work/rat25-15.4.1/perception/grouped_data/combined_186.p\n"
     ]
    },
    {
     "name": "stderr",
     "output_type": "stream",
     "text": [
      "Processing Files:  89%|████████▉ | 136/153 [17:51<02:45,  9.72s/it]"
     ]
    },
    {
     "name": "stdout",
     "output_type": "stream",
     "text": [
      "✅ [SAVED] Grouped File: /home/q674749/workspace/thesis_work/rat25-15.4.1/perception/grouped_data/combined_158.p\n"
     ]
    },
    {
     "name": "stderr",
     "output_type": "stream",
     "text": [
      "Processing Files:  90%|████████▉ | 137/153 [17:53<01:58,  7.39s/it]"
     ]
    },
    {
     "name": "stdout",
     "output_type": "stream",
     "text": [
      "✅ [SAVED] Grouped File: /home/q674749/workspace/thesis_work/rat25-15.4.1/perception/grouped_data/combined_78.p\n"
     ]
    },
    {
     "name": "stderr",
     "output_type": "stream",
     "text": [
      "Processing Files:  90%|█████████ | 138/153 [17:57<01:35,  6.36s/it]"
     ]
    },
    {
     "name": "stdout",
     "output_type": "stream",
     "text": [
      "✅ [SAVED] Grouped File: /home/q674749/workspace/thesis_work/rat25-15.4.1/perception/grouped_data/combined_181.p\n"
     ]
    },
    {
     "name": "stderr",
     "output_type": "stream",
     "text": [
      "Processing Files:  91%|█████████ | 139/153 [18:10<01:56,  8.34s/it]"
     ]
    },
    {
     "name": "stdout",
     "output_type": "stream",
     "text": [
      "✅ [SAVED] Grouped File: /home/q674749/workspace/thesis_work/rat25-15.4.1/perception/grouped_data/combined_190.p\n"
     ]
    },
    {
     "name": "stderr",
     "output_type": "stream",
     "text": [
      "Processing Files:  92%|█████████▏| 140/153 [18:22<02:04,  9.58s/it]"
     ]
    },
    {
     "name": "stdout",
     "output_type": "stream",
     "text": [
      "✅ [SAVED] Grouped File: /home/q674749/workspace/thesis_work/rat25-15.4.1/perception/grouped_data/combined_219.p\n"
     ]
    },
    {
     "name": "stderr",
     "output_type": "stream",
     "text": [
      "Processing Files:  92%|█████████▏| 141/153 [18:35<02:05, 10.47s/it]"
     ]
    },
    {
     "name": "stdout",
     "output_type": "stream",
     "text": [
      "✅ [SAVED] Grouped File: /home/q674749/workspace/thesis_work/rat25-15.4.1/perception/grouped_data/combined_200.p\n"
     ]
    },
    {
     "name": "stderr",
     "output_type": "stream",
     "text": [
      "Processing Files:  93%|█████████▎| 142/153 [18:39<01:33,  8.54s/it]"
     ]
    },
    {
     "name": "stdout",
     "output_type": "stream",
     "text": [
      "✅ [SAVED] Grouped File: /home/q674749/workspace/thesis_work/rat25-15.4.1/perception/grouped_data/combined_182.p\n"
     ]
    },
    {
     "name": "stderr",
     "output_type": "stream",
     "text": [
      "Processing Files:  93%|█████████▎| 143/153 [18:43<01:11,  7.18s/it]"
     ]
    },
    {
     "name": "stdout",
     "output_type": "stream",
     "text": [
      "✅ [SAVED] Grouped File: /home/q674749/workspace/thesis_work/rat25-15.4.1/perception/grouped_data/combined_162.p\n"
     ]
    },
    {
     "name": "stderr",
     "output_type": "stream",
     "text": [
      "Processing Files:  94%|█████████▍| 144/153 [18:45<00:50,  5.61s/it]"
     ]
    },
    {
     "name": "stdout",
     "output_type": "stream",
     "text": [
      "✅ [SAVED] Grouped File: /home/q674749/workspace/thesis_work/rat25-15.4.1/perception/grouped_data/combined_67.p\n"
     ]
    },
    {
     "name": "stderr",
     "output_type": "stream",
     "text": [
      "Processing Files:  95%|█████████▍| 145/153 [18:49<00:40,  5.12s/it]"
     ]
    },
    {
     "name": "stdout",
     "output_type": "stream",
     "text": [
      "✅ [SAVED] Grouped File: /home/q674749/workspace/thesis_work/rat25-15.4.1/perception/grouped_data/combined_177.p\n"
     ]
    },
    {
     "name": "stderr",
     "output_type": "stream",
     "text": [
      "Processing Files:  95%|█████████▌| 146/153 [18:53<00:33,  4.78s/it]"
     ]
    },
    {
     "name": "stdout",
     "output_type": "stream",
     "text": [
      "✅ [SAVED] Grouped File: /home/q674749/workspace/thesis_work/rat25-15.4.1/perception/grouped_data/combined_152.p\n"
     ]
    },
    {
     "name": "stderr",
     "output_type": "stream",
     "text": [
      "Processing Files:  96%|█████████▌| 147/153 [19:05<00:42,  7.09s/it]"
     ]
    },
    {
     "name": "stdout",
     "output_type": "stream",
     "text": [
      "✅ [SAVED] Grouped File: /home/q674749/workspace/thesis_work/rat25-15.4.1/perception/grouped_data/combined_192.p\n"
     ]
    },
    {
     "name": "stderr",
     "output_type": "stream",
     "text": [
      "Processing Files:  97%|█████████▋| 148/153 [19:07<00:27,  5.57s/it]"
     ]
    },
    {
     "name": "stdout",
     "output_type": "stream",
     "text": [
      "✅ [SAVED] Grouped File: /home/q674749/workspace/thesis_work/rat25-15.4.1/perception/grouped_data/combined_53.p\n"
     ]
    },
    {
     "name": "stderr",
     "output_type": "stream",
     "text": [
      "Processing Files:  97%|█████████▋| 149/153 [19:11<00:20,  5.10s/it]"
     ]
    },
    {
     "name": "stdout",
     "output_type": "stream",
     "text": [
      "✅ [SAVED] Grouped File: /home/q674749/workspace/thesis_work/rat25-15.4.1/perception/grouped_data/combined_180.p\n"
     ]
    },
    {
     "name": "stderr",
     "output_type": "stream",
     "text": [
      "Processing Files:  98%|█████████▊| 150/153 [19:21<00:19,  6.59s/it]"
     ]
    },
    {
     "name": "stdout",
     "output_type": "stream",
     "text": [
      "✅ [SAVED] Grouped File: /home/q674749/workspace/thesis_work/rat25-15.4.1/perception/grouped_data/combined_125.p\n"
     ]
    },
    {
     "name": "stderr",
     "output_type": "stream",
     "text": [
      "Processing Files:  99%|█████████▊| 151/153 [19:31<00:15,  7.64s/it]"
     ]
    },
    {
     "name": "stdout",
     "output_type": "stream",
     "text": [
      "✅ [SAVED] Grouped File: /home/q674749/workspace/thesis_work/rat25-15.4.1/perception/grouped_data/combined_127.p\n"
     ]
    },
    {
     "name": "stderr",
     "output_type": "stream",
     "text": [
      "Processing Files:  99%|█████████▉| 152/153 [19:33<00:05,  5.94s/it]"
     ]
    },
    {
     "name": "stdout",
     "output_type": "stream",
     "text": [
      "✅ [SAVED] Grouped File: /home/q674749/workspace/thesis_work/rat25-15.4.1/perception/grouped_data/combined_72.p\n"
     ]
    },
    {
     "name": "stderr",
     "output_type": "stream",
     "text": [
      "Processing Files: 100%|██████████| 153/153 [19:43<00:00,  7.74s/it]"
     ]
    },
    {
     "name": "stdout",
     "output_type": "stream",
     "text": [
      "✅ [SAVED] Grouped File: /home/q674749/workspace/thesis_work/rat25-15.4.1/perception/grouped_data/combined_142.p\n",
      "\n",
      "🎯 [SUCCESS] Grouping of Detections Completed!\n"
     ]
    },
    {
     "name": "stderr",
     "output_type": "stream",
     "text": [
      "\n"
     ]
    }
   ],
   "source": [
    "import os\n",
    "import pandas as pd\n",
    "import numpy as np\n",
    "from tqdm import tqdm\n",
    "\n",
    "#  Paths\n",
    "input_folder = r\"/home/q674749/workspace/thesis_work/rat25-15.4.1/perception/padded_data\"\n",
    "output_folder = r\"/home/q674749/workspace/thesis_work/rat25-15.4.1/perception/grouped_data\"\n",
    "os.makedirs(output_folder, exist_ok=True)\n",
    "\n",
    "#  Define Feature, Scalar, and Target Columns\n",
    "feature_columns = [\"rcs\", \"distance\", \"angleAzimuth\", \"angleElevation\", \"radialVelocity\"]\n",
    "scalar_columns = [\"radialVelocityDomainMax\", \"yaw_rate\", \"ego_speed\"]\n",
    "object_properties = [\"centroid_x\", \"centroid_y\", \"width_edge_mean\", \"length_edge_mean\", \"orientation\"]\n",
    "id_columns = [\"objectID\", \"object_id\", \"is_valid_detection\"]  # Object-related columns\n",
    "\n",
    "#  Function to Group Detections by Object\n",
    "def group_detections(df):\n",
    "    grouped_objects = []\n",
    "\n",
    "    for _, row in df.iterrows():\n",
    "        #  Convert detection features to DataFrame\n",
    "        detections = pd.DataFrame({col: row[col] for col in feature_columns})\n",
    "        detections[\"objectID\"] = row[\"objectID\"]  # Attach detection-level object IDs\n",
    "        detections[\"is_valid\"] = row[\"is_valid_detection\"]  # Attach validity flag\n",
    "\n",
    "        #  Ensure 'mask' column exists, otherwise assign default value\n",
    "        if \"mask\" in row:\n",
    "            detections[\"mask\"] = row[\"mask\"]\n",
    "        else:\n",
    "            print(\"\\n [WARNING] 'mask' column missing! Assigning default value of 1.\")\n",
    "            detections[\"mask\"] = np.ones(len(detections))  # Default to 1 (fully valid)\n",
    "\n",
    "        #  Dictionary to store valid object IDs (only moving objects)\n",
    "        valid_objects = {obj_id: idx for idx, obj_id in enumerate(row[\"object_id\"])}\n",
    "\n",
    "        #  Group detections by objectID\n",
    "        for obj_id, group in detections.groupby(\"objectID\"):\n",
    "            if obj_id in valid_objects:\n",
    "                grouped_features = group[feature_columns].mean().tolist()\n",
    "                grouped_mask = group[\"mask\"].mean().tolist()\n",
    "\n",
    "                obj_idx = valid_objects[obj_id]  # Get correct index\n",
    "\n",
    "                object_data = {\n",
    "                    \"features\": grouped_features,\n",
    "                    \"scalars\": row[scalar_columns].tolist(),\n",
    "                    \"labels\": [row[label][obj_idx] for label in object_properties],\n",
    "                    \"mask\": grouped_mask  #  Ensure mask is included\n",
    "                }\n",
    "                grouped_objects.append(object_data)\n",
    "\n",
    "    return grouped_objects\n",
    "\n",
    "#  Process All Files\n",
    "print(\"\\n [INFO] Grouping detections into objects...\")\n",
    "for filename in tqdm(os.listdir(input_folder), desc=\"Processing Files\"):\n",
    "    if filename.endswith(\".p\"):\n",
    "        file_path = os.path.join(input_folder, filename\n",
    "        df = pd.read_pickle(file_path)\n",
    "\n",
    "        grouped_data = group_detections(df)\n",
    "\n",
    "        #  Convert to DataFrame & Save\n",
    "        df_grouped = pd.DataFrame(grouped_data)\n",
    "        output_file_path = os.path.join(output_folder, filename)\n",
    "        df_grouped.to_pickle(output_file_path)\n",
    "\n",
    "        print(f\" [SAVED] Grouped File: {output_file_path}\")\n",
    "\n",
    "print(\"\\n [SUCCESS] Grouping of Detections Completed!\")"
   ]
  },
  {
   "cell_type": "code",
   "execution_count": null,
   "metadata": {},
   "outputs": [
    {
     "name": "stdout",
     "output_type": "stream",
     "text": [
      "\n",
      "🚀 [INFO] Splitting Files into Train and Test Sets...\n"
     ]
    },
    {
     "name": "stderr",
     "output_type": "stream",
     "text": [
      "Copying Train Files: 100%|██████████| 123/123 [00:00<00:00, 2151.94it/s]\n",
      "Copying Test Files: 100%|██████████| 30/30 [00:00<00:00, 2125.60it/s]"
     ]
    },
    {
     "name": "stdout",
     "output_type": "stream",
     "text": [
      "\n",
      "✅ [INFO] Fake Train-Test Split Completed!\n",
      "📂 Train Files: 123 (Actually using ALL files for training)\n",
      "📂 Test Files: 30 (Will NOT be used in training)\n"
     ]
    },
    {
     "name": "stderr",
     "output_type": "stream",
     "text": [
      "\n"
     ]
    }
   ],
   "source": [
    "import os\n",
    "import shutil\n",
    "import random\n",
    "from tqdm import tqdm\n",
    "\n",
    "#  Paths\n",
    "input_folder = r\"/home/q674749/workspace/thesis_work/rat25-15.4.1/perception/grouped_data\"\n",
    "train_folder = r\"/home/q674749/workspace/thesis_work/rat25-15.4.1/perception/train_data\"\n",
    "test_folder = r\"/home/q674749/workspace/thesis_work/rat25-15.4.1/perception/test_data\"\n",
    "\n",
    "os.makedirs(train_folder, exist_ok=True)\n",
    "os.makedirs(test_folder, exist_ok=True)\n",
    "\n",
    "#  Get List of All Files\n",
    "all_files = [f for f in os.listdir(input_folder) if f.endswith(\".p\")]\n",
    "\n",
    "#  Fake Train-Test Split (80-20)\n",
    "random.seed(42)\n",
    "test_files = random.sample(all_files, int(0.2 * len(all_files)))  # Select 20% as test\n",
    "train_files = list(set(all_files) - set(test_files))  # Remaining 80% as train\n",
    "\n",
    "#  Move Files to Train and Test Folders\n",
    "print(\"\\n [INFO] Splitting Files into Train and Test Sets...\")\n",
    "\n",
    "for file in tqdm(train_files, desc=\"Copying Train Files\"):\n",
    "    shutil.copy(os.path.join(input_folder, file), os.path.join(train_folder, file))  # Copy instead of move\n",
    "\n",
    "for file in tqdm(test_files, desc=\"Copying Test Files\"):\n",
    "    shutil.copy(os.path.join(input_folder, file), os.path.join(test_folder, file))  # Copy instead of move\n",
    "\n",
    "print(\"\\n [INFO] Fake Train-Test Split Completed!\")\n",
    "print(f\" Train Files: {len(train_files)} (Actually using ALL files for training)\")\n",
    "print(f\" Test Files: {len(test_files)} (Will NOT be used in training)\")"
   ]
  },
  {
   "cell_type": "code",
   "execution_count": 16,
   "metadata": {},
   "outputs": [
    {
     "name": "stdout",
     "output_type": "stream",
     "text": [
      "Total number of rows across all pickle files: 38794\n"
     ]
    }
   ],
   "source": [
    "import os\n",
    "import pandas as pd\n",
    "\n",
    "# Set the directory containing pickle files\n",
    "folder_path = r\"/home/q674749/workspace/thesis_work/rat25-15.4.1/perception/final_endgame_data\"\n",
    "\n",
    "# Initialize total row count\n",
    "total_rows = 0\n",
    "\n",
    "# Loop through all files in the folder\n",
    "for file in os.listdir(folder_path):\n",
    "    if file.endswith(\".p\"):\n",
    "        file_path = os.path.join(folder_path, file)\n",
    "        try:\n",
    "            df = pd.read_pickle(file_path)  # Load pickle file\n",
    "            total_rows += len(df)  # Count rows\n",
    "        except Exception as e:\n",
    "            print(f\"Error reading {file}: {e}\")\n",
    "\n",
    "print(f\"Total number of rows across all pickle files: {total_rows}\")"
   ]
  },
  {
   "cell_type": "code",
   "execution_count": null,
   "metadata": {},
   "outputs": [
    {
     "name": "stdout",
     "output_type": "stream",
     "text": [
      "\n",
      "✅ [INFO] Model Found: /home/q674749/workspace/thesis_work/rat25-15.4.1/perception/radar_object_predictor_tf.keras\n"
     ]
    },
    {
     "name": "stderr",
     "output_type": "stream",
     "text": [
      "2025-02-23 15:58:23.338969: W tensorflow/core/common_runtime/gpu/gpu_device.cc:1960] Cannot dlopen some GPU libraries. Please make sure the missing libraries mentioned above are installed properly if you would like to use GPU. Follow the guide at https://www.tensorflow.org/install/gpu for how to download and setup the required libraries for your platform.\n",
      "Skipping registering GPU devices...\n"
     ]
    },
    {
     "name": "stdout",
     "output_type": "stream",
     "text": [
      "✅ [INFO] Model Loaded Successfully!\n",
      "\n",
      "🚀 [INFO] Running Inference on Test Data...\n"
     ]
    },
    {
     "name": "stderr",
     "output_type": "stream",
     "text": [
      "Processing Test Files:   0%|          | 0/30 [00:00<?, ?it/s]"
     ]
    },
    {
     "name": "stdout",
     "output_type": "stream",
     "text": [
      "43/43 [==============================] - 0s 2ms/step\n"
     ]
    },
    {
     "name": "stderr",
     "output_type": "stream",
     "text": [
      "Processing Test Files:   3%|▎         | 1/30 [00:00<00:13,  2.08it/s]"
     ]
    },
    {
     "name": "stdout",
     "output_type": "stream",
     "text": [
      "✅ [SAVED] Predictions for combined_218.p: /home/q674749/workspace/thesis_work/rat25-15.4.1/perception/predictions/combined_218.p\n",
      "7/7 [==============================] - 0s 2ms/step\n"
     ]
    },
    {
     "name": "stderr",
     "output_type": "stream",
     "text": [
      "Processing Test Files:   7%|▋         | 2/30 [00:00<00:07,  3.64it/s]"
     ]
    },
    {
     "name": "stdout",
     "output_type": "stream",
     "text": [
      "✅ [SAVED] Predictions for combined_148.p: /home/q674749/workspace/thesis_work/rat25-15.4.1/perception/predictions/combined_148.p\n",
      "3/3 [==============================] - 0s 3ms/step\n"
     ]
    },
    {
     "name": "stderr",
     "output_type": "stream",
     "text": [
      "Processing Test Files:  10%|█         | 3/30 [00:00<00:05,  4.91it/s]"
     ]
    },
    {
     "name": "stdout",
     "output_type": "stream",
     "text": [
      "✅ [SAVED] Predictions for combined_80.p: /home/q674749/workspace/thesis_work/rat25-15.4.1/perception/predictions/combined_80.p\n",
      "3/3 [==============================] - 0s 3ms/step\n"
     ]
    },
    {
     "name": "stderr",
     "output_type": "stream",
     "text": [
      "Processing Test Files:  13%|█▎        | 4/30 [00:00<00:04,  5.93it/s]"
     ]
    },
    {
     "name": "stdout",
     "output_type": "stream",
     "text": [
      "✅ [SAVED] Predictions for combined_55.p: /home/q674749/workspace/thesis_work/rat25-15.4.1/perception/predictions/combined_55.p\n",
      "7/7 [==============================] - 0s 3ms/step\n"
     ]
    },
    {
     "name": "stderr",
     "output_type": "stream",
     "text": [
      "Processing Test Files:  17%|█▋        | 5/30 [00:00<00:04,  6.25it/s]"
     ]
    },
    {
     "name": "stdout",
     "output_type": "stream",
     "text": [
      "✅ [SAVED] Predictions for combined_161.p: /home/q674749/workspace/thesis_work/rat25-15.4.1/perception/predictions/combined_161.p\n",
      "43/43 [==============================] - 0s 2ms/step\n"
     ]
    },
    {
     "name": "stderr",
     "output_type": "stream",
     "text": [
      "Processing Test Files:  20%|██        | 6/30 [00:01<00:04,  5.41it/s]"
     ]
    },
    {
     "name": "stdout",
     "output_type": "stream",
     "text": [
      "✅ [SAVED] Predictions for combined_226.p: /home/q674749/workspace/thesis_work/rat25-15.4.1/perception/predictions/combined_226.p\n",
      "16/16 [==============================] - 0s 1ms/step\n"
     ]
    },
    {
     "name": "stderr",
     "output_type": "stream",
     "text": [
      "Processing Test Files:  23%|██▎       | 7/30 [00:01<00:04,  5.66it/s]"
     ]
    },
    {
     "name": "stdout",
     "output_type": "stream",
     "text": [
      "✅ [SAVED] Predictions for combined_121.p: /home/q674749/workspace/thesis_work/rat25-15.4.1/perception/predictions/combined_121.p\n",
      "16/16 [==============================] - 0s 2ms/step\n"
     ]
    },
    {
     "name": "stderr",
     "output_type": "stream",
     "text": [
      "Processing Test Files:  27%|██▋       | 8/30 [00:01<00:03,  5.87it/s]"
     ]
    },
    {
     "name": "stdout",
     "output_type": "stream",
     "text": [
      "✅ [SAVED] Predictions for combined_120.p: /home/q674749/workspace/thesis_work/rat25-15.4.1/perception/predictions/combined_120.p\n",
      "43/43 [==============================] - 0s 2ms/step\n"
     ]
    },
    {
     "name": "stderr",
     "output_type": "stream",
     "text": [
      "Processing Test Files:  30%|███       | 9/30 [00:01<00:03,  5.36it/s]"
     ]
    },
    {
     "name": "stdout",
     "output_type": "stream",
     "text": [
      "✅ [SAVED] Predictions for combined_212.p: /home/q674749/workspace/thesis_work/rat25-15.4.1/perception/predictions/combined_212.p\n",
      "3/3 [==============================] - 0s 2ms/step\n"
     ]
    },
    {
     "name": "stderr",
     "output_type": "stream",
     "text": [
      "Processing Test Files:  33%|███▎      | 10/30 [00:01<00:03,  6.14it/s]"
     ]
    },
    {
     "name": "stdout",
     "output_type": "stream",
     "text": [
      "✅ [SAVED] Predictions for combined_76.p: /home/q674749/workspace/thesis_work/rat25-15.4.1/perception/predictions/combined_76.p\n",
      "3/3 [==============================] - 0s 3ms/step\n"
     ]
    },
    {
     "name": "stderr",
     "output_type": "stream",
     "text": [
      "Processing Test Files:  37%|███▋      | 11/30 [00:01<00:02,  6.72it/s]"
     ]
    },
    {
     "name": "stdout",
     "output_type": "stream",
     "text": [
      "✅ [SAVED] Predictions for combined_56.p: /home/q674749/workspace/thesis_work/rat25-15.4.1/perception/predictions/combined_56.p\n",
      "43/43 [==============================] - 0s 2ms/step\n"
     ]
    },
    {
     "name": "stderr",
     "output_type": "stream",
     "text": [
      "Processing Test Files:  40%|████      | 12/30 [00:02<00:03,  5.78it/s]"
     ]
    },
    {
     "name": "stdout",
     "output_type": "stream",
     "text": [
      "✅ [SAVED] Predictions for combined_231.p: /home/q674749/workspace/thesis_work/rat25-15.4.1/perception/predictions/combined_231.p\n",
      "16/16 [==============================] - 0s 1ms/step\n"
     ]
    },
    {
     "name": "stderr",
     "output_type": "stream",
     "text": [
      "Processing Test Files:  43%|████▎     | 13/30 [00:02<00:02,  6.15it/s]"
     ]
    },
    {
     "name": "stdout",
     "output_type": "stream",
     "text": [
      "✅ [SAVED] Predictions for combined_111.p: /home/q674749/workspace/thesis_work/rat25-15.4.1/perception/predictions/combined_111.p\n",
      "7/7 [==============================] - 0s 3ms/step\n"
     ]
    },
    {
     "name": "stderr",
     "output_type": "stream",
     "text": [
      "Processing Test Files:  47%|████▋     | 14/30 [00:02<00:02,  6.49it/s]"
     ]
    },
    {
     "name": "stdout",
     "output_type": "stream",
     "text": [
      "✅ [SAVED] Predictions for combined_151.p: /home/q674749/workspace/thesis_work/rat25-15.4.1/perception/predictions/combined_151.p\n",
      "16/16 [==============================] - 0s 1ms/step\n"
     ]
    },
    {
     "name": "stderr",
     "output_type": "stream",
     "text": [
      "Processing Test Files:  50%|█████     | 15/30 [00:02<00:02,  6.67it/s]"
     ]
    },
    {
     "name": "stdout",
     "output_type": "stream",
     "text": [
      "✅ [SAVED] Predictions for combined_113.p: /home/q674749/workspace/thesis_work/rat25-15.4.1/perception/predictions/combined_113.p\n",
      "16/16 [==============================] - 0s 1ms/step\n"
     ]
    },
    {
     "name": "stderr",
     "output_type": "stream",
     "text": [
      "Processing Test Files:  53%|█████▎    | 16/30 [00:02<00:02,  6.80it/s]"
     ]
    },
    {
     "name": "stdout",
     "output_type": "stream",
     "text": [
      "✅ [SAVED] Predictions for combined_136.p: /home/q674749/workspace/thesis_work/rat25-15.4.1/perception/predictions/combined_136.p\n",
      "3/3 [==============================] - 0s 2ms/step\n"
     ]
    },
    {
     "name": "stderr",
     "output_type": "stream",
     "text": [
      "Processing Test Files:  57%|█████▋    | 17/30 [00:02<00:01,  7.21it/s]"
     ]
    },
    {
     "name": "stdout",
     "output_type": "stream",
     "text": [
      "✅ [SAVED] Predictions for combined_82.p: /home/q674749/workspace/thesis_work/rat25-15.4.1/perception/predictions/combined_82.p\n",
      "16/16 [==============================] - 0s 2ms/step\n"
     ]
    },
    {
     "name": "stderr",
     "output_type": "stream",
     "text": [
      "Processing Test Files:  60%|██████    | 18/30 [00:03<00:01,  6.92it/s]"
     ]
    },
    {
     "name": "stdout",
     "output_type": "stream",
     "text": [
      "✅ [SAVED] Predictions for combined_115.p: /home/q674749/workspace/thesis_work/rat25-15.4.1/perception/predictions/combined_115.p\n",
      "16/16 [==============================] - 0s 1ms/step\n"
     ]
    },
    {
     "name": "stderr",
     "output_type": "stream",
     "text": [
      "Processing Test Files:  63%|██████▎   | 19/30 [00:03<00:01,  6.92it/s]"
     ]
    },
    {
     "name": "stdout",
     "output_type": "stream",
     "text": [
      "✅ [SAVED] Predictions for combined_126.p: /home/q674749/workspace/thesis_work/rat25-15.4.1/perception/predictions/combined_126.p\n",
      "7/7 [==============================] - 0s 2ms/step\n"
     ]
    },
    {
     "name": "stderr",
     "output_type": "stream",
     "text": [
      "Processing Test Files:  67%|██████▋   | 20/30 [00:03<00:01,  7.11it/s]"
     ]
    },
    {
     "name": "stdout",
     "output_type": "stream",
     "text": [
      "✅ [SAVED] Predictions for combined_175.p: /home/q674749/workspace/thesis_work/rat25-15.4.1/perception/predictions/combined_175.p\n",
      "3/3 [==============================] - 0s 3ms/step\n"
     ]
    },
    {
     "name": "stderr",
     "output_type": "stream",
     "text": [
      "Processing Test Files:  70%|███████   | 21/30 [00:03<00:01,  7.30it/s]"
     ]
    },
    {
     "name": "stdout",
     "output_type": "stream",
     "text": [
      "✅ [SAVED] Predictions for combined_77.p: /home/q674749/workspace/thesis_work/rat25-15.4.1/perception/predictions/combined_77.p\n",
      "7/7 [==============================] - 0s 2ms/step\n"
     ]
    },
    {
     "name": "stderr",
     "output_type": "stream",
     "text": [
      "Processing Test Files:  73%|███████▎  | 22/30 [00:03<00:01,  7.55it/s]"
     ]
    },
    {
     "name": "stdout",
     "output_type": "stream",
     "text": [
      "✅ [SAVED] Predictions for combined_164.p: /home/q674749/workspace/thesis_work/rat25-15.4.1/perception/predictions/combined_164.p\n",
      "3/3 [==============================] - 0s 2ms/step\n"
     ]
    },
    {
     "name": "stderr",
     "output_type": "stream",
     "text": [
      "Processing Test Files:  77%|███████▋  | 23/30 [00:03<00:00,  7.88it/s]"
     ]
    },
    {
     "name": "stdout",
     "output_type": "stream",
     "text": [
      "✅ [SAVED] Predictions for combined_71.p: /home/q674749/workspace/thesis_work/rat25-15.4.1/perception/predictions/combined_71.p\n",
      "43/43 [==============================] - 0s 2ms/step\n"
     ]
    },
    {
     "name": "stderr",
     "output_type": "stream",
     "text": [
      "Processing Test Files:  80%|████████  | 24/30 [00:03<00:00,  6.42it/s]"
     ]
    },
    {
     "name": "stdout",
     "output_type": "stream",
     "text": [
      "✅ [SAVED] Predictions for combined_191.p: /home/q674749/workspace/thesis_work/rat25-15.4.1/perception/predictions/combined_191.p\n",
      "7/7 [==============================] - 0s 2ms/step\n"
     ]
    },
    {
     "name": "stderr",
     "output_type": "stream",
     "text": [
      "Processing Test Files:  83%|████████▎ | 25/30 [00:04<00:00,  6.93it/s]"
     ]
    },
    {
     "name": "stdout",
     "output_type": "stream",
     "text": [
      "✅ [SAVED] Predictions for combined_169.p: /home/q674749/workspace/thesis_work/rat25-15.4.1/perception/predictions/combined_169.p\n",
      "43/43 [==============================] - 0s 2ms/step\n"
     ]
    },
    {
     "name": "stderr",
     "output_type": "stream",
     "text": [
      "Processing Test Files:  87%|████████▋ | 26/30 [00:04<00:00,  5.97it/s]"
     ]
    },
    {
     "name": "stdout",
     "output_type": "stream",
     "text": [
      "✅ [SAVED] Predictions for combined_224.p: /home/q674749/workspace/thesis_work/rat25-15.4.1/perception/predictions/combined_224.p\n",
      "43/43 [==============================] - 0s 2ms/step\n"
     ]
    },
    {
     "name": "stderr",
     "output_type": "stream",
     "text": [
      "Processing Test Files:  90%|█████████ | 27/30 [00:04<00:00,  5.42it/s]"
     ]
    },
    {
     "name": "stdout",
     "output_type": "stream",
     "text": [
      "✅ [SAVED] Predictions for combined_219.p: /home/q674749/workspace/thesis_work/rat25-15.4.1/perception/predictions/combined_219.p\n",
      "3/3 [==============================] - 0s 2ms/step\n"
     ]
    },
    {
     "name": "stderr",
     "output_type": "stream",
     "text": [
      "Processing Test Files:  93%|█████████▎| 28/30 [00:04<00:00,  5.98it/s]"
     ]
    },
    {
     "name": "stdout",
     "output_type": "stream",
     "text": [
      "✅ [SAVED] Predictions for combined_67.p: /home/q674749/workspace/thesis_work/rat25-15.4.1/perception/predictions/combined_67.p\n",
      "3/3 [==============================] - 0s 2ms/step\n"
     ]
    },
    {
     "name": "stderr",
     "output_type": "stream",
     "text": [
      "Processing Test Files:  97%|█████████▋| 29/30 [00:04<00:00,  6.66it/s]"
     ]
    },
    {
     "name": "stdout",
     "output_type": "stream",
     "text": [
      "✅ [SAVED] Predictions for combined_53.p: /home/q674749/workspace/thesis_work/rat25-15.4.1/perception/predictions/combined_53.p\n",
      "3/3 [==============================] - 0s 2ms/step\n"
     ]
    },
    {
     "name": "stderr",
     "output_type": "stream",
     "text": [
      "Processing Test Files: 100%|██████████| 30/30 [00:04<00:00,  6.22it/s]"
     ]
    },
    {
     "name": "stdout",
     "output_type": "stream",
     "text": [
      "✅ [SAVED] Predictions for combined_72.p: /home/q674749/workspace/thesis_work/rat25-15.4.1/perception/predictions/combined_72.p\n",
      "\n",
      "🎯 [SUCCESS] Inference Completed!\n"
     ]
    },
    {
     "name": "stderr",
     "output_type": "stream",
     "text": [
      "\n"
     ]
    }
   ],
   "source": [
    "import os\n",
    "import numpy as np\n",
    "import pandas as pd\n",
    "import tensorflow as tf\n",
    "from tensorflow import keras\n",
    "from tqdm import tqdm\n",
    "\n",
    "#  Paths\n",
    "test_folder = \"/home/q674749/workspace/thesis_work/rat25-15.4.1/perception/test_data\"\n",
    "output_predictions_folder = \"/home/q674749/workspace/thesis_work/rat25-15.4.1/perception/predictions\"\n",
    "model_path = \"/home/q674749/workspace/thesis_work/rat25-15.4.1/perception/radar_object_predictor_tf.keras\"\n",
    "\n",
    "os.makedirs(output_predictions_folder, exist_ok=True)\n",
    "\n",
    "#  Feature & Label Definitions\n",
    "feature_columns = [\"rcs\", \"distance\", \"angleAzimuth\", \"angleElevation\", \"radialVelocity\"]\n",
    "scalar_columns = [\"radialVelocityDomainMax\", \"yaw_rate\", \"ego_speed\"]\n",
    "object_properties = [\"centroid_x\", \"centroid_y\", \"width_edge_mean\", \"length_edge_mean\", \"orientation\"]\n",
    "\n",
    "#  Check if Model Exists Before Loading\n",
    "if os.path.exists(model_path):\n",
    "    print(f\"\\n [INFO] Model Found: {model_path}\")\n",
    "    model = keras.models.load_model(model_path)\n",
    "    print(\" [INFO] Model Loaded Successfully!\")\n",
    "else:\n",
    "    raise FileNotFoundError(f\" [ERROR] Model not found at {model_path}. Please train the model first.\")\n",
    "\n",
    "#  Function to Load and Preprocess Test Data\n",
    "def preprocess_test_data(df):\n",
    "    features = np.stack(df[\"features\"].values)  # Convert list of lists to NumPy array\n",
    "    scalars = np.stack(df[\"scalars\"].values)\n",
    "\n",
    "    if \"mask\" in df.columns:\n",
    "        mask = np.stack(df[\"mask\"].values)\n",
    "    else:\n",
    "        print(\"\\n [WARNING] 'mask' column is missing! Using default mask (all ones).\")\n",
    "        mask = np.ones_like(features[:, :, 0])  # Default mask (all valid)\n",
    "\n",
    "    return features, scalars, mask\n",
    "\n",
    "#  Run Inference on Test Data\n",
    "print(\"\\n [INFO] Running Inference on Test Data...\")\n",
    "for filename in tqdm(os.listdir(test_folder), desc=\"Processing Test Files\"):\n",
    "    if filename.endswith(\".p\"):\n",
    "        file_path = os.path.join(test_folder, filename)\n",
    "        df = pd.read_pickle(file_path)\n",
    "\n",
    "        #  Preprocess Data\n",
    "        X_features, X_scalars, X_mask = preprocess_test_data(df)\n",
    "\n",
    "        #  Predict Object Properties\n",
    "        predictions = model.predict({\"features\": X_features, \"scalars\": X_scalars})\n",
    "\n",
    "        #  Apply Masking (Ignore Invalid Objects)\n",
    "        predictions *= X_mask[:, np.newaxis]\n",
    "\n",
    "        #  Convert Predictions to DataFrame\n",
    "        df_predictions = pd.DataFrame(predictions, columns=object_properties)\n",
    "\n",
    "        #  Save Predictions\n",
    "        output_fil_path = os.path.join(output_predictions_folder, filename)\n",
    "        df_predictions.to_pickle(output_file_path)\n",
    "        print(f\" [SAVED] Predictions for {filename}: {output_file_path}\")\n",
    "\n",
    "print(\"\\n [SUCCESS] Inference Completed!\")"
   ]
  }
 ],
 "metadata": {
  "kernelspec": {
   "display_name": "Python 3",
   "language": "python",
   "name": "python3"
  },
  "language_info": {
   "codemirror_mode": {
    "name": "ipython",
    "version": 3
   },
   "file_extension": ".py",
   "mimetype": "text/x-python",
   "name": "python",
   "nbconvert_exporter": "python",
   "pygments_lexer": "ipython3",
   "version": "3.8.10"
  }
 },
 "nbformat": 4,
 "nbformat_minor": 2
}
